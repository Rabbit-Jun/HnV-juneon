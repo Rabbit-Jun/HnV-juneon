{
 "cells": [
  {
   "cell_type": "code",
   "execution_count": 1,
   "id": "b55ba581-38f3-4573-81a0-fae952d12e17",
   "metadata": {},
   "outputs": [],
   "source": [
    "import torch"
   ]
  },
  {
   "cell_type": "code",
   "execution_count": 2,
   "id": "120d07ac-4189-483a-8efb-2fccd755429e",
   "metadata": {},
   "outputs": [
    {
     "name": "stdout",
     "output_type": "stream",
     "text": [
      "a: torch.Size([3, 2])\n",
      "a_t: torch.Size([2, 3])\n"
     ]
    }
   ],
   "source": [
    "a = torch.ones(3, 2)\n",
    "a_t = torch.transpose(a, 0, 1)\n",
    "print(f'a: {a.shape}\\na_t: {a_t.shape}')"
   ]
  },
  {
   "cell_type": "code",
   "execution_count": 3,
   "id": "d109d111-8386-41f2-972b-64bd426f93f3",
   "metadata": {},
   "outputs": [
    {
     "name": "stdout",
     "output_type": "stream",
     "text": [
      "a: torch.Size([3, 2])\n",
      "a_t: torch.Size([2, 3])\n"
     ]
    }
   ],
   "source": [
    "a = torch.ones(3, 2)\n",
    "a_t = a.transpose(0, 1)\n",
    "print(f'a: {a.shape}\\na_t: {a_t.shape}')"
   ]
  },
  {
   "cell_type": "code",
   "execution_count": 4,
   "id": "1a0bbbba-7658-43e2-aab0-718dedc45f02",
   "metadata": {},
   "outputs": [
    {
     "name": "stdout",
     "output_type": "stream",
     "text": [
      "a: torch.Size([3, 2])\n",
      "a_t: torch.Size([2, 3])\n"
     ]
    }
   ],
   "source": [
    "a = torch.ones(3, 2)\n",
    "a_t = a.transpose(0, 1)\n",
    "print(f'a: {a.shape}\\na_t: {a_t.shape}')"
   ]
  },
  {
   "cell_type": "code",
   "execution_count": 5,
   "id": "29d163ef-5df6-40c5-bc4d-1b08141d6742",
   "metadata": {},
   "outputs": [
    {
     "name": "stderr",
     "output_type": "stream",
     "text": [
      "/tmp/ipykernel_18519/1229075765.py:2: UserWarning: TypedStorage is deprecated. It will be removed in the future and UntypedStorage will be the only storage class. This should only matter to you if you are using storages directly.  To access UntypedStorage directly, use tensor.untyped_storage() instead of tensor.storage()\n",
      "  points.storage() # 텐서를 위한 저장공간 접근\n"
     ]
    },
    {
     "data": {
      "text/plain": [
       " 4.0\n",
       " 1.0\n",
       " 5.0\n",
       " 3.0\n",
       " 2.0\n",
       " 1.0\n",
       "[torch.storage.TypedStorage(dtype=torch.float32, device=cpu) of size 6]"
      ]
     },
     "execution_count": 5,
     "metadata": {},
     "output_type": "execute_result"
    }
   ],
   "source": [
    "points = torch.tensor([[4.0, 1.0], [5.0, 3.0], [2.0, 1.0]])\n",
    "points.storage() # 텐서를 위한 저장공간 접근"
   ]
  },
  {
   "cell_type": "code",
   "execution_count": 6,
   "id": "7d1024d2-274b-4fa9-84c2-7801b2418238",
   "metadata": {},
   "outputs": [
    {
     "data": {
      "text/plain": [
       "4.0"
      ]
     },
     "execution_count": 6,
     "metadata": {},
     "output_type": "execute_result"
    }
   ],
   "source": [
    "points_storage = points.storage()\n",
    "points_storage[0]"
   ]
  },
  {
   "cell_type": "code",
   "execution_count": 7,
   "id": "b4232ed8-8598-4e3c-b520-a11b50ab4100",
   "metadata": {},
   "outputs": [
    {
     "data": {
      "text/plain": [
       "1.0"
      ]
     },
     "execution_count": 7,
     "metadata": {},
     "output_type": "execute_result"
    }
   ],
   "source": [
    "points.storage()[1]"
   ]
  },
  {
   "cell_type": "code",
   "execution_count": 8,
   "id": "6db6a843-78d1-4c76-aa5c-9005508ee790",
   "metadata": {},
   "outputs": [
    {
     "data": {
      "text/plain": [
       "tensor([[2., 1.],\n",
       "        [5., 3.],\n",
       "        [2., 1.]])"
      ]
     },
     "execution_count": 8,
     "metadata": {},
     "output_type": "execute_result"
    }
   ],
   "source": [
    "points = torch.tensor([[4.0, 1.0], [5.0, 3.0], [2.0,1.0]])\n",
    "points_storage = points.storage()\n",
    "points_storage[0] = 2.0\n",
    "points\n",
    "# 저장공간에 접근해서 값을 바꾸기 때문에 같은 곳을 참조한 points_storage 와 points는 값이 바뀌면 다른 쪽도 바뀐다"
   ]
  },
  {
   "cell_type": "code",
   "execution_count": 9,
   "id": "dab0526a-eb80-48e7-9858-58c4dff76d92",
   "metadata": {},
   "outputs": [
    {
     "name": "stdout",
     "output_type": "stream",
     "text": [
      "torch.ones\n",
      " tensor([[1., 1.],\n",
      "        [1., 1.],\n",
      "        [1., 1.]])\n"
     ]
    }
   ],
   "source": [
    "a = torch.ones(3, 2)\n",
    "print(\"torch.ones\\n\",a)"
   ]
  },
  {
   "cell_type": "code",
   "execution_count": 10,
   "id": "ddd684d4-8d0f-4817-b51a-f83ae8810f38",
   "metadata": {},
   "outputs": [
    {
     "data": {
      "text/plain": [
       "tensor([[0., 0.],\n",
       "        [0., 0.],\n",
       "        [0., 0.]])"
      ]
     },
     "execution_count": 10,
     "metadata": {},
     "output_type": "execute_result"
    }
   ],
   "source": [
    "a.zero_() # 값을 저장하고 반환\n",
    "a"
   ]
  },
  {
   "cell_type": "code",
   "execution_count": 11,
   "id": "9bd7ae1d-a6fa-4992-8627-b1336dcca8da",
   "metadata": {},
   "outputs": [
    {
     "data": {
      "text/plain": [
       "2"
      ]
     },
     "execution_count": 11,
     "metadata": {},
     "output_type": "execute_result"
    }
   ],
   "source": [
    "points = torch.tensor([[4.0, 1.0], [5.0, 3.0], [2.0, 1.0]])\n",
    "second_point = points[1]\n",
    "second_point.storage_offset()\n",
    "# offset은 이 데이터가 원본 저장공간의 어디에서 시작 됐는지를 알려준다, \n",
    "# 여기서는 second_pont가 points에서 참조하여 만들어 졌으며 points[1]은 두 번재 행을 나타내므로 2를 반환 (4.0 ->0 ,1.0 ->1 ,5.0->2) "
   ]
  },
  {
   "cell_type": "code",
   "execution_count": 12,
   "id": "bf150e90-8885-4941-9c0b-01beb9d95b5c",
   "metadata": {},
   "outputs": [
    {
     "data": {
      "text/plain": [
       "torch.Size([2])"
      ]
     },
     "execution_count": 12,
     "metadata": {},
     "output_type": "execute_result"
    }
   ],
   "source": [
    "second_point.size()"
   ]
  },
  {
   "cell_type": "code",
   "execution_count": 13,
   "id": "24edb6a9-89df-4251-ba9c-7d8b9c4f7b52",
   "metadata": {},
   "outputs": [
    {
     "data": {
      "text/plain": [
       "torch.Size([2])"
      ]
     },
     "execution_count": 13,
     "metadata": {},
     "output_type": "execute_result"
    }
   ],
   "source": [
    "second_point.shape"
   ]
  },
  {
   "cell_type": "code",
   "execution_count": 14,
   "id": "e31873f6-1199-47cc-b721-54444e261c4a",
   "metadata": {},
   "outputs": [
    {
     "data": {
      "text/plain": [
       "(2, 1)"
      ]
     },
     "execution_count": 14,
     "metadata": {},
     "output_type": "execute_result"
    }
   ],
   "source": [
    "points.stride()\n",
    "# 다음 행을 갈려면 2칸 다음 열을 갈려면 1칸 움직여야 한다\n",
    "# 실제 points의 저장공간은 사이즈 6의 [4, 1, 5, 3, 2, 1] 인 1차원 배열\n"
   ]
  },
  {
   "cell_type": "code",
   "execution_count": 17,
   "id": "87150827-2ba7-4ac7-9b2e-f1d742dd12eb",
   "metadata": {},
   "outputs": [
    {
     "data": {
      "text/plain": [
       "tensor([[4., 1.],\n",
       "        [5., 3.],\n",
       "        [2., 1.]])"
      ]
     },
     "execution_count": 17,
     "metadata": {},
     "output_type": "execute_result"
    }
   ],
   "source": [
    "points = torch.tensor([[4.0, 1.0], [5.0, 3.0], [2.0, 1.0]])\n",
    "points"
   ]
  },
  {
   "cell_type": "code",
   "execution_count": 18,
   "id": "296cf893-b657-45fe-9e85-5205b654af08",
   "metadata": {},
   "outputs": [
    {
     "data": {
      "text/plain": [
       "tensor([[4., 5., 2.],\n",
       "        [1., 3., 1.]])"
      ]
     },
     "execution_count": 18,
     "metadata": {},
     "output_type": "execute_result"
    }
   ],
   "source": [
    "points_t =points.t()\n",
    "points_t"
   ]
  },
  {
   "cell_type": "code",
   "execution_count": 19,
   "id": "3a599c3c-b158-4780-9083-7ee1180d8442",
   "metadata": {},
   "outputs": [
    {
     "data": {
      "text/plain": [
       "True"
      ]
     },
     "execution_count": 19,
     "metadata": {},
     "output_type": "execute_result"
    }
   ],
   "source": [
    "id(points.storage()) == id(points_t.storage())\n",
    "# 두 텐서가 같은 공간에 있는지 확인 (아마 주소값을 비교하는 듯)"
   ]
  },
  {
   "cell_type": "code",
   "execution_count": 21,
   "id": "ef825c42-5b15-4e9c-839f-9fc100fb1595",
   "metadata": {},
   "outputs": [
    {
     "data": {
      "text/plain": [
       "(2, 1)"
      ]
     },
     "execution_count": 21,
     "metadata": {},
     "output_type": "execute_result"
    }
   ],
   "source": [
    "points.stride()"
   ]
  },
  {
   "cell_type": "code",
   "execution_count": 22,
   "id": "42b8f116-04e2-4195-bf91-7890cf6292de",
   "metadata": {},
   "outputs": [
    {
     "data": {
      "text/plain": [
       "(1, 2)"
      ]
     },
     "execution_count": 22,
     "metadata": {},
     "output_type": "execute_result"
    }
   ],
   "source": [
    "points_t.stride() #points의 저장공간을 기준으로"
   ]
  },
  {
   "cell_type": "code",
   "execution_count": 24,
   "id": "772a68cc-d1c6-4b5b-9e05-c7ff2e4fc1ed",
   "metadata": {},
   "outputs": [
    {
     "data": {
      "text/plain": [
       "torch.Size([3, 4, 5])"
      ]
     },
     "execution_count": 24,
     "metadata": {},
     "output_type": "execute_result"
    }
   ],
   "source": [
    "some_t = torch.ones(3, 4, 5)\n",
    "transpose_t = some_t.transpose(0, 2)\n",
    "some_t.shape"
   ]
  },
  {
   "cell_type": "code",
   "execution_count": 25,
   "id": "1b4be818-c9d4-4dd1-ad23-d7802300b20c",
   "metadata": {},
   "outputs": [
    {
     "data": {
      "text/plain": [
       "torch.Size([5, 4, 3])"
      ]
     },
     "execution_count": 25,
     "metadata": {},
     "output_type": "execute_result"
    }
   ],
   "source": [
    "transpose_t.shape"
   ]
  },
  {
   "cell_type": "code",
   "execution_count": 26,
   "id": "8926210a-1a57-4b05-98b7-abb039dd4d3b",
   "metadata": {},
   "outputs": [
    {
     "data": {
      "text/plain": [
       "(20, 5, 1)"
      ]
     },
     "execution_count": 26,
     "metadata": {},
     "output_type": "execute_result"
    }
   ],
   "source": [
    "some_t.stride()"
   ]
  },
  {
   "cell_type": "code",
   "execution_count": 29,
   "id": "949000a1-2a5a-44ba-a231-267ced4cc210",
   "metadata": {},
   "outputs": [
    {
     "data": {
      "text/plain": [
       "True"
      ]
     },
     "execution_count": 29,
     "metadata": {},
     "output_type": "execute_result"
    }
   ],
   "source": [
    "points.is_contiguous() # 텐서의 데이터가 메모리 상에서 인접한 상태인지 확인"
   ]
  },
  {
   "cell_type": "code",
   "execution_count": 30,
   "id": "3e2a2838-257e-43e7-aacf-120776488e91",
   "metadata": {},
   "outputs": [
    {
     "data": {
      "text/plain": [
       "False"
      ]
     },
     "execution_count": 30,
     "metadata": {},
     "output_type": "execute_result"
    }
   ],
   "source": [
    "points_t.is_contiguous()"
   ]
  },
  {
   "cell_type": "code",
   "execution_count": 31,
   "id": "39a0cfba-a446-40e0-92dd-fba23cc66560",
   "metadata": {},
   "outputs": [
    {
     "data": {
      "text/plain": [
       " 4.0\n",
       " 1.0\n",
       " 5.0\n",
       " 3.0\n",
       " 2.0\n",
       " 1.0\n",
       "[torch.storage.TypedStorage(dtype=torch.float32, device=cpu) of size 6]"
      ]
     },
     "execution_count": 31,
     "metadata": {},
     "output_type": "execute_result"
    }
   ],
   "source": [
    "points_t.storage()"
   ]
  },
  {
   "cell_type": "code",
   "execution_count": 32,
   "id": "675a0de1-2f83-476a-ac09-45d96d27f0be",
   "metadata": {},
   "outputs": [
    {
     "data": {
      "text/plain": [
       "tensor([[4., 5., 2.],\n",
       "        [1., 3., 1.]])"
      ]
     },
     "execution_count": 32,
     "metadata": {},
     "output_type": "execute_result"
    }
   ],
   "source": [
    "points_t_cont = points_t.contiguous() # 내용은 그대로이나 저장공간에서 값의 배치와 스트라이드가 바뀜\n",
    "points_t_cont "
   ]
  },
  {
   "cell_type": "code",
   "execution_count": 33,
   "id": "86b067ad-d048-4d4e-ac7c-35895b8d1a1d",
   "metadata": {},
   "outputs": [
    {
     "data": {
      "text/plain": [
       "(3, 1)"
      ]
     },
     "execution_count": 33,
     "metadata": {},
     "output_type": "execute_result"
    }
   ],
   "source": [
    "points_t_cont.stride() #아에 새로운 저장공간이 만들어짐"
   ]
  },
  {
   "cell_type": "code",
   "execution_count": 34,
   "id": "bf12e41d-c6b2-4da2-a5bd-a54502039a3c",
   "metadata": {},
   "outputs": [],
   "source": [
    "points_gpu = torch.tensor([[4.0, 1.0], [5.0, 3.0], [2.0, 1.0]], device='cuda')"
   ]
  },
  {
   "cell_type": "code",
   "execution_count": 35,
   "id": "7766cc0c-6db0-433e-89dc-1acdc0438be8",
   "metadata": {},
   "outputs": [],
   "source": [
    "points_gpu =points.to(device='cuda') # gpu가 두 대 이상일 경우 'cuda:0'이런식으로 사요할 cuda 번호를 정수로 지정"
   ]
  },
  {
   "cell_type": "code",
   "execution_count": 37,
   "id": "31facf8a-27c3-46b9-a04f-168cd5fb44c2",
   "metadata": {},
   "outputs": [
    {
     "data": {
      "text/plain": [
       "tensor([[32.,  8.],\n",
       "        [40., 24.],\n",
       "        [16.,  8.]], device='cuda:0')"
      ]
     },
     "execution_count": 37,
     "metadata": {},
     "output_type": "execute_result"
    }
   ],
   "source": [
    "points = 2 * points\n",
    "points_gpu = 2 * points.to(device='cuda') # cuda method can use it insted of to method, ex) points_gpu = points.cuda() defalut value is 0\n",
    "points_gpu"
   ]
  },
  {
   "cell_type": "code",
   "execution_count": 38,
   "id": "fc5aeb26-165d-4c2b-89c1-ebef6a925831",
   "metadata": {},
   "outputs": [
    {
     "data": {
      "text/plain": [
       "tensor([[36., 12.],\n",
       "        [44., 28.],\n",
       "        [20., 12.]], device='cuda:0')"
      ]
     },
     "execution_count": 38,
     "metadata": {},
     "output_type": "execute_result"
    }
   ],
   "source": [
    "points_gpu = points_gpu +4\n",
    "points_gpu"
   ]
  },
  {
   "cell_type": "code",
   "execution_count": 39,
   "id": "6d7a761b-6bf9-4198-b7d8-b16fe41cb8b2",
   "metadata": {},
   "outputs": [
    {
     "data": {
      "text/plain": [
       "tensor([[36., 12.],\n",
       "        [44., 28.],\n",
       "        [20., 12.]])"
      ]
     },
     "execution_count": 39,
     "metadata": {},
     "output_type": "execute_result"
    }
   ],
   "source": [
    "points_cpu = points_gpu.to(device='cpu')\n",
    "points_cpu"
   ]
  },
  {
   "cell_type": "code",
   "execution_count": 40,
   "id": "0fdef2a8-1d77-42a4-bad7-f3043b9f4a9e",
   "metadata": {},
   "outputs": [
    {
     "data": {
      "text/plain": [
       "array([[1., 1., 1., 1.],\n",
       "       [1., 1., 1., 1.],\n",
       "       [1., 1., 1., 1.]], dtype=float32)"
      ]
     },
     "execution_count": 40,
     "metadata": {},
     "output_type": "execute_result"
    }
   ],
   "source": [
    "points = torch.ones(3, 4)\n",
    "points_np = points.numpy() # No memory space is lost, but buffer(temporary memory) are used\n",
    "points_np"
   ]
  },
  {
   "cell_type": "code",
   "execution_count": 41,
   "id": "01a147ba-2f63-446f-8eb7-90e164f9fe24",
   "metadata": {},
   "outputs": [],
   "source": [
    "points = torch.from_numpy(points_np)"
   ]
  },
  {
   "cell_type": "code",
   "execution_count": 42,
   "id": "a692de33-af14-422c-a7e1-18c1d41825ca",
   "metadata": {},
   "outputs": [],
   "source": [
    "torch.save(points, '../data/p1ch3/ourpoints.t')"
   ]
  },
  {
   "cell_type": "code",
   "execution_count": 43,
   "id": "cc66e953-ba15-4ac4-af59-f8bbe357a6e3",
   "metadata": {},
   "outputs": [],
   "source": [
    "with open('../data/p1ch3/ourpoints.t', 'wb') as f:\n",
    "    torch.save(points, f)"
   ]
  },
  {
   "cell_type": "code",
   "execution_count": 44,
   "id": "7ebef492-8a30-4303-bff2-a398db926bfc",
   "metadata": {},
   "outputs": [],
   "source": [
    "points = torch.load('../data/p1ch3/ourpoints.t') # import tensor"
   ]
  },
  {
   "cell_type": "raw",
   "id": "2771f22c-21d0-43b2-9205-c66e352e6a7f",
   "metadata": {},
   "source": [
    "with open('../data/p1ch3/ourpoints.t', 'rb') as f:\n",
    "    points = torch.load( f) # explicitly import tensor"
   ]
  },
  {
   "cell_type": "markdown",
   "id": "39652344-2ed7-4920-81e3-c22d35bc845c",
   "metadata": {},
   "source": [
    "# h5py로 HDF$ 병렬화하기 </br>\n",
    "<pre>\n",
    "    이미 다른 라이브러리에 의존하는 시스템이 있는 상태에서 파이토치를 사용할려는 경우 텐서를 호환 가능한 형태로 저장해야 사용 가능할 수 있다.\n",
    "    conda install h5py (h5py 설치)\n",
    "    import h5py (불러오기)\n",
    "    f = h5py.File('텐서가 저장될 경로', 'w')\n",
    "    dset =f.create_dataset('coords',data=points.numpy())\n",
    "    f.close()\n",
    "\n",
    "    f = h5py.File('텐서가 저장된 경로', 'r')\n",
    "    dset =f['coords']\n",
    "    last_points =dset[-2:]  \n",
    "    last_points = torch.from_numpy(dset[-2:])  (데이터가 파이토치의 텐서의 저장공간으로 복사)\n",
    "    f.close()\n",
    "    \n",
    "</pre>"
   ]
  }
 ],
 "metadata": {
  "kernelspec": {
   "display_name": "Python 3 (ipykernel)",
   "language": "python",
   "name": "python3"
  },
  "language_info": {
   "codemirror_mode": {
    "name": "ipython",
    "version": 3
   },
   "file_extension": ".py",
   "mimetype": "text/x-python",
   "name": "python",
   "nbconvert_exporter": "python",
   "pygments_lexer": "ipython3",
   "version": "3.10.13"
  }
 },
 "nbformat": 4,
 "nbformat_minor": 5
}
