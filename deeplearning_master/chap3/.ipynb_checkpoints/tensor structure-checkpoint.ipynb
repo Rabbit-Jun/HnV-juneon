{
 "cells": [
  {
   "cell_type": "code",
   "execution_count": 1,
   "id": "813e1949-076f-45e4-8dca-93884cf0012d",
   "metadata": {},
   "outputs": [],
   "source": [
    "a = [1.0,2.0,1.0]"
   ]
  },
  {
   "cell_type": "code",
   "execution_count": 2,
   "id": "51fd03bc-7a78-40f8-bf2c-a47c3479b9c4",
   "metadata": {},
   "outputs": [
    {
     "data": {
      "text/plain": [
       "1.0"
      ]
     },
     "execution_count": 2,
     "metadata": {},
     "output_type": "execute_result"
    }
   ],
   "source": [
    "a[0]"
   ]
  },
  {
   "cell_type": "code",
   "execution_count": 3,
   "id": "71bf31b6-c6c3-4b1d-a695-ed3b25b7e1b2",
   "metadata": {},
   "outputs": [
    {
     "data": {
      "text/plain": [
       "[1.0, 2.0, 3.0]"
      ]
     },
     "execution_count": 3,
     "metadata": {},
     "output_type": "execute_result"
    }
   ],
   "source": [
    "a[2] = 3.0\n",
    "a"
   ]
  },
  {
   "cell_type": "code",
   "execution_count": 4,
   "id": "c9c3f7aa-a1e3-4e51-a21b-a5c6dfb99e4f",
   "metadata": {},
   "outputs": [
    {
     "data": {
      "text/plain": [
       "tensor([1., 1., 1.])"
      ]
     },
     "execution_count": 4,
     "metadata": {},
     "output_type": "execute_result"
    }
   ],
   "source": [
    "import torch\n",
    "a = torch.ones(3)\n",
    "a"
   ]
  },
  {
   "cell_type": "code",
   "execution_count": 5,
   "id": "23c194ec-7606-444a-8ad6-23344b825701",
   "metadata": {},
   "outputs": [
    {
     "data": {
      "text/plain": [
       "tensor(1.)"
      ]
     },
     "execution_count": 5,
     "metadata": {},
     "output_type": "execute_result"
    }
   ],
   "source": [
    "a[1] # tensor(1.) 은 실수형 1.0을 나타낸 거임"
   ]
  },
  {
   "cell_type": "code",
   "execution_count": 6,
   "id": "9f1b8f66-cec1-43c2-9b98-21339885a617",
   "metadata": {},
   "outputs": [
    {
     "data": {
      "text/plain": [
       "1.0"
      ]
     },
     "execution_count": 6,
     "metadata": {},
     "output_type": "execute_result"
    }
   ],
   "source": [
    "float(a[1])"
   ]
  },
  {
   "cell_type": "code",
   "execution_count": 7,
   "id": "6b1e25a8-42f3-42f0-a970-25907f2a52cd",
   "metadata": {},
   "outputs": [
    {
     "data": {
      "text/plain": [
       "tensor([1., 1., 2.])"
      ]
     },
     "execution_count": 7,
     "metadata": {},
     "output_type": "execute_result"
    }
   ],
   "source": [
    "a[2] = 2.0\n",
    "a"
   ]
  },
  {
   "cell_type": "code",
   "execution_count": 8,
   "id": "6ce1ff70-53f8-4cea-b08d-dcad1530d861",
   "metadata": {},
   "outputs": [
    {
     "data": {
      "text/plain": [
       "tensor([0., 0., 0., 0., 0., 0.])"
      ]
     },
     "execution_count": 8,
     "metadata": {},
     "output_type": "execute_result"
    }
   ],
   "source": [
    "points = torch.zeros(6)\n",
    "points"
   ]
  },
  {
   "cell_type": "code",
   "execution_count": 9,
   "id": "2db6deba-908a-44cb-975d-1cab7bf3ea84",
   "metadata": {},
   "outputs": [
    {
     "data": {
      "text/plain": [
       "tensor([4., 1., 5., 3., 2., 1.])"
      ]
     },
     "execution_count": 9,
     "metadata": {},
     "output_type": "execute_result"
    }
   ],
   "source": [
    "points[0] = 4.0\n",
    "points[1] = 1.0\n",
    "points[2] = 5.0\n",
    "points[3] = 3.0\n",
    "points[4] = 2.0\n",
    "points[5] = 1.0\n",
    "points"
   ]
  },
  {
   "cell_type": "code",
   "execution_count": 10,
   "id": "04aaa1fe-1af4-41c9-89ac-553ad264b1ad",
   "metadata": {},
   "outputs": [
    {
     "data": {
      "text/plain": [
       "tensor([4., 1., 5., 3., 2., 1.])"
      ]
     },
     "execution_count": 10,
     "metadata": {},
     "output_type": "execute_result"
    }
   ],
   "source": [
    "points = torch.tensor([4.0, 1.0, 5.0, 3.0, 2.0, 1.0])\n",
    "points"
   ]
  },
  {
   "cell_type": "code",
   "execution_count": 11,
   "id": "eba378d0-8fa9-4583-af54-ab382527edd1",
   "metadata": {},
   "outputs": [
    {
     "data": {
      "text/plain": [
       "(4.0, 1.0)"
      ]
     },
     "execution_count": 11,
     "metadata": {},
     "output_type": "execute_result"
    }
   ],
   "source": [
    "float(points[0]), float(points[1])"
   ]
  },
  {
   "cell_type": "code",
   "execution_count": 12,
   "id": "48e0a546-b03d-4003-8643-d4028ff33421",
   "metadata": {},
   "outputs": [
    {
     "data": {
      "text/plain": [
       "tensor(4.)"
      ]
     },
     "execution_count": 12,
     "metadata": {},
     "output_type": "execute_result"
    }
   ],
   "source": [
    "points[0]"
   ]
  },
  {
   "cell_type": "code",
   "execution_count": 13,
   "id": "a666fd64-7fe4-4e5e-bd76-16a0de11af90",
   "metadata": {},
   "outputs": [
    {
     "data": {
      "text/plain": [
       "tensor([[4., 1.],\n",
       "        [5., 3.],\n",
       "        [2., 1.]])"
      ]
     },
     "execution_count": 13,
     "metadata": {},
     "output_type": "execute_result"
    }
   ],
   "source": [
    "points = torch.tensor([[4.0,1.0],[5.0,3],[2.,1.]]) \n",
    "# 톈서가 실수형일 경우 정수형 데이터 값을 넣어줘도 알아서 실수형으로 바꿔준다\n",
    "# 하지만 텐서의 데이터 타입과 할당하려는 데이터 값의 타입이 호환이 되지 않을 경우 오류가 발생 할 수 있다\n",
    "points"
   ]
  },
  {
   "cell_type": "code",
   "execution_count": 14,
   "id": "7a0070da-7f73-44da-a4ac-59ea5e4a4951",
   "metadata": {},
   "outputs": [
    {
     "data": {
      "text/plain": [
       "torch.Size([3, 2])"
      ]
     },
     "execution_count": 14,
     "metadata": {},
     "output_type": "execute_result"
    }
   ],
   "source": [
    "points.shape"
   ]
  },
  {
   "cell_type": "code",
   "execution_count": 15,
   "id": "6974b395-63fe-4581-b211-71c1922186e2",
   "metadata": {},
   "outputs": [
    {
     "data": {
      "text/plain": [
       "tensor([[0., 0.],\n",
       "        [0., 0.],\n",
       "        [0., 0.]])"
      ]
     },
     "execution_count": 15,
     "metadata": {},
     "output_type": "execute_result"
    }
   ],
   "source": [
    "points = torch.zeros(3,2)\n",
    "points"
   ]
  },
  {
   "cell_type": "code",
   "execution_count": 16,
   "id": "32a1daf7-2aca-475f-94ca-b77103fe6a76",
   "metadata": {},
   "outputs": [
    {
     "data": {
      "text/plain": [
       "tensor([[4., 1.],\n",
       "        [5., 3.],\n",
       "        [2., 1.]])"
      ]
     },
     "execution_count": 16,
     "metadata": {},
     "output_type": "execute_result"
    }
   ],
   "source": [
    "points = torch.tensor([[4.0, 1.0], [5.0, 3.0], [2.0, 1.0]])\n",
    "points"
   ]
  },
  {
   "cell_type": "code",
   "execution_count": 17,
   "id": "a9c49f50-9bbc-431f-a376-1b149f8c41b1",
   "metadata": {},
   "outputs": [
    {
     "name": "stdout",
     "output_type": "stream",
     "text": [
      "0 번째 리스트의 1 번째 값 tensor(1.)\n",
      "1 번째 리스트의 1 번째 값 tensor(3.)\n",
      "2 번째 리스트의 0 번째 값 tensor(2.)\n"
     ]
    }
   ],
   "source": [
    "print(\"0 번째 리스트의 1 번째 값\",points[0,1])\n",
    "print(\"1 번째 리스트의 1 번째 값\",points[1,1])\n",
    "print(\"2 번째 리스트의 0 번째 값\",points[2,0])"
   ]
  },
  {
   "cell_type": "code",
   "execution_count": 18,
   "id": "9c9158be-9844-4c97-8220-7a49a6902a2c",
   "metadata": {},
   "outputs": [
    {
     "name": "stdout",
     "output_type": "stream",
     "text": [
      "0번 째 리스트 tensor([4., 1.])\n"
     ]
    }
   ],
   "source": [
    "print(\"0번 째 리스트\",points[0])"
   ]
  },
  {
   "cell_type": "code",
   "execution_count": 19,
   "id": "359b6249-6bbc-4d27-99cf-9ee6a673ab4b",
   "metadata": {},
   "outputs": [
    {
     "name": "stdout",
     "output_type": "stream",
     "text": [
      "리스트의 모든 요소 [0, 1, 2, 3, 4, 5]\n",
      "리스트의 1번 부터 끝까지 [1, 2, 3, 4, 5]\n",
      "리스트의 처음부터 4번 인덱스 전까지 [0, 1, 2, 3]\n",
      "리스트의 첫 번째 요소 부터 끝까지  [0, 1, 2, 3, 4]\n",
      "리스트의 1번 인덱스 요소부터 4번 인덱스 요소 전까지, 각 단계식 건너뛰면서 [1, 3]\n"
     ]
    }
   ],
   "source": [
    "some_list = list(range(6))\n",
    "print(\"리스트의 모든 요소\",some_list[:])\n",
    "print(\"리스트의 1번 부터 끝까지\",some_list[1:])\n",
    "print(\"리스트의 처음부터 4번 인덱스 전까지\",some_list[:4])\n",
    "print(\"리스트의 첫 번째 요소 부터 끝까지 \",some_list[:-1])\n",
    "print(\"리스트의 1번 인덱스 요소부터 4번 인덱스 요소 전까지, 각 단계식 건너뛰면서\",some_list[1:4:2])"
   ]
  },
  {
   "cell_type": "code",
   "execution_count": 20,
   "id": "516bba4b-164c-4136-96b4-c5c639311d23",
   "metadata": {},
   "outputs": [
    {
     "name": "stdout",
     "output_type": "stream",
     "text": [
      "points: \n",
      " tensor([[4., 1.],\n",
      "        [5., 3.],\n",
      "        [2., 1.]])\n",
      "\n",
      "1 번째 이후 모든 행, 암묵적으로 모든 열이 포함\n",
      " tensor([[5., 3.],\n",
      "        [2., 1.]])\n",
      "\n",
      "1 번째 이후 모든 행, 명시적으로 모든 열이 포함\n",
      " tensor([[5., 3.],\n",
      "        [2., 1.]])\n",
      "\n",
      "1 번째 이후 모든 행에 대해 첫 번째 열이 포함\n",
      " tensor([5., 2.])\n",
      "\n",
      "길이가 1인 차원 추가 \n",
      " tensor([[[4., 1.],\n",
      "         [5., 3.],\n",
      "         [2., 1.]]])\n",
      "torch.Size([1, 3, 2])\n"
     ]
    }
   ],
   "source": [
    "print(\"points: \\n\", points)\n",
    "print()\n",
    "print(\"1 번째 이후 모든 행, 암묵적으로 모든 열이 포함\\n\",points[1:])\n",
    "print()\n",
    "print(\"1 번째 이후 모든 행, 명시적으로 모든 열이 포함\\n\",points[1:, :])\n",
    "print()\n",
    "print(\"1 번째 이후 모든 행에 대해 첫 번째 열이 포함\\n\",points[1:, 0])\n",
    "print()\n",
    "print(\"길이가 1인 차원 추가 \\n\",points[None])\n",
    "points= points[None]\n",
    "print(points.shape)"
   ]
  }
 ],
 "metadata": {
  "kernelspec": {
   "display_name": "Python 3 (ipykernel)",
   "language": "python",
   "name": "python3"
  },
  "language_info": {
   "codemirror_mode": {
    "name": "ipython",
    "version": 3
   },
   "file_extension": ".py",
   "mimetype": "text/x-python",
   "name": "python",
   "nbconvert_exporter": "python",
   "pygments_lexer": "ipython3",
   "version": "3.10.13"
  }
 },
 "nbformat": 4,
 "nbformat_minor": 5
}
