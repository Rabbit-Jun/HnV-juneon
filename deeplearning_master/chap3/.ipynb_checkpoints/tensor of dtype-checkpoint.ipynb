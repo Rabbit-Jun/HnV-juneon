{
 "cells": [
  {
   "cell_type": "code",
   "execution_count": 1,
   "id": "010d745d-79b3-4aa7-8e16-b5fd16209d9a",
   "metadata": {},
   "outputs": [],
   "source": [
    "import torch"
   ]
  },
  {
   "cell_type": "code",
   "execution_count": 2,
   "id": "60d3321e-d33b-4bc1-bb28-532d8f56cdf5",
   "metadata": {},
   "outputs": [],
   "source": [
    "double_points = torch.ones(10, 2, dtype = torch.double)\n",
    "short_points = torch.tensor([[1,2], [3, 4]], dtype = torch.short)"
   ]
  },
  {
   "cell_type": "code",
   "execution_count": 4,
   "id": "55a2a38d-6c21-457f-a478-fb177fc1bd07",
   "metadata": {},
   "outputs": [
    {
     "data": {
      "text/plain": [
       "torch.int16"
      ]
     },
     "execution_count": 4,
     "metadata": {},
     "output_type": "execute_result"
    }
   ],
   "source": [
    "short_points.dtype"
   ]
  },
  {
   "cell_type": "code",
   "execution_count": 10,
   "id": "9697e7f9-e00d-4ff6-9a7a-8de64f1de89f",
   "metadata": {},
   "outputs": [
    {
     "name": "stdout",
     "output_type": "stream",
     "text": [
      "\n",
      "double_points\n",
      " torch.float64\n",
      "\n",
      "short_points.dtype\n",
      " torch.int16\n"
     ]
    }
   ],
   "source": [
    "double_points = torch.zeros(10, 2).double() # 각 요소들의 데이터 타입을 double(64bit floating point)로 바꿔줌\n",
    "print(\"\\ndouble_points\\n\",double_points.dtype)\n",
    "short_points = torch.ones(10, 2).short() # short(16bit integer)\n",
    "print(\"\\nshort_points.dtype\\n\",short_points.dtype)"
   ]
  },
  {
   "cell_type": "code",
   "execution_count": 9,
   "id": "9b99933a-0268-4473-bcb3-66adb655f2f4",
   "metadata": {},
   "outputs": [
    {
     "name": "stdout",
     "output_type": "stream",
     "text": [
      "\n",
      "double_points\n",
      " torch.float64\n",
      "\n",
      "short_points.dtype\n",
      " torch.int16\n",
      "\n",
      "short_points.dtype\n",
      " torch.int16\n"
     ]
    }
   ],
   "source": [
    "double_points = torch.zeros(10, 2).to(torch.double) # 각 요소들의 데이터 타입을 double(64bit floating point)로 바꿔줌\n",
    "print(\"\\ndouble_points\\n\",double_points.dtype)\n",
    "short_points = torch.ones(10, 2).to(dtype=torch.short) # to method는 변환이 필요한 경우에만 진행\n",
    "print(\"\\nshort_points.dtype\\n\",short_points.dtype)\n",
    "short_points = torch.ones(10, 2).to(torch.short)\n",
    "print(\"\\nshort_points.dtype\\n\",short_points.dtype)"
   ]
  },
  {
   "cell_type": "code",
   "execution_count": 13,
   "id": "051a1b51-f748-487c-a230-1e8c2fb54b2f",
   "metadata": {},
   "outputs": [
    {
     "data": {
      "text/plain": [
       "tensor([0., 0., 0., 0., 0.], dtype=torch.float64)"
      ]
     },
     "execution_count": 13,
     "metadata": {},
     "output_type": "execute_result"
    }
   ],
   "source": [
    "points_64 = torch.rand(5, dtype=torch.double)\n",
    "points_short = points_64.to(torch.short)\n",
    "points_64 * points_short # 여러 데이터 타입이 섞여서 연산 될 경우 데이터 타입이 가장 큰 객체의 데이터 타입을 따른다"
   ]
  }
 ],
 "metadata": {
  "kernelspec": {
   "display_name": "Python 3 (ipykernel)",
   "language": "python",
   "name": "python3"
  },
  "language_info": {
   "codemirror_mode": {
    "name": "ipython",
    "version": 3
   },
   "file_extension": ".py",
   "mimetype": "text/x-python",
   "name": "python",
   "nbconvert_exporter": "python",
   "pygments_lexer": "ipython3",
   "version": "3.10.13"
  }
 },
 "nbformat": 4,
 "nbformat_minor": 5
}
