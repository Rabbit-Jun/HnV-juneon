{
 "cells": [
  {
   "cell_type": "code",
   "execution_count": 1,
   "id": "3e89d17e-d238-421b-a992-b99b46ed6a94",
   "metadata": {},
   "outputs": [],
   "source": [
    "import torch"
   ]
  },
  {
   "cell_type": "code",
   "execution_count": 3,
   "id": "f4b8961d-5ae6-413a-b989-0023fd540e32",
   "metadata": {},
   "outputs": [
    {
     "data": {
      "text/plain": [
       "<function torch.cuda.is_available() -> bool>"
      ]
     },
     "execution_count": 3,
     "metadata": {},
     "output_type": "execute_result"
    }
   ],
   "source": [
    "torch.cuda.is_available # cuda 사용가능한지"
   ]
  },
  {
   "cell_type": "code",
   "execution_count": 6,
   "id": "02208c96-c8de-4f0a-9c28-9213ce7b6486",
   "metadata": {},
   "outputs": [
    {
     "data": {
      "text/plain": [
       "'3.10.13 (main, Sep 11 2023, 13:44:35) [GCC 11.2.0]'"
      ]
     },
     "execution_count": 6,
     "metadata": {},
     "output_type": "execute_result"
    }
   ],
   "source": [
    "import sys\n",
    "sys.version "
   ]
  },
  {
   "cell_type": "markdown",
   "id": "fca301d0-ab93-4c46-b3f3-9b6406e78e9a",
   "metadata": {},
   "source": [
    "(GCC)GNN compile colllection는 리눅스의 기본 컴파일러 </br>\n",
    "각종 프로그래밍 언어를 컴파일 하기 위해 사용"
   ]
  },
  {
   "cell_type": "code",
   "execution_count": 8,
   "id": "1c071c50-7a05-4ea6-8dc8-caee5ed9be0c",
   "metadata": {},
   "outputs": [
    {
     "name": "stdout",
     "output_type": "stream",
     "text": [
      "<module 'torch' from '/root/miniconda3/envs/pytorch/lib/python3.10/site-packages/torch/__init__.py'>\n"
     ]
    }
   ],
   "source": [
    "print(torch) # torch의 저장 경로"
   ]
  }
 ],
 "metadata": {
  "kernelspec": {
   "display_name": "Python 3 (ipykernel)",
   "language": "python",
   "name": "python3"
  },
  "language_info": {
   "codemirror_mode": {
    "name": "ipython",
    "version": 3
   },
   "file_extension": ".py",
   "mimetype": "text/x-python",
   "name": "python",
   "nbconvert_exporter": "python",
   "pygments_lexer": "ipython3",
   "version": "3.10.13"
  }
 },
 "nbformat": 4,
 "nbformat_minor": 5
}
