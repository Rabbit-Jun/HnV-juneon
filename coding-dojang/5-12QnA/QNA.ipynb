{
 "cells": [
  {
   "cell_type": "code",
   "execution_count": 1,
   "metadata": {},
   "outputs": [
    {
     "name": "stdout",
     "output_type": "stream",
     "text": [
      "Fortunately, however, for the reputation of Asteroid B-612, a Turkish dictator made a law that his subjects, under pain of death, should change to European costume. \n"
     ]
    }
   ],
   "source": [
    "#긴 문자열을 입력할 때 여러 줄로 나눠 쓰기\n",
    "s = 'Fortunately, however, for the reputation of Asteroid B-612, \\\n",
    "a Turkish dictator made a law that his subjects, under pain of death, \\\n",
    "should change to European costume. '\n",
    "print(s)"
   ]
  },
  {
   "attachments": {},
   "cell_type": "markdown",
   "metadata": {},
   "source": [
    "컨테이너란 무엇인가요?\n",
    "\n",
    "컨테이너는 화물을 수송할 때 사용하는 큰 박스를 말하는데, 파이썬에서는 데이터를 담는 자료형인 리스트, 튜플, 딕셔너리, 세트를 컨테이너(container)라 부릅니다."
   ]
  },
  {
   "attachments": {},
   "cell_type": "markdown",
   "metadata": {},
   "source": [
    "파이썬 3.6 이상에서 딕셔너리를 만들어보면 키의 순서가 바뀌지 않고 계속 유지됩니다.\n",
    "파이썬 3.6미만에서는 순서 보장 x\n"
   ]
  }
 ],
 "metadata": {
  "kernelspec": {
   "display_name": "juneon",
   "language": "python",
   "name": "python3"
  },
  "language_info": {
   "codemirror_mode": {
    "name": "ipython",
    "version": 3
   },
   "file_extension": ".py",
   "mimetype": "text/x-python",
   "name": "python",
   "nbconvert_exporter": "python",
   "pygments_lexer": "ipython3",
   "version": "3.8.16"
  },
  "orig_nbformat": 4
 },
 "nbformat": 4,
 "nbformat_minor": 2
}
