{
 "cells": [
  {
   "cell_type": "markdown",
   "metadata": {},
   "source": [
    "파이썬은 함수(function)라는 기능을 제공하는데 특정 용도의 코드를 한 곳에 모아 놓은 것을 뜻합니다. 그래서 함수는 처음 한 번만 작성해 놓으면 나중에 필요할 때 계속 불러 쓸 수 있습니다. \n",
    "\n",
    "함수를 사용하면 이런 점이 좋습니다.\n",
    "\n",
    "1.코드의 용도를 구분할 수 있다.\n",
    "2.코드를 재사용할 수 있다.\n",
    "3.실수를 줄일 수 있다."
   ]
  },
  {
   "cell_type": "code",
   "execution_count": 3,
   "metadata": {},
   "outputs": [
    {
     "name": "stdout",
     "output_type": "stream",
     "text": [
      "hello, world!!\n"
     ]
    }
   ],
   "source": [
    "def hello():\n",
    "    print('hello, world!!') # def 함수이름():\n",
    "\n",
    "hello() #이렇게 함수를 사용하는 방법을 '함수를 호출한다'라고 한다\n",
    "\n"
   ]
  },
  {
   "cell_type": "code",
   "execution_count": 4,
   "metadata": {},
   "outputs": [
    {
     "ename": "NameError",
     "evalue": "name 'Hi' is not defined",
     "output_type": "error",
     "traceback": [
      "\u001b[1;31m---------------------------------------------------------------------------\u001b[0m",
      "\u001b[1;31mNameError\u001b[0m                                 Traceback (most recent call last)",
      "\u001b[1;32mc:\\Users\\junun\\OneDrive\\document\\hnv-juneon\\coding-dojang\\ch29\\ch29.ipynb Cell 3\u001b[0m in \u001b[0;36m<cell line: 1>\u001b[1;34m()\u001b[0m\n\u001b[1;32m----> <a href='vscode-notebook-cell:/c%3A/Users/junun/OneDrive/document/hnv-juneon/coding-dojang/ch29/ch29.ipynb#W3sZmlsZQ%3D%3D?line=0'>1</a>\u001b[0m Hi()\n\u001b[0;32m      <a href='vscode-notebook-cell:/c%3A/Users/junun/OneDrive/document/hnv-juneon/coding-dojang/ch29/ch29.ipynb#W3sZmlsZQ%3D%3D?line=1'>2</a>\u001b[0m \u001b[39mdef\u001b[39;00m \u001b[39mHi\u001b[39m():\n\u001b[0;32m      <a href='vscode-notebook-cell:/c%3A/Users/junun/OneDrive/document/hnv-juneon/coding-dojang/ch29/ch29.ipynb#W3sZmlsZQ%3D%3D?line=2'>3</a>\u001b[0m     \u001b[39mprint\u001b[39m(\u001b[39m'\u001b[39m\u001b[39mHi\u001b[39m\u001b[39m'\u001b[39m)\n",
      "\u001b[1;31mNameError\u001b[0m: name 'Hi' is not defined"
     ]
    }
   ],
   "source": [
    "Hi() #함수를 만들기 전에 호출하면 error가 뜬다\n",
    "def Hi():\n",
    "    print('Hi')"
   ]
  },
  {
   "cell_type": "markdown",
   "metadata": {},
   "source": [
    "참고 | 빈 함수 만들기\n",
    "내용이 없는 빈 함수를 만들 때는 코드 부분에 pass를 넣어줍니다.\n",
    "\n",
    "def hello():\n",
    "    pass\n",
    "나중에 다른 사람이 만든 파이썬 소스 코드를 보다 보면 pass를 자주 접할 수 있습니다. pass는 아무 일을 하지 않아도 함수의 틀을 유지할 필요가 있을 때 사용합니다."
   ]
  },
  {
   "cell_type": "code",
   "execution_count": 5,
   "metadata": {},
   "outputs": [
    {
     "name": "stdout",
     "output_type": "stream",
     "text": [
      "30\n"
     ]
    }
   ],
   "source": [
    "def add(a,b): #def 함수이름(매개변수1, 매개변수2): \n",
    "    print( a+ b)\n",
    "\n",
    "add(10, 20)"
   ]
  },
  {
   "cell_type": "markdown",
   "metadata": {},
   "source": [
    "함수에서 값을 받으려면 ( )(괄호) 안에 변수 이름을 지정해주면 됩니다. 특히 이 변수를 매개변수(parameter)라고 부릅니다.\n"
   ]
  },
  {
   "cell_type": "markdown",
   "metadata": {},
   "source": [
    "참고 | 함수 독스트링 사용하기\n",
    "파이썬에서는 함수의 :(콜론) 바로 다음 줄에 \"\"\" \"\"\"(큰따옴표 세 개)로 문자열을 입력하면 함수에 대한 설명을 넣을 수 있습니다. 이런 방식의 문자열을 독스트링(문서화 문자열, documentation strings, docstrings)이라고 합니다. 단, 독스트링의 윗줄에 다른 코드가 오면 안 됩니다.\n",
    "\n",
    "def 함수이름(매개변수):\n",
    "    \"\"\"독스트링\"\"\"\n",
    "    코드\n",
    " \n",
    "def 함수이름(매개변수):\n",
    "    \"\"\"\n",
    "    여러 줄로 된 \n",
    "    독스트링\n",
    "    \"\"\"\n",
    "    코드\n",
    "독스트링은 ' '(작은따옴표), \" \"(큰따옴표), ''' '''(작은따옴표 세 개)로 만들어도 되지만, 파이썬 코딩 스타일 가이드(PEP 8)에서는 \"\"\" \"\"\"(큰따옴표 세 개)를 권장합니다.\n",
    "\n",
    "앞에서 만든 add 함수에 독스트링으로 설명을 추가해보겠습니다.\n",
    "\n",
    "function_documentation_strings.py\n",
    "def add(a, b):\n",
    "    \"\"\"이 함수는 a와 b를 더한 뒤 결과를 반환하는 함수입니다.\"\"\"\n",
    "    return a + b\n",
    " \n",
    "x = add(10, 20)       # 함수를 호출해도 독스트링은 출력되지 않음\n",
    "print(x)\n",
    " \n",
    "print(add.__doc__)    # 함수의 __doc__로 독스트링 출력\n",
    "실행 결과\n",
    "30\n",
    "이 함수는 a와 b를 더한 뒤 결과를 반환하는 함수입니다.\n",
    "독스트링은 함수의 사용 방법만 기록할 뿐 add(10, 20)으로 함수를 호출해도 출력되지 않습니다. 독스트링을 출력하려면 print(add.__doc__)와 같이 함수의 __doc__을 출력하면 됩니다.\n",
    "\n",
    "다음과 같이 help에 함수를 넣으면 함수의 이름, 매개변수, 독스트링을 도움말 형태로 출력해줍니다.\n",
    "\n",
    "help(객체)\n",
    "\n",
    ">>> help(add)\n",
    "Help on function add in module __main__:\n",
    " \n",
    "add(a, b)\n",
    "    이 함수는 a와 b를 더한 뒤 결과를 반환하는 함수입니다.\n",
    "독스트링을 적절히 작성해두면 나중에 본인이 만든 코드를 다른 사람이 사용할 때 좀 더 편리하게 사용할 수 있습니다."
   ]
  },
  {
   "cell_type": "code",
   "execution_count": 6,
   "metadata": {},
   "outputs": [],
   "source": [
    "def add(a,b):\n",
    "    return a + b #함수 안에서 return을 사용하면 값을 함수 바깥으로 반환합니다, return에 값을 지정하지 않으면 \n"
   ]
  }
 ],
 "metadata": {
  "kernelspec": {
   "display_name": "Python 3",
   "language": "python",
   "name": "python3"
  },
  "language_info": {
   "codemirror_mode": {
    "name": "ipython",
    "version": 3
   },
   "file_extension": ".py",
   "mimetype": "text/x-python",
   "name": "python",
   "nbconvert_exporter": "python",
   "pygments_lexer": "ipython3",
   "version": "3.8.16"
  },
  "orig_nbformat": 4
 },
 "nbformat": 4,
 "nbformat_minor": 2
}
