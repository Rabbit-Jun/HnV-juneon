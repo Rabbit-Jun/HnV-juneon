{
 "cells": [
  {
   "cell_type": "markdown",
   "metadata": {},
   "source": [
    "파이썬은 함수(function)라는 기능을 제공하는데 특정 용도의 코드를 한 곳에 모아 놓은 것을 뜻합니다. 그래서 함수는 처음 한 번만 작성해 놓으면 나중에 필요할 때 계속 불러 쓸 수 있습니다. \n",
    "\n",
    "함수를 사용하면 이런 점이 좋습니다.\n",
    "\n",
    "1.코드의 용도를 구분할 수 있다.\n",
    "2.코드를 재사용할 수 있다.\n",
    "3.실수를 줄일 수 있다."
   ]
  },
  {
   "cell_type": "code",
   "execution_count": 3,
   "metadata": {},
   "outputs": [
    {
     "name": "stdout",
     "output_type": "stream",
     "text": [
      "hello, world!!\n"
     ]
    }
   ],
   "source": [
    "def hello():\n",
    "    print('hello, world!!') # def 함수이름():\n",
    "\n",
    "hello() #이렇게 함수를 사용하는 방법을 '함수를 호출한다'라고 한다\n",
    "\n"
   ]
  },
  {
   "cell_type": "code",
   "execution_count": 4,
   "metadata": {},
   "outputs": [
    {
     "ename": "NameError",
     "evalue": "name 'Hi' is not defined",
     "output_type": "error",
     "traceback": [
      "\u001b[1;31m---------------------------------------------------------------------------\u001b[0m",
      "\u001b[1;31mNameError\u001b[0m                                 Traceback (most recent call last)",
      "\u001b[1;32mc:\\Users\\junun\\OneDrive\\document\\hnv-juneon\\coding-dojang\\ch29\\ch29.ipynb Cell 3\u001b[0m in \u001b[0;36m<cell line: 1>\u001b[1;34m()\u001b[0m\n\u001b[1;32m----> <a href='vscode-notebook-cell:/c%3A/Users/junun/OneDrive/document/hnv-juneon/coding-dojang/ch29/ch29.ipynb#W3sZmlsZQ%3D%3D?line=0'>1</a>\u001b[0m Hi()\n\u001b[0;32m      <a href='vscode-notebook-cell:/c%3A/Users/junun/OneDrive/document/hnv-juneon/coding-dojang/ch29/ch29.ipynb#W3sZmlsZQ%3D%3D?line=1'>2</a>\u001b[0m \u001b[39mdef\u001b[39;00m \u001b[39mHi\u001b[39m():\n\u001b[0;32m      <a href='vscode-notebook-cell:/c%3A/Users/junun/OneDrive/document/hnv-juneon/coding-dojang/ch29/ch29.ipynb#W3sZmlsZQ%3D%3D?line=2'>3</a>\u001b[0m     \u001b[39mprint\u001b[39m(\u001b[39m'\u001b[39m\u001b[39mHi\u001b[39m\u001b[39m'\u001b[39m)\n",
      "\u001b[1;31mNameError\u001b[0m: name 'Hi' is not defined"
     ]
    }
   ],
   "source": [
    "Hi() #함수를 만들기 전에 호출하면 error가 뜬다\n",
    "def Hi():\n",
    "    print('Hi')"
   ]
  },
  {
   "cell_type": "markdown",
   "metadata": {},
   "source": [
    "참고 | 빈 함수 만들기\n",
    "내용이 없는 빈 함수를 만들 때는 코드 부분에 pass를 넣어줍니다.\n",
    "\n",
    "def hello():\n",
    "    pass\n",
    "나중에 다른 사람이 만든 파이썬 소스 코드를 보다 보면 pass를 자주 접할 수 있습니다. pass는 아무 일을 하지 않아도 함수의 틀을 유지할 필요가 있을 때 사용합니다."
   ]
  },
  {
   "cell_type": "code",
   "execution_count": 5,
   "metadata": {},
   "outputs": [
    {
     "name": "stdout",
     "output_type": "stream",
     "text": [
      "30\n"
     ]
    }
   ],
   "source": [
    "def add(a,b): #def 함수이름(매개변수1, 매개변수2): \n",
    "    print( a+ b)\n",
    "\n",
    "add(10, 20)"
   ]
  },
  {
   "cell_type": "markdown",
   "metadata": {},
   "source": [
    "함수에서 값을 받으려면 ( )(괄호) 안에 변수 이름을 지정해주면 됩니다. 특히 이 변수를 매개변수(parameter)라고 부릅니다.\n"
   ]
  },
  {
   "cell_type": "markdown",
   "metadata": {},
   "source": [
    "참고 | 함수 독스트링 사용하기\n",
    "파이썬에서는 함수의 :(콜론) 바로 다음 줄에 \"\"\" \"\"\"(큰따옴표 세 개)로 문자열을 입력하면 함수에 대한 설명을 넣을 수 있습니다. 이런 방식의 문자열을 독스트링(문서화 문자열, documentation strings, docstrings)이라고 합니다. 단, 독스트링의 윗줄에 다른 코드가 오면 안 됩니다.\n",
    "\n",
    "def 함수이름(매개변수):\n",
    "    \"\"\"독스트링\"\"\"\n",
    "    코드\n",
    " \n",
    "def 함수이름(매개변수):\n",
    "    \"\"\"\n",
    "    여러 줄로 된 \n",
    "    독스트링\n",
    "    \"\"\"\n",
    "    코드\n",
    "독스트링은 ' '(작은따옴표), \" \"(큰따옴표), ''' '''(작은따옴표 세 개)로 만들어도 되지만, 파이썬 코딩 스타일 가이드(PEP 8)에서는 \"\"\" \"\"\"(큰따옴표 세 개)를 권장합니다.\n",
    "\n",
    "앞에서 만든 add 함수에 독스트링으로 설명을 추가해보겠습니다.\n",
    "\n",
    "function_documentation_strings.py\n",
    "def add(a, b):\n",
    "    \"\"\"이 함수는 a와 b를 더한 뒤 결과를 반환하는 함수입니다.\"\"\"\n",
    "    return a + b\n",
    " \n",
    "x = add(10, 20)       # 함수를 호출해도 독스트링은 출력되지 않음\n",
    "print(x)\n",
    " \n",
    "print(add.__doc__)    # 함수의 __doc__로 독스트링 출력\n",
    "실행 결과\n",
    "30\n",
    "이 함수는 a와 b를 더한 뒤 결과를 반환하는 함수입니다.\n",
    "독스트링은 함수의 사용 방법만 기록할 뿐 add(10, 20)으로 함수를 호출해도 출력되지 않습니다. 독스트링을 출력하려면 print(add.__doc__)와 같이 함수의 __doc__을 출력하면 됩니다.\n",
    "\n",
    "다음과 같이 help에 함수를 넣으면 함수의 이름, 매개변수, 독스트링을 도움말 형태로 출력해줍니다.\n",
    "\n",
    "help(객체)\n",
    "\n",
    ">>> help(add)\n",
    "Help on function add in module __main__:\n",
    " \n",
    "add(a, b)\n",
    "    이 함수는 a와 b를 더한 뒤 결과를 반환하는 함수입니다.\n",
    "독스트링을 적절히 작성해두면 나중에 본인이 만든 코드를 다른 사람이 사용할 때 좀 더 편리하게 사용할 수 있습니다."
   ]
  },
  {
   "cell_type": "code",
   "execution_count": 2,
   "metadata": {},
   "outputs": [
    {
     "name": "stdout",
     "output_type": "stream",
     "text": [
      "30\n",
      "43\n"
     ]
    }
   ],
   "source": [
    "def add(a,b):\n",
    "    return a + b #함수 안에서 return을 사용하면 값을 함수 바깥으로 반환합니다, return에 값을 지정하지 않으면 None 반환\n",
    "\n",
    "x = add(10, 20)\n",
    "print(x) \n",
    "\n",
    "print(add(11,32)) #반환값은 변수에 저장하지 않고 바로 다른 함수에 넣을 수도 있다.\n",
    "\n",
    "\n"
   ]
  },
  {
   "attachments": {},
   "cell_type": "markdown",
   "metadata": {},
   "source": [
    "참고 | 매개변수는 없고 반환값만 있는 함수\n",
    "함수를 만들 때 매개변수는 없지만 값만 반환하는 함수를 만들 수도 있습니다. 다음은 매개변수 없이 1만 반환합니다.\n",
    "\n",
    ">>> def one():\n",
    "...     return 1\n",
    "...\n",
    ">>> x = one()\n",
    ">>> x\n",
    "1"
   ]
  },
  {
   "attachments": {},
   "cell_type": "markdown",
   "metadata": {},
   "source": [
    "참고 | return으로 함수 중간에서 빠져나오기\n",
    "return은 값을 반환하는 기능뿐만 아니라 함수 중간에서 바로 빠져나오는 기능도 있습니다. 다음은 매개변수 a가 10이면 함수를 그냥 빠져나옵니다.\n",
    "\n",
    ">>> def not_ten(a):\n",
    "...     if a == 10:\n",
    "...         return\n",
    "...     print(a, '입니다.', sep='')\n",
    "...\n",
    ">>> not_ten(5)\n",
    "5입니다.\n",
    ">>> not_ten(10)\n",
    ">>> \n",
    "not_ten 함수에 5를 넣으면 print로 '5입니다.'를 출력하지만, 10을 넣으면 return으로 함수 중간에서 바로 빠져나오므로 그 아래에 있는 print는 실행하지 않습니다. 따라서 아무것도 출력되지 않습니다.\n",
    "\n",
    "이처럼 return은 함수 중간에서 빠져나올 때 자주 사용합니다. 보통은 if와 조합해서 특정 조건일 때 함수 중간에서 빠져나옵니다."
   ]
  },
  {
   "cell_type": "code",
   "execution_count": 6,
   "metadata": {},
   "outputs": [
    {
     "name": "stdout",
     "output_type": "stream",
     "text": [
      "30\n",
      "-10\n",
      "(32, -12)\n"
     ]
    }
   ],
   "source": [
    "def add_sub(a,b):\n",
    "    return a +b, a-b #return 반환값1, 반환값2\n",
    "\n",
    "x,y= add_sub(10,20)\n",
    "print(x)\n",
    "print(y)\n",
    "h=add_sub(10,22)\n",
    "print(h) # return 값을 여러개 반환하면 튜플로 반환\n"
   ]
  },
  {
   "attachments": {},
   "cell_type": "markdown",
   "metadata": {},
   "source": [
    "참고 | 값 여러 개를 직접 반환하기\n",
    "함수에서 값 여러 개를 직접 반환할 때는 다음과 같이 return에 튜플을 지정해주면 됩니다.\n",
    "\n",
    "def one_two():\n",
    "    return (1, 2)\n",
    "사실 파이썬에서는 괄호 없이 값을 콤마로 구분하면 튜플이 되죠? 즉, 튜플 1, 2는 튜플 (1, 2)와 같습니다.\n",
    "\n",
    ">>> 1, 2\n",
    "(1, 2)\n",
    "따라서 return 1, 2는 return (1, 2)와 의미가 같습니다.\n",
    "\n",
    "def one_two():\n",
    "    return 1, 2    # return (1, 2)와 같음\n",
    "물론 return에서 리스트를 직접 반환해도 됩니다. 이때도 반환값을 변수 여러 개에 저장할 수 있습니다.\n",
    "\n",
    ">>> def one_two():\n",
    "...     return [1, 2]\n",
    "...\n",
    ">>> x, y = one_two()\n",
    ">>> print(x, y)\n",
    "1 2"
   ]
  },
  {
   "cell_type": "code",
   "execution_count": 7,
   "metadata": {},
   "outputs": [
    {
     "name": "stdout",
     "output_type": "stream",
     "text": [
      "30\n",
      "200\n"
     ]
    }
   ],
   "source": [
    "def mul(a,b):\n",
    "    c =a*b\n",
    "    return c\n",
    "\n",
    "def add(a,b):\n",
    "    c =a+b\n",
    "    print(c)\n",
    "    d = mul(a,b) #add함수 안에서 곱샘 함수를 호출\n",
    "\n",
    "x=10\n",
    "y=20\n",
    "add(x,y)\n"
   ]
  },
  {
   "attachments": {},
   "cell_type": "markdown",
   "metadata": {},
   "source": [
    "프레임이란 메모리에서 함수와 함수에 속한 변수가 저장되는 독립적인 공간\n",
    "\n",
    "함수는 스택(stack) 방식으로 호출됩니다. 즉, 함수를 호출하면 스택의 아래쪽 방향으로 함수가 추가되고 함수가 끝나면 위쪽 방향으로 사라집니다. 특히 프레임은 스택 안에 있어서 각 프레임을 스택 프레임이라고 부릅니다."
   ]
  },
  {
   "attachments": {},
   "cell_type": "markdown",
   "metadata": {},
   "source": [
    "다음 소스 코드를 완성하여 x를 y로 나누었을 때의 몫과 나머지가 출력되게 만드세요.\n",
    "\n",
    "practice_function.py\n",
    "x = 10\n",
    "y = 3\n",
    " \n",
    "                                 \n",
    "                                 \n",
    " \n",
    "quotient, remainder = get_quotient_remainder(x, y)\n",
    "print('몫: {0}, 나머지: {1}'.format(quotient, remainder))"
   ]
  },
  {
   "cell_type": "code",
   "execution_count": 9,
   "metadata": {},
   "outputs": [
    {
     "name": "stdout",
     "output_type": "stream",
     "text": [
      "몫: 3, 나머지: 1\n"
     ]
    }
   ],
   "source": [
    "x = 10\n",
    "y = 3\n",
    "\n",
    "def get_quotient_remainder(x, y):\n",
    "    return x//y , x%y \n",
    "                                 \n",
    "                                 \n",
    " \n",
    "quotient, remainder = get_quotient_remainder(x, y)\n",
    "print('몫: {0}, 나머지: {1}'.format(quotient, remainder))"
   ]
  },
  {
   "cell_type": "markdown",
   "metadata": {},
   "source": [
    "표준 입력으로 숫자 두 개가 입력됩니다. 다음 소스 코드를 완성하여 두 숫자의 덧셈, 뺄셈, 곱셈, 나눗셈의 결과가 출력되게 만드세요. 이때 나눗셈의 결과는 실수라야 합니다.\n",
    "\n",
    "judge_function.py\n",
    "x, y = map(int, input().split())\n",
    "\n",
    "________________\n",
    "________________\n",
    "\n",
    "a, s, m, d = calc(x, y)\n",
    "print('덧셈: {0}, 뺄셈: {1}, 곱셈: {2}, 나눗셈: {3}'.format(a, s, m, d))"
   ]
  },
  {
   "cell_type": "code",
   "execution_count": 14,
   "metadata": {},
   "outputs": [
    {
     "name": "stdout",
     "output_type": "stream",
     "text": [
      "덧셈: 48, 뺄셈: 32, 곱셈: 320, 나눗셈: 5.0\n"
     ]
    }
   ],
   "source": [
    "x, y = map(int, input().split())\n",
    "\n",
    "def calc(x, y):\n",
    "    return x+y, x-y, x*y, x/y\n",
    "\n",
    "a, s, m, d = calc(x, y)\n",
    "print('덧셈: {0}, 뺄셈: {1}, 곱셈: {2}, 나눗셈: {3}'.format(a, s, m, d))"
   ]
  }
 ],
 "metadata": {
  "kernelspec": {
   "display_name": "Python 3",
   "language": "python",
   "name": "python3"
  },
  "language_info": {
   "codemirror_mode": {
    "name": "ipython",
    "version": 3
   },
   "file_extension": ".py",
   "mimetype": "text/x-python",
   "name": "python",
   "nbconvert_exporter": "python",
   "pygments_lexer": "ipython3",
   "version": "3.8.16"
  },
  "orig_nbformat": 4
 },
 "nbformat": 4,
 "nbformat_minor": 2
}
