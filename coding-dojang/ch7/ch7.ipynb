{
 "cells": [
  {
   "cell_type": "code",
   "execution_count": 3,
   "metadata": {},
   "outputs": [
    {
     "name": "stdout",
     "output_type": "stream",
     "text": [
      "1 2 3\n",
      "1 or 2 or 3\n"
     ]
    }
   ],
   "source": [
    "print(1,2,3)\n",
    "print(1,2,3,sep=' or ') #값 사이에 어떤 문자를 넣을 것인지 정할 수 있음\n"
   ]
  },
  {
   "cell_type": "code",
   "execution_count": 44,
   "metadata": {},
   "outputs": [
    {
     "data": {
      "text/plain": [
       "3"
      ]
     },
     "execution_count": 44,
     "metadata": {},
     "output_type": "execute_result"
    }
   ],
   "source": [
    "1+2\n"
   ]
  },
  {
   "cell_type": "code",
   "execution_count": 45,
   "metadata": {},
   "outputs": [
    {
     "data": {
      "text/plain": [
       "3"
      ]
     },
     "execution_count": 45,
     "metadata": {},
     "output_type": "execute_result"
    }
   ],
   "source": [
    "_  #파이썬 셸에서 코드를 실행했을 때의 결과는 _에 저장됨\n"
   ]
  },
  {
   "cell_type": "code",
   "execution_count": 12,
   "metadata": {},
   "outputs": [
    {
     "name": "stdout",
     "output_type": "stream",
     "text": [
      "1\n",
      "2\n",
      "3\n",
      "a\n",
      "b\n",
      "c\n",
      "1\n",
      "2\n",
      "3\n",
      "12a3\n"
     ]
    }
   ],
   "source": [
    "print(1,2,3, sep='\\n') #\\n 은 줄바꿈을 의미하는 제어문자\n",
    "print('a\\nb\\nc') #print에 바로 넣을 수도 있음\n",
    "#\\n:줄 바꿈, \\t:탭 , \\\\:\\출력\n",
    "print(1)\n",
    "print(2)\n",
    "print(3)\n",
    "#print()는 끝에 기본으로 \\n이 붙어 있음\n",
    "print(1,end='')\n",
    "print(2,end='a')\n",
    "print(3) #end 함수를 이용하여 print()끝에 올걸 정할 수 있음\n",
    "\n",
    "\n"
   ]
  },
  {
   "cell_type": "code",
   "execution_count": 14,
   "metadata": {},
   "outputs": [
    {
     "name": "stdout",
     "output_type": "stream",
     "text": [
      "Hello\n",
      "Python\n"
     ]
    }
   ],
   "source": [
    "print('Hello', '\\n', 'Python', sep='')"
   ]
  },
  {
   "attachments": {},
   "cell_type": "markdown",
   "metadata": {},
   "source": [
    "+\n",
    "\n",
    "덧셈\n",
    "\n",
    "a + b\n",
    "\n",
    "두 값을 더함\n",
    "\n",
    "-\n",
    "\n",
    "뺄셈\n",
    "\n",
    "a - b\n",
    "\n",
    "a에서 b를 뺌\n",
    "\n",
    "*\n",
    "\n",
    "곱셈\n",
    "\n",
    "a * b\n",
    "\n",
    "두 값을 곱함\n",
    "\n",
    "/\n",
    "\n",
    "나눗셈\n",
    "\n",
    "a / b\n",
    "\n",
    "a에서 b를 나누며 결과는 실수\n",
    "\n",
    "//\n",
    "\n",
    "버림 나눗셈\n",
    "\n",
    "(floor division)\n",
    "\n",
    "a // b\n",
    "\n",
    "a에서 b를 나누며 소수점 이하는 버림\n",
    "\n",
    "%\n",
    "\n",
    "나머지\n",
    "\n",
    "a % b\n",
    "\n",
    "a에서 b를 나누었을 때 나머지를 구함\n",
    "\n",
    "**\n",
    "\n",
    "거듭제곱\n",
    "\n",
    "a ** b\n",
    "\n",
    "a를 b번 곱함\n",
    "\n",
    "@\n",
    "\n",
    "행렬 곱셈\n",
    "\n",
    "a @ b\n",
    "\n",
    "행렬 a와 b를 곱함\n",
    "\n",
    "+\n",
    "\n",
    "양수 부호\n",
    "\n",
    "+a\n",
    "\n",
    "a에 양수 부호를 붙임\n",
    "\n",
    "-\n",
    "\n",
    "음수 부호\n",
    "\n",
    "-a\n",
    "\n",
    "a에 음수 부호를 붙임\n",
    "\n",
    "+=\n",
    "\n",
    "덧셈 후 할당\n",
    "\n",
    "a += b\n",
    "\n",
    "a와 b를 더한 후 결과를 a에 할당\n",
    "\n",
    "-=\n",
    "\n",
    "뺄셈 후 할당\n",
    "\n",
    "a -= b\n",
    "\n",
    "a에서 b를 뺀 후 결과를 a에 할당\n",
    "\n",
    "*=\n",
    "\n",
    "곱셈 후 할당\n",
    "\n",
    "a *= b\n",
    "\n",
    "a와 b를 곱한 후 결과를 a에 할당\n",
    "\n",
    "/=\n",
    "\n",
    "나눗셈 후 할당\n",
    "\n",
    "a /= b\n",
    "\n",
    "a에서 b를 나눈 후 결과를 a에 할당(결과는 실수)\n",
    "\n",
    "//=\n",
    "\n",
    "버림 나눗셈 후 할당\n",
    "\n",
    "a //= b\n",
    "\n",
    "a에서 b를 나눈 후 결과를 a에 할당(소수점 이하는 버림)\n",
    "\n",
    "%=\n",
    "\n",
    "나머지 연산 후 할당\n",
    "\n",
    "a %= b\n",
    "\n",
    "a에서 b를 나누었을 때 나머지를 구하여 a에 할당\n",
    "\n",
    "**=\n",
    "\n",
    "거듭제곱 후 할당\n",
    "\n",
    "a **= b\n",
    "\n",
    "a를 b번 곱한 후 결과를 a에 할당\n",
    "\n",
    "@=\n",
    "\n",
    "행렬 곱셈 후 할당\n",
    "\n",
    "a @= b\n",
    "\n",
    "행렬 a와 b를 곱한 후 결과를 a에 할당"
   ]
  },
  {
   "attachments": {},
   "cell_type": "markdown",
   "metadata": {},
   "source": [
    "파이썬에서는 ,마 대신_를 이용하여 숫자 구분해서 표현 ex) 1,000 (x) 1_000(o)\n",
    "\n",
    "파이썬은 값 자체도 객체다, 만약 x=1000이라고 하면 x는 1000이라는 객체를 가리키는 거임\n"
   ]
  },
  {
   "cell_type": "code",
   "execution_count": 52,
   "metadata": {},
   "outputs": [
    {
     "name": "stdout",
     "output_type": "stream",
     "text": [
      "False\n",
      "\n",
      "\n",
      "True\n"
     ]
    }
   ],
   "source": [
    "\n",
    "x=300\n",
    "\n",
    "y=300\n",
    "\n",
    "print(x is y,end='\\n\\n\\n')\n",
    "\n",
    "\n",
    "a=256\n",
    "\n",
    "b=256\n",
    "\n",
    "print( a is b)\n",
    "\n",
    "#"
   ]
  },
  {
   "attachments": {},
   "cell_type": "markdown",
   "metadata": {},
   "source": [
    "파이썬에서 x = 300, y = 300과 같은 코드를 작성한 후에 x is y를 했을 때 결과 값으로 False가 나오는 이유는 두 변수가 서로 다른 객체를 참조하기 때문입니다. 이러한 현상은 파이썬의 정수 객체 생성 정책과 관련이 있습니다. 파이썬은 메모리 관리를 효율적으로 하기 위해, 작은 정수 객체는 미리 생성되어 캐싱된다고 합니다. 대부분의 파이썬 구현체에서 이 캐싱 범위는 -5에서 256까지입니다. 이 범위에서 생성된 정수 객체들은 서로 같은 객체로 간주됩니다. 따라서, 범위 내의 정수를 사용할 때는 같은 객체를 참조하지만, 범위를 벗어난 정수를 사용할 때에는 서로 다른 객체를 참조하게 됩니다."
   ]
  },
  {
   "cell_type": "code",
   "execution_count": 53,
   "metadata": {},
   "outputs": [
    {
     "name": "stdout",
     "output_type": "stream",
     "text": [
      "[[10  9]\n",
      " [24 23]]\n"
     ]
    }
   ],
   "source": [
    "import numpy as np\n",
    "a= np.array([[1,2],[3,4]]) #2x2 행렬\n",
    "b=np.array([[4,5],[3,2]])\n",
    "print(a@b) #행렬 곱"
   ]
  }
 ],
 "metadata": {
  "kernelspec": {
   "display_name": "juneon",
   "language": "python",
   "name": "python3"
  },
  "language_info": {
   "codemirror_mode": {
    "name": "ipython",
    "version": 3
   },
   "file_extension": ".py",
   "mimetype": "text/x-python",
   "name": "python",
   "nbconvert_exporter": "python",
   "pygments_lexer": "ipython3",
   "version": "3.8.16"
  },
  "orig_nbformat": 4
 },
 "nbformat": 4,
 "nbformat_minor": 2
}
