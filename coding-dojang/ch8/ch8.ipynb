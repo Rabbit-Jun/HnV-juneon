{
 "cells": [
  {
   "cell_type": "code",
   "execution_count": 7,
   "metadata": {},
   "outputs": [
    {
     "name": "stdout",
     "output_type": "stream",
     "text": [
      "True\n",
      "True\n",
      "True\n",
      "True\n",
      "True\n"
     ]
    }
   ],
   "source": [
    "print(3>1)\n",
    "print(10==10)\n",
    "print(10 !=5)\n",
    "print('python'=='python')\n",
    "print(10>=9)"
   ]
  },
  {
   "cell_type": "code",
   "execution_count": 8,
   "metadata": {},
   "outputs": [
    {
     "name": "stdout",
     "output_type": "stream",
     "text": [
      "True\n",
      "False\n",
      "True\n"
     ]
    },
    {
     "name": "stderr",
     "output_type": "stream",
     "text": [
      "<>:2: SyntaxWarning: \"is\" with a literal. Did you mean \"==\"?\n",
      "<>:3: SyntaxWarning: \"is not\" with a literal. Did you mean \"!=\"?\n",
      "<>:2: SyntaxWarning: \"is\" with a literal. Did you mean \"==\"?\n",
      "<>:3: SyntaxWarning: \"is not\" with a literal. Did you mean \"!=\"?\n",
      "C:\\Users\\junun\\AppData\\Local\\Temp\\ipykernel_18644\\423359452.py:2: SyntaxWarning: \"is\" with a literal. Did you mean \"==\"?\n",
      "  print(1 is 1.0)\n",
      "C:\\Users\\junun\\AppData\\Local\\Temp\\ipykernel_18644\\423359452.py:3: SyntaxWarning: \"is not\" with a literal. Did you mean \"!=\"?\n",
      "  print( 1 is not 1.0)\n"
     ]
    }
   ],
   "source": [
    "print(1 ==1.0)\n",
    "print(1 is 1.0) # 1은 정수 객체 1.0은 실수 객체\n",
    "print( 1 is not 1.0)\n",
    "# is , is not 은 객체를 비교한다"
   ]
  },
  {
   "cell_type": "code",
   "execution_count": 11,
   "metadata": {},
   "outputs": [
    {
     "name": "stdout",
     "output_type": "stream",
     "text": [
      "140705529211808\n",
      "2415042424624\n"
     ]
    }
   ],
   "source": [
    "print(id(1)) #id함수는 객체의 메모리 주소를 구합니다, 이 값은 파이썬이 실행되는 동안 유지된다.\n",
    "print(id(1.0))"
   ]
  },
  {
   "cell_type": "code",
   "execution_count": 25,
   "metadata": {},
   "outputs": [
    {
     "name": "stderr",
     "output_type": "stream",
     "text": [
      "<>:2: SyntaxWarning: \"is\" with a literal. Did you mean \"==\"?\n",
      "<>:2: SyntaxWarning: \"is\" with a literal. Did you mean \"==\"?\n",
      "C:\\Users\\junun\\AppData\\Local\\Temp\\ipykernel_18644\\1993178162.py:2: SyntaxWarning: \"is\" with a literal. Did you mean \"==\"?\n",
      "  a is -5\n"
     ]
    },
    {
     "data": {
      "text/plain": [
       "True"
      ]
     },
     "execution_count": 25,
     "metadata": {},
     "output_type": "execute_result"
    }
   ],
   "source": [
    "a =-5\n",
    "a is -5 # 두 개의 객체가 동일한 메모리 주소를 가리키는지를 확인"
   ]
  },
  {
   "cell_type": "code",
   "execution_count": 28,
   "metadata": {},
   "outputs": [
    {
     "name": "stdout",
     "output_type": "stream",
     "text": [
      "True\n",
      "False\n",
      "False\n"
     ]
    }
   ],
   "source": [
    "print(True and True)\n",
    "print(True and False )\n",
    "print(False and False)\n",
    "# and는 피연산자가 모두 True일 때 Boolean값이 True\n"
   ]
  },
  {
   "cell_type": "code",
   "execution_count": 29,
   "metadata": {},
   "outputs": [
    {
     "name": "stdout",
     "output_type": "stream",
     "text": [
      "True\n",
      "True\n",
      "False\n"
     ]
    }
   ],
   "source": [
    "print( True or True)\n",
    "print( True or False)\n",
    "print( False or False)\n",
    "#or는 피연산자 중 하나만 참이면 boolean 값이 참\n"
   ]
  },
  {
   "cell_type": "code",
   "execution_count": 30,
   "metadata": {},
   "outputs": [
    {
     "name": "stdout",
     "output_type": "stream",
     "text": [
      "False\n",
      "True\n"
     ]
    }
   ],
   "source": [
    "print(not True)\n",
    "print(not False)\n",
    "# not 연산자는 논리값을 뒤집는다\n",
    "\n"
   ]
  },
  {
   "attachments": {},
   "cell_type": "markdown",
   "metadata": {},
   "source": [
    "논리 연산자 순서\n",
    "0. ()\n",
    "1. not\n",
    "2. and\n",
    "3. or\n"
   ]
  },
  {
   "cell_type": "code",
   "execution_count": 34,
   "metadata": {},
   "outputs": [
    {
     "name": "stdout",
     "output_type": "stream",
     "text": [
      "True\n",
      "False\n",
      "True\n",
      "True\n"
     ]
    }
   ],
   "source": [
    "print(bool(1))\n",
    "print(bool(0))\n",
    "print(bool('false'))\n",
    "print(bool(1.5))\n",
    "#실수 0을 제외한 모든 값은 TRUE\n"
   ]
  },
  {
   "attachments": {},
   "cell_type": "markdown",
   "metadata": {},
   "source": [
    "short-circuit evalution(단락 평가)\n",
    "첫 번째 값만으로 결과가 확실하면 두번째 값은 평가 안하는 방법\n",
    "ex) False and True : 첫번 쨰 값이 False이므로 두번째 값을 안봐도 무조건 False\n",
    "    True or False : 첫번 째 값이 True 이므로 두번째 값을 안봐도 무조건 True\n",
    "    "
   ]
  },
  {
   "cell_type": "code",
   "execution_count": 42,
   "metadata": {},
   "outputs": [
    {
     "name": "stdout",
     "output_type": "stream",
     "text": [
      "python\n",
      "True\n",
      "False\n",
      "True\n",
      "True\n",
      "python\n",
      "python\n"
     ]
    }
   ],
   "source": [
    "print(True and 'python') #파이썬에서는 마지막으로 단락평가를 실시한 값을 그대로 반환\n",
    "print( 'python' and True)\n",
    "print( False and True)\n",
    "print( True and 'python' and True) #문자열을 True로 본다.\n",
    "print( 0 or True )\n",
    "print( 'python' or True)\n",
    "print( 0 or 'python')"
   ]
  }
 ],
 "metadata": {
  "kernelspec": {
   "display_name": "juneon",
   "language": "python",
   "name": "python3"
  },
  "language_info": {
   "codemirror_mode": {
    "name": "ipython",
    "version": 3
   },
   "file_extension": ".py",
   "mimetype": "text/x-python",
   "name": "python",
   "nbconvert_exporter": "python",
   "pygments_lexer": "ipython3",
   "version": "3.8.16"
  },
  "orig_nbformat": 4
 },
 "nbformat": 4,
 "nbformat_minor": 2
}
