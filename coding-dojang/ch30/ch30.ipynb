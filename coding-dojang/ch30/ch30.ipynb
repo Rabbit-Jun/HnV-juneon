{
 "cells": [
  {
   "cell_type": "code",
   "execution_count": 1,
   "metadata": {},
   "outputs": [
    {
     "name": "stdout",
     "output_type": "stream",
     "text": [
      "10 20 30\n"
     ]
    }
   ],
   "source": [
    "print(10,20,30) #함수에 인수를 순서대로 넣는 방식을 위치 인수라고 한다\n"
   ]
  },
  {
   "cell_type": "code",
   "execution_count": 6,
   "metadata": {},
   "outputs": [
    {
     "name": "stdout",
     "output_type": "stream",
     "text": [
      "10\n",
      "20\n",
      "30\n",
      "\n",
      "10\n",
      "20\n",
      "30\n",
      "\n",
      "10\n",
      "20\n",
      "30\n"
     ]
    }
   ],
   "source": [
    "def print_numbers(a,b,c):\n",
    "    print(a)\n",
    "    print(b)\n",
    "    print(c)\n",
    "\n",
    "print_numbers(10,20,30)\n",
    "print()\n",
    "x=[10,20,30]\n",
    "print_numbers(*x) #리스트(튜플)앞에 *를 붙이면 언패킹이 된다\n",
    "print()\n",
    "print_numbers(*[10,20,30]) #함수의 매개변수 개수와 리스트의 요소의 개수가 같아야 한다\n"
   ]
  },
  {
   "cell_type": "code",
   "execution_count": 8,
   "metadata": {},
   "outputs": [
    {
     "name": "stdout",
     "output_type": "stream",
     "text": [
      "10\n",
      "20\n",
      "30\n",
      "40\n",
      "\n",
      "10\n",
      "20\n"
     ]
    }
   ],
   "source": [
    "def print_numbers(*args): #def 함수이름(*매개변수): 인수의 개수가 정해지지 않은 가변인수에 사용\n",
    "    for arg in args:\n",
    "        print(arg)\n",
    "\n",
    "print_numbers(10,20,30,40)\n",
    "print()\n",
    "\n",
    "print_numbers(*[10,20])"
   ]
  },
  {
   "attachments": {},
   "cell_type": "markdown",
   "metadata": {},
   "source": [
    "참고 | 고정 인수와 가변 인수를 함께 사용하기\n",
    "고정 인수와 가변 인수를 함께 사용할 때는 다음과 같이 고정 매개변수를 먼저 지정하고, 그 다음 매개변수에 *를 붙여주면 됩니다.\n",
    "\n",
    ">>> def print_numbers(a, *args):\n",
    "...     print(a)\n",
    "...     print(args)\n",
    "...\n",
    ">>> print_numbers(1)\n",
    "1\n",
    "()\n",
    ">>> print_numbers(1, 10, 20)\n",
    "1\n",
    "(10, 20)\n",
    ">>> print_numbers(*[10, 20, 30])\n",
    "10\n",
    "(20, 30)\n",
    "단, 이때 def print_numbers(*args, a):처럼 *args가 고정 매개변수보다 앞쪽에 오면 안 됩니다. 매개변수 순서에서 *args는 반드시 가장 뒤쪽에 와야 합니다."
   ]
  },
  {
   "cell_type": "code",
   "execution_count": 9,
   "metadata": {},
   "outputs": [
    {
     "name": "stdout",
     "output_type": "stream",
     "text": [
      "10\n",
      "()\n"
     ]
    }
   ],
   "source": [
    "def a(x,*y):\n",
    "    print(x)\n",
    "    print(y)\n",
    "\n",
    "a(10)"
   ]
  },
  {
   "attachments": {},
   "cell_type": "markdown",
   "metadata": {},
   "source": [
    "파이썬에서는 인수의 순서와 용도를 매번 기억하지 않도록 키워드 인수(keyword argument)라는 기능을 제공합니다. 키워드 인수는 말 그대로 인수에 이름(키워드)을 붙이는 기능인데 키워드=값 형식으로 사용합니다."
   ]
  },
  {
   "cell_type": "code",
   "execution_count": 14,
   "metadata": {},
   "outputs": [
    {
     "name": "stdout",
     "output_type": "stream",
     "text": [
      "이름 홍길동\n",
      "나이 30\n",
      "주소 서울시 용산구\n",
      "\n",
      "이름 홍길동\n",
      "나이 30\n",
      "주소 서울시 용산구\n"
     ]
    }
   ],
   "source": [
    "def personal_info(name,address,age):\n",
    "    print('이름',name)\n",
    "    print('나이',age)\n",
    "    print('주소',address)\n",
    "personal_info(name='홍길동',age=30,address='서울시 용산구')\n",
    "print()\n",
    "personal_info(name='홍길동',address='서울시 용산구',age=30) # 인수의 순서를 맞추지 않아도 키워드에 해당하는 값이 들어간다"
   ]
  },
  {
   "cell_type": "code",
   "execution_count": 16,
   "metadata": {},
   "outputs": [
    {
     "name": "stdout",
     "output_type": "stream",
     "text": [
      "이름 홍길동\n",
      "나이 30\n",
      "주소 서울시 용산구 이촌동\n",
      "\n",
      "이름 name\n",
      "나이 address\n",
      "주소 age\n"
     ]
    }
   ],
   "source": [
    "def personal_info(name,address,age):\n",
    "    print('이름',name)\n",
    "    print('나이',age)\n",
    "    print('주소',address)\n",
    "\n",
    "x={'name': '홍길동', 'age': 30, 'address': '서울시 용산구 이촌동'}\n",
    "personal_info(**x) #함수(**딕셔너리) , 딕셔너리 언패킹\n",
    "#딕셔너리 언패킹을 사용할 때는 함수의 매개변수 개수와 딕셔너리 키의 개수가 같아야 한다\n",
    "print()\n",
    "\n",
    "personal_info(*x) #키가 출력된다."
   ]
  },
  {
   "cell_type": "code",
   "execution_count": 19,
   "metadata": {},
   "outputs": [
    {
     "name": "stdout",
     "output_type": "stream",
     "text": [
      "name:홍길동\n",
      "\n",
      "이름 홍길동\n",
      "나이 30\n",
      "주소 서울시 용산구 이촌동\n",
      "\n",
      "name:홍길동\n",
      "age:30\n"
     ]
    }
   ],
   "source": [
    "def per(**kwargs):\n",
    "    for kw, arg in kwargs.items(): #KeyWord ARGumentS\n",
    "        print(kw,':',arg, sep='')\n",
    "per(name='홍길동')\n",
    "print()\n",
    "personal_info(name='홍길동', age=30, address='서울시 용산구 이촌동')\n",
    "print()\n",
    "per(**{'name':'홍길동','age':30})"
   ]
  },
  {
   "attachments": {},
   "cell_type": "markdown",
   "metadata": {},
   "source": [
    "보통 **kwargs를 사용한 가변 인수 함수는 다음과 같이 함수 안에서 특정 키가 있는지 확인한 뒤 해당 기능을 만듭니다.\n",
    "\n",
    "def personal_info(**kwargs):\n",
    "    if 'name' in kwargs:    # in으로 딕셔너리 안에 특정 키가 있는지 확인\n",
    "        print('이름: ', kwargs['name'])\n",
    "    if 'age' in kwargs:\n",
    "        print('나이: ', kwargs['age'])\n",
    "    if 'address' in kwargs:\n",
    "        print('주소: ', kwargs['address'])"
   ]
  },
  {
   "attachments": {},
   "cell_type": "markdown",
   "metadata": {},
   "source": [
    "참고 | 고정 인수와 가변 인수(키워드 인수)를 함께 사용하기\n",
    "고정 인수와 가변 인수(키워드 인수)를 함께 사용할 때는 다음과 같이 고정 매개변수를 먼저 지정하고, 그 다음 매개변수에 **를 붙여주면 됩니다.\n",
    "\n",
    ">>> def personal_info(name, **kwargs):\n",
    "...     print(name)\n",
    "...     print(kwargs)\n",
    "...\n",
    ">>> personal_info('홍길동')\n",
    "홍길동\n",
    "{}\n",
    ">>> personal_info('홍길동', age=30, address='서울시 용산구 이촌동')\n",
    "홍길동\n",
    "{'age': 30, 'address': '서울시 용산구 이촌동'}\n",
    ">>> personal_info(**{'name': '홍길동', 'age': 30, 'address': '서울시 용산구 이촌동'})\n",
    "홍길동\n",
    "{'age': 30, 'address': '서울시 용산구 이촌동'}\n",
    "단, 이때 def personal_info(**kwargs, name):처럼 **kwargs가 고정 매개변수보다 앞쪽에 오면 안 됩니다. 매개변수 순서에서 **kwargs는 반드시 가장 뒤쪽에 와야 합니다."
   ]
  },
  {
   "attachments": {},
   "cell_type": "markdown",
   "metadata": {},
   "source": [
    "참고 | 위치 인수와 키워드 인수를 함께 사용하기\n",
    "함수에서 위치 인수를 받는 *args와 키워드 인수를 받는 **kwargs를 함께 사용할 수도 있습니다. 대표적인 함수가 print인데 print는 출력할 값을 위치 인수로 넣고 sep, end 등을 키워드 인수로 넣습니다. 다음과 같이 함수의 매개변수를 *args, **kwargs로 지정하면 위치 인수와 키워드 인수를 함께 사용합니다.\n",
    "\n",
    ">>> def custom_print(*args, **kwargs):\n",
    "...     print(*args, **kwargs)\n",
    "...\n",
    ">>> custom_print(1, 2, 3, sep=':', end='')\n",
    "1:2:3\n",
    "단, 이때 def custom_print(**kwargs, *args):처럼 **kwargs가 *args보다 앞쪽에 오면 안 됩니다. 매개변수 순서에서 **kwargs는 반드시 가장 뒤쪽에 와야 합니다.\n",
    "\n",
    "특히 고정 매개변수와 *args, **kwargs를 함께 사용한다면 def custom_print(a, b, *args, **kwargs):처럼 매개변수는 고정 매개변수, *args, **kwargs 순으로 지정해야 합니다."
   ]
  },
  {
   "cell_type": "code",
   "execution_count": 24,
   "metadata": {},
   "outputs": [
    {
     "name": "stdout",
     "output_type": "stream",
     "text": [
      "(1, 2, 3) {'age': 20, 'name': '홍'}\n"
     ]
    }
   ],
   "source": [
    "def custom_print(*args,**kwargs):\n",
    "    print(args,kwargs)\n",
    "\n",
    "custom_print(1,2,3,age=20,name='홍')"
   ]
  },
  {
   "cell_type": "code",
   "execution_count": 25,
   "metadata": {},
   "outputs": [
    {
     "ename": "TypeError",
     "evalue": "'age' is an invalid keyword argument for print()",
     "output_type": "error",
     "traceback": [
      "\u001b[1;31m---------------------------------------------------------------------------\u001b[0m",
      "\u001b[1;31mTypeError\u001b[0m                                 Traceback (most recent call last)",
      "Cell \u001b[1;32mIn[25], line 4\u001b[0m\n\u001b[0;32m      1\u001b[0m \u001b[39mdef\u001b[39;00m \u001b[39mcustom_print\u001b[39m(\u001b[39m*\u001b[39margs,\u001b[39m*\u001b[39m\u001b[39m*\u001b[39mkwargs):\n\u001b[0;32m      2\u001b[0m     \u001b[39mprint\u001b[39m(\u001b[39m*\u001b[39margs,\u001b[39m*\u001b[39m\u001b[39m*\u001b[39mkwargs)\n\u001b[1;32m----> 4\u001b[0m custom_print(\u001b[39m1\u001b[39;49m,\u001b[39m2\u001b[39;49m,\u001b[39m3\u001b[39;49m,age\u001b[39m=\u001b[39;49m\u001b[39m20\u001b[39;49m,name\u001b[39m=\u001b[39;49m\u001b[39m'\u001b[39;49m\u001b[39m홍\u001b[39;49m\u001b[39m'\u001b[39;49m)\n",
      "Cell \u001b[1;32mIn[25], line 2\u001b[0m, in \u001b[0;36mcustom_print\u001b[1;34m(*args, **kwargs)\u001b[0m\n\u001b[0;32m      1\u001b[0m \u001b[39mdef\u001b[39;00m \u001b[39mcustom_print\u001b[39m(\u001b[39m*\u001b[39margs,\u001b[39m*\u001b[39m\u001b[39m*\u001b[39mkwargs):\n\u001b[1;32m----> 2\u001b[0m     \u001b[39mprint\u001b[39;49m(\u001b[39m*\u001b[39;49margs,\u001b[39m*\u001b[39;49m\u001b[39m*\u001b[39;49mkwargs)\n",
      "\u001b[1;31mTypeError\u001b[0m: 'age' is an invalid keyword argument for print()"
     ]
    }
   ],
   "source": [
    "def custom_print(*args,**kwargs):\n",
    "    print(*args,**kwargs)\n",
    "\n",
    "custom_print(1,2,3,age=20,name='홍')"
   ]
  },
  {
   "attachments": {},
   "cell_type": "markdown",
   "metadata": {},
   "source": [
    "Python의 내장 함수인 print는 몇 가지 특정 키워드 인자들을 받습니다. 그것들은 'sep', 'end', 'file', 그리고 'flush'입니다. 이러한 인자들 외에 추가적인 키워드 인자를 전달하려고 하면, TypeError가 발생합니다."
   ]
  },
  {
   "cell_type": "code",
   "execution_count": 33,
   "metadata": {},
   "outputs": [
    {
     "name": "stdout",
     "output_type": "stream",
     "text": [
      "이름 : 홍길동\n",
      "나이 : 30\n",
      "address: 비공개\n",
      "\n",
      "이름 : 홍길동\n",
      "나이 : 30\n",
      "address: soul korea\n",
      "이름 : song\n",
      "나이 : 20\n",
      "address: 비공개\n"
     ]
    }
   ],
   "source": [
    "def per(name,age,address='비공개'): #초기값을 설정하여 매개변수를 넣지 않으면 초기값을 인수로 사용\n",
    "    print('이름 :', name)\n",
    "    print('나이 :', age)\n",
    "    print('address:', address)\n",
    "\n",
    "per('홍길동',30)\n",
    "print()\n",
    "per('홍길동',30,'soul korea')\n",
    "\n",
    "#초깃값이 지정된 매개변수는 뒤쪽에 몰아줘야 한다\n",
    "\n",
    "def per(name, age =20, address='비공개'):\n",
    "    print('이름 :', name)\n",
    "    print('나이 :', age)\n",
    "    print('address:', address)\n",
    "\n",
    "per('song')"
   ]
  },
  {
   "attachments": {},
   "cell_type": "markdown",
   "metadata": {},
   "source": [
    "다음 소스 코드를 완성하여 가장 높은 점수가 출력되게 만드세요.\n",
    "\n",
    "practice_function_argument.py\n",
    "\n",
    "korean, english, mathematics, science = 100, 86, 81, 91\n",
    " \n",
    "                                             \n",
    "...\n",
    "                                             \n",
    " \n",
    "max_score = get_max_score(korean, english, mathematics, science)\n",
    "print('높은 점수:', max_score)\n",
    " \n",
    "max_score = get_max_score(english, science)\n",
    "print('높은 점수:', max_score)\n",
    "\n",
    "실행 결과\n",
    "높은 점수: 100\n",
    "높은 점수: 91"
   ]
  },
  {
   "cell_type": "code",
   "execution_count": 35,
   "metadata": {},
   "outputs": [
    {
     "name": "stdout",
     "output_type": "stream",
     "text": [
      "높은 점수: 100\n",
      "높은 점수: 91\n"
     ]
    }
   ],
   "source": [
    "korean, english, mathematics, science = 100, 86, 81, 91\n",
    " \n",
    "def get_max_score(*argms):\n",
    "    max_num=[0]\n",
    "    for i in argms:\n",
    "        if max_num[0] < i:\n",
    "            max_num[0] = i\n",
    "    return max_num[0]\n",
    "\n",
    "max_score = get_max_score(korean, english, mathematics, science)\n",
    "print('높은 점수:', max_score)\n",
    " \n",
    "max_score = get_max_score(english, science)\n",
    "print('높은 점수:', max_score)\n",
    "\n",
    "#정답\n",
    "\n",
    "#def get_max_score(*args):\n",
    "#    return max(args)"
   ]
  },
  {
   "attachments": {},
   "cell_type": "markdown",
   "metadata": {},
   "source": [
    "표준 입력으로 국어, 영어, 수학, 과학 점수가 입력됩니다. 다음 소스 코드를 완성하여 가장 낮은 점수, 가장 높은 점수, 평균 점수가 출력되게 만드세요. 평균 점수는 실수로 출력되어야 합니다.\n",
    "\n",
    "judge_function_argument.py\n",
    "\n",
    "korean, english, mathematics, science = map(int, input().split())\n",
    "\n",
    "________________\n",
    "________________\n",
    "________________\n",
    "________________\n",
    "\n",
    "min_score, max_score = get_min_max_score(korean, english, mathematics, science)\n",
    "average_score = get_average(korean=korean, english=english,\n",
    "                            mathematics=mathematics, science=science)\n",
    "print('낮은 점수: {0:.2f}, 높은 점수: {1:.2f}, 평균 점수: {2:.2f}'\n",
    "      .format(min_score, max_score, average_score))\n",
    " \n",
    "min_score, max_score = get_min_max_score(english, science)\n",
    "average_score = get_average(english=english, science=science)\n",
    "print('낮은 점수: {0:.2f}, 높은 점수: {1:.2f}, 평균 점수: {2:.2f}'\n",
    "      .format(min_score, max_score, average_score))\n",
    "\n",
    "예\n",
    "\n",
    "입력\n",
    "76 82 89 84\n",
    "\n",
    "결과\n",
    "낮은 점수: 76.00, 높은 점수: 89.00, 평균 점수: 82.75\n",
    "낮은 점수: 82.00, 높은 점수: 84.00, 평균 점수: 83.00"
   ]
  },
  {
   "cell_type": "code",
   "execution_count": 54,
   "metadata": {},
   "outputs": [
    {
     "name": "stdout",
     "output_type": "stream",
     "text": [
      "낮은 점수: 76.00, 높은 점수: 89.00, 평균 점수: 82.75\n",
      "낮은 점수: 82.00, 높은 점수: 84.00, 평균 점수: 83.00\n"
     ]
    }
   ],
   "source": [
    "korean, english, mathematics, science = map(int, input().split())\n",
    "\n",
    "def get_min_max_score(*args):\n",
    "    return min(args), max(args)\n",
    "def get_average(**kwargs):\n",
    "    a=[]\n",
    "    for x,y in kwargs.items():\n",
    "       a.append(y)\n",
    "    return sum(a)/len(a)\n",
    "\n",
    "\n",
    "min_score, max_score = get_min_max_score(korean, english, mathematics, science)\n",
    "average_score = get_average(korean=korean, english=english,\n",
    "                            mathematics=mathematics, science=science)\n",
    "print('낮은 점수: {0:.2f}, 높은 점수: {1:.2f}, 평균 점수: {2:.2f}'\n",
    "      .format(min_score, max_score, average_score))\n",
    " \n",
    "min_score, max_score = get_min_max_score(english, science)\n",
    "average_score = get_average(english=english, science=science)\n",
    "print('낮은 점수: {0:.2f}, 높은 점수: {1:.2f}, 평균 점수: {2:.2f}'\n",
    "      .format(min_score, max_score, average_score))"
   ]
  }
 ],
 "metadata": {
  "kernelspec": {
   "display_name": "juneon",
   "language": "python",
   "name": "python3"
  },
  "language_info": {
   "codemirror_mode": {
    "name": "ipython",
    "version": 3
   },
   "file_extension": ".py",
   "mimetype": "text/x-python",
   "name": "python",
   "nbconvert_exporter": "python",
   "pygments_lexer": "ipython3",
   "version": "3.8.16"
  },
  "orig_nbformat": 4
 },
 "nbformat": 4,
 "nbformat_minor": 2
}
