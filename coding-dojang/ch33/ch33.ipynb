{
 "cells": [
  {
   "cell_type": "code",
   "execution_count": 1,
   "metadata": {},
   "outputs": [
    {
     "name": "stdout",
     "output_type": "stream",
     "text": [
      "10\n",
      "10\n"
     ]
    }
   ],
   "source": [
    "x= 10 # 전역 변수\n",
    "def foo():\n",
    "    print(x)\n",
    "\n",
    "foo()\n",
    "print(x) #전역 변수 출력\n",
    "\n",
    "#함수 바깥에 있는 변수 x의 값을 출력\n",
    "#스크립트 전체에서 접근할 수 있는 변수를 전역 변수라고 부른다. 특히 전역 변수에 접근할 수 있는 범위를 전역 범위라고 한다\n"
   ]
  },
  {
   "cell_type": "code",
   "execution_count": 2,
   "metadata": {},
   "outputs": [
    {
     "name": "stdout",
     "output_type": "stream",
     "text": [
      "10\n"
     ]
    },
    {
     "ename": "NameError",
     "evalue": "name 'X' is not defined",
     "output_type": "error",
     "traceback": [
      "\u001b[1;31m---------------------------------------------------------------------------\u001b[0m",
      "\u001b[1;31mNameError\u001b[0m                                 Traceback (most recent call last)",
      "\u001b[1;32mc:\\Users\\junun\\OneDrive\\document\\hnv-juneon\\coding-dojang\\ch33\\ch33.ipynb Cell 2\u001b[0m in \u001b[0;36m<cell line: 6>\u001b[1;34m()\u001b[0m\n\u001b[0;32m      <a href='vscode-notebook-cell:/c%3A/Users/junun/OneDrive/document/hnv-juneon/coding-dojang/ch33/ch33.ipynb#W1sZmlsZQ%3D%3D?line=2'>3</a>\u001b[0m     \u001b[39mprint\u001b[39m(x)\n\u001b[0;32m      <a href='vscode-notebook-cell:/c%3A/Users/junun/OneDrive/document/hnv-juneon/coding-dojang/ch33/ch33.ipynb#W1sZmlsZQ%3D%3D?line=4'>5</a>\u001b[0m foo()\n\u001b[1;32m----> <a href='vscode-notebook-cell:/c%3A/Users/junun/OneDrive/document/hnv-juneon/coding-dojang/ch33/ch33.ipynb#W1sZmlsZQ%3D%3D?line=5'>6</a>\u001b[0m \u001b[39mprint\u001b[39m(X)\n",
      "\u001b[1;31mNameError\u001b[0m: name 'X' is not defined"
     ]
    }
   ],
   "source": [
    "def foo():\n",
    "    x =10 #foo의 지역 변수\n",
    "    print(x) #foo의 지역 변수 출력\n",
    "\n",
    "foo()\n",
    "print(X) #에러. foo의 지역 변수는 출력할 수 없다\n",
    "\n",
    "#지역 변수는 변수를 만든 함수 안에서만 접근할 수 있고, 함수 ㅂ깥에서는 접근할 수 없다\n",
    "#지역 변수를 접근할 수 있는 버무이를 지역 범위(loacl scop)라고 한다\n"
   ]
  },
  {
   "cell_type": "code",
   "execution_count": 3,
   "metadata": {},
   "outputs": [
    {
     "name": "stdout",
     "output_type": "stream",
     "text": [
      "20\n",
      "10\n"
     ]
    }
   ],
   "source": [
    "x =10 #전역 변수\n",
    "def foo():\n",
    "    x =20 #x는 foo의 지역 변수\n",
    "    print(x) #foo의 지역 변수 출력\n",
    "\n",
    "foo()\n",
    "print(x) #전역 변수 출력\n"
   ]
  },
  {
   "cell_type": "code",
   "execution_count": 4,
   "metadata": {},
   "outputs": [
    {
     "name": "stdout",
     "output_type": "stream",
     "text": [
      "20\n",
      "20\n"
     ]
    }
   ],
   "source": [
    "x= 10 #전역 변수\n",
    "def foo():\n",
    "    global x #전역 변수 x를 사용하겠다고 설정\n",
    "    x =20 #x는 전역 변수\n",
    "    print(x) # 전역 변수 출력\n",
    "\n",
    "foo()\n",
    "print(x) #전역 변수 출력\n"
   ]
  },
  {
   "cell_type": "code",
   "execution_count": 5,
   "metadata": {},
   "outputs": [
    {
     "name": "stdout",
     "output_type": "stream",
     "text": [
      "20\n",
      "20\n"
     ]
    }
   ],
   "source": [
    "def foo():\n",
    "    global x\n",
    "    x = 20\n",
    "    print(x)\n",
    "\n",
    "foo()\n",
    "print(x)\n",
    "\n",
    "#전역 변수가 없을 때 함수 안에서 gloval을 사용하면 해당 변수가 전역변수로 만들어짐\n"
   ]
  },
  {
   "cell_type": "markdown",
   "metadata": {},
   "source": [
    "참고 | 네임스페이스\n",
    "파이썬에서 변수는 네임스페이스(namespace, 이름공간)에 저장됩니다. 다음과 같이 locals 함수를 사용하면 현재 네임스페이스를 딕셔너리 형태로 출력할 수 있습니다.\n",
    "\n",
    ">>> x = 10\n",
    ">>> locals()\n",
    "{'__name__': '__main__', '__doc__': None, '__package__': None, '__loader__': <class '_frozen_importlib.BuiltinImporter'>, '__spec__': None, '__annotations__': {}, '__builtins__': <module 'builtins' (built-in)>, 'x': 10}\n",
    "출력된 네임스페이스를 보면 'x': 10처럼 변수 x와 값 10이 저장되어 있습니다. 여기서는 전역 범위에서 네임스페이스를 출력했으므로 전역 네임스페이스를 가져옵니다.\n",
    "\n",
    "마찬가지로 함수 안에서 locals를 사용할 수도 있습니다.\n",
    "\n",
    ">>> def foo():\n",
    "...     x = 10\n",
    "...     print(locals())\n",
    "...\n",
    ">>> foo()\n",
    "{'x': 10}\n",
    "네임스페이스를 보면 'x': 10만 저장되어 있습니다. 이때는 지역 범위에서 네임스페이스를 출력했으므로 지역 네임스페이스를 가져옵니다"
   ]
  },
  {
   "cell_type": "code",
   "execution_count": 19,
   "metadata": {},
   "outputs": [
    {
     "name": "stdout",
     "output_type": "stream",
     "text": [
      "Hello, world!\n"
     ]
    }
   ],
   "source": [
    "def print_hello():\n",
    "    hello ='Hello, world!'\n",
    "    def print_message():\n",
    "        print(hello) # 바깥쪽 함수의 지역 변수를 사용\n",
    "    print_message()\n",
    "\n",
    "print_hello()\n",
    "#바깥쪽 함수의 지역 변수는 그 안에 속한 모든 함수에서 접근할 수 있다\n"
   ]
  },
  {
   "cell_type": "code",
   "execution_count": 20,
   "metadata": {},
   "outputs": [
    {
     "name": "stdout",
     "output_type": "stream",
     "text": [
      "10\n"
     ]
    }
   ],
   "source": [
    "def A():\n",
    "    x =10 #A의 지역 변수\n",
    "    def B():\n",
    "        x=20 #x에 20 할당 (B의 지역변수 x를 새로 만듦)\n",
    "    B()\n",
    "    print(x) #A의 지역 변수 출력\n",
    "A()\n",
    "\n",
    "\n",
    "\n"
   ]
  },
  {
   "cell_type": "code",
   "execution_count": 21,
   "metadata": {},
   "outputs": [
    {
     "name": "stdout",
     "output_type": "stream",
     "text": [
      "20\n"
     ]
    }
   ],
   "source": [
    "def A():\n",
    "    x =10\n",
    "    def B():\n",
    "        nonlocal x # 현재 함수의 바깥쪽에 있는 지역 변수 사용 ,nonlocal 지역변수\n",
    "        x =20 #A의 지역 변수 x에 20 할당\n",
    "    \n",
    "    B()\n",
    "    print(x)\n",
    "\n",
    "A()"
   ]
  },
  {
   "cell_type": "code",
   "execution_count": 22,
   "metadata": {},
   "outputs": [
    {
     "name": "stdout",
     "output_type": "stream",
     "text": [
      "50\n",
      "400\n"
     ]
    }
   ],
   "source": [
    "def A():\n",
    "    x = 10\n",
    "    y = 100\n",
    "    def B():\n",
    "        x = 20\n",
    "        def C():\n",
    "            nonlocal x\n",
    "            nonlocal y\n",
    "            x = x + 30 #제일 가까이에 있는 지역 변수 x=20 사용\n",
    "            y = y + 300 #제일 가까이에 있는 지역 변수 y=100사용\n",
    "            print(x)\n",
    "            print(y)\n",
    "        C()\n",
    "    B()\n",
    " \n",
    "A()"
   ]
  },
  {
   "cell_type": "code",
   "execution_count": 23,
   "metadata": {},
   "outputs": [
    {
     "name": "stdout",
     "output_type": "stream",
     "text": [
      "31\n"
     ]
    }
   ],
   "source": [
    "x = 1\n",
    "def A():\n",
    "    x = 10\n",
    "    def B():\n",
    "        x = 20\n",
    "        def C():\n",
    "            global x #전역 변수 x=1 사용\n",
    "            x = x + 30 # 1+30 =31\n",
    "            print(x)\n",
    "        C()\n",
    "    B()\n",
    " \n",
    "A()\n",
    "\n",
    "#전역 변수를 사용할 경우 코드가 복잡했을 때 헷갈릴 수 있음, 반환값과 매개변수 사용 권장\n"
   ]
  },
  {
   "cell_type": "code",
   "execution_count": 25,
   "metadata": {},
   "outputs": [
    {
     "name": "stdout",
     "output_type": "stream",
     "text": [
      "8 11 14 17\n"
     ]
    }
   ],
   "source": [
    "def calc():\n",
    "    a =3\n",
    "    b =5\n",
    "    def mul_add(x):\n",
    "        return a*x+b #함수 바깥쪽에 있는 지역 변수 a, b를 사용하여 계산\n",
    "    return mul_add #mul_add 함수를 반환, 함수를 반환할 때는 함 수 이름만 반환해야 한다\n",
    "\n",
    "c= calc() #함수를 호출할 때 환경(지역 변수, 코드 등)을 다시 꺼내서 사용하는 함수를 클로저라고 한다 \n",
    "print(c(1),c(2),c(3),c(4))\n",
    "\n",
    "# 클로저는 지역 변수와 코드를 묶어서 사용하고 싶을 때 활용합니다. 또한, 클로저에 속한 지역 변수는 바깥에서 직접 접근할 수 없으므로 데이터를 숨기고 싶을 때 활용합니다\n"
   ]
  },
  {
   "cell_type": "code",
   "execution_count": 26,
   "metadata": {},
   "outputs": [
    {
     "name": "stdout",
     "output_type": "stream",
     "text": [
      "8 11 14\n"
     ]
    }
   ],
   "source": [
    "def calc():\n",
    "    a =3\n",
    "    b =5\n",
    "    return lambda x: a*x + b\n",
    "\n",
    "c=calc()\n",
    "print(c(1),c(2),c(3))"
   ]
  },
  {
   "cell_type": "code",
   "execution_count": 27,
   "metadata": {},
   "outputs": [
    {
     "name": "stdout",
     "output_type": "stream",
     "text": [
      "8\n",
      "19\n",
      "33\n"
     ]
    }
   ],
   "source": [
    "def calc():\n",
    "    a = 3\n",
    "    b = 5\n",
    "    total = 0\n",
    "    def mul_add(x):\n",
    "        nonlocal total\n",
    "        total = total + a * x + b\n",
    "        print(total)\n",
    "    return mul_add\n",
    " \n",
    "c = calc()\n",
    "c(1)\n",
    "c(2)\n",
    "c(3)"
   ]
  },
  {
   "cell_type": "markdown",
   "metadata": {},
   "source": [
    "다음 소스 코드를 완성하여 함수 c를 호출할 때마다 호출 횟수가 출력되게 만드세요. 여기서는 함수를 클로저로 만들어야 합니다.\n",
    "\n",
    "practice_closure.py\n",
    "\n",
    "def counter():\n",
    "    i = 0\n",
    "    def count():\n",
    "                       \n",
    "        ...\n",
    "                       \n",
    " \n",
    "c = counter()\n",
    "for i in range(10):\n",
    "    print(c(), end=' ')\n",
    "    \n",
    "실행 결과\n",
    "1 2 3 4 5 6 7 8 9 10 "
   ]
  },
  {
   "cell_type": "code",
   "execution_count": 32,
   "metadata": {},
   "outputs": [
    {
     "name": "stdout",
     "output_type": "stream",
     "text": [
      "1 2 3 4 5 6 7 8 9 10 "
     ]
    }
   ],
   "source": [
    "def counter():\n",
    "    i = 0\n",
    "    def count():\n",
    "        nonlocal i\n",
    "        i= i+1\n",
    "        return i\n",
    "    return count\n",
    "                       \n",
    " \n",
    "c = counter()\n",
    "for i in range(10):\n",
    "    print(c(), end=' ')"
   ]
  },
  {
   "cell_type": "markdown",
   "metadata": {},
   "source": [
    "표준 입력으로 정수가 입력됩니다. 다음 소스 코드를 완성하여 함수 c를 호출할 때마다 숫자가 1씩 줄어들게 만드세요. 여기서는 함수를 클로저로 만들어야 합니다. 정답에 코드를 작성할 때는 def countdown(n):에 맞춰서 들여쓰기를 해주세요.\n",
    "\n",
    "judge_closure.py\n",
    "\n",
    "def countdown(n):\n",
    "________________\n",
    "________________\n",
    "________________\n",
    "________________\n",
    "________________\n",
    "________________\n",
    "\n",
    "n = int(input())\n",
    " \n",
    "c = countdown(n)\n",
    "for i in range(n):\n",
    "    print(c(), end=' ')\n",
    "\n",
    "예\n",
    "입력\n",
    "10\n",
    "\n",
    "결과\n",
    "10 9 8 7 6 5 4 3 2 1 "
   ]
  },
  {
   "cell_type": "code",
   "execution_count": 36,
   "metadata": {},
   "outputs": [
    {
     "name": "stdout",
     "output_type": "stream",
     "text": [
      "10 9 8 7 6 5 4 3 2 1 "
     ]
    }
   ],
   "source": [
    "def countdown(n):\n",
    "    i=n+1\n",
    "    def down():\n",
    "        nonlocal i\n",
    "        i -= 1\n",
    "        return i\n",
    "    return down\n",
    "\n",
    "n = int(input())\n",
    " \n",
    "c = countdown(n)\n",
    "for i in range(n):\n",
    "    print(c(), end=' ')"
   ]
  }
 ],
 "metadata": {
  "kernelspec": {
   "display_name": "juneon",
   "language": "python",
   "name": "python3"
  },
  "language_info": {
   "codemirror_mode": {
    "name": "ipython",
    "version": 3
   },
   "file_extension": ".py",
   "mimetype": "text/x-python",
   "name": "python",
   "nbconvert_exporter": "python",
   "pygments_lexer": "ipython3",
   "version": "3.8.16"
  },
  "orig_nbformat": 4
 },
 "nbformat": 4,
 "nbformat_minor": 2
}
