{
 "cells": [
  {
   "attachments": {},
   "cell_type": "markdown",
   "metadata": {},
   "source": [
    "변수에 값을 할당하여 사용 가능\n",
    "ex) a=10 이라 하면 a가 10의 역할을 하는 거임\n",
    "a는 변수 이기에 나중에 다른 값을 넣어줘도 됨\n",
    "\n",
    "변수 사용 규칙\n",
    "1.영문 문자와 숫자 사용\n",
    "2.대소문자 구분해야함\n",
    "3.문자부터 시작해야 하며 숫자부터 시작 안됨\n",
    "4._로 시작하는건 가능\n",
    "5.특수문자는 사용안됨 ex) %$#@!\n",
    "6.파이썬 키워드 사용 불가 ex) ifm for , and, or"
   ]
  },
  {
   "cell_type": "code",
   "execution_count": 1,
   "metadata": {},
   "outputs": [
    {
     "name": "stdout",
     "output_type": "stream",
     "text": [
      "10\n"
     ]
    }
   ],
   "source": [
    "x=10 #변수x에 10을 할당했음\n",
    "print(x)"
   ]
  },
  {
   "cell_type": "code",
   "execution_count": 7,
   "metadata": {},
   "outputs": [],
   "source": [
    "def p(x):\n",
    "    print(x)"
   ]
  },
  {
   "cell_type": "code",
   "execution_count": 5,
   "metadata": {},
   "outputs": [
    {
     "name": "stdout",
     "output_type": "stream",
     "text": [
      "안녕하세요\n",
      "<class 'str'>\n"
     ]
    }
   ],
   "source": [
    "x='안녕하세요' #문자열 할당도 가능\n",
    "p(x) \n",
    "_='10'\n",
    "p(type(_)) #변수의 타입은 할당한 값의 타입\n"
   ]
  },
  {
   "cell_type": "code",
   "execution_count": 6,
   "metadata": {},
   "outputs": [
    {
     "name": "stdout",
     "output_type": "stream",
     "text": [
      "10\n",
      "20\n",
      "30\n"
     ]
    }
   ],
   "source": [
    "x,y,z =10,20,30 #변수 여러개를 만드는 것도 가능하다, 변수의 개수와 값의 개수가 같아야 한다\n",
    "p(x)\n",
    "p(y)\n",
    "p(z)"
   ]
  },
  {
   "cell_type": "code",
   "execution_count": 9,
   "metadata": {},
   "outputs": [
    {
     "ename": "NameError",
     "evalue": "name 'x' is not defined",
     "output_type": "error",
     "traceback": [
      "\u001b[1;31m---------------------------------------------------------------------------\u001b[0m",
      "\u001b[1;31mNameError\u001b[0m                                 Traceback (most recent call last)",
      "Cell \u001b[1;32mIn[9], line 3\u001b[0m\n\u001b[0;32m      1\u001b[0m x\u001b[39m=\u001b[39m\u001b[39m30\u001b[39m\n\u001b[0;32m      2\u001b[0m \u001b[39mdel\u001b[39;00m x\n\u001b[1;32m----> 3\u001b[0m p(x)\n",
      "\u001b[1;31mNameError\u001b[0m: name 'x' is not defined"
     ]
    }
   ],
   "source": [
    "x=30\n",
    "del x #x를 삭제한다\n",
    "p(x) # 변수 x를 삭제했으므로 x가  정의되지 않았다는 에러가 발생\n"
   ]
  },
  {
   "cell_type": "code",
   "execution_count": 12,
   "metadata": {},
   "outputs": [
    {
     "name": "stdout",
     "output_type": "stream",
     "text": [
      "None\n",
      "<class 'NoneType'>\n"
     ]
    }
   ],
   "source": [
    "x= None #none는 값이 없음을 의미\n",
    "p(x)\n",
    "p(type(x)) "
   ]
  },
  {
   "cell_type": "code",
   "execution_count": 42,
   "metadata": {},
   "outputs": [
    {
     "name": "stdout",
     "output_type": "stream",
     "text": [
      "(10+20j)\n"
     ]
    }
   ],
   "source": [
    "a= 10\n",
    "b= 20j\n",
    "c= a+b #변수가 수로 이루어져 있다면 연산도 가능\n",
    "p(c) "
   ]
  },
  {
   "cell_type": "code",
   "execution_count": 43,
   "metadata": {},
   "outputs": [
    {
     "name": "stdout",
     "output_type": "stream",
     "text": [
      "10\n",
      "30\n"
     ]
    }
   ],
   "source": [
    "a+20 #더하기만 할뿐 계산 결과를 유지하지 않는다. \n",
    "p(a) \n",
    "a=a+20  # 변수를 다시 자기 자신에 할당할 수 있음\n",
    "p(a)"
   ]
  },
  {
   "cell_type": "code",
   "execution_count": 50,
   "metadata": {},
   "outputs": [
    {
     "name": "stdout",
     "output_type": "stream",
     "text": [
      "30\n",
      "2\n",
      "-10\n",
      "10\n"
     ]
    }
   ],
   "source": [
    "a =10\n",
    "a +=20 # a=a+20 이랑 같은 의미\n",
    "p(a)\n",
    "a%=7 #다른 연산자에도 적용된다\n",
    "p(a)\n",
    "\n",
    "x=-10 #음수를 만들고 싶으면 값에 -를 붙이면 된다\n",
    "p(x)\n",
    "p(-x)"
   ]
  },
  {
   "cell_type": "code",
   "execution_count": 4,
   "metadata": {},
   "outputs": [
    {
     "data": {
      "text/plain": [
       "'hello'"
      ]
     },
     "execution_count": 4,
     "metadata": {},
     "output_type": "execute_result"
    }
   ],
   "source": [
    "input() #사용자가 입력한 값을 가져오는 함수\n",
    "\n"
   ]
  },
  {
   "cell_type": "code",
   "execution_count": 13,
   "metadata": {},
   "outputs": [
    {
     "name": "stdout",
     "output_type": "stream",
     "text": [
      "12\n",
      "32\n",
      "1232\n",
      "<class 'str'>\n",
      "44\n",
      "<class 'int'>\n"
     ]
    }
   ],
   "source": [
    "x= input('값을 입력해주세요:') #변수에 사용자가 입력한 값이 할당된다\n",
    "p(x)\n",
    "y=input('두번째 값을 입력해주세요:')\n",
    "p(y)\n",
    "p(x+y) #연산이 가능함\n",
    "p(type(x)) #input()함수로 받은 값의 타입이 str임\n",
    "x=int(input('값을 입력:'))\n",
    "y=int(input('다른 값을 입력:'))\n",
    "p(x+y)\n",
    "p(type(x+y))\n",
    "\n"
   ]
  },
  {
   "cell_type": "code",
   "execution_count": 20,
   "metadata": {},
   "outputs": [
    {
     "name": "stdout",
     "output_type": "stream",
     "text": [
      "1\n",
      "2\n",
      "3\n"
     ]
    }
   ],
   "source": [
    "a,b =input('문자열 두 개를 입력하세요: ').split() \n",
    "#입력할 값은 공백을 기준으로 분리 ,할당받을 변수가 두개이므로 무조건 두개 넣어야 함\n",
    "p(a)\n",
    "p(b)\n",
    "x,y= input('정수 두 개를 입력:').split(',')\n",
    "#split() 안에 무엇을 기준으로 분리할지 정할 수도 있음\n",
    "x=int(x)\n",
    "y=int(y)\n",
    "p(x+y)\n",
    "\n"
   ]
  },
  {
   "cell_type": "code",
   "execution_count": 25,
   "metadata": {},
   "outputs": [
    {
     "name": "stdout",
     "output_type": "stream",
     "text": [
      "3\n"
     ]
    }
   ],
   "source": [
    "a,b=map(int,input('숫자 두 개를 입력:').split())\n",
    "#후자의 인자를 전자의 인자로 모두 적용시켜 변수에 할당, 자세한 내용은 ch22참고\n",
    "p(a+b)"
   ]
  },
  {
   "cell_type": "code",
   "execution_count": 27,
   "metadata": {},
   "outputs": [],
   "source": [
    "a = 20\n",
    "b = 30\n",
    "c = -a\n",
    "b += a\n",
    "c = a // b\n",
    "c -= b\n",
    "c = a + 10"
   ]
  },
  {
   "cell_type": "code",
   "execution_count": 36,
   "metadata": {},
   "outputs": [
    {
     "name": "stdout",
     "output_type": "stream",
     "text": [
      "50 100 None\n"
     ]
    }
   ],
   "source": [
    "a,b,c=50,100,None #이렇게 변수 여러개를 할당해도 됨\n",
    "print(a,b,c)"
   ]
  },
  {
   "cell_type": "code",
   "execution_count": 37,
   "metadata": {},
   "outputs": [
    {
     "name": "stdout",
     "output_type": "stream",
     "text": [
      "35.0\n"
     ]
    }
   ],
   "source": [
    "a,b,c,d = map(int, input().split()) \n",
    "print((a+b+c+d)/4)"
   ]
  }
 ],
 "metadata": {
  "kernelspec": {
   "display_name": "juneon",
   "language": "python",
   "name": "python3"
  },
  "language_info": {
   "codemirror_mode": {
    "name": "ipython",
    "version": 3
   },
   "file_extension": ".py",
   "mimetype": "text/x-python",
   "name": "python",
   "nbconvert_exporter": "python",
   "pygments_lexer": "ipython3",
   "version": "3.8.16"
  },
  "orig_nbformat": 4
 },
 "nbformat": 4,
 "nbformat_minor": 2
}
