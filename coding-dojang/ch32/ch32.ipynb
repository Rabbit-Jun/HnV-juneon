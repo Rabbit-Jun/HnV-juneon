{
 "cells": [
  {
   "cell_type": "code",
   "execution_count": 1,
   "metadata": {},
   "outputs": [
    {
     "data": {
      "text/plain": [
       "20"
      ]
     },
     "execution_count": 1,
     "metadata": {},
     "output_type": "execute_result"
    }
   ],
   "source": [
    "def plus_ten(x):\n",
    "    return x +10\n",
    "\n",
    "plus_ten(10) \n",
    "\n"
   ]
  },
  {
   "cell_type": "code",
   "execution_count": 2,
   "metadata": {},
   "outputs": [
    {
     "data": {
      "text/plain": [
       "<function __main__.<lambda>(x)>"
      ]
     },
     "execution_count": 2,
     "metadata": {},
     "output_type": "execute_result"
    }
   ],
   "source": [
    "lambda x: x+10 #람다 표현식은 식 형태로 되어 있음, 함수를 간편하게 작성할 수 있어서 다른 함수의 인수로 넣을 떄 주로 사용\n",
    "#lambda 매개변수들 : 식\n",
    "#람다 표현식은 이름이 없는 함수를 만들기 때문에 함수를 호출할 수 없다.(람다 표현식을 익명함수라고도 함)\n",
    "\n"
   ]
  },
  {
   "cell_type": "code",
   "execution_count": 3,
   "metadata": {},
   "outputs": [
    {
     "data": {
      "text/plain": [
       "11"
      ]
     },
     "execution_count": 3,
     "metadata": {},
     "output_type": "execute_result"
    }
   ],
   "source": [
    "plus_ten= lambda x :x+10\n",
    "plus_ten(1)\n"
   ]
  },
  {
   "cell_type": "code",
   "execution_count": 5,
   "metadata": {},
   "outputs": [
    {
     "data": {
      "text/plain": [
       "11"
      ]
     },
     "execution_count": 5,
     "metadata": {},
     "output_type": "execute_result"
    }
   ],
   "source": [
    "(lambda x: x+10)(1) #(lambda 매개변수들: 식)(인수들)\n",
    "#람다 표현식은 변수에 할당하지 않고 람다 표현식 자체를 바로 호출할 수 있다.\n"
   ]
  },
  {
   "cell_type": "code",
   "execution_count": 6,
   "metadata": {},
   "outputs": [
    {
     "ename": "SyntaxError",
     "evalue": "invalid syntax (508820809.py, line 1)",
     "output_type": "error",
     "traceback": [
      "\u001b[1;36m  Input \u001b[1;32mIn [6]\u001b[1;36m\u001b[0m\n\u001b[1;33m    (lambda x: y =10; x + y)(1)\u001b[0m\n\u001b[1;37m                 ^\u001b[0m\n\u001b[1;31mSyntaxError\u001b[0m\u001b[1;31m:\u001b[0m invalid syntax\n"
     ]
    }
   ],
   "source": [
    "(lambda x: y =10; x + y)(1)\n",
    "#람다 표현식 안에서는 새 변수를 만들 수 없다, 반환값 부분은 변수 없이 식 한 줄로 표현할 수 있어야 한다.\n"
   ]
  },
  {
   "cell_type": "code",
   "execution_count": 7,
   "metadata": {},
   "outputs": [
    {
     "data": {
      "text/plain": [
       "11"
      ]
     },
     "execution_count": 7,
     "metadata": {},
     "output_type": "execute_result"
    }
   ],
   "source": [
    "y =10\n",
    "(lambda x: x+y)(1)\n",
    "#바깥에 있는 변수는 사용할 수 있음\n"
   ]
  },
  {
   "cell_type": "code",
   "execution_count": 8,
   "metadata": {},
   "outputs": [
    {
     "data": {
      "text/plain": [
       "[11, 12, 13]"
      ]
     },
     "execution_count": 8,
     "metadata": {},
     "output_type": "execute_result"
    }
   ],
   "source": [
    "def plus_ten(x):\n",
    "    return x+10\n",
    "\n",
    "list(map(plus_ten, [1,2,3]))"
   ]
  },
  {
   "cell_type": "code",
   "execution_count": 9,
   "metadata": {},
   "outputs": [
    {
     "data": {
      "text/plain": [
       "[11, 12, 13]"
      ]
     },
     "execution_count": 9,
     "metadata": {},
     "output_type": "execute_result"
    }
   ],
   "source": [
    "list(map(lambda x: x+10, [1,2,3])) #람다 표현식은 다른 함수의 인수로 넣을 때 편리함\n"
   ]
  },
  {
   "cell_type": "markdown",
   "metadata": {},
   "source": [
    "고 | 람다 표현식으로 매개변수가 없는 함수 만들기\n",
    "람다 표현식으로 매개변수가 없는 함수를 만들 때는 lambda 뒤에 아무것도 지정하지 않고 :(콜론)을 붙입니다. 단, 콜론 뒤에는 반드시 반환할 값이 있어야 합니다. 왜냐하면 표현식(expression)은 반드시 값으로 평가되어야 하기 때문입니다.\n",
    "\n",
    ">>> (lambda : 1)()\n",
    "1\n",
    ">>> x = 10\n",
    ">>> (lambda : x)()\n",
    "10"
   ]
  },
  {
   "cell_type": "code",
   "execution_count": 10,
   "metadata": {},
   "outputs": [
    {
     "data": {
      "text/plain": [
       "[1, 2, '3', 4, 5, '6', 7, 8, '9', 10]"
      ]
     },
     "execution_count": 10,
     "metadata": {},
     "output_type": "execute_result"
    }
   ],
   "source": [
    "a= [1,2,3,4,5,6,7,8,9,10]\n",
    "list(map(lambda x: str(x) if x%3 ==0 else x,a)) #lambda 매개변수들: 식1 if 조건식 else 식2\n"
   ]
  },
  {
   "cell_type": "code",
   "execution_count": 11,
   "metadata": {},
   "outputs": [
    {
     "ename": "SyntaxError",
     "evalue": "invalid syntax (109388382.py, line 1)",
     "output_type": "error",
     "traceback": [
      "\u001b[1;36m  Input \u001b[1;32mIn [11]\u001b[1;36m\u001b[0m\n\u001b[1;33m    list(map(lambda x: str(x) if x % 3==0, a))\u001b[0m\n\u001b[1;37m                                         ^\u001b[0m\n\u001b[1;31mSyntaxError\u001b[0m\u001b[1;31m:\u001b[0m invalid syntax\n"
     ]
    }
   ],
   "source": [
    "list(map(lambda x: str(x) if x % 3==0, a))\n",
    " #if를 사용했다면 반드시 else를 사용해야 한다\n"
   ]
  },
  {
   "cell_type": "code",
   "execution_count": 13,
   "metadata": {},
   "outputs": [
    {
     "data": {
      "text/plain": [
       "['1', 2.0, 13, 14, 15, 16, 17, 18, 19, 20]"
      ]
     },
     "execution_count": 13,
     "metadata": {},
     "output_type": "execute_result"
    }
   ],
   "source": [
    "a=[1,2,3,4,5,6,7,8,9,10]\n",
    "list(map(lambda x : str(x) if x ==1 else float(x) if x ==2 else x+10, a))\n",
    "#람다 표현식에서는 elif를 사용할 수 없음, 따라서 lambda 매개변수들: 식1 if 조건식1 else 식2 if 조건식2 else 식3\n",
    "#억지로 람다 표현식들 사용하여 알아보기 힘들게 만드니 차라리 def로 함수로 만든게 더 좋음\n"
   ]
  },
  {
   "cell_type": "code",
   "execution_count": 14,
   "metadata": {},
   "outputs": [
    {
     "data": {
      "text/plain": [
       "[2, 6, 18, 32, 50]"
      ]
     },
     "execution_count": 14,
     "metadata": {},
     "output_type": "execute_result"
    }
   ],
   "source": [
    "a = [1,2,3,4,5]\n",
    "b = [2,3,6,8,10]\n",
    "list(map(lambda x,y: x*y, a, b)) #map은 리스트 등의 반복 간으한 객체를 여러 개 넣을 수도 있다\n",
    "\n"
   ]
  },
  {
   "cell_type": "code",
   "execution_count": 1,
   "metadata": {},
   "outputs": [
    {
     "data": {
      "text/plain": [
       "[8, 7, 9]"
      ]
     },
     "execution_count": 1,
     "metadata": {},
     "output_type": "execute_result"
    }
   ],
   "source": [
    "# filter(함수, 반복가능한 객체)\n",
    "#반복 가능하 객체에서 특정 조건에 맞는 요소만 가져옴(반환값이 True일 때만 해당 요소 가져옴)\n",
    "def f(x):\n",
    "    return x >5 and x <10\n",
    "\n",
    "a = [8, 3, 2, 10, 15, 7, 1, 9, 0, 11]\n",
    "list(filter(f,a))"
   ]
  },
  {
   "cell_type": "code",
   "execution_count": 2,
   "metadata": {},
   "outputs": [
    {
     "data": {
      "text/plain": [
       "[8, 7, 9]"
      ]
     },
     "execution_count": 2,
     "metadata": {},
     "output_type": "execute_result"
    }
   ],
   "source": [
    "a= [8, 3, 2, 10, 15, 7, 1, 9, 0, 11]\n",
    "list(filter(lambda x: x > 5 and x <10, a))\n"
   ]
  },
  {
   "cell_type": "code",
   "execution_count": 6,
   "metadata": {},
   "outputs": [
    {
     "name": "stdout",
     "output_type": "stream",
     "text": [
      "15\n",
      "15\n"
     ]
    }
   ],
   "source": [
    "from functools import reduce # reduce는 반복 가능한 객체의 각 요소를 지정된 함수로 처리한 뒤 이전 결과와 누적해서 반환하는 함수\n",
    "\n",
    "def f(x,y):\n",
    "    return x + y\n",
    "\n",
    "a = [1,2,3,4,5]\n",
    "print(reduce(f, a)) #reduce(함수, 반복가능한 객체)\n",
    "\n",
    "print(reduce(lambda x,y: x+ y, a))\n"
   ]
  },
  {
   "cell_type": "markdown",
   "metadata": {},
   "source": [
    "참고 | map, filter, reduce와 리스트 표현식\n",
    "리스트(딕셔너리, 세트) 표현식으로 처리할 수 있는 경우에는 map, filter와 람다 표현식 대신 리스트 표현식을 사용하는 것이 좋습니다. list(filter(lambda x: x > 5 and x < 10, a))는 다음과 같이 리스트 표현식으로도 만들 수 있습니다.\n",
    "\n",
    ">>> a = [8, 3, 2, 10, 15, 7, 1, 9, 0, 11]\n",
    ">>> [i for i in a if i > 5 and i < 10]\n",
    "[8, 7, 9]\n",
    "리스트 표현식이 좀 더 알아보기 쉽고 속도도 더 빠릅니다.\n",
    "\n",
    "또한, for, while 반복문으로 처리할 수 있는 경우에도 reduce 대신 for, while을 사용하는 것이 좋습니다. 왜냐하면 reduce는 코드가 조금만 복잡해져도 의미하는 바를 한 눈에 알아보기가 힘들기 때문입니다. 이러한 이유로 파이썬 3부터는 reduce가 내장 함수에서 제외되었습니다.\n",
    "\n",
    "reduce(lambda x, y: x + y, a)는 다음과 같이 for 반복문으로 표현할 수 있습니다.\n",
    "\n",
    ">>> a = [1, 2, 3, 4, 5]\n",
    ">>> x = a[0]\n",
    ">>> for i in range(len(a) - 1):\n",
    "...     x = x + a[i + 1]\n",
    "...\n",
    ">>> x\n",
    "15"
   ]
  },
  {
   "cell_type": "markdown",
   "metadata": {},
   "source": [
    "다음 소스 코드를 완성하여 확장자가 .jpg, .png인 이미지 파일만 출력되게 만드세요. 여기서는 람다 표현식을 사용해야 하며 출력 결과는 리스트 형태라야 합니다. 람다 표현식에서 확장자를 검사할 때는 문자열 메서드를 활용하세요.\n",
    "\n",
    "practice_lambda.py\n",
    "\n",
    "files = ['font', '1.png', '10.jpg', '11.gif', '2.jpg', '3.png', 'table.xslx', 'spec.docx']\n",
    " \n",
    "print(                                                                           )\n",
    "\n",
    "실행 결과\n",
    "\n",
    "['1.png', '10.jpg', '2.jpg', '3.png']"
   ]
  },
  {
   "cell_type": "code",
   "execution_count": 1,
   "metadata": {},
   "outputs": [
    {
     "name": "stdout",
     "output_type": "stream",
     "text": [
      "['1.png', '10.jpg', '2.jpg', '3.png']\n"
     ]
    }
   ],
   "source": [
    "files = ['font', '1.png', '10.jpg', '11.gif', '2.jpg', '3.png', 'table.xslx', 'spec.docx']\n",
    " \n",
    "print( list(filter(lambda x: '.jpg'  in x or '.png' in x ,files)))\n",
    "\n",
    "# 정답: list(filter(lambda x: x.find('.jpg') != -1 or x.find('.png') != -1, files))"
   ]
  },
  {
   "cell_type": "markdown",
   "metadata": {},
   "source": [
    "표준 입력으로 숫자.확장자 형식으로 된 파일 이름 여러 개가 입력됩니다. 다음 소스 코드를 완성하여 파일 이름이 숫자 3개이면서 앞에 0이 들어가는 형식으로 출력되게 만드세요. 예를 들어 1.png는 001.png, 99.docx는 099.docx, 100.xlsx는 100.xlsx처럼 출력되어야 합니다. 그리고 람다 표현식을 사용해야 하며 출력 결과는 리스트 형태라야 합니다. 람다 표현식에서 파일명을 처리할 때는 문자열 포매팅과 문자열 메서드를 활용하세요.\n",
    "\n",
    "judge_lambda.py\n",
    "\n",
    "files = input().split()\n",
    " \n",
    "print(________________)\n",
    "예\n",
    "입력\n",
    "1.jpg 10.png 11.png 2.jpg 3.png\n",
    "결과\n",
    "['001.jpg', '010.png', '011.png', '002.jpg', '003.png']"
   ]
  },
  {
   "cell_type": "code",
   "execution_count": 16,
   "metadata": {},
   "outputs": [
    {
     "name": "stdout",
     "output_type": "stream",
     "text": [
      "['097.xlsx', '098.docx', '099.docx', '100.xlsx', '101.docx', '102.docx']\n"
     ]
    }
   ],
   "source": [
    "files = input().split()\n",
    "\n",
    "a=list(map(lambda x: '{0:03d}'.format(int(x[:x.find('.')]))+'{}'.format(x[x.find('.'):]),files))  \n",
    "\n",
    "print(a)"
   ]
  }
 ],
 "metadata": {
  "kernelspec": {
   "display_name": "juneon",
   "language": "python",
   "name": "python3"
  },
  "language_info": {
   "codemirror_mode": {
    "name": "ipython",
    "version": 3
   },
   "file_extension": ".py",
   "mimetype": "text/x-python",
   "name": "python",
   "nbconvert_exporter": "python",
   "pygments_lexer": "ipython3",
   "version": "3.8.16"
  },
  "orig_nbformat": 4
 },
 "nbformat": 4,
 "nbformat_minor": 2
}
