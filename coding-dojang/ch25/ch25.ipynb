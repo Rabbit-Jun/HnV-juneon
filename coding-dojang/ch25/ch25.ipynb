{
 "cells": [
  {
   "cell_type": "code",
   "execution_count": 25,
   "metadata": {},
   "outputs": [
    {
     "name": "stdout",
     "output_type": "stream",
     "text": [
      "{'a': 10, 'b': 20, 'c': 30, 'e': None}\n",
      "{'a': 10, 'b': 20, 'c': 30, 'e': None, 'f': 50}\n",
      "{'a': 10, 'b': 20, 'c': 30, 'e': 40, 'f': 50}\n",
      "{'a': 10, 'b': 20, 'c': 30, 'e': 40, 'f': 50, 'g': 60}\n",
      "{'a': 900, 'b': 20, 'c': 30, 'e': 40, 'f': 600, 'g': 60}\n",
      "{1: 'ONE', 2: 'two', 3: 'three'}\n",
      "{1: 'ONE', 2: 'TWO', 3: 'THREE'}\n",
      "{1: 'ONE', 2: 'TWO', 3: '삼', 4: '사'}\n",
      "{0: 'zero', 1: 'one', 2: 'two'}\n"
     ]
    }
   ],
   "source": [
    "#setdefault: 키-값 쌍 추가\n",
    "#update: 키의 값 수정, 키가 없으면 키-값 쌍 추가\n",
    "\n",
    "x = {'a':10, 'b':20, 'c':30}\n",
    "x.setdefault('e') \n",
    "#setdefault(키, 기본값)처럼 키와 기본값을 지정하면 값에 기본값을 저장한 뒤 해당 값을 반환, 키만 지정하면 값으로는 none을 저장\n",
    "print(x)\n",
    "\n",
    "x.setdefault('f',50)\n",
    "print(x)\n",
    "\n",
    "x.update(e=40) #키의 값을 수정한다\n",
    "print(x)\n",
    "\n",
    "x.update(g=60) #키가 없으면 값도 같이 추가\n",
    "print(x)\n",
    "\n",
    "x.update( a=900, f=600) #한번에 여러 개의 키-값 쌍 수정 가능\n",
    "print(x)\n",
    "\n",
    "y={1:'one', 2:'two', 3:'three'}\n",
    "y.update({1:'ONE'}) #키가 숫자일 경우 딕셔너리 형태로 수정해줘야 한다\n",
    "print(y)\n",
    "y.update({2:'TWO',3:'THREE'})\n",
    "print(y)\n",
    "\n",
    "y.update([[3,'삼'],[4,'사']]) #리스트(또는 튜플)형식을 빌려 딕셔너리를 수정할 수도 있음\n",
    "print(y)\n",
    "\n",
    "z={0:'zero'}\n",
    "z.update(zip([1,2],['one','two'])) #update(반복가능한 객체)는 키-값 쌍으로 된 반복 가능한 캑체로 값을 수정\n",
    "print(z)\n"
   ]
  },
  {
   "cell_type": "markdown",
   "metadata": {},
   "source": [
    "반복 가능한 객체(iterable)란, 여러 개의 요소를 차례대로 반환할 수 있는 객체를 말합니다. 대표적인 예로는 리스트, 튜플, 문자열, 딕셔너리 등이 있습니다. 이러한 객체들은 for문과 함께 사용할 수 있으며, 반복문을 통해 객체 내의 모든 요소에 접근할 수 있습니다. 예를 들어, 리스트와 for문을 사용하는 경우 다음과 같습니다.\n",
    "python\n",
    "fruits = ['사과', '바나나', '포도']\n",
    "for fruit in fruits:\n",
    "    print(fruit)"
   ]
  },
  {
   "cell_type": "code",
   "execution_count": 27,
   "metadata": {},
   "outputs": [
    {
     "name": "stdout",
     "output_type": "stream",
     "text": [
      "[(1, 'a'), (2, 'b'), (3, 'c')]\n"
     ]
    }
   ],
   "source": [
    "a=[1,2,3]\n",
    "b=['a','b','c']\n",
    "c=zip(a,b) #두 그룹의 데이터를 서로 엮어주는 내장 함수\n",
    "print(list(c))"
   ]
  },
  {
   "cell_type": "code",
   "execution_count": 32,
   "metadata": {},
   "outputs": [
    {
     "name": "stdout",
     "output_type": "stream",
     "text": [
      "10\n",
      "{'b': 20, 'c': 30, 'd': 40}\n",
      "해당 키 없음\n",
      "{'c': 30, 'd': 40}\n"
     ]
    }
   ],
   "source": [
    "x={'a':10, 'b':20, 'c':30, 'd':40}\n",
    "print(x.pop('a')) #특정 키-값 쌍을 삭제한 뒤 삭제한 값을 반환\n",
    "print(x)\n",
    "\n",
    "print(x.pop('h','해당 키 없음')) # 해당 키-값 쌍이 없을 때는 지정한 기본값 반환\n",
    "\n",
    "del x['b'] # 특정 키-값 쌍 삭제, 삭제한 값 반환 x\n",
    "print(x)\n",
    "\n",
    "#값을 반환한다는 것은, 함수나 메서드를 실행한 결과로서 어떤 값을 돌려주는 것을 의미합니다.\n"
   ]
  },
  {
   "cell_type": "code",
   "execution_count": 35,
   "metadata": {},
   "outputs": [
    {
     "name": "stdout",
     "output_type": "stream",
     "text": [
      "('d', 40)\n",
      "{}\n"
     ]
    }
   ],
   "source": [
    "x= {'a':10, 'b':20, 'c':30, 'd':40}\n",
    "print( x.popitem()) #마지막 키-값 쌍을 삭제하며 삭제한 키-값 쌍을 튜플로 반환\n",
    "\n",
    "x.clear() #딕셔너리의 모든 키-값 쌍을 삭제\n",
    "print(x)"
   ]
  },
  {
   "cell_type": "code",
   "execution_count": 38,
   "metadata": {},
   "outputs": [
    {
     "name": "stdout",
     "output_type": "stream",
     "text": [
      "10\n",
      "기본값\n"
     ]
    }
   ],
   "source": [
    "x ={'a': 10, 'b':20, 'c':30, 'd':40}\n",
    "print(x.get('a')) #딕셔너리에서 특정 키의 값을 가져온다.\n",
    "\n",
    "print(x.get('z','기본값')) #특정 키가 딕셔너리에 없으면 기본값을 반환한다.\n"
   ]
  },
  {
   "cell_type": "code",
   "execution_count": 41,
   "metadata": {},
   "outputs": [
    {
     "name": "stdout",
     "output_type": "stream",
     "text": [
      "dict_items([('a', 10), ('b', 20), ('c', 30), ('d', 40)])\n",
      "dict_keys(['a', 'b', 'c', 'd'])\n",
      "dict_values([10, 20, 30, 40])\n"
     ]
    }
   ],
   "source": [
    "x ={'a': 10, 'b':20, 'c':30, 'd':40}\n",
    "print(x.items()) #딕셔너리의 키-값 쌍을 모두 가져온다\n",
    "\n",
    "print(x.keys()) #딕셔너리의 키를 모두 가져온다\n",
    "\n",
    "print(x.values()) #딕셔너리의 값을 모두 가져온다\n"
   ]
  },
  {
   "cell_type": "code",
   "execution_count": 44,
   "metadata": {},
   "outputs": [
    {
     "name": "stdout",
     "output_type": "stream",
     "text": [
      "{'a': None, 'b': None, 'c': None, 'd': None}\n",
      "{'a': 100, 'b': 100, 'c': 100, 'd': 100}\n"
     ]
    }
   ],
   "source": [
    "a=['a','b','c','d']\n",
    "x=dict.fromkeys(a) # 리스트(혹은 튜플)의 값을 키로 한 딕셔너리 생성  \n",
    "print(x)\n",
    "\n",
    "y=dict.fromkeys(a,100) #값을 지정하면 키와 값이 있는 딕셔너리 생성 \n",
    "print(y)"
   ]
  },
  {
   "cell_type": "code",
   "execution_count": 53,
   "metadata": {},
   "outputs": [
    {
     "name": "stdout",
     "output_type": "stream",
     "text": [
      "defaultdict(<class 'int'>, {})\n",
      "0\n",
      "0\n",
      "py\n",
      "3\n",
      "defaultdict(<function <lambda> at 0x0000019188D1F040>, {'a': 3})\n"
     ]
    }
   ],
   "source": [
    "from collections import defaultdict #collections 모듈에서 defaultdict가져옴\n",
    "\n",
    "h=defaultdict(int) #기본값이 0인 딕셔너리를 생성, 보통 딕셔너리는 없는 키를 호출하면 에러가나지만 ,이렇게 하면 없는 키를 호출해도 0이 출력된다.\n",
    "print(h)\n",
    "print(h['a'])\n",
    "\n",
    "print(int()) #int()를 호출하면 0이 나옴\n",
    "\n",
    "h=defaultdict(lambda:'py') #lambda를 이용하여 다른 값 호출\n",
    "print(h['a'])\n",
    "\n",
    "h=defaultdict(lambda: 3)\n",
    "print(h['a'])\n",
    "\n",
    "print(h)\n"
   ]
  },
  {
   "cell_type": "code",
   "execution_count": 31,
   "metadata": {},
   "outputs": [
    {
     "name": "stdout",
     "output_type": "stream",
     "text": [
      "a b c d \n",
      "a 10\n",
      "b 20\n",
      "c 30\n",
      "d 40\n",
      "\n",
      "a 10\n",
      "b 20\n",
      "c 30\n",
      "d 40\n"
     ]
    }
   ],
   "source": [
    "x = {'a':10, 'b':20, 'c': 30, 'd':40}\n",
    "for i in x: #키만 출력된다, for i,j in x: 값을 하나만 넣어야 된다고 에러난다\n",
    "    print(i, end=' ')\n",
    "print()\n",
    "\n",
    "for key, value in x.items(): #for 키, 값 in 딕셔너리.items() 형식으로 해야 키와 값이 출력된다.\n",
    "    print(key,value)\n",
    "print()\n",
    "\n",
    "for key, value in {'a':10, 'b':20, 'c':30, 'd':40}.items():\n",
    "    print(key, value)"
   ]
  },
  {
   "cell_type": "code",
   "execution_count": 10,
   "metadata": {},
   "outputs": [
    {
     "name": "stdout",
     "output_type": "stream",
     "text": [
      "a b c d \n",
      "10 20 30 40 "
     ]
    }
   ],
   "source": [
    "x= {'a':10, 'b':20, 'c': 30, 'd':40}\n",
    "for key in x.keys(): #키만 출력\n",
    "    print(key, end=' ')\n",
    "print()\n",
    "\n",
    "for value in x.values(): #값만 출력\n",
    "    print(value, end=' ')\n",
    "\n"
   ]
  },
  {
   "cell_type": "code",
   "execution_count": 11,
   "metadata": {},
   "outputs": [
    {
     "name": "stdout",
     "output_type": "stream",
     "text": [
      "{'a': None, 'b': None, 'c': None, 'd': None}\n"
     ]
    }
   ],
   "source": [
    "keys = ['a', 'b', 'c', 'd']\n",
    "x = {key : value for key, value in dict.fromkeys(keys).items()} #if 또는 for을 이용하여 딕셔너리 만들기\n",
    "print (x)\n"
   ]
  },
  {
   "cell_type": "code",
   "execution_count": 15,
   "metadata": {},
   "outputs": [
    {
     "name": "stdout",
     "output_type": "stream",
     "text": [
      "{'a': 0, 'b': 0, 'c': 0, 'd': 0}\n",
      "{10: 0, 20: 0, 30: 0, 40: 0}\n",
      "{10: 'a', 20: 'b', 30: 'c', 40: 'd'}\n"
     ]
    }
   ],
   "source": [
    "print({key: 0 for key in dict.fromkeys(['a','b','c','d']).keys()})\n",
    "#키만 가져옴\n",
    "\n",
    "print({value: 0 for value in {'a':10, 'b':20, 'c':30, 'd':40}.values()})\n",
    "#값을 키로 사용\n",
    "\n",
    "print({value: key for key, value in {'a':10, 'b':20, 'c':30, 'd':40}.items()})\n",
    "# 키-값의 자리를 바꿈"
   ]
  },
  {
   "cell_type": "code",
   "execution_count": 17,
   "metadata": {},
   "outputs": [
    {
     "ename": "RuntimeError",
     "evalue": "dictionary changed size during iteration",
     "output_type": "error",
     "traceback": [
      "\u001b[1;31m---------------------------------------------------------------------------\u001b[0m",
      "\u001b[1;31mRuntimeError\u001b[0m                              Traceback (most recent call last)",
      "\u001b[1;32mc:\\Users\\junun\\OneDrive\\document\\hnv-juneon\\coding-dojang\\ch25\\ch25.ipynb Cell 14\u001b[0m in \u001b[0;36m<cell line: 3>\u001b[1;34m()\u001b[0m\n\u001b[0;32m      <a href='vscode-notebook-cell:/c%3A/Users/junun/OneDrive/document/hnv-juneon/coding-dojang/ch25/ch25.ipynb#X16sZmlsZQ%3D%3D?line=0'>1</a>\u001b[0m x \u001b[39m=\u001b[39m {\u001b[39m'\u001b[39m\u001b[39ma\u001b[39m\u001b[39m'\u001b[39m:\u001b[39m10\u001b[39m, \u001b[39m'\u001b[39m\u001b[39mb\u001b[39m\u001b[39m'\u001b[39m: \u001b[39m20\u001b[39m, \u001b[39m'\u001b[39m\u001b[39mc\u001b[39m\u001b[39m'\u001b[39m:\u001b[39m30\u001b[39m, \u001b[39m'\u001b[39m\u001b[39md\u001b[39m\u001b[39m'\u001b[39m:\u001b[39m40\u001b[39m}\n\u001b[1;32m----> <a href='vscode-notebook-cell:/c%3A/Users/junun/OneDrive/document/hnv-juneon/coding-dojang/ch25/ch25.ipynb#X16sZmlsZQ%3D%3D?line=2'>3</a>\u001b[0m \u001b[39mfor\u001b[39;00m key, value \u001b[39min\u001b[39;00m x\u001b[39m.\u001b[39mitems():\n\u001b[0;32m      <a href='vscode-notebook-cell:/c%3A/Users/junun/OneDrive/document/hnv-juneon/coding-dojang/ch25/ch25.ipynb#X16sZmlsZQ%3D%3D?line=3'>4</a>\u001b[0m     \u001b[39mif\u001b[39;00m value \u001b[39m==\u001b[39m\u001b[39m20\u001b[39m:\n\u001b[0;32m      <a href='vscode-notebook-cell:/c%3A/Users/junun/OneDrive/document/hnv-juneon/coding-dojang/ch25/ch25.ipynb#X16sZmlsZQ%3D%3D?line=4'>5</a>\u001b[0m         \u001b[39mdel\u001b[39;00m x[key]\n",
      "\u001b[1;31mRuntimeError\u001b[0m: dictionary changed size during iteration"
     ]
    }
   ],
   "source": [
    "x = {'a':10, 'b': 20, 'c':30, 'd':40}\n",
    "\n",
    "for key, value in x.items():\n",
    "    if value ==20:\n",
    "        del x[key]\n",
    "print(x)\n",
    "\n",
    "#딕셔너리는 for 반복문으로 반복하면서 키 -값 쌍을 삭제하면 안됨"
   ]
  },
  {
   "cell_type": "code",
   "execution_count": 18,
   "metadata": {},
   "outputs": [
    {
     "name": "stdout",
     "output_type": "stream",
     "text": [
      "{'a': 10, 'c': 30, 'd': 40}\n"
     ]
    }
   ],
   "source": [
    "x = {'a':10, 'b': 20, 'c':30, 'd':40}\n",
    "x= {key:value for key,value in x.items() if value != 20}\n",
    "print(x)"
   ]
  },
  {
   "cell_type": "code",
   "execution_count": 19,
   "metadata": {},
   "outputs": [
    {
     "name": "stdout",
     "output_type": "stream",
     "text": [
      "6051.8\n"
     ]
    }
   ],
   "source": [
    "terrestrial_planet = {\n",
    "    'Mercury': {\n",
    "        'mean_radius': 2439.7,\n",
    "        'mass': 3.3022E+23,\n",
    "        'orbital_period': 87.969\n",
    "    },\n",
    "    'Venus': {\n",
    "        'mean_radius': 6051.8,\n",
    "        'mass': 4.8676E+24,\n",
    "        'orbital_period': 224.70069,\n",
    "    },\n",
    "    'Earth': {\n",
    "        'mean_radius': 6371.0,\n",
    "        'mass': 5.97219E+24,\n",
    "        'orbital_period': 365.25641,\n",
    "    },\n",
    "    'Mars': {\n",
    "        'mean_radius': 3389.5,\n",
    "        'mass': 6.4185E+23,\n",
    "        'orbital_period': 686.9600,\n",
    "    }\n",
    "} #딕셔너리 안에 딕셔너리 가능\n",
    " \n",
    "print(terrestrial_planet['Venus']['mean_radius']) #밖에 인덱스 번호와 안쪽의 키의 인덱스 번호로 찾고자 하는 키의 값을 얻을 수 있다\n",
    "\n"
   ]
  },
  {
   "cell_type": "code",
   "execution_count": 23,
   "metadata": {},
   "outputs": [
    {
     "name": "stdout",
     "output_type": "stream",
     "text": [
      "True\n",
      "{'a': 11, 'b': 0, 'c': 0, 'd': 0}\n",
      "False\n"
     ]
    }
   ],
   "source": [
    "x= {'a': 0, 'b': 0, 'c':0, 'd': 0}\n",
    "y =x\n",
    "print( x is y) #x와 y가 같은 객체\n",
    "y['a']=11\n",
    "print(x)\n",
    "y= x.copy()\n",
    "print(x is y)"
   ]
  },
  {
   "cell_type": "code",
   "execution_count": 27,
   "metadata": {},
   "outputs": [
    {
     "name": "stdout",
     "output_type": "stream",
     "text": [
      "False\n",
      "{'a': {'python': '2.715'}, 'b': {'python': '3.6'}}\n",
      "{'a': {'python': '2.715'}, 'b': {'python': '3.6'}}\n",
      "{'a': {'python': 3.8}, 'b': {'python': '3.6'}}\n"
     ]
    }
   ],
   "source": [
    "x = {'a': {'python': '2.7'}, 'b': {'python': '3.6'}}\n",
    "y = x.copy()\n",
    "print( x is y) \n",
    "y['a']['python']= '2.715'\n",
    "print(x) # x is y는 false 이지만 y 안쪽의 값을 바꾸면 x도 바뀜\n",
    "\n",
    "import copy # copy 모듈\n",
    "y =copy.deepcopy(x) # 깊은 복사\n",
    "y['a']['python']= 3.8\n",
    "print(x) #깊은 복사를 하여 y에 할당했기에 y가 변경되도 x는 변경 안됨\n",
    "print(y)"
   ]
  },
  {
   "cell_type": "markdown",
   "metadata": {},
   "source": [
    "다음 소스 코드를 완성하여 평균 점수가 출력되게 만드세요.\n",
    "\n",
    "\n",
    "maria = {'korean': 94, 'english': 91, 'mathematics': 89, 'science': 83}\n",
    " \n",
    "                                          \n",
    "print(average)\n",
    "실행 결과\n",
    "89.25"
   ]
  },
  {
   "cell_type": "code",
   "execution_count": 39,
   "metadata": {},
   "outputs": [
    {
     "name": "stdout",
     "output_type": "stream",
     "text": [
      "89.25\n"
     ]
    }
   ],
   "source": [
    "\n",
    "maria = {'korean': 94, 'english': 91, 'mathematics': 89, 'science': 83}\n",
    "num=0\n",
    "for i in maria.values():\n",
    "    num +=i\n",
    "average=num/4\n",
    "\n",
    "print(average)\n",
    "\n",
    "#average = sum(maria.values()) / len(maria)"
   ]
  },
  {
   "cell_type": "markdown",
   "metadata": {},
   "source": [
    "표준 입력으로 문자열 여러 개와 숫자 여러 개가 두 줄로 입력되고, 첫 번째 줄은 키, 두 번째 줄은 값으로 하여 딕셔너리를 생성합니다. 다음 코드를 완성하여 딕셔너리에서 키가 'delta'인 키-값 쌍과 값이 30인 키-값 쌍을 삭제하도록 만드세요.\n",
    "\n",
    "\n",
    "keys = input().split()\n",
    "values = map(int, input().split())\n",
    " \n",
    "x = dict(zip(keys, values))\n",
    " \n",
    "________________\n",
    "________________\n",
    " \n",
    "print(x)\n",
    "예\n",
    "입력\n",
    "alpha bravo charlie delta\n",
    "10 20 30 40\n",
    "결과\n",
    "{'alpha': 10, 'bravo': 20}"
   ]
  },
  {
   "cell_type": "code",
   "execution_count": 49,
   "metadata": {},
   "outputs": [
    {
     "name": "stdout",
     "output_type": "stream",
     "text": [
      "{'alpha': 10, 'bravo': 20}\n"
     ]
    }
   ],
   "source": [
    "keys = input().split()\n",
    "values = map(int, input().split())\n",
    " \n",
    "x = dict(zip(keys, values))\n",
    "x.pop('delta')\n",
    "x= {key :value for key, value in x.items() if value != 30 }\n",
    "print(x)"
   ]
  },
  {
   "cell_type": "code",
   "execution_count": null,
   "metadata": {},
   "outputs": [],
   "source": []
  }
 ],
 "metadata": {
  "kernelspec": {
   "display_name": "Python 3",
   "language": "python",
   "name": "python3"
  },
  "language_info": {
   "codemirror_mode": {
    "name": "ipython",
    "version": 3
   },
   "file_extension": ".py",
   "mimetype": "text/x-python",
   "name": "python",
   "nbconvert_exporter": "python",
   "pygments_lexer": "ipython3",
   "version": "3.8.16"
  },
  "orig_nbformat": 4
 },
 "nbformat": 4,
 "nbformat_minor": 2
}
