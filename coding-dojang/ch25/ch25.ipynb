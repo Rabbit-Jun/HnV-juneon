{
 "cells": [
  {
   "cell_type": "code",
   "execution_count": 25,
   "metadata": {},
   "outputs": [
    {
     "name": "stdout",
     "output_type": "stream",
     "text": [
      "{'a': 10, 'b': 20, 'c': 30, 'e': None}\n",
      "{'a': 10, 'b': 20, 'c': 30, 'e': None, 'f': 50}\n",
      "{'a': 10, 'b': 20, 'c': 30, 'e': 40, 'f': 50}\n",
      "{'a': 10, 'b': 20, 'c': 30, 'e': 40, 'f': 50, 'g': 60}\n",
      "{'a': 900, 'b': 20, 'c': 30, 'e': 40, 'f': 600, 'g': 60}\n",
      "{1: 'ONE', 2: 'two', 3: 'three'}\n",
      "{1: 'ONE', 2: 'TWO', 3: 'THREE'}\n",
      "{1: 'ONE', 2: 'TWO', 3: '삼', 4: '사'}\n",
      "{0: 'zero', 1: 'one', 2: 'two'}\n"
     ]
    }
   ],
   "source": [
    "#setdefault: 키-값 쌍 추가\n",
    "#update: 키의 값 수정, 키가 없으면 키-값 쌍 추가\n",
    "\n",
    "x = {'a':10, 'b':20, 'c':30}\n",
    "x.setdefault('e') \n",
    "#setdefault(키, 기본값)처럼 키와 기본값을 지정하면 값에 기본값을 저장한 뒤 해당 값을 반환, 키만 지정하면 값으로는 none을 저장\n",
    "print(x)\n",
    "\n",
    "x.setdefault('f',50)\n",
    "print(x)\n",
    "\n",
    "x.update(e=40) #키의 값을 수정한다\n",
    "print(x)\n",
    "\n",
    "x.update(g=60) #키가 없으면 값도 같이 추가\n",
    "print(x)\n",
    "\n",
    "x.update( a=900, f=600) #한번에 여러 개의 키-값 쌍 수정 가능\n",
    "print(x)\n",
    "\n",
    "y={1:'one', 2:'two', 3:'three'}\n",
    "y.update({1:'ONE'}) #키가 숫자일 경우 딕셔너리 형태로 수정해줘야 한다\n",
    "print(y)\n",
    "y.update({2:'TWO',3:'THREE'})\n",
    "print(y)\n",
    "\n",
    "y.update([[3,'삼'],[4,'사']]) #리스트(또는 튜플)형식을 빌려 딕셔너리를 수정할 수도 있음\n",
    "print(y)\n",
    "\n",
    "z={0:'zero'}\n",
    "z.update(zip([1,2],['one','two'])) #update(반복가능한 객체)는 키-값 쌍으로 된 반복 가능한 캑체로 값을 수정\n",
    "print(z)\n"
   ]
  },
  {
   "cell_type": "markdown",
   "metadata": {},
   "source": [
    "반복 가능한 객체(iterable)란, 여러 개의 요소를 차례대로 반환할 수 있는 객체를 말합니다. 대표적인 예로는 리스트, 튜플, 문자열, 딕셔너리 등이 있습니다. 이러한 객체들은 for문과 함께 사용할 수 있으며, 반복문을 통해 객체 내의 모든 요소에 접근할 수 있습니다. 예를 들어, 리스트와 for문을 사용하는 경우 다음과 같습니다.\n",
    "python\n",
    "fruits = ['사과', '바나나', '포도']\n",
    "for fruit in fruits:\n",
    "    print(fruit)"
   ]
  },
  {
   "cell_type": "code",
   "execution_count": 27,
   "metadata": {},
   "outputs": [
    {
     "name": "stdout",
     "output_type": "stream",
     "text": [
      "[(1, 'a'), (2, 'b'), (3, 'c')]\n"
     ]
    }
   ],
   "source": [
    "a=[1,2,3]\n",
    "b=['a','b','c']\n",
    "c=zip(a,b) #두 그룹의 데이터를 서로 엮어주는 내장 함수\n",
    "print(list(c))"
   ]
  },
  {
   "cell_type": "code",
   "execution_count": 32,
   "metadata": {},
   "outputs": [
    {
     "name": "stdout",
     "output_type": "stream",
     "text": [
      "10\n",
      "{'b': 20, 'c': 30, 'd': 40}\n",
      "해당 키 없음\n",
      "{'c': 30, 'd': 40}\n"
     ]
    }
   ],
   "source": [
    "x={'a':10, 'b':20, 'c':30, 'd':40}\n",
    "print(x.pop('a')) #특정 키-값 쌍을 삭제한 뒤 삭제한 값을 반환\n",
    "print(x)\n",
    "\n",
    "print(x.pop('h','해당 키 없음')) # 해당 키-값 쌍이 없을 때는 지정한 기본값 반환\n",
    "\n",
    "del x['b'] # 특정 키-값 쌍 삭제, 삭제한 값 반환 x\n",
    "print(x)\n",
    "\n",
    "#값을 반환한다는 것은, 함수나 메서드를 실행한 결과로서 어떤 값을 돌려주는 것을 의미합니다.\n"
   ]
  },
  {
   "cell_type": "code",
   "execution_count": 35,
   "metadata": {},
   "outputs": [
    {
     "name": "stdout",
     "output_type": "stream",
     "text": [
      "('d', 40)\n",
      "{}\n"
     ]
    }
   ],
   "source": [
    "x= {'a':10, 'b':20, 'c':30, 'd':40}\n",
    "print( x.popitem()) #마지막 키-값 쌍을 삭제하며 삭제한 키-값 쌍을 튜플로 반환\n",
    "\n",
    "x.clear() #딕셔너리의 모든 키-값 쌍을 삭제\n",
    "print(x)"
   ]
  }
 ],
 "metadata": {
  "kernelspec": {
   "display_name": "Python 3",
   "language": "python",
   "name": "python3"
  },
  "language_info": {
   "codemirror_mode": {
    "name": "ipython",
    "version": 3
   },
   "file_extension": ".py",
   "mimetype": "text/x-python",
   "name": "python",
   "nbconvert_exporter": "python",
   "pygments_lexer": "ipython3",
   "version": "3.8.16"
  },
  "orig_nbformat": 4
 },
 "nbformat": 4,
 "nbformat_minor": 2
}
