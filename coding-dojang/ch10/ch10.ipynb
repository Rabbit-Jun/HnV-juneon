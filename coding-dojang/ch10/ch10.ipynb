{
 "cells": [
  {
   "cell_type": "code",
   "execution_count": 4,
   "metadata": {},
   "outputs": [
    {
     "name": "stdout",
     "output_type": "stream",
     "text": [
      "[11, 22, 33, 44, 55]\n",
      "['juneon', 25, 178.7, True]\n",
      "[]\n"
     ]
    }
   ],
   "source": [
    "a= [11,22,33,44,55]\n",
    " #하나의 변수에 값 여러개를 저장, 리스트에 저장된 값을 요소라고 한다\n",
    "\n",
    "print(a)\n",
    "\n",
    "person =['juneon', 25, 178.7, True] # 하나의 리스트에 여러 타입의 값을 저장할 수 있다\n",
    "\n",
    "print(person)\n",
    "\n",
    "b=[] #빈 리스트 생성 가능\n",
    "print(b)"
   ]
  },
  {
   "cell_type": "code",
   "execution_count": 15,
   "metadata": {},
   "outputs": [
    {
     "name": "stdout",
     "output_type": "stream",
     "text": [
      "[0, 1, 2, 3, 4, 5, 6, 7, 8, 9]\n",
      "[5, 6, 7, 8, 9, 10]\n",
      "[-4, 0, 4, 8, 12, 16]\n",
      "[10, 9, 8, 7, 6, 5, 4, 3, 2, 1, 0]\n"
     ]
    }
   ],
   "source": [
    "range(10) #0부터 10-1 까지 연속되는 숫자 생성\n",
    "a=list(range(10))\n",
    "print(a)\n",
    "b=list(range(5,11)) #시작하는 숫자와 끝나는 숫자 정할 수 있음\n",
    "print(b)\n",
    "c= list(range(-4,17,4)) #range(시작,끝,증가폭)\n",
    "print(c)\n",
    "d= list(range(10,-1,-1))\n",
    " #증가폭 자리에 음수 지정하면 감소함, 끝나는 숫자는 한단계 전 단계 까지만 출력\n",
    "print(d)"
   ]
  },
  {
   "attachments": {},
   "cell_type": "markdown",
   "metadata": {},
   "source": [
    "읽기 전용 리스트== 튜플\n",
    "튜플=(값1,값2,값3)\n",
    "튜플=값1,값2,값3\n",
    "요소가 절대 변경되면 안될 때 사용한다"
   ]
  },
  {
   "cell_type": "code",
   "execution_count": 18,
   "metadata": {},
   "outputs": [
    {
     "name": "stdout",
     "output_type": "stream",
     "text": [
      "(11, 22, 33, 44)\n",
      "(55, 66, 77, 88)\n",
      "('juneon', 178.7, 25, True)\n"
     ]
    }
   ],
   "source": [
    "a=(11,22,33,44)\n",
    "print(a)\n",
    "b=55,66,77,88\n",
    "print(b)\n",
    "c='juneon',178.7,25,True #여러 자료형 저장 가능\n",
    "print(c)"
   ]
  },
  {
   "cell_type": "code",
   "execution_count": 21,
   "metadata": {},
   "outputs": [
    {
     "name": "stdout",
     "output_type": "stream",
     "text": [
      "38\n",
      "(38,)\n",
      "(38,)\n"
     ]
    }
   ],
   "source": [
    "a=(38) # 요소를 한개만 넣으면 그냥 값이 된다\n",
    "print(a)\n",
    "b=(38,) # ,를 넣어주면 튜플이 된다\n",
    "print(b)\n",
    "c=38, # 괄호 생략 가능\n",
    "print(c)"
   ]
  },
  {
   "cell_type": "code",
   "execution_count": 22,
   "metadata": {},
   "outputs": [
    {
     "name": "stdout",
     "output_type": "stream",
     "text": [
      "(0, 1, 2, 3, 4, 5, 6, 7, 8, 9)\n"
     ]
    }
   ],
   "source": [
    "a= tuple(range(10)) #튜플도 리스트처럼 range()사용해서 요소 채울수 있음\n",
    "print(a)"
   ]
  },
  {
   "cell_type": "code",
   "execution_count": 23,
   "metadata": {},
   "outputs": [
    {
     "data": {
      "text/plain": [
       "(1, 2, 3, 4)"
      ]
     },
     "execution_count": 23,
     "metadata": {},
     "output_type": "execute_result"
    }
   ],
   "source": [
    "a=[1,2,3,4]\n",
    "tuple(a) #리스트를 튜플로 바꿀 수 있다\n"
   ]
  },
  {
   "cell_type": "code",
   "execution_count": 24,
   "metadata": {},
   "outputs": [
    {
     "data": {
      "text/plain": [
       "[11, 22, 33, 44]"
      ]
     },
     "execution_count": 24,
     "metadata": {},
     "output_type": "execute_result"
    }
   ],
   "source": [
    "b=11,22,33,44\n",
    "list(b) #튜플을 리스트로 바꿀 수 있다\n"
   ]
  },
  {
   "cell_type": "code",
   "execution_count": 29,
   "metadata": {},
   "outputs": [
    {
     "name": "stdout",
     "output_type": "stream",
     "text": [
      "11\n",
      "<class 'int'>\n",
      "11\n",
      "<class 'int'>\n",
      "1\n"
     ]
    }
   ],
   "source": [
    "a,b,c =[11,22,33] \n",
    "#변수 여러개 만들 수 있다, 이 때 변수의 개수와 요소의 개수 같아야함\n",
    "print(a)\n",
    "print(type(a))\n",
    "x,y,z=(11,22,33) #튜플도 가능, 변수 개수 ==요소 개수\n",
    "print(x) \n",
    "print(type(x))\n",
    "\n",
    "s=[1,2,3]\n",
    "a,b,c=s # 이처럼 리스트 또는 튜플의 요소를 여러개의 변수에 할당하는 것을 언패킹이라 한다.\n",
    "print(a) "
   ]
  },
  {
   "cell_type": "code",
   "execution_count": 31,
   "metadata": {},
   "outputs": [
    {
     "name": "stdout",
     "output_type": "stream",
     "text": [
      "12 23 34\n"
     ]
    }
   ],
   "source": [
    "s= input('세개의 값을 입력해주세요:').split()\n",
    "a,b,c=s\n",
    "print(a,b,c)"
   ]
  },
  {
   "cell_type": "code",
   "execution_count": null,
   "metadata": {},
   "outputs": [],
   "source": [
    "a= [1,223,3] #변수에 리스트 할당하면 리스트 패킹\n",
    "b= (12,234,5)# 변수에 튜플 할당하면 튜플 패킹"
   ]
  },
  {
   "cell_type": "code",
   "execution_count": 35,
   "metadata": {},
   "outputs": [
    {
     "name": "stdout",
     "output_type": "stream",
     "text": [
      "range(-10, 10, 3)\n",
      "<class 'range'>\n"
     ]
    }
   ],
   "source": [
    "a = range(-10, 10, 3)\n",
    "print(a) #튜플이 아니다\n",
    "print(type(a))"
   ]
  },
  {
   "attachments": {},
   "cell_type": "markdown",
   "metadata": {},
   "source": [
    "표준 입력으로 정수가 입력됩니다. range의 시작하는 숫자는 -10, 끝나는 숫자는 10이며 입력된 정수만큼 증가하는 숫자가 들어가도록 튜플을 만들고, 해당 튜플을 출력하는 프로그램을 만드세요(input에서 안내 문자열은 출력하지 않아야 합니다)."
   ]
  },
  {
   "cell_type": "code",
   "execution_count": 44,
   "metadata": {},
   "outputs": [
    {
     "data": {
      "text/plain": [
       "(-10, -7, -4, -1, 2, 5, 8)"
      ]
     },
     "execution_count": 44,
     "metadata": {},
     "output_type": "execute_result"
    }
   ],
   "source": [
    "s=int(input())\n",
    "a=tuple(range(-10,10,s))\n",
    "a"
   ]
  }
 ],
 "metadata": {
  "kernelspec": {
   "display_name": "juneon",
   "language": "python",
   "name": "python3"
  },
  "language_info": {
   "codemirror_mode": {
    "name": "ipython",
    "version": 3
   },
   "file_extension": ".py",
   "mimetype": "text/x-python",
   "name": "python",
   "nbconvert_exporter": "python",
   "pygments_lexer": "ipython3",
   "version": "3.8.16"
  },
  "orig_nbformat": 4
 },
 "nbformat": 4,
 "nbformat_minor": 2
}
