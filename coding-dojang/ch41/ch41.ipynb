{
 "cells": [
  {
   "cell_type": "code",
   "execution_count": 1,
   "metadata": {},
   "outputs": [
    {
     "name": "stdout",
     "output_type": "stream",
     "text": [
      "3\n",
      "add 함수\n",
      "calc 함수\n"
     ]
    }
   ],
   "source": [
    "def add(a, b):\n",
    "    c = a + b    # add 함수가 끝나면 변수와 계산식은 사라짐\n",
    "    print(c)\n",
    "    print('add 함수')\n",
    " \n",
    "def calc():\n",
    "    add(1, 2)    # add 함수가 끝나면 다시 calc 함수로 돌아옴\n",
    "    print('calc 함수')\n",
    " \n",
    "calc()\n",
    "\n",
    "# calc가 메인 루틴(main routine)이면 add는 calc의 서브 루틴(sub routine)입니다. "
   ]
  },
  {
   "cell_type": "markdown",
   "metadata": {},
   "source": [
    "메인 루틴에서 서브 루틴을 호출하면 서브 루틴의 코드를 실행한 뒤 다시 메인 루틴으로 돌아옵니다. 특히 서브 루틴이 끝나면 서브 루틴의 내용은 모두 사라집니다. 즉, 서브 루틴은 메인 루틴에 종속된 관계입니다."
   ]
  },
  {
   "cell_type": "markdown",
   "metadata": {},
   "source": [
    "코루틴(coroutine)은 cooperative routine를 의미하는데 서로 협력하는 루틴이라는 뜻입니다. 즉, 메인 루틴과 서브 루틴처럼 종속된 관계가 아니라 서로 대등한 관계이며 특정 시점에 상대방의 코드를 실행합니다.\n",
    "\n",
    "\n",
    "일반 함수를 호출하면 코드를 한 번만 실행할 수 있지만, 코루틴은 코드를 여러 번 실행할 수 있습니다. 참고로 함수의 코드를 실행하는 지점을 진입점(entry point)이라고 하는데, 코루틴은 진입점이 여러 개인 함수입니다."
   ]
  },
  {
   "cell_type": "code",
   "execution_count": 2,
   "metadata": {},
   "outputs": [
    {
     "name": "stdout",
     "output_type": "stream",
     "text": [
      "1\n",
      "2\n",
      "3\n"
     ]
    }
   ],
   "source": [
    "def number_coroutine():\n",
    "    while True:        # 코루틴을 계속 유지하기 위해 무한 루프 사용\n",
    "        x = (yield)    # 코루틴 바깥에서 값을 받아옴, yield를 괄호로 묶어야 함\n",
    "        print(x)\n",
    " \n",
    "co = number_coroutine()\n",
    "next(co)      # 코루틴 안의 yield까지 코드 실행(최초 실행)\n",
    " \n",
    "co.send(1)    # 코루틴에 숫자 1을 보냄\n",
    "co.send(2)    # 코루틴에 숫자 2을 보냄\n",
    "co.send(3)    # 코루틴에 숫자 3을 보냄"
   ]
  },
  {
   "cell_type": "markdown",
   "metadata": {},
   "source": [
    "코루틴은 제너레이터의 특별한 형태입니다. 제너레이터는 yield로 값을 발생시켰지만 코루틴은 yield로 값을 받아올 수 있습니다. 다음과 같이 코루틴에 값을 보내면서 코드를 실행할 때는 send 메서드를 사용합니다. 그리고 send 메서드가 보낸 값을 받아오려면 (yield) 형식으로 yield를 괄호로 묶어준 뒤 변수에 저장합니다.\n",
    "\n",
    "코루틴객체.send(값)\n",
    "변수 = (yield)"
   ]
  },
  {
   "cell_type": "code",
   "execution_count": 3,
   "metadata": {},
   "outputs": [
    {
     "name": "stdout",
     "output_type": "stream",
     "text": [
      "0\n",
      "1\n",
      "3\n",
      "6\n"
     ]
    }
   ],
   "source": [
    "def sum_coroutine():\n",
    "    total = 0\n",
    "    while True:\n",
    "        x = (yield total)    # 코루틴 바깥에서 값을 받아오면서 바깥으로 값을 전달\n",
    "        total += x\n",
    " \n",
    "co = sum_coroutine()\n",
    "print(next(co))      # 0: 코루틴 안의 yield까지 코드를 실행하고 코루틴에서 나온 값 출력\n",
    " \n",
    "print(co.send(1))    # 1: 코루틴에 숫자 1을 보내고 코루틴에서 나온 값 출력\n",
    "print(co.send(2))    # 3: 코루틴에 숫자 2를 보내고 코루틴에서 나온 값 출력\n",
    "print(co.send(3))    # 6: 코루틴에 숫자 3을 보내고 코루틴에서 나온 값 출력"
   ]
  },
  {
   "cell_type": "markdown",
   "metadata": {},
   "source": [
    "(yield 변수) 형식으로 yield에 변수를 지정한 뒤 괄호로 묶어주면 값을 받아오면서 바깥으로 값을 전달합니다. 그리고 yield를 사용하여 바깥으로 전달한 값은 next 함수(__next__ 메서드)와 send 메서드의 반환값으로 나옵니다.\n",
    "\n",
    "변수 = (yield 변수)\n",
    "변수 = next(코루틴객체)\n",
    "변수 = 코루틴객체.send(값)"
   ]
  },
  {
   "cell_type": "code",
   "execution_count": 4,
   "metadata": {},
   "outputs": [
    {
     "name": "stdout",
     "output_type": "stream",
     "text": [
      "0 1 2 3 4 5 6 7 8 9 10 11 12 13 14 15 16 17 18 19 "
     ]
    }
   ],
   "source": [
    "def number_coroutine():\n",
    "    while True:\n",
    "        x = (yield)\n",
    "        print(x, end=' ')\n",
    " \n",
    "co = number_coroutine()\n",
    "next(co)\n",
    " \n",
    "for i in range(20):\n",
    "    co.send(i)\n",
    " \n",
    "co.close()    # 코루틴 종료"
   ]
  },
  {
   "cell_type": "markdown",
   "metadata": {},
   "source": [
    "만약 코루틴을 강제로 종료하고 싶다면 close 메서드를 사용합니다.\n",
    "\n",
    "코루틴객체.close()\n",
    "\n",
    "\n",
    "사실 파이썬 스크립트가 끝나면 코루틴도 끝나기 때문에 close를 사용하지 않은 것과 별 차이가 없습니다. 하지만 close는 코루틴의 종료 시점을 알아야 할 때 사용하면 편리합니다"
   ]
  },
  {
   "cell_type": "code",
   "execution_count": 5,
   "metadata": {},
   "outputs": [
    {
     "name": "stdout",
     "output_type": "stream",
     "text": [
      "0 1 2 3 4 5 6 7 8 9 10 11 12 13 14 15 16 17 18 19 \n",
      "코루틴 종료\n"
     ]
    }
   ],
   "source": [
    "def number_coroutine():\n",
    "    try:\n",
    "        while True:\n",
    "            x = (yield)\n",
    "            print(x, end=' ')\n",
    "    except GeneratorExit:    # 코루틴이 종료 될 때 GeneratorExit 예외 발생\n",
    "        print()\n",
    "        print('코루틴 종료')\n",
    " \n",
    "co = number_coroutine()\n",
    "next(co)\n",
    " \n",
    "for i in range(20):\n",
    "    co.send(i)\n",
    " \n",
    "co.close()\n",
    "\n",
    "#코루틴 객체에서 close 메서드를 호출하면 코루틴이 종료될 때 GeneratorExit 예외가 발생합니다. 따라서 이 예외를 처리하면 코루틴의 종료 시점을 알 수 있습니다"
   ]
  },
  {
   "cell_type": "code",
   "execution_count": 6,
   "metadata": {},
   "outputs": [
    {
     "name": "stdout",
     "output_type": "stream",
     "text": [
      "예외로 코루틴 끝내기\n",
      "190\n"
     ]
    }
   ],
   "source": [
    "def sum_coroutine():\n",
    "    try:\n",
    "        total = 0\n",
    "        while True:\n",
    "            x = (yield)\n",
    "            total += x\n",
    "    except RuntimeError as e:\n",
    "        print(e)\n",
    "        yield total    # 코루틴 바깥으로 값 전달\n",
    " \n",
    "co = sum_coroutine()\n",
    "next(co)\n",
    " \n",
    "for i in range(20):\n",
    "    co.send(i)\n",
    " \n",
    "print(co.throw(RuntimeError, '예외로 코루틴 끝내기')) # 190\n",
    "                                                      # 코루틴의 except에서 yield로 전달받은 값"
   ]
  },
  {
   "cell_type": "markdown",
   "metadata": {},
   "source": [
    "코루틴 안에 예외를 발생 시킬 때는 throw 메서드를 사용합니다. throw는 말그대로 던지다라는 뜻인데 예외를 코루틴 안으로 던집니다. 이때 throw 메서드에 지정한 에러 메시지는 except as의 변수에 들어갑니다.\n",
    "\n",
    "코루틴객체.throw(예외이름, 에러메시지)"
   ]
  },
  {
   "cell_type": "code",
   "execution_count": 7,
   "metadata": {},
   "outputs": [
    {
     "name": "stdout",
     "output_type": "stream",
     "text": [
      "55\n",
      "5050\n"
     ]
    }
   ],
   "source": [
    "def accumulate():\n",
    "    total = 0\n",
    "    while True:\n",
    "        x = (yield)         # 코루틴 바깥에서 값을 받아옴\n",
    "        if x is None:       # 받아온 값이 None이면\n",
    "            return total    # 합계 total을 반환\n",
    "        total += x\n",
    " \n",
    "def sum_coroutine():\n",
    "    while True:\n",
    "        total = yield from accumulate()    \n",
    "        # accumulate의 반환값을 가져옴, \n",
    "        # 코루틴에서 yield from을 사용하면 코루틴 바깥에서 send로 하위 코루틴까지 값을 보낼 수 있습니다. 따라서 co = sum_coroutine()으로 코루틴 객체를 만든 뒤 co.send로 값을 보내면 accumulate에서 값을 받습니다.\n",
    "        print(total)\n",
    " \n",
    "co = sum_coroutine()\n",
    "next(co)\n",
    " \n",
    "for i in range(1, 11):    # 1부터 10까지 반복\n",
    "    co.send(i)            # 코루틴 accumulate에 숫자를 보냄\n",
    "co.send(None)             # 코루틴 accumulate에 None을 보내서 숫자 누적을 끝냄\n",
    " \n",
    "for i in range(1, 101):   # 1부터 100까지 반복\n",
    "    co.send(i)            # 코루틴 accumulate에 숫자를 보냄\n",
    "co.send(None)             # 코루틴 accumulate에 None을 보내서 숫자 누적을 끝냄"
   ]
  },
  {
   "cell_type": "markdown",
   "metadata": {},
   "source": [
    "yield from에 코루틴를 지정하면 해당 코루틴에서 return으로 반환한 값을 가져옵니다(yield from은 파이썬 3.3 이상부터 사용 가능)\n",
    "\n",
    "변수 = yield from 코루틴()"
   ]
  },
  {
   "cell_type": "code",
   "execution_count": null,
   "metadata": {},
   "outputs": [],
   "source": [
    "def number_coroutine():\n",
    "    x = None\n",
    "    while True:\n",
    "        x = (yield x)    # 코루틴 바깥에서 값을 받아오면서 바깥으로 값을 전달\n",
    "        if x == 3:\n",
    "            return x\n",
    " \n",
    "def print_coroutine():\n",
    "    while True:\n",
    "        x = yield from number_coroutine()   # 하위 코루틴의 yield에 지정된 값을 다시 바깥으로 전달\n",
    "        print('print_coroutine:', x)\n",
    " \n",
    "co = print_coroutine()\n",
    "next(co)\n",
    " \n",
    "x = co.send(1)    # number_coroutine으로 1을 보냄\n",
    "print(x)          # 1: number_coroutine의 yield에서 바깥으로 전달한 값\n",
    "x = co.send(2)    # number_coroutine으로 2를 보냄\n",
    "print(x)          # 2: number_coroutine의 yield에서 바깥으로 전달한 값\n",
    "co.send(3)        # 3을 보내서 반환값을 출력하도록 만듦"
   ]
  },
  {
   "cell_type": "markdown",
   "metadata": {},
   "source": [
    "다음 소스 코드를 완성하여 문자열에서 특정 단어가 있으면 True, 없으면 False가 출력되게 만드세요. find 함수는 코루틴으로 작성해야 합니다.\n",
    "\n",
    "practice_coroutine.py\n",
    "                                 \n",
    "...\n",
    "                                 \n",
    " \n",
    "f = find('Python')\n",
    "next(f)\n",
    " \n",
    "print(f.send('Hello, Python!'))\n",
    "print(f.send('Hello, world!'))\n",
    "print(f.send('Python Script'))\n",
    " \n",
    "f.close()\n",
    "\n",
    "실행 결과\n",
    "True\n",
    "False\n",
    "True"
   ]
  },
  {
   "cell_type": "code",
   "execution_count": 8,
   "metadata": {},
   "outputs": [
    {
     "name": "stdout",
     "output_type": "stream",
     "text": [
      "True\n",
      "False\n",
      "True\n"
     ]
    }
   ],
   "source": [
    "def find(word):\n",
    "    result = False\n",
    "    while True:\n",
    "        line = (yield result)\n",
    "        result = word in line   \n",
    "\n",
    "f = find('Python')\n",
    "next(f)\n",
    " \n",
    "print(f.send('Hello, Python!'))\n",
    "print(f.send('Hello, world!'))\n",
    "print(f.send('Python Script'))\n",
    " \n",
    "f.close()"
   ]
  },
  {
   "cell_type": "markdown",
   "metadata": {},
   "source": [
    "표준 입력으로 사칙연산 계산식이 여러 개 입력됩니다. 다음 소스 코드에서 각 계산식의 결과를 구하는 코루틴을 만드세요. 계산식은 문자열 형태이며 값과 연산자는 공백으로 구분됩니다. 그리고 값은 정수로 변환하여 사용하고, 나눗셈은 / 연산자를 사용하세요.\n",
    "\n",
    "judge_coroutine.py\n",
    "________________\n",
    "________________\n",
    "________________\n",
    "________________\n",
    "________________\n",
    "________________\n",
    "________________\n",
    "________________\n",
    "________________\n",
    "________________\n",
    "________________\n",
    "________________\n",
    "________________\n",
    "\n",
    "expressions = input().split(', ')\n",
    " \n",
    "c = calc()\n",
    "next(c)\n",
    " \n",
    "for e in expressions:\n",
    "    print(c.send(e))\n",
    " \n",
    "c.close()\n",
    "\n",
    "예\n",
    "\n",
    "입력\n",
    "1 + 2, 4 - 9\n",
    "\n",
    "결과\n",
    "3\n",
    "-5\n",
    "\n",
    "입력\n",
    "3 * 4, 10 / 5, 20 + 39\n",
    "\n",
    "결과\n",
    "12\n",
    "2.0\n",
    "59"
   ]
  },
  {
   "cell_type": "code",
   "execution_count": null,
   "metadata": {},
   "outputs": [],
   "source": [
    "def calc():\n",
    "    x = None\n",
    "    while True:\n",
    "        x = (yield x)   \n",
    "        if x == 3:\n",
    "            return x\n",
    "    \n",
    "\n",
    "expressions = input().split(', ')\n",
    " \n",
    "c = calc()\n",
    "next(c)\n",
    " \n",
    "for e in expressions:\n",
    "    print(c.send(e))\n",
    " \n",
    "c.close()"
   ]
  }
 ],
 "metadata": {
  "kernelspec": {
   "display_name": "jun",
   "language": "python",
   "name": "python3"
  },
  "language_info": {
   "codemirror_mode": {
    "name": "ipython",
    "version": 3
   },
   "file_extension": ".py",
   "mimetype": "text/x-python",
   "name": "python",
   "nbconvert_exporter": "python",
   "pygments_lexer": "ipython3",
   "version": "3.10.13"
  },
  "orig_nbformat": 4
 },
 "nbformat": 4,
 "nbformat_minor": 2
}
