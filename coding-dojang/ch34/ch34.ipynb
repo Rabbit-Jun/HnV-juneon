{
 "cells": [
  {
   "cell_type": "markdown",
   "metadata": {},
   "source": [
    "기사, 마법사, 궁수, 사제, 집, 자동차, 나무, 스크롤 바, 버튼, 체크 박스처럼 특정한 개념이나 모양으로 존재하는 것을 객체(object)라고 부릅니다. 그리고 프로그래밍으로 객체를 만들 때 사용하는 것이 클래스입니다.\n",
    "\n",
    "그럼 게임의 기사 캐릭터를 클래스로 표현하려면 무엇이 필요할까요? 간단합니다. 일단 게임 캐릭터는 체력, 마나, 물리 공격력, 주문력 등이 필요합니다. 그리고 기사 캐릭터는 칼로 베기, 찌르기 등의 스킬이 있어야 합니다.\n",
    "\n",
    "여기서 체력, 마나, 물리 공격력, 주문력 등의 데이터를 클래스의 속성(attribute)이라 부르고, 베기, 찌르기 등의 기능을 메서드(method)라고 부릅니다.\n",
    "\n",
    "\n",
    "이러한 프로그래밍 방법을 객체지향(object oriented) 프로그래밍이라고 합니다. 객체지향 프로그래밍은 복잡한 문제를 잘게 나누어 객체로 만들고, 객체를 조합해서 문제를 해결합니다."
   ]
  },
  {
   "cell_type": "code",
   "execution_count": 4,
   "metadata": {},
   "outputs": [
    {
     "name": "stdout",
     "output_type": "stream",
     "text": [
      "Hello\n"
     ]
    }
   ],
   "source": [
    "class person: #class 클래스 이름\n",
    "    def greeting(self): #def 메서드(self):\n",
    "        print('Hello')\n",
    "\n",
    "jon =person() #인스턴스 =클래스(), jon이 person의 인스턴스\n",
    "jon.greeting() #메서드는 인스턴스를 통해 호출된다, 이렇게 인스턴스를 통해 호출하는 메서드를 인스턴스 메서드라고 한다\n",
    "\n"
   ]
  },
  {
   "cell_type": "markdown",
   "metadata": {},
   "source": [
    "34.1.2  파이썬에서 흔히 볼 수 있는 클래스\n",
    "지금까지 사용한 int, list, dict 등도 사실 클래스입니다. 우리는 이 클래스로 인스턴스를 만들고 메서드를 사용했습니다.\n",
    "\n",
    ">>> a = int(10)\n",
    ">>> a\n",
    "10\n",
    ">>> b = list(range(10))\n",
    ">>> b\n",
    "[0, 1, 2, 3, 4, 5, 6, 7, 8, 9]\n",
    ">>> c = dict(x=10, y=20)\n",
    ">>> c\n",
    "{'x': 10, 'y': 20}\n",
    "int 클래스에 10을 넣어서 인스턴스 a를 만들었습니다. 마찬가지로 list 클래스에 range(10)을 넣어서 인스턴스 b를 만들고, dict 클래스에 x=10, y=20을 넣어서 인스턴스 c를 만들었습니다. 잘 보면 Person으로 인스턴스를 만드는 방법과 똑같습니다.\n",
    "\n",
    "물론 정수는 매우 자주 사용하므로 int를 생략하고 10을 바로 넣습니다. 그리고 리스트와 딕셔너리도 자주 사용하므로 축약된 문법인 [ ]과 { }를 제공하지만 클래스인 것은 같습니다.\n",
    "\n",
    "다음과 같이 리스트를 조작할 때 메서드를 사용했었죠? 인스턴스 b에서 메서드 append를 호출해서 값을 추가합니다. 이 부분도 지금까지 메서드를 만들고 사용한 것과 같은 방식입니다.\n",
    "\n",
    ">>> b = list(range(10))\n",
    ">>> b.append(20)\n",
    ">>> b\n",
    "[0, 1, 2, 3, 4, 5, 6, 7, 8, 9, 20]\n",
    "즉, 파이썬에서는 자료형도 클래스입니다. 다음과 같이 type을 사용하면 객체(인스턴스)가 어떤 클래스인지 확인할 수 있습니다.\n",
    "\n",
    "type(객체)\n",
    ">>> a = 10\n",
    ">>> type(a)\n",
    "<class 'int'>\n",
    ">>> b = [0, 1, 2]\n",
    ">>> type(b)\n",
    "<class 'list'>\n",
    ">>> c = {'x':10, 'y':20}\n",
    ">>> type(c)\n",
    "<class 'dict'>\n",
    ">>> maria = Person()\n",
    ">>> type(maria)\n",
    "<class '__main__.Person'>"
   ]
  },
  {
   "cell_type": "code",
   "execution_count": 5,
   "metadata": {},
   "outputs": [],
   "source": [
    "#객체와 인스턴스는 같은 말\n",
    "#보통 객체만 지칭할 때는 그냥 객체라고 하고 클래스와 연관지어 말할 때는 인스턴스라고 한다\n",
    "\n",
    "a= list(range(10)) #a는 객체라고도 하며 list클래스의 인스턴스라고도 한다\n"
   ]
  },
  {
   "cell_type": "code",
   "execution_count": 6,
   "metadata": {},
   "outputs": [],
   "source": [
    "class Person:\n",
    "    pass #빈 클래스 만들기\n"
   ]
  },
  {
   "cell_type": "code",
   "execution_count": 12,
   "metadata": {},
   "outputs": [
    {
     "name": "stdout",
     "output_type": "stream",
     "text": [
      "Hello\n"
     ]
    }
   ],
   "source": [
    "class Person:\n",
    "    def greeting(self):\n",
    "        print('Hello')\n",
    " \n",
    "    def hello(self):\n",
    "        self.greeting()    # self.메서드() 형식으로 클래스 안의 메서드를 호출\n",
    "\n",
    "james = Person()\n",
    "james.hello()    # Hello\n",
    "\n",
    "\n",
    "#메서드 안에서 메서드를 호출할 때는 self.메서드() 형식으로 호출\n",
    "#self 없이 메서드 이름만 사용하면 클래스 바깥쪽에 있는 함수를 호출\n"
   ]
  },
  {
   "cell_type": "code",
   "execution_count": 8,
   "metadata": {},
   "outputs": [
    {
     "data": {
      "text/plain": [
       "True"
      ]
     },
     "execution_count": 8,
     "metadata": {},
     "output_type": "execute_result"
    }
   ],
   "source": [
    "class per:\n",
    "    pass\n",
    "jon =per()\n",
    "isinstance(jon,per) # isinstance(인스턴스,클래스) ,특정 클래스의 인스턴스가 맞으면 True반환\n"
   ]
  },
  {
   "cell_type": "code",
   "execution_count": null,
   "metadata": {},
   "outputs": [],
   "source": [
    "def factorial(n):\n",
    "    if not isinstance(n, int) or n < 0:    # n이 정수가 아니거나 음수이면 함수를 끝냄\n",
    "        return None\n",
    "    if n == 1:\n",
    "        return 1\n",
    "    return n * factorial(n - 1)"
   ]
  },
  {
   "cell_type": "code",
   "execution_count": 46,
   "metadata": {},
   "outputs": [
    {
     "name": "stdout",
     "output_type": "stream",
     "text": [
      "안녕하세요\n"
     ]
    }
   ],
   "source": [
    "#속성을 만들때는 __init__메서드 안에서 self.속성에 값을 할당\n",
    "\n",
    "class per:\n",
    "    def __init__(self): #self에 들어가는 값은 per()\n",
    "    # __init__는 메서드는 인스턴스를 만들 때 호출되는 특별한 메서드, __init__(initialize)라는 이름대로 인스턴스(객체)를 초기화\n",
    "    # 앞 뒤로__가 붙은 메서드는 파이썬이 자동으로 호출해주는 메서드인데 스페셜 메서드 또는 매직 메서드라고 부른다\n",
    "        self.hello = '안녕하세요'\n",
    "\n",
    "    def greeting(self): #여기 self에는 jun이 값으로 들어간다\n",
    "        print(self.hello) # 클래스 안에서 속성을 사용할 때도 self.hello처럼 self에 점을 붙여서 사용하면 됩니다.\n",
    "\n",
    "jun =per()\n",
    "jun.greeting() \n",
    "\n",
    "#self는 인스턴스 자기 자신을 의미\n",
    "#self.hello='hi' 처럼 자기 자신에 속성을 추가"
   ]
  },
  {
   "cell_type": "markdown",
   "metadata": {},
   "source": [
    "이번에는 클래스로 인스턴스를 만들 때 값을 받는 방법을 알아보겠습니다. 다음과 같이 __init__ 메서드에서 self 다음에 값을 받을 매개변수를 지정합니다. 그리고 매개변수를 self.속성에 넣어줍니다.\n",
    "\n",
    "class 클래스이름:\n",
    "    def __init__(self, 매개변수1, 매개변수2):\n",
    "        self.속성1 = 매개변수1\n",
    "        self.속성2 = 매개변수2"
   ]
  },
  {
   "cell_type": "code",
   "execution_count": 13,
   "metadata": {},
   "outputs": [
    {
     "name": "stdout",
     "output_type": "stream",
     "text": [
      "hello im maria\n",
      "\n",
      "name:  maria\n",
      "age:  20\n",
      "address:  soul korea\n"
     ]
    }
   ],
   "source": [
    "class per:\n",
    "    def __init__(self, name, age, address):\n",
    "        self.hello=\"hello\"\n",
    "        self.name=name\n",
    "        self.age=age\n",
    "        self.address=address\n",
    "    \n",
    "    def greeting(self):\n",
    "        print('{} im {}'.format(self.hello, self.name))\n",
    "\n",
    "maria =per('maria',20,'soul korea')\n",
    "maria.greeting()\n",
    "print()\n",
    "\n",
    "print('name: ',maria.name) #클래스 바깥에서 속성에 접근할 때는 인스턴스.속성 형식으로 접근합니다, 인스턴스를 통해 접근하는 속성을 인스턴스 속성이라 한다\n",
    "print('age: ', maria.age)\n",
    "print('address: ', maria.address)"
   ]
  },
  {
   "cell_type": "code",
   "execution_count": 15,
   "metadata": {},
   "outputs": [
    {
     "name": "stdout",
     "output_type": "stream",
     "text": [
      "age:  20\n",
      "address:  서울시 서초구 반포동\n"
     ]
    }
   ],
   "source": [
    "class Person:\n",
    "    def __init__(self, *args):\n",
    "        self.name = args[0]\n",
    "        self.age = args[1]\n",
    "        self.address = args[2]\n",
    " \n",
    "maria = Person(*['마리아', 20, '서울시 서초구 반포동'])\n",
    "\n",
    "print('age: ', maria.age)\n",
    "print('address: ', maria.address)\n"
   ]
  },
  {
   "cell_type": "code",
   "execution_count": 19,
   "metadata": {},
   "outputs": [],
   "source": [
    "class Person:\n",
    "    def __init__(self, **kwargs):    # 키워드 인수\n",
    "        self.name = kwargs['name']\n",
    "        self.age = kwargs['age']\n",
    "        self.address = kwargs['address']\n",
    " \n",
    "maria1 = Person(name='마리아', age=20, address='서울시 서초구 반포동')\n",
    "maria2 = Person(**{'name': '마리아', 'age': 20, 'address': '서울시 서초구 반포동'})\n"
   ]
  },
  {
   "cell_type": "code",
   "execution_count": 44,
   "metadata": {},
   "outputs": [
    {
     "name": "stdout",
     "output_type": "stream",
     "text": [
      "['마리아', 20, '서울시 서초구 반포동']\n"
     ]
    }
   ],
   "source": [
    "a={'name': '마리아', 'age': 20, 'address': '서울시 서초구 반포동'}\n",
    "def b(**a):\n",
    "    print([i for i in a.values()])\n",
    "b(**a)"
   ]
  },
  {
   "cell_type": "code",
   "execution_count": 51,
   "metadata": {},
   "outputs": [
    {
     "data": {
      "text/plain": [
       "'hi'"
      ]
     },
     "execution_count": 51,
     "metadata": {},
     "output_type": "execute_result"
    }
   ],
   "source": [
    "class per:\n",
    "    def greeting(self):\n",
    "        self.hello='hi'\n",
    "mari=per()\n",
    "mari.name ='마리아' #클래스로 인스턴스를 만든 뒤에도 인스턴스.속성 = 값 형식으로 속성을 계속 추가할 수 있습니다(__init__에 추가됨)\n",
    "mari.name #이렇게 추가한 속성은 해당 인스턴스에만 생성됩니다. amy=per()     amy.name 하면 에러 뜸\n",
    "mari.greeting()\n",
    "mari.hello #인스턴스에 메서드 추가, 단 해당 메서드를 먼저 호출해야 한다\n"
   ]
  },
  {
   "cell_type": "code",
   "execution_count": 52,
   "metadata": {},
   "outputs": [
    {
     "ename": "AttributeError",
     "evalue": "'per' object has no attribute 'address'",
     "output_type": "error",
     "traceback": [
      "\u001b[1;31m---------------------------------------------------------------------------\u001b[0m",
      "\u001b[1;31mAttributeError\u001b[0m                            Traceback (most recent call last)",
      "\u001b[1;32mc:\\Users\\junun\\OneDrive\\document\\hnv-juneon\\coding-dojang\\ch34\\ch34.ipynb Cell 16\u001b[0m in \u001b[0;36m<cell line: 8>\u001b[1;34m()\u001b[0m\n\u001b[0;32m      <a href='vscode-notebook-cell:/c%3A/Users/junun/OneDrive/document/hnv-juneon/coding-dojang/ch34/ch34.ipynb#X23sZmlsZQ%3D%3D?line=5'>6</a>\u001b[0m ma\u001b[39m.\u001b[39mname\u001b[39m=\u001b[39m\u001b[39m'\u001b[39m\u001b[39mma\u001b[39m\u001b[39m'\u001b[39m\n\u001b[0;32m      <a href='vscode-notebook-cell:/c%3A/Users/junun/OneDrive/document/hnv-juneon/coding-dojang/ch34/ch34.ipynb#X23sZmlsZQ%3D%3D?line=6'>7</a>\u001b[0m ma\u001b[39m.\u001b[39mage\u001b[39m=\u001b[39m\u001b[39m20\u001b[39m\n\u001b[1;32m----> <a href='vscode-notebook-cell:/c%3A/Users/junun/OneDrive/document/hnv-juneon/coding-dojang/ch34/ch34.ipynb#X23sZmlsZQ%3D%3D?line=7'>8</a>\u001b[0m ma\u001b[39m.\u001b[39;49maddress\u001b[39m=\u001b[39m\u001b[39m'\u001b[39m\u001b[39mbusan\u001b[39m\u001b[39m'\u001b[39m\n",
      "\u001b[1;31mAttributeError\u001b[0m: 'per' object has no attribute 'address'"
     ]
    }
   ],
   "source": [
    "class per:\n",
    "\n",
    "    __slots__ =['name','age'] #name,age만 허용( 다른 속성은 생성 제한)\n",
    "\n",
    "ma =per()\n",
    "ma.name='ma'\n",
    "ma.age=20\n",
    "ma.address='busan' #허용되지 않은 속성은 추가할 때 에러 발생"
   ]
  },
  {
   "cell_type": "code",
   "execution_count": 53,
   "metadata": {},
   "outputs": [
    {
     "ename": "AttributeError",
     "evalue": "'per' object has no attribute '__age'",
     "output_type": "error",
     "traceback": [
      "\u001b[1;31m---------------------------------------------------------------------------\u001b[0m",
      "\u001b[1;31mAttributeError\u001b[0m                            Traceback (most recent call last)",
      "\u001b[1;32mc:\\Users\\junun\\OneDrive\\document\\hnv-juneon\\coding-dojang\\ch34\\ch34.ipynb Cell 17\u001b[0m in \u001b[0;36m<cell line: 7>\u001b[1;34m()\u001b[0m\n\u001b[0;32m      <a href='vscode-notebook-cell:/c%3A/Users/junun/OneDrive/document/hnv-juneon/coding-dojang/ch34/ch34.ipynb#X24sZmlsZQ%3D%3D?line=3'>4</a>\u001b[0m         \u001b[39mself\u001b[39m\u001b[39m.\u001b[39m__age\u001b[39m=\u001b[39mage \u001b[39m#비공개 속성, 클래스 안에서만 사용할 수 있다 , self.__속성=값\u001b[39;00m\n\u001b[0;32m      <a href='vscode-notebook-cell:/c%3A/Users/junun/OneDrive/document/hnv-juneon/coding-dojang/ch34/ch34.ipynb#X24sZmlsZQ%3D%3D?line=5'>6</a>\u001b[0m mari\u001b[39m=\u001b[39mper(\u001b[39m'\u001b[39m\u001b[39mmaria\u001b[39m\u001b[39m'\u001b[39m,\u001b[39m20\u001b[39m)\n\u001b[1;32m----> <a href='vscode-notebook-cell:/c%3A/Users/junun/OneDrive/document/hnv-juneon/coding-dojang/ch34/ch34.ipynb#X24sZmlsZQ%3D%3D?line=6'>7</a>\u001b[0m mari\u001b[39m.\u001b[39m__age \u001b[39m+\u001b[39m\u001b[39m=\u001b[39m\u001b[39m4\u001b[39m\n",
      "\u001b[1;31mAttributeError\u001b[0m: 'per' object has no attribute '__age'"
     ]
    }
   ],
   "source": [
    "class per:\n",
    "    def __init__(self,name,age):\n",
    "        self.name =name\n",
    "        self.__age=age #비공개 속성, 클래스 안에서만 사용할 수 있다 , self.__속성=값\n",
    "\n",
    "mari=per('maria',20)\n",
    "mari.__age +=4 #class 바깥에서 비공개 속성에 접근하면 에러 발생\n",
    "\n"
   ]
  },
  {
   "cell_type": "code",
   "execution_count": 54,
   "metadata": {},
   "outputs": [
    {
     "name": "stdout",
     "output_type": "stream",
     "text": [
      "your age24\n"
     ]
    }
   ],
   "source": [
    "class per:\n",
    "    def __init__(self,name,age):\n",
    "        self.name =name\n",
    "        self.__age=age\n",
    "\n",
    "    def plus(self,year):\n",
    "        self.__age += year #비공개 속성은 클래스 안의 메서드에서만 접근 가능\n",
    "        print('your age{}'.format(self.__age))\n",
    "    \n",
    "mari=per('maria',20)\n",
    "mari.plus(4)"
   ]
  },
  {
   "cell_type": "code",
   "execution_count": 55,
   "metadata": {},
   "outputs": [],
   "source": [
    "class per:\n",
    "    def __init__(self,name,age):\n",
    "        self.name =name\n",
    "        self.__age=age\n",
    "\n",
    "    def plus(self,year):\n",
    "        if 20 > self.__age: #성인인지 확인\n",
    "            print('adult')\n",
    "            return\n",
    "        self.__age +=year #나이 +1\n",
    "\n",
    "jun=per('juneon',24)\n",
    "jun.plus(0)\n",
    "\n",
    "#중요한 값인데 바깥에서 함부로 바꾸면 안될 때 비공개 속성을 주로 사용합니다"
   ]
  },
  {
   "cell_type": "code",
   "execution_count": 56,
   "metadata": {},
   "outputs": [
    {
     "ename": "AttributeError",
     "evalue": "'Person' object has no attribute '__greeting'",
     "output_type": "error",
     "traceback": [
      "\u001b[1;31m---------------------------------------------------------------------------\u001b[0m",
      "\u001b[1;31mAttributeError\u001b[0m                            Traceback (most recent call last)",
      "\u001b[1;32mc:\\Users\\junun\\OneDrive\\document\\hnv-juneon\\coding-dojang\\ch34\\ch34.ipynb Cell 20\u001b[0m in \u001b[0;36m<cell line: 9>\u001b[1;34m()\u001b[0m\n\u001b[0;32m      <a href='vscode-notebook-cell:/c%3A/Users/junun/OneDrive/document/hnv-juneon/coding-dojang/ch34/ch34.ipynb#X30sZmlsZQ%3D%3D?line=5'>6</a>\u001b[0m         \u001b[39mself\u001b[39m\u001b[39m.\u001b[39m__greeting()    \u001b[39m# 클래스 안에서는 비공개 메서드를 호출할 수 있음\u001b[39;00m\n\u001b[0;32m      <a href='vscode-notebook-cell:/c%3A/Users/junun/OneDrive/document/hnv-juneon/coding-dojang/ch34/ch34.ipynb#X30sZmlsZQ%3D%3D?line=7'>8</a>\u001b[0m james \u001b[39m=\u001b[39m Person()\n\u001b[1;32m----> <a href='vscode-notebook-cell:/c%3A/Users/junun/OneDrive/document/hnv-juneon/coding-dojang/ch34/ch34.ipynb#X30sZmlsZQ%3D%3D?line=8'>9</a>\u001b[0m james\u001b[39m.\u001b[39;49m__greeting()    \u001b[39m# 에러: 클래스 바깥에서는 비공개 메서드를 호출할 수 없음\u001b[39;00m\n",
      "\u001b[1;31mAttributeError\u001b[0m: 'Person' object has no attribute '__greeting'"
     ]
    }
   ],
   "source": [
    "class Person:\n",
    "    def __greeting(self): #비공개 메서드\n",
    "        print('Hello')\n",
    " \n",
    "    def hello(self):\n",
    "        self.__greeting()    # 클래스 안에서는 비공개 메서드를 호출할 수 있음\n",
    " \n",
    "james = Person()\n",
    "james.__greeting()    # 에러: 클래스 바깥에서는 비공개 메서드를 호출할 수 없음"
   ]
  },
  {
   "cell_type": "markdown",
   "metadata": {},
   "source": [
    "다음 소스 코드에서 클래스를 작성하여 게임 캐릭터의 능력치와 '베기'가 출력되게 만드세요.\n",
    "\n",
    "practice_class.py\n",
    "                                            \n",
    "...\n",
    "                                            \n",
    " \n",
    "x = Knight(health=542.4, mana=210.3, armor=38)\n",
    "print(x.health, x.mana, x.armor)\n",
    "x.slash()\n",
    "\n",
    "실행 결과\n",
    "542.4 210.3 38\n",
    "베기"
   ]
  },
  {
   "cell_type": "code",
   "execution_count": 60,
   "metadata": {},
   "outputs": [
    {
     "name": "stdout",
     "output_type": "stream",
     "text": [
      "542.4 210.3 38\n",
      "베기\n"
     ]
    }
   ],
   "source": [
    "class Knight:\n",
    "    def __init__(self,health,mana,armor):\n",
    "        self.health=health\n",
    "        self.mana=mana\n",
    "        self.armor=armor\n",
    "    def slash(self):\n",
    "        print('베기')\n",
    "\n",
    "\n",
    "x = Knight(health=542.4, mana=210.3, armor=38)\n",
    "print(x.health, x.mana, x.armor)\n",
    "x.slash()"
   ]
  },
  {
   "cell_type": "markdown",
   "metadata": {},
   "source": [
    "표준 입력으로 게임 캐릭터 능력치(체력, 마나, AP)가 입력됩니다. 다음 소스 코드에서 애니(Annie) 클래스를 작성하여 티버(tibbers) 스킬의 피해량이 출력되게 만드세요. 티버의 피해량은 AP * 0.65 + 400이며 AP(Ability Power, 주문력)는 마법 능력치를 뜻합니다.\n",
    "\n",
    "judge_class.py\n",
    "________________\n",
    "________________\n",
    "________________\n",
    "________________\n",
    "________________\n",
    "________________\n",
    "________________\n",
    "\n",
    "health, mana, ability_power = map(float, input().split())\n",
    " \n",
    "x = Annie(health=health, mana=mana, ability_power=ability_power)\n",
    "x.tibbers()\n",
    "\n",
    "예\n",
    "입력\n",
    "511.68 334.0 298\n",
    "\n",
    "결과\n",
    "티버: 피해량 593.7"
   ]
  },
  {
   "cell_type": "code",
   "execution_count": 66,
   "metadata": {},
   "outputs": [
    {
     "name": "stdout",
     "output_type": "stream",
     "text": [
      "티버: 피해량 819.25\n"
     ]
    }
   ],
   "source": [
    "class Annie:\n",
    "    def __init__(self,health, mana, ability_power):\n",
    "        self.health= health\n",
    "        self.mana =mana\n",
    "        self.AP=ability_power\n",
    "    def tibbers(self):\n",
    "        print('티버: 피해량',self.AP * 0.65 + 400)\n",
    "\n",
    "\n",
    "health, mana, ability_power = map(float, input().split())\n",
    " \n",
    "x = Annie(health=health, mana=mana, ability_power=ability_power)\n",
    "x.tibbers()"
   ]
  }
 ],
 "metadata": {
  "kernelspec": {
   "display_name": "juneon",
   "language": "python",
   "name": "python3"
  },
  "language_info": {
   "codemirror_mode": {
    "name": "ipython",
    "version": 3
   },
   "file_extension": ".py",
   "mimetype": "text/x-python",
   "name": "python",
   "nbconvert_exporter": "python",
   "pygments_lexer": "ipython3",
   "version": "3.8.16"
  },
  "orig_nbformat": 4
 },
 "nbformat": 4,
 "nbformat_minor": 2
}
