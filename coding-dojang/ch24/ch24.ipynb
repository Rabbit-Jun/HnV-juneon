{
 "cells": [
  {
   "cell_type": "code",
   "execution_count": 3,
   "metadata": {},
   "outputs": [
    {
     "name": "stdout",
     "output_type": "stream",
     "text": [
      "Hello, Py\n"
     ]
    }
   ],
   "source": [
    "'Hello,World!'.replace('World','Python') #replace('바꿀 문자열', '새문자열')\n",
    "s= 'Hello, World'\n",
    "s=s.replace('World','Py')\n",
    "print(s)"
   ]
  },
  {
   "cell_type": "code",
   "execution_count": 6,
   "metadata": {},
   "outputs": [
    {
     "data": {
      "text/plain": [
       "'1ppl2'"
      ]
     },
     "execution_count": 6,
     "metadata": {},
     "output_type": "execute_result"
    }
   ],
   "source": [
    "table= str.maketrans('aeiou','12345') # a를 1,e를 2,i를 3,o를 4, u를 5로 바꿈, 바꿀 문자와 새문자의 개수가 같아야 함\n",
    "'apple'.translate(table)\n"
   ]
  },
  {
   "cell_type": "code",
   "execution_count": 8,
   "metadata": {},
   "outputs": [
    {
     "data": {
      "text/plain": [
       "['apple', 'is', 'very', 'delicious']"
      ]
     },
     "execution_count": 8,
     "metadata": {},
     "output_type": "execute_result"
    }
   ],
   "source": [
    "'apple is very delicious'.split() # 함수에서 지정한 문자 기준으로 문자열을 분리 후 리스트화 ,기본값은 공백 기준\n"
   ]
  },
  {
   "cell_type": "code",
   "execution_count": 10,
   "metadata": {},
   "outputs": [
    {
     "data": {
      "text/plain": [
       "'apple pear grape pineapple orange'"
      ]
     },
     "execution_count": 10,
     "metadata": {},
     "output_type": "execute_result"
    }
   ],
   "source": [
    "' '.join(['apple','pear','grape','pineapple','orange']) # '연결할 문자'.join(리스트)"
   ]
  },
  {
   "cell_type": "code",
   "execution_count": 11,
   "metadata": {},
   "outputs": [
    {
     "data": {
      "text/plain": [
       "'PYTHON'"
      ]
     },
     "execution_count": 11,
     "metadata": {},
     "output_type": "execute_result"
    }
   ],
   "source": [
    "'python'.upper() #문자열의 문자 모두를 대문자로"
   ]
  },
  {
   "cell_type": "code",
   "execution_count": 12,
   "metadata": {},
   "outputs": [
    {
     "data": {
      "text/plain": [
       "'python'"
      ]
     },
     "execution_count": 12,
     "metadata": {},
     "output_type": "execute_result"
    }
   ],
   "source": [
    "'PYTHON'.lower() #문자열의 문자 모두를 소문자로"
   ]
  },
  {
   "cell_type": "code",
   "execution_count": 15,
   "metadata": {},
   "outputs": [
    {
     "data": {
      "text/plain": [
       "'python  '"
      ]
     },
     "execution_count": 15,
     "metadata": {},
     "output_type": "execute_result"
    }
   ],
   "source": [
    "'   python  '.lstrip() #왼쪽에 있는 공백 모두 삭제"
   ]
  },
  {
   "cell_type": "code",
   "execution_count": 16,
   "metadata": {},
   "outputs": [
    {
     "data": {
      "text/plain": [
       "'   python'"
      ]
     },
     "execution_count": 16,
     "metadata": {},
     "output_type": "execute_result"
    }
   ],
   "source": [
    "'   python  '.rstrip()#오른쪽에 있는 공백 모두 삭제\n"
   ]
  },
  {
   "cell_type": "code",
   "execution_count": 17,
   "metadata": {},
   "outputs": [
    {
     "data": {
      "text/plain": [
       "'python'"
      ]
     },
     "execution_count": 17,
     "metadata": {},
     "output_type": "execute_result"
    }
   ],
   "source": [
    "'   python  '.strip() #양쪽 공백 모두 삭제"
   ]
  },
  {
   "cell_type": "code",
   "execution_count": 26,
   "metadata": {},
   "outputs": [
    {
     "data": {
      "text/plain": [
       "'python!'"
      ]
     },
     "execution_count": 26,
     "metadata": {},
     "output_type": "execute_result"
    }
   ],
   "source": [
    "'!python!'.lstrip('!')# 왼쪽에 특정 문자 삭제, '  !'이면 lstrip('  !')해야 함\n"
   ]
  },
  {
   "cell_type": "code",
   "execution_count": 27,
   "metadata": {},
   "outputs": [
    {
     "data": {
      "text/plain": [
       "'!python'"
      ]
     },
     "execution_count": 27,
     "metadata": {},
     "output_type": "execute_result"
    }
   ],
   "source": [
    "'!python!'.rstrip('!') #오른쪽 특정 문자 삭제"
   ]
  },
  {
   "cell_type": "code",
   "execution_count": 29,
   "metadata": {},
   "outputs": [
    {
     "data": {
      "text/plain": [
       "'python'"
      ]
     },
     "execution_count": 29,
     "metadata": {},
     "output_type": "execute_result"
    }
   ],
   "source": [
    "'!python!'.strip('!') #특정 문자 삭제"
   ]
  },
  {
   "cell_type": "markdown",
   "metadata": {},
   "source": [
    "참고 | 구두점을 간단하게 삭제하기\n",
    "string 모듈의 punctuation에는 모든 구두점이 들어있습니다. 다음과 같이 strip 메서드에 string.punctuation을 넣으면 문자열 양쪽의 모든 구두점을 간단하게 삭제할 수 있습니다.\n",
    "\n",
    ">>> import string\n",
    ">>> ', python.'.strip(string.punctuation)\n",
    "' python'\n",
    ">>> string.punctuation\n",
    "'!\"#$%&\\'()*+,-./:;<=>?@[\\\\]^_`{|}~'\n",
    "만약 공백까지 삭제하고 싶다면 string.punctuation에 공백 ' '을 연결해서 넣어주면 되겠죠?\n",
    "\n",
    ">>> ', python.'.strip(string.punctuation + ' ')\n",
    "'python'\n",
    "물론 메서드 체이닝을 활용해도 됩니다.\n",
    "\n",
    ">>> ', python.'.strip(string.punctuation).strip()\n",
    "'python'"
   ]
  },
  {
   "cell_type": "code",
   "execution_count": 32,
   "metadata": {},
   "outputs": [
    {
     "name": "stdout",
     "output_type": "stream",
     "text": [
      "python    \n",
      "    python\n",
      "  python  \n"
     ]
    }
   ],
   "source": [
    "print('python'.ljust(10)) #문자열을 지정된 길이로 만들고 왼쪽부터 문자열을 채운 후남는 칸은 공백으로\n",
    "print('python'.rjust(10)) #문자열을 지정된 길이로 만들고 오른쪽부터 문자열을 채운 후남는 칸은 공백으로\n",
    "print('python'.center(10)) # 문자열을 가운데로 나머지는 공백, 남는 공간이 모두 홀수면 왼쪽에 공백이 한 칸 더 많게 배치됨\n",
    "\n"
   ]
  },
  {
   "cell_type": "markdown",
   "metadata": {},
   "source": [
    "문자열 메서드를 계속 연결해서 호출하는 메서드 체이닝이(method chaning) 가능\n"
   ]
  },
  {
   "cell_type": "code",
   "execution_count": 34,
   "metadata": {},
   "outputs": [
    {
     "name": "stdout",
     "output_type": "stream",
     "text": [
      "0035\n",
      "35\n"
     ]
    }
   ],
   "source": [
    "print('35'.zfill(4)) #zerofill 지정된 길이에 맞춰서 문자열의 왼쪽에 0을 채운다\n",
    "print('35'.zfill(2)) #문자열의 길이와 지정된 길이가 같아서 0을 넣을 자리가 없"
   ]
  },
  {
   "cell_type": "code",
   "execution_count": 43,
   "metadata": {},
   "outputs": [
    {
     "name": "stdout",
     "output_type": "stream",
     "text": [
      "2\n",
      "-1\n",
      "11\n",
      "[(0, 'a'), (1, 'p'), (2, 'p'), (3, 'l'), (4, 'e'), (5, ' '), (6, 'j'), (7, 'u'), (8, 'i'), (9, 'c'), (10, 'e'), (11, 'p'), (12, 'l'), (13, 'e')]\n",
      "2\n",
      "11\n",
      "2\n"
     ]
    }
   ],
   "source": [
    "print('apple juiceple'.find('ple')) #왼쪽에서부터 문자열을 찾으며 같은 문자열이 여러개면 앞에 인덱스 반환\n",
    "print('apple juiceple'.find('px'))  #찾는 값이 없으면 -1반환\n",
    "print('apple juiceple'.rfind('ple')) #오른쪽에서부터 찾기\n",
    "s='apple juiceple'\n",
    "print(list(enumerate(s)))\n",
    "print(s.index('ple')) #왼쪽에서 부터 특정 문자열의 인덱스 번호\n",
    "print(s.rindex('ple')) #오른쪽에서 부터 특정 문자열의 인덱스 번호\n",
    "print(s.count('ple')) #문자열에서 특정 문자열이 몇번 나오는지 "
   ]
  },
  {
   "cell_type": "code",
   "execution_count": 3,
   "metadata": {},
   "outputs": [
    {
     "name": "stdout",
     "output_type": "stream",
     "text": [
      "I am juneon.\n",
      "I like Nalin\n"
     ]
    }
   ],
   "source": [
    "#문자열 안에서 특정 부분을 원하는 값으로 바꿀 때 서식 지정자 또는 문자열 포매팅 사용\n",
    "\n",
    "print('I am %s.' % 'juneon') #'%s' % '문자열' \n",
    "#서식 지정자는 %로 시작하고 자료형을 뜻하는 문자가 붙음, s(string) 는 문자열\n",
    "name='Nalin'\n",
    "print('I like %s' % name)"
   ]
  },
  {
   "cell_type": "code",
   "execution_count": 6,
   "metadata": {},
   "outputs": [
    {
     "name": "stdout",
     "output_type": "stream",
     "text": [
      " I am 20 years old.\n",
      "my height is 178.200000\n",
      "my grade is 4.2\n"
     ]
    }
   ],
   "source": [
    "print(' I am %d years old.' % 20) #정수는 d(decimal integer)\n",
    "print( 'my height is %f' % 178.2 ) #%f는 실수, 기본적으로 소수점 이하 6자리까지 표시\n",
    "print('my grade is %.3f' % 4.215) # f앞에 .소수점 이하 자리수 적을 수 있음\n"
   ]
  },
  {
   "cell_type": "code",
   "execution_count": 9,
   "metadata": {},
   "outputs": [
    {
     "name": "stdout",
     "output_type": "stream",
     "text": [
      "    python\n",
      "    150.10\n",
      "python    \n"
     ]
    }
   ],
   "source": [
    "print('%10s' % 'python') # %뒤에 숫자를 붙이면 문자열을 지정된 길이로 만든 뒤 오른쪽으로 정렬하고 남은 공간을 공백으로 채운다\n",
    "#%d %f도 가능\n",
    "print('%10.2f' %150.1)\n",
    "print('%-10s'%'python') # %뒤에 -를 붙이면 왼쪽 정령 가능\n"
   ]
  },
  {
   "cell_type": "code",
   "execution_count": 10,
   "metadata": {},
   "outputs": [
    {
     "name": "stdout",
     "output_type": "stream",
     "text": [
      "Today is 3 April\n"
     ]
    }
   ],
   "source": [
    "print('Today is %d %s' %(3, 'April')) # 문자 서식자를 여러개 사용할 수 있음"
   ]
  },
  {
   "cell_type": "code",
   "execution_count": 21,
   "metadata": {},
   "outputs": [
    {
     "name": "stdout",
     "output_type": "stream",
     "text": [
      "Hello, world!\n",
      "Hello, py 3.8 script\n",
      "ha ha ! !\n",
      "Hello, py 3.8 Script\n",
      "Hello, python 3.8\n",
      "HI, Python 3.8\n",
      "{pyhton}\n"
     ]
    }
   ],
   "source": [
    "#파이썬은 문자열 포매팅(string formatting)을 제공\n",
    "print('Hello, {0}'.format('world!')) #'{인덱스}'.format()\n",
    "print('Hello, {0} {2} {1}'.format('py', 'script', 3.8)) # 괄호 안의 인덱스 번호에 맞게 출력 됨\n",
    "print('{0} {0} {1} {1}'.format('ha', '!'))\n",
    "print('Hello, {} {} {}'.format('py', '3.8', 'Script')) #{}안에 인덱스 번호를 생략하면 순서대로 값이 들어감\n",
    "print('Hello, {py} {ver}'.format(py='python',ver=3.8)) #키와 값 형식으로도 가능\n",
    "py='Python'\n",
    "ver=3.8\n",
    "print(f'HI, {py} {ver}') # 변수에 할당된 값을 이용할 수도 있음\n",
    "print('{{{0}}}'.format('pyhton')) # 중괄호를 출력하고 싶으면 {{}} 처럼 중괄호 두번 사용"
   ]
  },
  {
   "cell_type": "code",
   "execution_count": 26,
   "metadata": {},
   "outputs": [
    {
     "name": "stdout",
     "output_type": "stream",
     "text": [
      "python    \n",
      "    python\n",
      "        Py\n"
     ]
    }
   ],
   "source": [
    "print('{0:<10}'.format('python')) #문자열을 지정된 길이로 만든 뒤 왼쪽 정렬 후 남는 공간을 공백으로\n",
    "print('{0:>10}'.format('python')) #문자열을 지정된 길이로 만든 뒤 오른쪽 정렬 후 남는 공간을 공백으로\n",
    "print('{:>10}'.format('Py')) # 인덱스를 사용하지 않는 다면 :과 정렬 방법만 지정해도 됨\n",
    "\n"
   ]
  },
  {
   "cell_type": "code",
   "execution_count": 28,
   "metadata": {},
   "outputs": [
    {
     "name": "stdout",
     "output_type": "stream",
     "text": [
      "007\n",
      "007\n"
     ]
    }
   ],
   "source": [
    "print('%03d' % 7) # %와 문자타입 사이에 0을 넣으면 공백 대신 0출력\n",
    "print('{0:03d}'.format(7))\n"
   ]
  },
  {
   "cell_type": "code",
   "execution_count": 34,
   "metadata": {},
   "outputs": [
    {
     "name": "stdout",
     "output_type": "stream",
     "text": [
      "00003.60\n",
      "00003.60\n"
     ]
    }
   ],
   "source": [
    "print('%08.2f' %3.6)\n",
    "print('{0:08.2f}'.format(3.6))\n",
    "#실수는 정수 부분 , . , 소수점 이하 부분이 자릿수에 포함됨\n"
   ]
  },
  {
   "cell_type": "code",
   "execution_count": 41,
   "metadata": {},
   "outputs": [
    {
     "name": "stdout",
     "output_type": "stream",
     "text": [
      "1500000000\n",
      "xxxxxxxx15\n"
     ]
    }
   ],
   "source": [
    "print('{0:0<10}'.format(15)) # 길이 10, 왼쪽 정렬, 남는 공간을 0으로\n",
    "print('{0:x>10}'.format(15)) # 길이 10, 오른쪽 정렬, 남는 공간을 x로\n",
    "#float is possible\n",
    "\n",
    "\n"
   ]
  },
  {
   "cell_type": "code",
   "execution_count": 48,
   "metadata": {},
   "outputs": [
    {
     "name": "stdout",
     "output_type": "stream",
     "text": [
      "1,493,500\n",
      "           1,493,500\n",
      "1,493,500\n",
      "           1,493,500\n"
     ]
    }
   ],
   "source": [
    "print(format(1493500, ',')) #파이썬에서는 천단위로 콤마 넣어줌\n",
    "print('%20s' % format(1493500, ','))\n",
    "print('{0:,}'.format(1493500))\n",
    "print('{0:>20,}'.format(1493500))\n"
   ]
  },
  {
   "cell_type": "markdown",
   "metadata": {},
   "source": [
    "다음 소스 코드를 완성하여 파일 경로에서 파일명만 출력되게 만드세요. 단, 경로에서 폴더의 깊이가 달라지더라도 파일명만 출력할 수 있어야 합니다.\n",
    "\n",
    "practice_string_path.py\n",
    "path = 'C:\\\\Users\\\\dojang\\\\AppData\\\\Local\\\\Programs\\\\Python\\\\Python36-32\\\\python.exe'\n",
    "                                      \n",
    "...\n",
    "                                      \n",
    " \n",
    "print(filename)\n",
    "실행 결과\n",
    "python.exe"
   ]
  },
  {
   "cell_type": "code",
   "execution_count": 68,
   "metadata": {},
   "outputs": [
    {
     "name": "stdout",
     "output_type": "stream",
     "text": [
      "python.exe\n"
     ]
    }
   ],
   "source": [
    "path = 'C:\\\\Users\\\\dojang\\\\AppData\\\\Local\\\\Programs\\\\Python\\\\Python36-32\\\\python.exe'\n",
    "filename= path.split('\\\\')\n",
    "print(filename[-1])\n",
    "                "
   ]
  },
  {
   "cell_type": "code",
   "execution_count": 66,
   "metadata": {},
   "outputs": [
    {
     "name": "stdout",
     "output_type": "stream",
     "text": [
      "['c', 'b', 'a']\n"
     ]
    }
   ],
   "source": [
    "l=['a','b','c']\n",
    "l.reverse()\n",
    "print(l)"
   ]
  },
  {
   "cell_type": "markdown",
   "metadata": {},
   "source": [
    "표준 입력으로 문자열이 입력됩니다. 입력된 문자열에서 'the'의 개수를 출력하는 프로그램을 만드세요(input에서 안내 문자열은 출력하지 않아야 합니다). 단, 모든 문자가 소문자인 'the'만 찾으면 되며 'them', 'there', 'their' 등은 포함하지 않아야 합니다.\n",
    "\n",
    "\n",
    "\n",
    "\n",
    "예\n",
    "입력\n",
    "the grown-ups' response, this time, was to advise me to lay aside my drawings of boa constrictors, whether from the inside or the outside, and devote myself instead to geography, history, arithmetic, and grammar. That is why, at the, age of six, I gave up what might have been a magnificent career as a painter. I had been disheartened by the failure of my Drawing Number One and my Drawing Number Two. Grown-ups never understand anything by themselves, and it is tiresome for children to be always and forever explaining things to the.\n",
    "결과\n",
    "6"
   ]
  },
  {
   "cell_type": "code",
   "execution_count": 26,
   "metadata": {},
   "outputs": [
    {
     "name": "stdout",
     "output_type": "stream",
     "text": [
      "8\n",
      "4\n"
     ]
    }
   ],
   "source": [
    "s=input()\n",
    "print(s.count('the'))\n",
    "s=input().split()\n",
    "print(s.count('the'))"
   ]
  },
  {
   "cell_type": "code",
   "execution_count": 66,
   "metadata": {},
   "outputs": [
    {
     "name": "stdout",
     "output_type": "stream",
     "text": [
      "6\n"
     ]
    }
   ],
   "source": [
    "s=list(input())\n",
    "for i in s:\n",
    "    if i =='.':\n",
    "        s.pop(s.index('.'))\n",
    "    elif i ==',':\n",
    "        s.pop(s.index(','))\n",
    "s=''.join(s)\n",
    "count =0\n",
    "s=s.split()\n",
    "print(s.count('the'))"
   ]
  },
  {
   "cell_type": "markdown",
   "metadata": {},
   "source": [
    "표준 입력으로 물품 가격 여러 개가 문자열 한 줄로 입력되고, 각 가격은 ;(세미콜론)으로 구분되어 있습니다. 입력된 가격을 높은 가격순으로 출력하는 프로그램을 만드세요(input에서 안내 문자열은 출력하지 않아야 합니다). 이때 가격은 길이를 9로 만든 뒤 오른쪽으로 정렬하고 천단위로 ,(콤마)를 넣으세요.\n",
    "\n",
    "예\n",
    "입력\n",
    "51900;83000;158000;367500;250000;59200;128500;1304000\n",
    "결과\n",
    "1,304,000\n",
    "  367,500\n",
    "  250,000\n",
    "  158,000\n",
    "  128,500\n",
    "   83,000\n",
    "   59,200\n",
    "   51,900"
   ]
  },
  {
   "cell_type": "code",
   "execution_count": 149,
   "metadata": {},
   "outputs": [
    {
     "name": "stdout",
     "output_type": "stream",
     "text": [
      "[51900, 83000, 158000, 367500, 250000, 59200, 128500, 1304000] !\n",
      "[1304000, 367500, 250000, 158000, 128500, 83000, 59200, 51900]\n",
      "1,304,000\n",
      "  367,500\n",
      "  250,000\n",
      "  158,000\n",
      "  128,500\n",
      "   83,000\n",
      "   59,200\n",
      "   51,900\n"
     ]
    }
   ],
   "source": [
    "value=list(map(int,input().split(';')))\n",
    "print(value, '!')\n",
    "\n",
    "temp=[]\n",
    "largest=[]\n",
    "\n",
    "\n",
    "for i in range(len(value),0,-1) : #범위 설정할 때 주의 할 것, while value: 로 하면 value 가 빈 리스트(false) 가 되기 전까지 계속 반복 함\n",
    "    \n",
    "    \n",
    "    temp.append(value[0]) \n",
    "    for j in range(i): # for j in range(1) 은 0부터 0까지임\n",
    "        if temp[0] < value[j]:\n",
    "            temp[0] =value[j]\n",
    "            \n",
    "            \n",
    "    largest.append(temp[0])\n",
    "    value.pop(value.index(temp[0])) #\n",
    "    temp.pop()\n",
    "\n",
    "print(largest)\n",
    "    \n",
    "\n",
    "for i in largest:\n",
    "    print('{0:>9,}'.format(i))\n",
    "\n",
    "\n",
    "#sort(reverse=True) 를 사용하면 내림차순 정리 가능"
   ]
  },
  {
   "cell_type": "code",
   "execution_count": 150,
   "metadata": {},
   "outputs": [
    {
     "name": "stdout",
     "output_type": "stream",
     "text": [
      "[1304000, 367500, 250000, 158000, 128500, 83000, 59200, 51900]\n"
     ]
    }
   ],
   "source": [
    "num= [51900, 83000, 158000, 367500, 250000, 59200, 128500, 1304000]\n",
    "num.sort(reverse=True)\n",
    "print(num)"
   ]
  }
 ],
 "metadata": {
  "kernelspec": {
   "display_name": "juneon",
   "language": "python",
   "name": "python3"
  },
  "language_info": {
   "codemirror_mode": {
    "name": "ipython",
    "version": 3
   },
   "file_extension": ".py",
   "mimetype": "text/x-python",
   "name": "python",
   "nbconvert_exporter": "python",
   "pygments_lexer": "ipython3",
   "version": "3.8.16"
  },
  "orig_nbformat": 4
 },
 "nbformat": 4,
 "nbformat_minor": 2
}
