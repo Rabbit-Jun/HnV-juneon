{
 "cells": [
  {
   "cell_type": "code",
   "execution_count": 3,
   "metadata": {},
   "outputs": [
    {
     "name": "stdout",
     "output_type": "stream",
     "text": [
      "Hello, Py\n"
     ]
    }
   ],
   "source": [
    "'Hello,World!'.replace('World','Python') #replace('바꿀 문자열', '새문자열')\n",
    "s= 'Hello, World'\n",
    "s=s.replace('World','Py')\n",
    "print(s)"
   ]
  },
  {
   "cell_type": "code",
   "execution_count": 1,
   "metadata": {},
   "outputs": [
    {
     "data": {
      "text/plain": [
       "'1ppl2'"
      ]
     },
     "execution_count": 1,
     "metadata": {},
     "output_type": "execute_result"
    }
   ],
   "source": [
    "table= str.maketrans('aeiou','12345') # a를 1,e를 2,i를 3,o를 4, u를 5로 바꿈, 바꿀 문자와 새문자의 개수가 같아야 함\n",
    "'apple'.translate(table)"
   ]
  },
  {
   "cell_type": "code",
   "execution_count": 8,
   "metadata": {},
   "outputs": [
    {
     "data": {
      "text/plain": [
       "['apple', 'is', 'very', 'delicious']"
      ]
     },
     "execution_count": 8,
     "metadata": {},
     "output_type": "execute_result"
    }
   ],
   "source": [
    "'apple is very delicious'.split() # 함수에서 지정한 문자 기준으로 문자열을 분리 후 리스트화 ,기본값은 공백 기준\n"
   ]
  },
  {
   "cell_type": "code",
   "execution_count": 10,
   "metadata": {},
   "outputs": [
    {
     "data": {
      "text/plain": [
       "'apple pear grape pineapple orange'"
      ]
     },
     "execution_count": 10,
     "metadata": {},
     "output_type": "execute_result"
    }
   ],
   "source": [
    "' '.join(['apple','pear','grape','pineapple','orange']) # '연결할 문자'.join(리스트)"
   ]
  },
  {
   "cell_type": "code",
   "execution_count": 11,
   "metadata": {},
   "outputs": [
    {
     "data": {
      "text/plain": [
       "'PYTHON'"
      ]
     },
     "execution_count": 11,
     "metadata": {},
     "output_type": "execute_result"
    }
   ],
   "source": [
    "'python'.upper() #문자열의 문자 모두를 대문자로"
   ]
  },
  {
   "cell_type": "code",
   "execution_count": 12,
   "metadata": {},
   "outputs": [
    {
     "data": {
      "text/plain": [
       "'python'"
      ]
     },
     "execution_count": 12,
     "metadata": {},
     "output_type": "execute_result"
    }
   ],
   "source": [
    "'PYTHON'.lower() #문자열의 문자 모두를 소문자로"
   ]
  },
  {
   "cell_type": "code",
   "execution_count": 15,
   "metadata": {},
   "outputs": [
    {
     "data": {
      "text/plain": [
       "'python  '"
      ]
     },
     "execution_count": 15,
     "metadata": {},
     "output_type": "execute_result"
    }
   ],
   "source": [
    "'   python  '.lstrip() #왼쪽에 있는 공백 모두 삭제"
   ]
  },
  {
   "cell_type": "code",
   "execution_count": 16,
   "metadata": {},
   "outputs": [
    {
     "data": {
      "text/plain": [
       "'   python'"
      ]
     },
     "execution_count": 16,
     "metadata": {},
     "output_type": "execute_result"
    }
   ],
   "source": [
    "'   python  '.rstrip()#오른쪽에 있는 공백 모두 삭제\n"
   ]
  },
  {
   "cell_type": "code",
   "execution_count": 17,
   "metadata": {},
   "outputs": [
    {
     "data": {
      "text/plain": [
       "'python'"
      ]
     },
     "execution_count": 17,
     "metadata": {},
     "output_type": "execute_result"
    }
   ],
   "source": [
    "'   python  '.strip() #양쪽 공백 모두 삭제"
   ]
  },
  {
   "cell_type": "code",
   "execution_count": 26,
   "metadata": {},
   "outputs": [
    {
     "data": {
      "text/plain": [
       "'python!'"
      ]
     },
     "execution_count": 26,
     "metadata": {},
     "output_type": "execute_result"
    }
   ],
   "source": [
    "'!python!'.lstrip('!')# 왼쪽에 특정 문자 삭제, '  !'이면 lstrip('  !')해야 함\n"
   ]
  },
  {
   "cell_type": "code",
   "execution_count": 27,
   "metadata": {},
   "outputs": [
    {
     "data": {
      "text/plain": [
       "'!python'"
      ]
     },
     "execution_count": 27,
     "metadata": {},
     "output_type": "execute_result"
    }
   ],
   "source": [
    "'!python!'.rstrip('!') #오른쪽 특정 문자 삭제"
   ]
  },
  {
   "cell_type": "code",
   "execution_count": 29,
   "metadata": {},
   "outputs": [
    {
     "data": {
      "text/plain": [
       "'python'"
      ]
     },
     "execution_count": 29,
     "metadata": {},
     "output_type": "execute_result"
    }
   ],
   "source": [
    "'!python!'.strip('!') #특정 문자 삭제"
   ]
  },
  {
   "cell_type": "markdown",
   "metadata": {},
   "source": [
    "참고 | 구두점을 간단하게 삭제하기\n",
    "string 모듈의 punctuation에는 모든 구두점이 들어있습니다. 다음과 같이 strip 메서드에 string.punctuation을 넣으면 문자열 양쪽의 모든 구두점을 간단하게 삭제할 수 있습니다.\n",
    "\n",
    ">>> import string\n",
    ">>> ', python.'.strip(string.punctuation)\n",
    "' python'\n",
    ">>> string.punctuation\n",
    "'!\"#$%&\\'()*+,-./:;<=>?@[\\\\]^_`{|}~'\n",
    "만약 공백까지 삭제하고 싶다면 string.punctuation에 공백 ' '을 연결해서 넣어주면 되겠죠?\n",
    "\n",
    ">>> ', python.'.strip(string.punctuation + ' ')\n",
    "'python'\n",
    "물론 메서드 체이닝을 활용해도 됩니다.\n",
    "\n",
    ">>> ', python.'.strip(string.punctuation).strip()\n",
    "'python'"
   ]
  },
  {
   "cell_type": "code",
   "execution_count": 32,
   "metadata": {},
   "outputs": [
    {
     "name": "stdout",
     "output_type": "stream",
     "text": [
      "python    \n",
      "    python\n",
      "  python  \n"
     ]
    }
   ],
   "source": [
    "print('python'.ljust(10)) #문자열을 지정된 길이로 만들고 왼쪽부터 문자열을 채운 후남는 칸은 공백으로\n",
    "print('python'.rjust(10)) #문자열을 지정된 길이로 만들고 오른쪽부터 문자열을 채운 후남는 칸은 공백으로\n",
    "print('python'.center(10)) # 문자열을 가운데로 나머지는 공백, 남는 공간이 모두 홀수면 왼쪽에 공백이 한 칸 더 많게 배치됨\n",
    "\n"
   ]
  },
  {
   "cell_type": "markdown",
   "metadata": {},
   "source": [
    "문자열 메서드를 계속 연결해서 호출하는 메서드 체이닝이(method chaning) 가능\n"
   ]
  },
  {
   "cell_type": "code",
   "execution_count": 34,
   "metadata": {},
   "outputs": [
    {
     "name": "stdout",
     "output_type": "stream",
     "text": [
      "0035\n",
      "35\n"
     ]
    }
   ],
   "source": [
    "print('35'.zfill(4)) #zerofill 지정된 길이에 맞춰서 문자열의 왼쪽에 0을 채운다\n",
    "print('35'.zfill(2)) #문자열의 길이와 지정된 길이가 같아서 0을 넣을 자리가 없"
   ]
  },
  {
   "cell_type": "code",
   "execution_count": 43,
   "metadata": {},
   "outputs": [
    {
     "name": "stdout",
     "output_type": "stream",
     "text": [
      "2\n",
      "-1\n",
      "11\n",
      "[(0, 'a'), (1, 'p'), (2, 'p'), (3, 'l'), (4, 'e'), (5, ' '), (6, 'j'), (7, 'u'), (8, 'i'), (9, 'c'), (10, 'e'), (11, 'p'), (12, 'l'), (13, 'e')]\n",
      "2\n",
      "11\n",
      "2\n"
     ]
    }
   ],
   "source": [
    "print('apple juiceple'.find('ple')) #왼쪽에서부터 문자열을 찾으며 같은 문자열이 여러개면 앞에 인덱스 반환\n",
    "print('apple juiceple'.find('px'))  #찾는 값이 없으면 -1반환\n",
    "print('apple juiceple'.rfind('ple')) #오른쪽에서부터 찾기\n",
    "s='apple juiceple'\n",
    "print(list(enumerate(s)))\n",
    "print(s.index('ple')) #왼쪽에서 부터 특정 문자열의 인덱스 번호\n",
    "print(s.rindex('ple')) #오른쪽에서 부터 특정 문자열의 인덱스 번호\n",
    "print(s.count('ple')) #문자열에서 특정 문자열이 몇번 나오는지 "
   ]
  },
  {
   "cell_type": "code",
   "execution_count": 3,
   "metadata": {},
   "outputs": [
    {
     "name": "stdout",
     "output_type": "stream",
     "text": [
      "I am juneon.\n",
      "I like Nalin\n"
     ]
    }
   ],
   "source": [
    "#문자열 안에서 특정 부분을 원하는 값으로 바꿀 때 서식 지정자 또는 문자열 포매팅 사용\n",
    "\n",
    "print('I am %s.' % 'juneon') #'%s' % '문자열' \n",
    "#서식 지정자는 %로 시작하고 자료형을 뜻하는 문자가 붙음, s(string) 는 문자열\n",
    "name='Nalin'\n",
    "print('I like %s' % name)"
   ]
  },
  {
   "cell_type": "code",
   "execution_count": 6,
   "metadata": {},
   "outputs": [
    {
     "name": "stdout",
     "output_type": "stream",
     "text": [
      " I am 20 years old.\n",
      "my height is 178.200000\n",
      "my grade is 4.2\n"
     ]
    }
   ],
   "source": [
    "print(' I am %d years old.' % 20) #정수는 d(decimal integer)\n",
    "print( 'my height is %f' % 178.2 ) #%f는 실수, 기본적으로 소수점 이하 6자리까지 표시\n",
    "print('my grade is %.3f' % 4.215) # f앞에 .소수점 이하 자리수 적을 수 있음\n"
   ]
  },
  {
   "cell_type": "code",
   "execution_count": 9,
   "metadata": {},
   "outputs": [
    {
     "name": "stdout",
     "output_type": "stream",
     "text": [
      "    python\n",
      "    150.10\n",
      "python    \n"
     ]
    }
   ],
   "source": [
    "print('%10s' % 'python') # %뒤에 숫자를 붙이면 문자열을 지정된 길이로 만든 뒤 오른쪽으로 정렬하고 남은 공간을 공백으로 채운다\n",
    "#%d %f도 가능\n",
    "print('%10.2f' %150.1)\n",
    "print('%-10s'%'python') # %뒤에 -를 붙이면 왼쪽 정령 가능\n"
   ]
  },
  {
   "cell_type": "code",
   "execution_count": 10,
   "metadata": {},
   "outputs": [
    {
     "name": "stdout",
     "output_type": "stream",
     "text": [
      "Today is 3 April\n"
     ]
    }
   ],
   "source": [
    "print('Today is %d %s' %(3, 'April')) # 문자 서식자를 여러개 사용할 수 있음"
   ]
  },
  {
   "cell_type": "code",
   "execution_count": 21,
   "metadata": {},
   "outputs": [
    {
     "name": "stdout",
     "output_type": "stream",
     "text": [
      "Hello, world!\n",
      "Hello, py 3.8 script\n",
      "ha ha ! !\n",
      "Hello, py 3.8 Script\n",
      "Hello, python 3.8\n",
      "HI, Python 3.8\n",
      "{pyhton}\n"
     ]
    }
   ],
   "source": [
    "#파이썬은 문자열 포매팅(string formatting)을 제공\n",
    "print('Hello, {0}'.format('world!')) #'{인덱스}'.format()\n",
    "print('Hello, {0} {2} {1}'.format('py', 'script', 3.8)) # 괄호 안의 인덱스 번호에 맞게 출력 됨\n",
    "print('{0} {0} {1} {1}'.format('ha', '!'))\n",
    "print('Hello, {} {} {}'.format('py', '3.8', 'Script')) #{}안에 인덱스 번호를 생략하면 순서대로 값이 들어감\n",
    "print('Hello, {py} {ver}'.format(py='python',ver=3.8)) #키와 값 형식으로도 가능\n",
    "py='Python'\n",
    "ver=3.8\n",
    "print(f'HI, {py} {ver}') # 변수에 할당된 값을 이용할 수도 있음\n",
    "print('{{{0}}}'.format('pyhton')) # 중괄호를 출력하고 싶으면 {{}} 처럼 중괄호 두번 사용"
   ]
  },
  {
   "cell_type": "code",
   "execution_count": 26,
   "metadata": {},
   "outputs": [
    {
     "name": "stdout",
     "output_type": "stream",
     "text": [
      "python    \n",
      "    python\n",
      "        Py\n"
     ]
    }
   ],
   "source": [
    "print('{0:<10}'.format('python')) #문자열을 지정된 길이로 만든 뒤 왼쪽 정렬 후 남는 공간을 공백으로\n",
    "print('{0:>10}'.format('python')) #문자열을 지정된 길이로 만든 뒤 오른쪽 정렬 후 남는 공간을 공백으로\n",
    "print('{:>10}'.format('Py')) # 인덱스를 사용하지 않는 다면 :과 정렬 방법만 지정해도 됨\n",
    "\n"
   ]
  },
  {
   "cell_type": "code",
   "execution_count": 28,
   "metadata": {},
   "outputs": [
    {
     "name": "stdout",
     "output_type": "stream",
     "text": [
      "007\n",
      "007\n"
     ]
    }
   ],
   "source": [
    "print('%03d' % 7) # %와 문자타입 사이에 0을 넣으면 공백 대신 0출력\n",
    "print('{0:03d}'.format(7))\n"
   ]
  },
  {
   "cell_type": "code",
   "execution_count": 34,
   "metadata": {},
   "outputs": [
    {
     "name": "stdout",
     "output_type": "stream",
     "text": [
      "00003.60\n",
      "00003.60\n"
     ]
    }
   ],
   "source": [
    "print('%08.2f' %3.6)\n",
    "print('{0:08.2f}'.format(3.6))\n",
    "#실수는 정수 부분 , . , 소수점 이하 부분이 자릿수에 포함됨\n"
   ]
  },
  {
   "cell_type": "code",
   "execution_count": 41,
   "metadata": {},
   "outputs": [
    {
     "name": "stdout",
     "output_type": "stream",
     "text": [
      "1500000000\n",
      "xxxxxxxx15\n"
     ]
    }
   ],
   "source": [
    "print('{0:0<10}'.format(15)) # 길이 10, 왼쪽 정렬, 남는 공간을 0으로\n",
    "print('{0:x>10}'.format(15)) # 길이 10, 오른쪽 정렬, 남는 공간을 x로\n",
    "#float is possible\n",
    "\n",
    "\n"
   ]
  },
  {
   "cell_type": "code",
   "execution_count": 48,
   "metadata": {},
   "outputs": [
    {
     "name": "stdout",
     "output_type": "stream",
     "text": [
      "1,493,500\n",
      "           1,493,500\n",
      "1,493,500\n",
      "           1,493,500\n"
     ]
    }
   ],
   "source": [
    "print(format(1493500, ',')) #파이썬에서는 천단위로 콤마 넣어줌\n",
    "print('%20s' % format(1493500, ','))\n",
    "print('{0:,}'.format(1493500))\n",
    "print('{0:>20,}'.format(1493500))\n"
   ]
  },
  {
   "cell_type": "markdown",
   "metadata": {},
   "source": [
    "다음 소스 코드를 완성하여 파일 경로에서 파일명만 출력되게 만드세요. 단, 경로에서 폴더의 깊이가 달라지더라도 파일명만 출력할 수 있어야 합니다.\n",
    "\n",
    "practice_string_path.py\n",
    "path = 'C:\\\\Users\\\\dojang\\\\AppData\\\\Local\\\\Programs\\\\Python\\\\Python36-32\\\\python.exe'\n",
    "                                      \n",
    "...\n",
    "                                      \n",
    " \n",
    "print(filename)\n",
    "실행 결과\n",
    "python.exe"
   ]
  },
  {
   "cell_type": "code",
   "execution_count": 68,
   "metadata": {},
   "outputs": [
    {
     "name": "stdout",
     "output_type": "stream",
     "text": [
      "python.exe\n"
     ]
    }
   ],
   "source": [
    "path = 'C:\\\\Users\\\\dojang\\\\AppData\\\\Local\\\\Programs\\\\Python\\\\Python36-32\\\\python.exe'\n",
    "filename= path.split('\\\\')\n",
    "print(filename[-1])\n",
    "                "
   ]
  },
  {
   "cell_type": "code",
   "execution_count": 66,
   "metadata": {},
   "outputs": [
    {
     "name": "stdout",
     "output_type": "stream",
     "text": [
      "['c', 'b', 'a']\n"
     ]
    }
   ],
   "source": [
    "l=['a','b','c']\n",
    "l.reverse()\n",
    "print(l)"
   ]
  },
  {
   "cell_type": "markdown",
   "metadata": {},
   "source": [
    "표준 입력으로 문자열이 입력됩니다. 입력된 문자열에서 'the'의 개수를 출력하는 프로그램을 만드세요(input에서 안내 문자열은 출력하지 않아야 합니다). 단, 모든 문자가 소문자인 'the'만 찾으면 되며 'them', 'there', 'their' 등은 포함하지 않아야 합니다.\n",
    "\n",
    "\n",
    "\n",
    "\n",
    "예\n",
    "입력\n",
    "the grown-ups' response, this time, was to advise me to lay aside my drawings of boa constrictors, whether from the inside or the outside, and devote myself instead to geography, history, arithmetic, and grammar. That is why, at the, age of six, I gave up what might have been a magnificent career as a painter. I had been disheartened by the failure of my Drawing Number One and my Drawing Number Two. Grown-ups never understand anything by themselves, and it is tiresome for children to be always and forever explaining things to the.\n",
    "결과\n",
    "6"
   ]
  },
  {
   "cell_type": "code",
   "execution_count": 26,
   "metadata": {},
   "outputs": [
    {
     "name": "stdout",
     "output_type": "stream",
     "text": [
      "8\n",
      "4\n"
     ]
    }
   ],
   "source": [
    "s=input()\n",
    "print(s.count('the'))\n",
    "s=input().split()\n",
    "print(s.count('the'))"
   ]
  },
  {
   "cell_type": "code",
   "execution_count": 66,
   "metadata": {},
   "outputs": [
    {
     "name": "stdout",
     "output_type": "stream",
     "text": [
      "6\n"
     ]
    }
   ],
   "source": [
    "s=list(input())\n",
    "for i in s:\n",
    "    if i =='.':\n",
    "        s.pop(s.index('.'))\n",
    "    elif i ==',':\n",
    "        s.pop(s.index(','))\n",
    "s=''.join(s)\n",
    "count =0\n",
    "s=s.split()\n",
    "print(s.count('the'))"
   ]
  },
  {
   "cell_type": "markdown",
   "metadata": {},
   "source": [
    "표준 입력으로 물품 가격 여러 개가 문자열 한 줄로 입력되고, 각 가격은 ;(세미콜론)으로 구분되어 있습니다. 입력된 가격을 높은 가격순으로 출력하는 프로그램을 만드세요(input에서 안내 문자열은 출력하지 않아야 합니다). 이때 가격은 길이를 9로 만든 뒤 오른쪽으로 정렬하고 천단위로 ,(콤마)를 넣으세요.\n",
    "\n",
    "예\n",
    "입력\n",
    "51900;83000;158000;367500;250000;59200;128500;1304000\n",
    "결과\n",
    "1,304,000\n",
    "  367,500\n",
    "  250,000\n",
    "  158,000\n",
    "  128,500\n",
    "   83,000\n",
    "   59,200\n",
    "   51,900"
   ]
  },
  {
   "cell_type": "code",
   "execution_count": 149,
   "metadata": {},
   "outputs": [
    {
     "name": "stdout",
     "output_type": "stream",
     "text": [
      "[51900, 83000, 158000, 367500, 250000, 59200, 128500, 1304000] !\n",
      "[1304000, 367500, 250000, 158000, 128500, 83000, 59200, 51900]\n",
      "1,304,000\n",
      "  367,500\n",
      "  250,000\n",
      "  158,000\n",
      "  128,500\n",
      "   83,000\n",
      "   59,200\n",
      "   51,900\n"
     ]
    }
   ],
   "source": [
    "value=list(map(int,input().split(';')))\n",
    "print(value, '!')\n",
    "\n",
    "temp=[]\n",
    "largest=[]\n",
    "\n",
    "\n",
    "for i in range(len(value),0,-1) : #범위 설정할 때 주의 할 것, while value: 로 하면 value 가 빈 리스트(false) 가 되기 전까지 계속 반복 함\n",
    "    \n",
    "    \n",
    "    temp.append(value[0]) \n",
    "    for j in range(i): # for j in range(1) 은 0부터 0까지임\n",
    "        if temp[0] < value[j]:\n",
    "            temp[0] =value[j]\n",
    "            \n",
    "            \n",
    "    largest.append(temp[0])\n",
    "    value.pop(value.index(temp[0])) #\n",
    "    temp.pop()\n",
    "\n",
    "print(largest)\n",
    "    \n",
    "\n",
    "for i in largest:\n",
    "    print('{0:>9,}'.format(i))\n",
    "\n",
    "\n",
    "#sort(reverse=True) 를 사용하면 내림차순 정리 가능"
   ]
  },
  {
   "cell_type": "code",
   "execution_count": 150,
   "metadata": {},
   "outputs": [
    {
     "name": "stdout",
     "output_type": "stream",
     "text": [
      "[1304000, 367500, 250000, 158000, 128500, 83000, 59200, 51900]\n"
     ]
    }
   ],
   "source": [
    "num= [51900, 83000, 158000, 367500, 250000, 59200, 128500, 1304000]\n",
    "num.sort(reverse=True)\n",
    "print(num)"
   ]
  },
  {
   "cell_type": "markdown",
   "metadata": {},
   "source": [
    "메서드\n",
    "\n",
    "설명\n",
    "\n",
    "append(값)\n",
    "\n",
    "append(리스트)\n",
    "\n",
    "리스트 끝에 값을 추가, 리스트[len(리스트):] = [값]과 같음\n",
    "\n",
    "리스트를 넣으면 리스트 안에 리스트가 들어감\n",
    "\n",
    "extend(리스트)\n",
    "\n",
    "리스트 끝에 다른 리스트 연결, 리스트[len(리스트):] = [값, 값]과 같음\n",
    "\n",
    "insert(인덱스, 값)\n",
    "\n",
    "리스트의 특정 인덱스에 값을 추가\n",
    "\n",
    "pop()\n",
    "\n",
    "pop(인덱스)\n",
    "\n",
    "리스트의 마지막 값을 삭제한 뒤 삭제한 값을 반환\n",
    "\n",
    "인덱스를 지정하면 해당 인덱스의 값을 삭제한 뒤 삭제한 값을 반환, del 리스트[인덱스]와 같음\n",
    "\n",
    "remove(값)\n",
    "\n",
    "리스트에서 특정 값을 삭제\n",
    "\n",
    "index(값)\n",
    "\n",
    "리스트에서 특정 값의 인덱스를 구함\n",
    "\n",
    "count(값)\n",
    "\n",
    "리스트에서 특정 값의 개수를 구함\n",
    "\n",
    "reverse()\n",
    "\n",
    "리스트에서 값의 순서를 반대로 뒤집음\n",
    "\n",
    "sort()\n",
    "\n",
    "sort(reverse=True)\n",
    "\n",
    "리스트의 값을 작은 순서대로 정렬(오름차순)\n",
    "\n",
    "reverse=True는 큰 순서대로 정렬(내림차순)\n",
    "\n",
    "clear()\n",
    "\n",
    "리스트의 모든 값을 삭제, del a[:]와 같음\n",
    "\n",
    "copy()\n",
    "\n",
    "리스트를 복사하여 새 리스트 생성\n",
    "\n",
    "\n",
    "#튜플은 값의 정보를 구하는 index, count 메서드만 사용할 수 있습니다."
   ]
  },
  {
   "cell_type": "markdown",
   "metadata": {},
   "source": [
    "인덱스로 범위를 지정하여 리스트 조작하기\n",
    "\n",
    "리스트는 메서드를 사용하지 않고, 인덱스로 범위를 지정하여 조작할 수 있습니다.\n",
    "\n",
    "리스트[len(리스트):] = [값]        # 리스트 끝에 값이 한 개 들어있는 리스트 추가\n",
    "                                   # 리스트.append(값)과 같음\n",
    "리스트[len(리스트):] = [값, 값]    # 리스트 끝에 다른 리스트 연결\n",
    "                                   # 리스트.extend([값, 값])과 같음\n",
    "del 리스트[인덱스]    # 특정 인덱스의 값 삭제, 리스트.pop(인덱스)와 같음\n",
    "del 리스트[:]   # 시작 인덱스와 끝 인덱스를 생략하여 리스트의 모든 값을 삭제, 리스트.clear()와 같음"
   ]
  },
  {
   "cell_type": "markdown",
   "metadata": {},
   "source": [
    "리스트(튜플)와 반복문\n",
    "\n",
    "for 변수 in 뒤에 리스트(튜플)를 지정하면 반복하면서 모든 요소를 꺼내옵니다. 특히 enumerate(리스트)를 지정하면 인덱스와 요소를 동시에 꺼내올 수 있습니다.\n",
    "\n",
    "for 변수 in 리스트:    # 반복하면서 요소를 꺼내옴\n",
    "    반복할 코드\n",
    " \n",
    "for 인덱스, 요소 in enumerate(리스트):    # 반복하면서 인덱스와 요소를 꺼내옴\n",
    "    반복할 코드\n",
    " \n",
    "for 인덱스 in range(len(리스트)):    # 리스트의 길이로 반복\n",
    "    리스트[인덱스]                   # 인덱스로 요소에 접근\n",
    " \n",
    "while 인덱스 < len(리스트):    # 리스트의 길이로 반복\n",
    "    리스트[인덱스]             # 인덱스로 요소에 접근\n",
    "    인덱스 += 1"
   ]
  },
  {
   "cell_type": "markdown",
   "metadata": {},
   "source": [
    "리스트(튜플) 표현식\n",
    "\n",
    "리스트(튜플) 표현식은 리스트 안에 식, for 반복문, if 조건문 등을 지정하여 리스트(튜플)를 생성합니다.\n",
    "\n",
    "# 리스트 표현식\n",
    "\n",
    "[식 for 변수 in 리스트]\n",
    "\n",
    "[i for i in range(10)]\n",
    "\n",
    "list(식 for 변수 in 리스트)\n",
    "\n",
    " \n",
    "\n",
    "# 튜플 표현식\n",
    "\n",
    "tuple(식 for 변수 in 리스트 if 조건식)\n",
    "\n",
    " \n",
    "\n",
    "# if 조건문 사용\n",
    "\n",
    "[식 for 변수 in 리스트 if 조건식]\n",
    "\n",
    "[i for i in range(10) if i % 2 == 0]\n",
    "\n",
    "list(식 for 변수 in 리스트 if 조건식)\n",
    "\n",
    "# for와 if를 여러 번 사용\n",
    "\n",
    "[식 for 변수1 in 리스트1 if 조건식1\n",
    "\n",
    "    for 변수2 in 리스트2 if 조건식2\n",
    "\n",
    "    ...\n",
    "\n",
    "    for 변수n in 리스트n if 조건식n]\n",
    "\n",
    "[i * j for j in range(2, 10) for i in range(1, 10)]\n",
    "\n",
    " \n",
    "\n",
    "list(식 for 변수1 in 리스트1 if 조건식1\n",
    "\n",
    "        for 변수2 in 리스트2 if 조건식2\n",
    "\n",
    "        ...\n",
    "\n",
    "        for 변수n in 리스트n if 조건식n]\n",
    "\n"
   ]
  },
  {
   "cell_type": "markdown",
   "metadata": {},
   "source": [
    "리스트(튜플)에 map 함수 사용\n",
    "\n",
    "map은 리스트(튜플)의 요소를 지정된 함수로 처리해주는 함수입니다.\n",
    "\n",
    "리스트 = list(map(함수, 리스트))\n",
    "a = list(map(int, a))\n",
    "튜플 = tuple(map(함수, 튜플))\n",
    " \n",
    "변수1, 변수2 = list(map(함수, 리스트))    # 언패킹 사용\n",
    "a, b = list(map(str, range(2)))\n",
    " \n",
    "변수1, 변수2 = map(함수, 리스트)          # 언패킹 사용\n",
    "a, b = map(int, input().split())"
   ]
  },
  {
   "cell_type": "markdown",
   "metadata": {},
   "source": [
    "2차원 리스트\n",
    "\n",
    "2차원 리스트는 가로×세로의 평면 구조로 이루어져 있습니다. 2차원 리스트는 리스트 안에 리스트를 넣어서 만들 수 있으며 안쪽의 각 리스트는 ,(콤마)로 구분해줍니다. 2차원 리스트의 요소에 접근하거나 할당할 때는 리스트에 [ ](대괄호)를 두 번 사용하며 [ ] 안에 세로 인덱스와 가로 인덱스를 지정해줍니다. 일반적으로 2차원 공간은 가로×세로로 표기하지만 리스트로 만들 때는 세로×가로로 표기합니다.\n",
    "\n",
    "리스트 = [[값, 값], [값, 값], [값, 값]]    # 2차원 리스트 만들기\n",
    " \n",
    "리스트[세로인덱스][가로인덱스]         # 2차원 리스트의 요소에 접근\n",
    "리스트[세로인덱스][가로인덱스] = 값    # 2차원 리스트의 요소에 값 저장\n",
    " \n",
    "리스트 = [(값, 값), (값, 값), (값, 값)]    # 리스트 안에 튜플을 넣음\n",
    "튜플 = ([값, 값], [값, 값], [값, 값])      # 튜플 안에 리스트를 넣음\n",
    "튜플 = ((값, 값), (값, 값), (값, 값))      # 튜플 안에 튜플을 넣음"
   ]
  },
  {
   "cell_type": "markdown",
   "metadata": {},
   "source": [
    "3차원 리스트\n",
    "\n",
    "3차원 리스트는 높이×세로×가로 형태로 이루어져 있습니다. 3차원 공간은 가로×세로×높이로 표기하지만 리스트로 만들 때는 높이×세로×가로로 표기합니다.\n",
    "\n",
    "리스트 = [[[값, 값], [값, 값]], [[값, 값], [값, 값]], [[값, 값], [값, 값]]]    # 3차원 리스트 만들기\n",
    " \n",
    "리스트[높이인덱스][세로인덱스][가로인덱스]         # 3차원 리스트의 요소에 접근\n",
    "리스트[높이인덱스][세로인덱스][가로인덱스] = 값    # 3차원 리스트의 요소에 값 저장"
   ]
  },
  {
   "cell_type": "markdown",
   "metadata": {},
   "source": [
    "문자열 메서드\n",
    "\n",
    "▼ 표 24-2 문자열 메서드\n",
    "메서드\n",
    "\n",
    "설명\n",
    "\n",
    "replace('바꿀문자열', '새문자열')\n",
    "\n",
    "문자열 안의 문자열을 다른 문자열로 바꿈\n",
    "\n",
    "translate(테이블)\n",
    "\n",
    "문자열 안의 문자를 다른 문자로 바꿈, str.maketrans('바꿀문자', '새문자')로 변환 테이블을 만들어야 함\n",
    "\n",
    "split()\n",
    "\n",
    "split('기준문자열')\n",
    "\n",
    "공백을 기준으로 문자열을 분리하여 리스트로 만듦\n",
    "\n",
    "기준 문자열을 지정하면 기준 문자열로 문자열을 분리\n",
    "\n",
    "join(리스트)\n",
    "\n",
    "구분자 문자열과 문자열 리스트(튜플)의 요소를 연결하여 문자열로 만듦\n",
    "\n",
    "upper()\n",
    "\n",
    "lower()\n",
    "\n",
    "upper는 문자열의 문자를 대문자로 바꾸고, lower는 소문자로 바꿈\n",
    "\n",
    "lstrip(), rstrip(), strip()\n",
    "\n",
    "lstrip('삭제할문자들')\n",
    "\n",
    "rstrip('삭제할문자들')\n",
    "\n",
    "strip('삭제할문자들')\n",
    "\n",
    "lstrip은 문자열에서 왼쪽 공백을 삭제, rstrip은 오른쪽 공백을 삭제, strip은 양쪽 공백을 삭제, 삭제할 문자들을 지정하면 해당 문자들을 삭제\n",
    "\n",
    "ljust(길이), rjust(길이), center(길이)\n",
    "\n",
    "문자열을 지정된 길이로 만든 뒤 왼쪽(ljust), 오른쪽(rjust), 가운데(center)로 정렬하며 남는 공간은 공백으로 채움\n",
    "\n",
    "zfill()\n",
    "\n",
    "지정된 길이에 맞춰서 문자열의 왼쪽에 0을 채움\n",
    "\n",
    "find('찾을문자열')\n",
    "\n",
    "rfind('찾을문자열')\n",
    "\n",
    "find는 왼쪽에서부터, rfind는 오른쪽에서부터 특정 문자열을 찾아서 인덱스 반환, 문자열이 없으면 -1을 반환\n",
    "\n",
    "index('찾을문자열')\n",
    "\n",
    "rindex('찾을문자열')\n",
    "\n",
    "index는 왼쪽에서부터, rindex는 오른쪽에서부터 특정 문자열을 찾아서 인덱스를 반환, 문자열이 없으면 에러 발생\n",
    "\n",
    "count('문자열')\n",
    "\n",
    "현재 문자열에서 특정 문자열이 몇 번 나오는지 알아냄"
   ]
  },
  {
   "cell_type": "markdown",
   "metadata": {},
   "source": [
    "문자열 서식 지정자\n",
    "\n",
    "문자열은 서식 지정자를 조합하여 문자열을 만들 수 있습니다. 서식 지정자는 %로 시작하며 자료형을 뜻하는 문자가 붙습니다. 서식 지정자를 사용한 뒤 % 다음에 문자열을 지정해주면 이 문자열이 서식 지정자에 들어갑니다. 서식 지정자가 여러 개 일 때는 값 여러 개를 튜플로 만들어서 지정해줍니다.\n",
    "\n",
    "%s: 문자열\n",
    "%d: 정수\n",
    "%f: 실수\n",
    "'%서식지정자' % 값                  # 서식 지정자 한 개 사용\n",
    "'I am %s.' % 'maria'                # 'I am maria.'\n",
    " \n",
    "'%서식지정자1, %서식지정자2' % (값1, 값2)    # 서식 지정자 여러 개 사용\n",
    "'Today is %d %s.' % (3, 'April')             # 'Today is 3 April.'\n",
    "소수점 이하 자릿수를 지정하고 싶다면 f 앞에 .(점)과 자릿수를 지정합니다.\n",
    "\n",
    "'%.자릿수f' % 숫자    # 소수점 이하 자릿수 지정하기\n",
    "'%.3f' % 2.3            # '2.300'\n",
    "%뒤에 숫자를 붙이면 문자열을 지정된 길이로 만든 뒤 오른쪽으로 정렬하고 남는 공간을 공백으로 채웁니다. 길이를 음수로 지정하면 왼쪽으로 정렬합니다.\n",
    "\n",
    "%길이s     # 문자열을 지정된 길이로 만든 뒤 오른쪽으로 정렬하고 남는 공간을 공백으로 채움\n",
    "'%10s' % 'python'     # '    python'\n",
    " \n",
    "%-길이s    # 문자열을 지정된 길이로 만든 뒤 왼쪽으로 정렬하고 남는 공간을 공백으로 채움\n",
    "'%-10s' % 'python'    # 'python    '\n",
    "%와 d사이에 0과 숫자 개수를 넣으면 자릿수에 맞춰서 앞에 0이 들어갑니다.\n",
    "\n",
    "'%0개수d' % 숫자    # 자릿수에 맞춰서 0이 들어감\n",
    "'%03d' % 1          # '001'\n",
    " \n",
    "'%0개수.자릿수f' % 숫자    # 실수의 소수점 이하 자릿수 지정\n",
    "'%08.2f' % 3.6             # '00003.60'"
   ]
  },
  {
   "cell_type": "markdown",
   "metadata": {},
   "source": [
    "문자열 포매팅\n",
    "\n",
    "문자열 포매팅을 사용할 때는 { }(중괄호) 안에 인덱스를 지정하고, format에는 { } 부분에 들어갈 값을 지정해줍니다.\n",
    "\n",
    "'{0}'.format(값)                      # 값을 한 개 넣음\n",
    "'{0} {1}'.format(값1, 값2)            # 값을 두 개 넣음\n",
    "'{0} {0} {1} {1}'.format(값1, 값2)    # 같은 인덱스에는 같은 값이 들어감\n",
    "'{} {} {}'.format(값1, 값2, 값3)      # 인덱스를 생략하면 format에 지정한 순서대로 값이 들어감\n",
    "'{name1} {name2}'.format(name1=값1, name2=값2)    # { }에 이름을 지정\n",
    "파이썬 3.6부터는 변수에 값을 넣고 { } 안에 변수 이름을 지정하면 됩니다. 이때는 문자열 앞에 f를 붙입니다.\n",
    "\n",
    "변수1, 변수2 = 값1, 값2\n",
    "f'{변수1} {변수2}'\n",
    "문자열 포매팅에서 <은 문자열을 지정된 길이로 만든 뒤 왼쪽으로 정렬하고 남는 공간을 공백으로 채웁니다. >은 오른쪽으로 정렬합니다.\n",
    "\n",
    "'{인덱스:<길이}'.format(값)  # 문자열을 지정된 길이로 만든 뒤 왼쪽 정렬, 남는 공간을 공백으로 채움\n",
    "'{인덱스:>길이}'.format(값)  # 문자열을 지정된 길이로 만든 뒤 오른쪽 정렬, 남는 공간을 공백으로 채움\n",
    "문자열 포매팅에서 인덱스나 이름 뒤에 :(콜론)을 붙이고 0과 숫자 개수를 지정하면 자릿수에 맞춰서 0이 들어갑니다.\n",
    "\n",
    "'{인덱스:0개수d'}'.format(숫자)          # 자릿수에 맞춰서 0이 들어감\n",
    "'{인덱스:0개수.자릿수f'}.format(숫자)    # 실수의 소수점 이하 자릿수 지정\n",
    "문자열 포매팅은 채우기, 정렬, 길이, 자릿수, 자료형을 조합하여 사용할 수 있습니다.\n",
    "\n",
    "'{인덱스:[[채우기]정렬][길이][.자릿수][자료형]}'\n",
    " \n",
    "'{0:0<10}'.format(15)       # '1500000000': 길이 10, 왼쪽으로 정렬하고 남는 공간은 0으로 채움\n",
    "'{0:0>10.2f}'.format(15)    # '0000015.00': 길이 10, 오른쪽으로 정렬하고 소수점 이하 자릿수는 2자리\n",
    " \n",
    "'{0: >10}'.format(15)    # '        15': 남는 공간을 공백으로 채움\n",
    "'{0:>10}'.format(15)     # '        15': 채우기 부분을 생략하면 공백이 들어감\n",
    "'{0:x>10}'.format(15)    # 'xxxxxxxx15': 남는 공간을 문자 x로 채움"
   ]
  },
  {
   "cell_type": "markdown",
   "metadata": {},
   "source": [
    "서식 지정자 자료형\n",
    "\n",
    "▼ 표 24-3 서식 지정자 자료형\n",
    "자료형\n",
    "\n",
    "설명\n",
    "\n",
    "s\n",
    "\n",
    "문자열\n",
    "\n",
    "b\n",
    "\n",
    "2진수\n",
    "\n",
    "c\n",
    "\n",
    "문자\n",
    "\n",
    "d\n",
    "\n",
    "10진 정수\n",
    "\n",
    "o\n",
    "\n",
    "8진 정수, 예) '%o' % 8은 '10'\n",
    "\n",
    "x\n",
    "\n",
    "16진 정수, 0~9, a~f, 예) '%x' % 254는 'fe'\n",
    "\n",
    "X\n",
    "\n",
    "16진 정수, 0~9, A~F, 예) '%X' % 254는 'FE'\n",
    "\n",
    "e\n",
    "\n",
    "실수 지수 표기법, 예) '%e' % 2.3은 '2.300000e+00'\n",
    "\n",
    "E\n",
    "\n",
    "실수 지수 표기법, 예) '%E' % 2.3은 '2.300000E+00'\n",
    "\n",
    "f\n",
    "\n",
    "실수 소수점 표기\n",
    "\n",
    "F\n",
    "\n",
    "실수 소수점 표기, f와 같음, nan은 NAN, inf는 INF로 표시(nan은 숫자가 아니라는 뜻, inf는 무한대)\n",
    "\n",
    "g\n",
    "\n",
    "실수 일반 형식, 예) '%g' % 2.3e-10은 '2.3e-10'\n",
    "\n",
    "G\n",
    "\n",
    "실수 일반 형식, 예) '%G' % 2.3e-10은 '2.3E-10'\n",
    "\n",
    "%\n",
    "\n",
    "% 문자 표시"
   ]
  }
 ],
 "metadata": {
  "kernelspec": {
   "display_name": "juneon",
   "language": "python",
   "name": "python3"
  },
  "language_info": {
   "codemirror_mode": {
    "name": "ipython",
    "version": 3
   },
   "file_extension": ".py",
   "mimetype": "text/x-python",
   "name": "python",
   "nbconvert_exporter": "python",
   "pygments_lexer": "ipython3",
   "version": "3.8.16"
  },
  "orig_nbformat": 4
 },
 "nbformat": 4,
 "nbformat_minor": 2
}
