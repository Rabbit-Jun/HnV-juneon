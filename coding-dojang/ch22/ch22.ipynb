{
 "cells": [
  {
   "attachments": {},
   "cell_type": "markdown",
   "metadata": {},
   "source": [
    "리스트에 요소를 추가하는 메서드 \n",
    "append: 요소 하나를 추가\n",
    "extend: 리스트를 연결하여 확장\n",
    "insert: 특정 인덱스에 요소 추가"
   ]
  },
  {
   "cell_type": "code",
   "execution_count": 1,
   "metadata": {},
   "outputs": [
    {
     "name": "stdout",
     "output_type": "stream",
     "text": [
      "[10, 20, 30, 500]\n"
     ]
    }
   ],
   "source": [
    "a= [10,20,30]\n",
    "a.append(500) #리스트 끝에 요소 하나 추가\n",
    "print(a)\n"
   ]
  },
  {
   "cell_type": "code",
   "execution_count": 3,
   "metadata": {},
   "outputs": [
    {
     "name": "stdout",
     "output_type": "stream",
     "text": [
      "[10]\n"
     ]
    }
   ],
   "source": [
    "a=[]\n",
    "a.append(10)\n",
    "print(a)"
   ]
  },
  {
   "cell_type": "code",
   "execution_count": 4,
   "metadata": {},
   "outputs": [
    {
     "name": "stdout",
     "output_type": "stream",
     "text": [
      "[10, 20, 30, [500, 600]]\n",
      "4\n"
     ]
    }
   ],
   "source": [
    "a =[10,20,30]\n",
    "a.append([500,600]) #[500,600] 이라는 요소 하나를 리스트 a에 추가합니다.\n",
    "print(a)\n",
    "print(len(a))"
   ]
  },
  {
   "cell_type": "code",
   "execution_count": 7,
   "metadata": {},
   "outputs": [
    {
     "name": "stdout",
     "output_type": "stream",
     "text": [
      "[10, 20, 30, 500, 600]\n",
      "5\n"
     ]
    }
   ],
   "source": [
    "a= [10,20,30]\n",
    "a.extend([500,600]) #extend에 전달된 리스트의 길이 만큼 증가\n",
    "print(a)\n",
    "print(len(a))"
   ]
  },
  {
   "cell_type": "code",
   "execution_count": 15,
   "metadata": {},
   "outputs": [
    {
     "name": "stdout",
     "output_type": "stream",
     "text": [
      "[10, 20, 500, 30]\n",
      "[{100: 200}, 10, 20, 500, 30]\n"
     ]
    }
   ],
   "source": [
    "a= [10,20,30]\n",
    "a.insert(2,500) #2번 인덱스 자리에 500 삽입 \n",
    "print(a)\n",
    "a.insert(0,{100:200}) #딕셔너리,리스트 삽입 가능 \n",
    "print(a)\n"
   ]
  },
  {
   "cell_type": "code",
   "execution_count": 21,
   "metadata": {},
   "outputs": [
    {
     "name": "stdout",
     "output_type": "stream",
     "text": [
      "[]\n",
      "[10, 500, 600, 20, 30]\n"
     ]
    }
   ],
   "source": [
    "a = [10, 20, 30]\n",
    "a[1:1] = [500, 600] # 빈 리스트에 [500,600]을 넣는다\n",
    "print(a)"
   ]
  },
  {
   "attachments": {},
   "cell_type": "markdown",
   "metadata": {},
   "source": [
    "리스트에서 요소를 삭제하는 방법\n",
    "pop: 마지막 요소 또는 특정 인덱스의 요소를 삭제\n",
    "remove: 특정 값을 찾아서 삭제\n"
   ]
  },
  {
   "cell_type": "code",
   "execution_count": 23,
   "metadata": {},
   "outputs": [
    {
     "name": "stdout",
     "output_type": "stream",
     "text": [
      "[10, 20]\n"
     ]
    }
   ],
   "source": [
    "a= [10,20,30]\n",
    "a.pop() # 리스트의 마지막 요소를 삭제 후 반환\n",
    "print(a)"
   ]
  },
  {
   "cell_type": "code",
   "execution_count": 25,
   "metadata": {},
   "outputs": [
    {
     "name": "stdout",
     "output_type": "stream",
     "text": [
      "[10, 30]\n"
     ]
    }
   ],
   "source": [
    "a= [10,20,30]\n",
    "a.pop(1) #1번 인덱스의 요소 삭제\n",
    "print(a)\n"
   ]
  },
  {
   "cell_type": "code",
   "execution_count": 26,
   "metadata": {},
   "outputs": [
    {
     "name": "stdout",
     "output_type": "stream",
     "text": [
      "[10, 30]\n"
     ]
    }
   ],
   "source": [
    "a=[10,20,30]\n",
    "del a[1] #1번 인덱스의 요소 삭제 \n",
    "print(a)"
   ]
  },
  {
   "attachments": {},
   "cell_type": "markdown",
   "metadata": {},
   "source": [
    "pop 메서드는 삭제된 요소를 반환하기 때문에 삭제된 요소를 변수에 할당하거나 사용할 수 있습니다. \n",
    "ex) a = [10, 20, 30]\n",
    "removed_element = a.pop(1)\n",
    "\n",
    "del은 리스트에서 특정 인덱스의 요소나 리스트 전체를 삭제합니다. del은 해당 요소나 리스트 자체를 반환하지 않으며, 삭제된 요소에 대한 참조를 얻을 수 없습니다. del은 다음과 같이 사용될 수 있습니다:\n",
    "\n",
    "ex)\n",
    "b = [10, 20, 30]\n",
    "del b #b 객체 자체를 삭제해버림 "
   ]
  },
  {
   "cell_type": "code",
   "execution_count": 28,
   "metadata": {},
   "outputs": [
    {
     "name": "stdout",
     "output_type": "stream",
     "text": [
      "[10, 30]\n"
     ]
    }
   ],
   "source": [
    "a= [10,20,30]\n",
    "a.remove(20) #a리스트에서 20을 찾아 삭제\n",
    "print(a)"
   ]
  },
  {
   "cell_type": "code",
   "execution_count": 29,
   "metadata": {},
   "outputs": [
    {
     "name": "stdout",
     "output_type": "stream",
     "text": [
      "[10, 30, 20]\n"
     ]
    }
   ],
   "source": [
    "a = [10, 20, 30, 20]\n",
    "a.remove(20) #리스트에 해당 값이 여러개 있으면 인덱스 번호가 더 빠른걸 삭제\n",
    "print(a)"
   ]
  },
  {
   "cell_type": "code",
   "execution_count": 36,
   "metadata": {},
   "outputs": [
    {
     "name": "stdout",
     "output_type": "stream",
     "text": [
      "deque([10, 20, 30])\n",
      "deque([10, 20, 30, 500])\n",
      "deque([20, 30, 500])\n",
      "deque([20, 30])\n",
      "deque([[200, 300], 20, 30])\n"
     ]
    }
   ],
   "source": [
    "from collections import deque #cooections 모듈에서 deque를 가져온다\n",
    "a =deque([10,20,30]) #덱은 양쪽 끝에서 추가/삭제가 가능한 자료 구조\n",
    "print(a)\n",
    "deque([10,20,30])\n",
    "a.append(500)\n",
    "print(a)\n",
    "a.popleft() #덱의 왼쪽 요소 하나 삭제\n",
    "print(a)\n",
    "a.pop() #덱의 맨 마지막 요소 하나 삭제\n",
    "print(a)\n",
    "a.appendleft([200,300]) #덱의 맨 왼쪽 인덱스에 요소하나 추가 \n",
    "print(a)\n"
   ]
  },
  {
   "cell_type": "code",
   "execution_count": 39,
   "metadata": {},
   "outputs": [
    {
     "name": "stdout",
     "output_type": "stream",
     "text": [
      "1\n",
      "2\n"
     ]
    }
   ],
   "source": [
    "a = [10,20,30,15,20,40]\n",
    "print(a.index(20)) #리스트에서 특정 값의 인덱스를 구한다,같은 값이 여러개면 제일 앞에 있는 요소의 인덱스를 반환  \n",
    "print(a.count(20)) #리스트 안에 20 이 몇 개 있는 지 구한다\n",
    "\n"
   ]
  },
  {
   "cell_type": "code",
   "execution_count": 41,
   "metadata": {},
   "outputs": [
    {
     "name": "stdout",
     "output_type": "stream",
     "text": [
      "[40, 20, 15, 30, 20, 10]\n"
     ]
    }
   ],
   "source": [
    "a=[10,20,30,15,20,40]\n",
    "a.reverse() #리스트의 순서를 반대로 뒤집는다\n",
    "print(a)\n"
   ]
  },
  {
   "cell_type": "code",
   "execution_count": 44,
   "metadata": {},
   "outputs": [
    {
     "name": "stdout",
     "output_type": "stream",
     "text": [
      "[10, 15, 20, 20, 30, 40]\n",
      "[10, 20, 30, 15, 20, 40]\n"
     ]
    }
   ],
   "source": [
    "a=[10,20,30,15,20,40]\n",
    "a.sort() #리스트의 값을 작은 순서대로 정렬(내림차순), 내용을 변경해서 저장\n",
    "print(a)\n",
    "b=[10,20,30,15,20,40]\n",
    "sorted(b) #내용 변경o, 저장 x\n",
    "print(b)"
   ]
  },
  {
   "cell_type": "code",
   "execution_count": 45,
   "metadata": {},
   "outputs": [
    {
     "name": "stdout",
     "output_type": "stream",
     "text": [
      "[]\n"
     ]
    }
   ],
   "source": [
    "a= [10,20,30]\n",
    "a.clear() #리스트의 모든 요소를 삭제합니다. \n",
    "print(a)"
   ]
  },
  {
   "cell_type": "code",
   "execution_count": 47,
   "metadata": {},
   "outputs": [
    {
     "name": "stdout",
     "output_type": "stream",
     "text": [
      "[]\n"
     ]
    }
   ],
   "source": [
    "a=[10,20,30]\n",
    "del a [:]\n",
    "print(a)"
   ]
  },
  {
   "cell_type": "code",
   "execution_count": 50,
   "metadata": {},
   "outputs": [
    {
     "name": "stdout",
     "output_type": "stream",
     "text": [
      "[10, 20, 30, 500, 600]\n"
     ]
    }
   ],
   "source": [
    "a=[10,20,30]\n",
    "a[len(a):] =[500,600] #리스트 끝에서 시작 \n",
    "print(a)"
   ]
  },
  {
   "cell_type": "code",
   "execution_count": 52,
   "metadata": {},
   "outputs": [
    {
     "name": "stdout",
     "output_type": "stream",
     "text": [
      "빈 리스트\n",
      "빈 리스트\n"
     ]
    }
   ],
   "source": [
    "seq=[]\n",
    "if not len(seq): #리스트가 비어 있으면 True\n",
    "    print('빈 리스트')\n",
    "if len(seq): # 리스트에 요소가 있으면 True\n",
    "    print('요소 있음')\n",
    "\n",
    "#python에서는 시퀀스 객체를 바로 판단하는 방법 권장\n",
    "if not seq: #리스트가 비어있으면 True\n",
    "    print('빈 리스트')\n",
    "if seq: #리스트에 요소가 있음 True\n",
    "    print('요소 있음')"
   ]
  },
  {
   "attachments": {},
   "cell_type": "markdown",
   "metadata": {},
   "source": [
    "약 리스트가 비어 있을 경우에는 인덱스를 -1로 지정하면 에러가 발생합니다.\n",
    "\n",
    ">>> a = []\n",
    ">>> a[-1]\n",
    "Traceback (most recent call last):\n",
    "  File \"<pyshell#3>\", line 1, in <module>\n",
    "    a[-1]\n",
    "IndexError: list index out of range\n",
    "이때는 if 조건문을 활용하여 리스트에 요소가 있을 때만 마지막 요소를 가져오면 됩니다.\n",
    "\n",
    "seq = []\n",
    "if seq:               # 리스트에 요소가 있는지 확인\n",
    "    print(seq[-1])    # 요소가 있을 때만 마지막 요소를 가져옴"
   ]
  },
  {
   "cell_type": "code",
   "execution_count": 54,
   "metadata": {},
   "outputs": [
    {
     "name": "stdout",
     "output_type": "stream",
     "text": [
      "True\n",
      "[0, 0, 22, 0, 0]\n"
     ]
    }
   ],
   "source": [
    "a=[0,0,0,0,0]\n",
    "b =a #리스트를 다른 변수에 할당해도 리스트가 두 개가 되는게 아님\n",
    "print(a is b) #a와 b는 같은 객체\n",
    "b[2]=22\n",
    "print(a) #a와 b가 같은 객체이므로 b를 변경하면 a도 변경됨\n",
    "\n"
   ]
  },
  {
   "cell_type": "code",
   "execution_count": 56,
   "metadata": {},
   "outputs": [
    {
     "name": "stdout",
     "output_type": "stream",
     "text": [
      "False\n",
      "[0, 0, 0, 0, 0]\n"
     ]
    }
   ],
   "source": [
    "a=[0,0,0,0,0]\n",
    "b=a.copy() #리스트 a의 요소를 모두 b에 복사\n",
    "print(a is b) # a와 b가 다른 객체다\n",
    "b[2]= 33\n",
    "print(a) # b를 변경해도 a에 영향 x\n",
    "\n",
    "\n"
   ]
  },
  {
   "cell_type": "code",
   "execution_count": 57,
   "metadata": {},
   "outputs": [
    {
     "name": "stdout",
     "output_type": "stream",
     "text": [
      "38\n",
      "21\n",
      "53\n",
      "62\n",
      "19\n"
     ]
    }
   ],
   "source": [
    "a= [38,21,53,62,19]\n",
    "for i in a:\n",
    "    print(i)\n"
   ]
  },
  {
   "cell_type": "code",
   "execution_count": 58,
   "metadata": {},
   "outputs": [
    {
     "name": "stdout",
     "output_type": "stream",
     "text": [
      "0 38\n",
      "1 21\n",
      "2 53\n",
      "3 62\n",
      "4 19\n"
     ]
    }
   ],
   "source": [
    "a =[38,21,53,62,19]\n",
    "for index,value in enumerate(a): #for 인덱스,요소 in enumerate(리스트): 인덱스와 요소를 동시에 꺼내온다\n",
    "    print(index,value)\n",
    "\n"
   ]
  },
  {
   "cell_type": "code",
   "execution_count": 59,
   "metadata": {},
   "outputs": [
    {
     "name": "stdout",
     "output_type": "stream",
     "text": [
      "2 38\n",
      "3 21\n",
      "4 53\n",
      "5 62\n",
      "6 19\n"
     ]
    }
   ],
   "source": [
    "a =[38,21,53,62,19]\n",
    "for index,value in enumerate(a, start=2): #start로 인덱스의 시작 번호를 정할 수 있다\n",
    "    print(index,value)"
   ]
  },
  {
   "cell_type": "code",
   "execution_count": 60,
   "metadata": {},
   "outputs": [
    {
     "name": "stdout",
     "output_type": "stream",
     "text": [
      "2 38\n",
      "3 21\n",
      "4 53\n",
      "5 62\n",
      "6 19\n"
     ]
    }
   ],
   "source": [
    "a =[38,21,53,62,19]\n",
    "for index,value in enumerate(a,2):# 줄여쓰는것도 가능 \n",
    "    print(index,value)"
   ]
  },
  {
   "cell_type": "code",
   "execution_count": null,
   "metadata": {},
   "outputs": [],
   "source": [
    "a= [38,21,53,62,19]\n",
    "for i in range(len(a)):\n",
    "    print(a[i]) #인덱스 번호로 리스트 출력하기 \n",
    "    "
   ]
  },
  {
   "cell_type": "code",
   "execution_count": 61,
   "metadata": {},
   "outputs": [
    {
     "name": "stdout",
     "output_type": "stream",
     "text": [
      "38\n",
      "21\n",
      "53\n",
      "62\n",
      "19\n"
     ]
    }
   ],
   "source": [
    "a= [38,21,53,62,19]\n",
    "i =0\n",
    "while i < len(a):\n",
    "    print(a[i])\n",
    "    i +=1"
   ]
  },
  {
   "cell_type": "code",
   "execution_count": 62,
   "metadata": {},
   "outputs": [
    {
     "name": "stdout",
     "output_type": "stream",
     "text": [
      "19\n"
     ]
    }
   ],
   "source": [
    "a =[38,21,53,62,19]\n",
    "smallest =a[0]\n",
    "for i in a:\n",
    "    if i <smallest:\n",
    "        smallest =i\n",
    "print(smallest)\n",
    "\n",
    "#smallest에 a[0]을 할당하고 그것보다 작은게 나오면 smallest에 할당\n"
   ]
  },
  {
   "cell_type": "code",
   "execution_count": 63,
   "metadata": {},
   "outputs": [
    {
     "name": "stdout",
     "output_type": "stream",
     "text": [
      "62\n"
     ]
    }
   ],
   "source": [
    "a =[38,21,53,62,19]\n",
    "largest =a[0]\n",
    "for i in a:\n",
    "    if i > largest: #largest 보다 면 largest에 i 할당 \n",
    "        largest= i\n",
    "print(largest)"
   ]
  },
  {
   "cell_type": "code",
   "execution_count": 64,
   "metadata": {},
   "outputs": [
    {
     "name": "stdout",
     "output_type": "stream",
     "text": [
      "19\n"
     ]
    }
   ],
   "source": [
    "a=[38,21,53,62,19]\n",
    "a.sort() #sort를 이용해 최솟값 찾기\n",
    "print(a[0])"
   ]
  },
  {
   "cell_type": "code",
   "execution_count": 65,
   "metadata": {},
   "outputs": [
    {
     "name": "stdout",
     "output_type": "stream",
     "text": [
      "[62, 53, 38, 21, 19]\n"
     ]
    }
   ],
   "source": [
    "a=[38,21,53,62,19]\n",
    "a.sort(reverse=True) #sort와 reverse를 이용하여 최댓값 값 찾기\n",
    "print(a)"
   ]
  },
  {
   "cell_type": "code",
   "execution_count": 67,
   "metadata": {},
   "outputs": [
    {
     "name": "stdout",
     "output_type": "stream",
     "text": [
      "19\n",
      "62\n"
     ]
    }
   ],
   "source": [
    "a=[38,21,53,62,19]\n",
    "print(min(a)) # min()함수를 이용하여 반복 가능한 객체의 최솟값 찾기\n",
    "print(max(a)) # max()함수를 이용하여 반복 가능한 객체의 최댓값 찾기\n",
    "#반복 가능한 객체 == 리스트,튜플,딕셔너리,세트,range 등 \n"
   ]
  },
  {
   "cell_type": "code",
   "execution_count": 70,
   "metadata": {},
   "outputs": [
    {
     "name": "stdout",
     "output_type": "stream",
     "text": [
      "50\n"
     ]
    }
   ],
   "source": [
    "a=[10,10,10,10,10]\n",
    "x =0\n",
    "for i in a: # a안의 모든 요소를 더함 \n",
    "    x +=i\n",
    "print(x)"
   ]
  },
  {
   "cell_type": "code",
   "execution_count": 71,
   "metadata": {},
   "outputs": [
    {
     "name": "stdout",
     "output_type": "stream",
     "text": [
      "50\n"
     ]
    }
   ],
   "source": [
    "a=[10,10,10,10,10]\n",
    "print(sum(a)) #sum 함수르 객체 안의 요소 합 구하기\n"
   ]
  },
  {
   "cell_type": "code",
   "execution_count": null,
   "metadata": {},
   "outputs": [],
   "source": []
  }
 ],
 "metadata": {
  "kernelspec": {
   "display_name": "juneon",
   "language": "python",
   "name": "python3"
  },
  "language_info": {
   "codemirror_mode": {
    "name": "ipython",
    "version": 3
   },
   "file_extension": ".py",
   "mimetype": "text/x-python",
   "name": "python",
   "nbconvert_exporter": "python",
   "pygments_lexer": "ipython3",
   "version": "3.8.16"
  },
  "orig_nbformat": 4
 },
 "nbformat": 4,
 "nbformat_minor": 2
}
