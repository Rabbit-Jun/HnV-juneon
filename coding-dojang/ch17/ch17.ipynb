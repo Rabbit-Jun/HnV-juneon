{
 "cells": [
  {
   "cell_type": "code",
   "execution_count": 6,
   "metadata": {},
   "outputs": [
    {
     "name": "stdout",
     "output_type": "stream",
     "text": [
      "Hello, world!\n",
      "Hello, world!\n",
      "Hello, world!\n",
      "Hello, world!\n",
      "Hello, world!\n"
     ]
    }
   ],
   "source": [
    "i=0 #초기식\n",
    "while i <5: #while 조건식\n",
    "    print('Hello, world!') #반복할 코드\n",
    "    i +=1 #변화식\n"
   ]
  },
  {
   "cell_type": "markdown",
   "metadata": {},
   "source": [
    "먼저 초기식부터 시작하여 조건식을 판별합니다. 이때 조건식이 참(True)이면 반복할 코드와 변화식을 함께 수행합니다. 그리고 다시 조건식을 판별하여 참(True)이면 코드를 계속 반복하고, 거짓(False)이면 반복문을 끝낸 뒤 다음 코드를 실행합니다."
   ]
  },
  {
   "cell_type": "code",
   "execution_count": 7,
   "metadata": {},
   "outputs": [
    {
     "name": "stdout",
     "output_type": "stream",
     "text": [
      "hello 5\n",
      "hello 4\n",
      "hello 3\n",
      "hello 2\n",
      "hello 1\n"
     ]
    }
   ],
   "source": [
    "i =5\n",
    "while i>0:\n",
    "    print('hello',i)\n",
    "    i-=1"
   ]
  },
  {
   "cell_type": "code",
   "execution_count": 8,
   "metadata": {},
   "outputs": [
    {
     "name": "stdout",
     "output_type": "stream",
     "text": [
      "0\n",
      "1\n",
      "2\n",
      "3\n"
     ]
    }
   ],
   "source": [
    "count =int(input())\n",
    "i=0\n",
    "while i <count:\n",
    "    print(i)\n",
    "    i+=1\n",
    "    "
   ]
  },
  {
   "attachments": {},
   "cell_type": "markdown",
   "metadata": {},
   "source": [
    "while 반복문은 반복 횟수가 정해지지 않았을 때 주로 사용합니다.\n",
    "이번에는 난수를 생성해서 숫자에 따라 반복을 끝내 보겠습니다. 난수(random number)란 특정 주기로 반복되지 않으며 규칙 없이 무작위로 나열되는 숫자를 뜻합니다. 현실에서 쉽게 접할 수 있는 난수가 바로 주사위를 굴려서 나온 숫자입니다.\n",
    "\n"
   ]
  },
  {
   "cell_type": "code",
   "execution_count": 11,
   "metadata": {},
   "outputs": [
    {
     "name": "stdout",
     "output_type": "stream",
     "text": [
      "0.36328927113225884\n",
      "0.7001512069390765\n"
     ]
    }
   ],
   "source": [
    "import random #random 모듈을 가져온다\n",
    "print(random.random())#난수 출\n",
    "print(random.random())"
   ]
  },
  {
   "cell_type": "code",
   "execution_count": 13,
   "metadata": {},
   "outputs": [
    {
     "data": {
      "text/plain": [
       "3"
      ]
     },
     "execution_count": 13,
     "metadata": {},
     "output_type": "execute_result"
    }
   ],
   "source": [
    "random.randint(1,6) \n",
    "#randint 함수는 난수를 생성할 범위를 지정하며, 범위에 지정한 숫자도 난수에 포함됩니다.\n"
   ]
  },
  {
   "cell_type": "code",
   "execution_count": 14,
   "metadata": {},
   "outputs": [
    {
     "name": "stdout",
     "output_type": "stream",
     "text": [
      "5\n",
      "3\n"
     ]
    }
   ],
   "source": [
    "import random\n",
    "\n",
    "i=0\n",
    "while i !=3:\n",
    "    i =random.randint(1,6)\n",
    "    print(i)"
   ]
  },
  {
   "cell_type": "code",
   "execution_count": 26,
   "metadata": {},
   "outputs": [
    {
     "name": "stdout",
     "output_type": "stream",
     "text": [
      "2\n",
      "4\n",
      "4\n",
      "5\n",
      "4\n",
      "boom\n",
      "5\n",
      "boom\n",
      "3\n"
     ]
    }
   ],
   "source": [
    "dice=['boom',2,3,4,5,6]\n",
    "i=0\n",
    "while i !=3:\n",
    "    i=random.choice(dice) \n",
    "    #random.choice 함수를 사용하면 시퀀스 객체에서 요소를 무작위로 선택할 수 있다\n",
    "    #딕셔너리는 시퀀스 객체 아님\n",
    "    print(i)"
   ]
  },
  {
   "cell_type": "code",
   "execution_count": null,
   "metadata": {},
   "outputs": [],
   "source": [
    "while True: #while에True를 지정하면 무한 루프\n",
    "\tprint('Hello, World!')\n",
    "#boolean에서 True, False의 앞머리 글자는 대문자임\n",
    "\n",
    "while 1: #0이 아닌 숫자는 True로 취급하여 무한 루프로 동작\n",
    "\tprint('Hello') \n",
    "\n",
    "while 'Hello': #내용이 있는 문자열은 True로 취급하여 무한 루프로 동작\n",
    "\tprint('Hello, world!')\n"
   ]
  },
  {
   "attachments": {},
   "cell_type": "markdown",
   "metadata": {},
   "source": [
    "다음 소스 코드를 완성하여 정수 2 5, 4 4, 8 3, 16 2, 32 1이 각 줄에 출력되게 만드세요. while에 조건식은 두 개 지정하고, 두 변수를 모두 변화시켜야 합니다\n",
    "i = 2\n",
    "j = 5\n",
    "\n",
    "①            or        \n",
    "    print(i, j)\n",
    "    ②       \n",
    "    ③       \n",
    "실행 결과\n",
    "2 5\n",
    "4 4\n",
    "8 3\n",
    "16 2\n",
    "32 1"
   ]
  },
  {
   "cell_type": "code",
   "execution_count": null,
   "metadata": {},
   "outputs": [],
   "source": [
    "\n",
    "while i<=32 or j >=1:\n",
    "\tprint(i,j)\n",
    "\ti*=2\n",
    "\tj-=1"
   ]
  },
  {
   "attachments": {},
   "cell_type": "markdown",
   "metadata": {},
   "source": [
    "표준 입력으로 금액(정수)이 입력됩니다. \n",
    "1회당 요금은 1,350원이고, 교통카드를 사용했을 때마다의 잔액을 각 줄에 출력하는 프로그램을 만드세요\n",
    "(input에서 안내 문자열은 출력하지 않아야 합니다). 단, 최초 금액은 출력하지 않아야 합니다. \n",
    "그리고 잔액은 음수가 될 수 없으며 잔액이 부족하면 출력을 끝냅니다.\n",
    "\n",
    "입력\n",
    "10000\n",
    "결과\n",
    "8650\n",
    "7300\n",
    "5950\n",
    "4600\n",
    "3250\n",
    "1900\n",
    "550\n"
   ]
  },
  {
   "cell_type": "code",
   "execution_count": null,
   "metadata": {},
   "outputs": [],
   "source": [
    "card=int(input())\n",
    "while card>=1350:\n",
    "\tcard-=1350\n",
    "\tprint(card)"
   ]
  }
 ],
 "metadata": {
  "kernelspec": {
   "display_name": "juneon",
   "language": "python",
   "name": "python3"
  },
  "language_info": {
   "codemirror_mode": {
    "name": "ipython",
    "version": 3
   },
   "file_extension": ".py",
   "mimetype": "text/x-python",
   "name": "python",
   "nbconvert_exporter": "python",
   "pygments_lexer": "ipython3",
   "version": "3.8.16"
  },
  "orig_nbformat": 4
 },
 "nbformat": 4,
 "nbformat_minor": 2
}
