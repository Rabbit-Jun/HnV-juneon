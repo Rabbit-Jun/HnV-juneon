{
 "cells": [
  {
   "cell_type": "markdown",
   "metadata": {},
   "source": [
    " N-gram은 빅 데이터 분석, 검색 엔진에서 많이 쓰입니다. 특히 구글은 책들을 스캔해서 N-gram viewer를 만들었는데 사람들의 언어 패턴을 시대별로 분석하기도 했습니다."
   ]
  },
  {
   "cell_type": "code",
   "execution_count": 1,
   "metadata": {},
   "outputs": [
    {
     "name": "stdout",
     "output_type": "stream",
     "text": [
      "True\n"
     ]
    }
   ],
   "source": [
    "letteral=list(input())\n",
    "\n",
    "\n",
    "num1=[]\n",
    "num2=[]\n",
    "for i in range(len(letteral)//2):\n",
    "    num1.append(letteral.pop(0))\n",
    "    num2.append(letteral.pop(-1))\n",
    "if num1 ==num2:\n",
    "    print('True')\n",
    "else: print('False')\n",
    "\n",
    "\n",
    "\n",
    "\n"
   ]
  },
  {
   "cell_type": "markdown",
   "metadata": {},
   "source": [
    "sort()는 리스트의 메서드로서, 리스트 자체를 정렬합니다. 이는 원본 리스트를 변경(인플레이스)한다는 의미입니다. 따라서 sort() 함수의 반환값은 None입니다.\n",
    "ex) a.sort(reverse=True) print(a) >>> 내림차순 정렬\n",
    "\n",
    "sorted()는 파이썬의 내장 함수로써, 정렬 후 새로운 리스트 객체를 반환합니다. 이렇게 하면 원본 리스트는 변경되지 않습니다."
   ]
  },
  {
   "cell_type": "code",
   "execution_count": 5,
   "metadata": {},
   "outputs": [
    {
     "name": "stdout",
     "output_type": "stream",
     "text": [
      "e\n",
      "False\n"
     ]
    }
   ],
   "source": [
    "word = input('단어를 입력하세요: ')\n",
    " \n",
    "is_palindrome = True                 # 회문 판별값을 저장할 변수, 초깃값은 True\n",
    "for i in range(len(word) // 2):      # 0부터 문자열 길이의 절반만큼 반복\n",
    "    if word[i] != word[-1 - i]:    # 왼쪽 문자와 오른쪽 문자를 비교하여 문자가 다르면\n",
    "        is_palindrome = False        # 회문이 아님\n",
    "        break\n",
    " \n",
    "print(is_palindrome)                 # 회문 판별값 출력"
   ]
  },
  {
   "cell_type": "code",
   "execution_count": 6,
   "metadata": {},
   "outputs": [
    {
     "name": "stdout",
     "output_type": "stream",
     "text": [
      "True\n",
      "level\n"
     ]
    }
   ],
   "source": [
    "word = input('단어를 입력하세요: ')\n",
    "print(word ==word[::-1]) #원래 문자열과 반대로 뒤집은 문자열을 비교\n"
   ]
  },
  {
   "cell_type": "code",
   "execution_count": 7,
   "metadata": {},
   "outputs": [
    {
     "data": {
      "text/plain": [
       "True"
      ]
     },
     "execution_count": 7,
     "metadata": {},
     "output_type": "execute_result"
    }
   ],
   "source": [
    "word= 'level'\n",
    "list(word) == list(reversed(word))"
   ]
  },
  {
   "cell_type": "code",
   "execution_count": 9,
   "metadata": {},
   "outputs": [
    {
     "data": {
      "text/plain": [
       "True"
      ]
     },
     "execution_count": 9,
     "metadata": {},
     "output_type": "execute_result"
    }
   ],
   "source": [
    "word ='level'\n",
    "word == ''.join(reversed(word))"
   ]
  },
  {
   "cell_type": "code",
   "execution_count": 6,
   "metadata": {},
   "outputs": [
    {
     "name": "stdout",
     "output_type": "stream",
     "text": [
      "yna\n"
     ]
    }
   ],
   "source": [
    "a='any'\n",
    "print(''.join(reversed(a)))"
   ]
  },
  {
   "cell_type": "markdown",
   "metadata": {},
   "source": [
    "N-gram은 문자열에서 N개의 연속된 요소를 추출하는 방법"
   ]
  },
  {
   "cell_type": "code",
   "execution_count": 7,
   "metadata": {},
   "outputs": [
    {
     "name": "stdout",
     "output_type": "stream",
     "text": [
      "He\n",
      "el\n",
      "ll\n",
      "lo\n"
     ]
    }
   ],
   "source": [
    "text ='Hello'\n",
    "\n",
    "for i in range(len(text)-1): #2-gram 이므로 he, el, ll, lo 하고 멈춰야 함, 즉 마지막 인덱스-1 해야됨\n",
    "    print(text[i], text[i +1], sep='')\n"
   ]
  },
  {
   "cell_type": "code",
   "execution_count": 8,
   "metadata": {},
   "outputs": [
    {
     "name": "stdout",
     "output_type": "stream",
     "text": [
      "this is\n",
      "is python\n",
      "python script\n"
     ]
    }
   ],
   "source": [
    "text='this is python script'\n",
    "words =text.split()\n",
    "\n",
    "for i in range(len(words) -1):\n",
    "    print(words[i], words[i+1])\n",
    "\n",
    "#단어를 기준으로 2-gram"
   ]
  },
  {
   "cell_type": "code",
   "execution_count": 16,
   "metadata": {},
   "outputs": [
    {
     "name": "stdout",
     "output_type": "stream",
     "text": [
      "[('a', 2), ('b', 3)]\n",
      "{'a': 1, 'b': 2, 'c': 3}\n"
     ]
    }
   ],
   "source": [
    "text=['a','b','c']\n",
    "num=[1,2,3]\n",
    "a=zip(text,num[1:]) # zip 함수는 반복가능한 객체의 동일한 인덱스 번호를 가진 요소를 튜플로 묶어주는게 기본임, 하지만 인덱스 번호를 지정하면 지정한 요소끼리 쌍을 묶어줌( 쌍이 존재한다면)\n",
    "print(list(a))\n",
    "b=dict(zip(text,num))\n",
    "print(b)\n"
   ]
  },
  {
   "cell_type": "code",
   "execution_count": 17,
   "metadata": {},
   "outputs": [
    {
     "data": {
      "text/plain": [
       "[('h', 'e'), ('e', 'l'), ('l', 'l'), ('l', 'o')]"
      ]
     },
     "execution_count": 17,
     "metadata": {},
     "output_type": "execute_result"
    }
   ],
   "source": [
    "text ='hello'\n",
    "list(zip(text, text[1:]))\n"
   ]
  },
  {
   "cell_type": "code",
   "execution_count": 27,
   "metadata": {},
   "outputs": [
    {
     "name": "stdout",
     "output_type": "stream",
     "text": [
      "['this', 'is', 'python', 'script']\n",
      "this is\n",
      "is python\n",
      "python script\n"
     ]
    }
   ],
   "source": [
    "text='this is python script'\n",
    "word=text.split()\n",
    "print(word)\n",
    "a=list(zip(word,word[1:]))\n",
    "for i in a:\n",
    "    print(' '.join(i))\n"
   ]
  },
  {
   "cell_type": "code",
   "execution_count": 1,
   "metadata": {},
   "outputs": [
    {
     "data": {
      "text/plain": [
       "['hello', 'ello', 'llo']"
      ]
     },
     "execution_count": 1,
     "metadata": {},
     "output_type": "execute_result"
    }
   ],
   "source": [
    "text ='hello'\n",
    "[text[i:] for i in range(3)]\n"
   ]
  },
  {
   "cell_type": "code",
   "execution_count": 3,
   "metadata": {},
   "outputs": [
    {
     "data": {
      "text/plain": [
       "[('hello',), ('ello',), ('llo',)]"
      ]
     },
     "execution_count": 3,
     "metadata": {},
     "output_type": "execute_result"
    }
   ],
   "source": [
    "list(zip(['hello', 'ello','llo'])) #하나의 리스트만 존재 하므로 zip을 해도 튜플형식으로만 나옴\n"
   ]
  },
  {
   "cell_type": "code",
   "execution_count": 2,
   "metadata": {},
   "outputs": [
    {
     "data": {
      "text/plain": [
       "[('h', 'e', 'l'), ('e', 'l', 'l'), ('l', 'l', 'o')]"
      ]
     },
     "execution_count": 2,
     "metadata": {},
     "output_type": "execute_result"
    }
   ],
   "source": [
    "list(zip(*['hello', 'ello','llo'])) # 리스트에 *를 붙이는 방법은 리스트 언패킹이라고 함\n"
   ]
  },
  {
   "cell_type": "markdown",
   "metadata": {},
   "source": [
    "4-gram을 쓰면 picked, picks, picking에서 pick만 추출하여 단어의 빈도를 세는데 이용됩니다. 이런 특성 때문에 검색엔진, 빅데이터, 법언어학 분야에서 주로 활용됩니다.\n",
    "\n",
    "해리포터의 작가 조앤 롤링은 가명으로 <더 쿠쿠스 콜링>이라는 소설을 출간한 적이 있었습니다. 재미있는 점은 <더 쿠쿠스 콜링>의 작가가 조앤 롤링이라는 것을 밝혀내는데 N-gram을 비롯하여 다양한 기법이 동원되었습니다. 즉, 사람마다 사용하는 문장에 패턴이 있지요. 그래서 같은 의미라 하더라도 사람마다 단어 선택이 다르다는 것을 통계적으로 분석해낸 사례입니다."
   ]
  },
  {
   "cell_type": "markdown",
   "metadata": {},
   "source": [
    "28.3 연습문제: 단어 단위 N-gram 만들기\n",
    "표준 입력으로 정수와 문자열이 각 줄에 입력됩니다. 다음 소스 코드를 완성하여 입력된 숫자에 해당하는 단어 단위 N-gram을 튜플로 출력하세요(리스트 표현식 사용). 만약 입력된 문자열의 단어 개수가 입력된 정수 미만이라면 'wrong'을 출력하세요.\n",
    "\n",
    "practice_n_gram_word.py\n",
    "\n",
    "n = int(input())\n",
    "text = input()\n",
    "words = ①           \n",
    " \n",
    "if (②             ):\n",
    "    print('wrong')\n",
    "else:\n",
    "    n_gram = ③                                 \n",
    "    for i in n_gram:\n",
    "        print(i)\n",
    "\n",
    "\n",
    "실행 결과\n",
    "7 (입력)\n",
    "Python is a programming language that lets you work quickly (입력)\n",
    "('Python', 'is', 'a', 'programming', 'language', 'that', 'lets')\n",
    "('is', 'a', 'programming', 'language', 'that', 'lets', 'you')\n",
    "('a', 'programming', 'language', 'that', 'lets', 'you', 'work')\n",
    "('programming', 'language', 'that', 'lets', 'you', 'work', 'quickly')"
   ]
  },
  {
   "cell_type": "code",
   "execution_count": 11,
   "metadata": {},
   "outputs": [
    {
     "name": "stdout",
     "output_type": "stream",
     "text": [
      "('Python', 'is', 'a', 'programming', 'language', 'that', 'lets')\n",
      "('is', 'a', 'programming', 'language', 'that', 'lets', 'you')\n",
      "('a', 'programming', 'language', 'that', 'lets', 'you', 'work')\n",
      "('programming', 'language', 'that', 'lets', 'you', 'work', 'quickly')\n"
     ]
    }
   ],
   "source": [
    "n = int(input())\n",
    "text = input()\n",
    "words = text.split()     \n",
    " \n",
    "if ( len(words) < n):\n",
    "    print('wrong')\n",
    "else:\n",
    "    n_gram = list(zip(*[words[ i : ] for i in range(n)]))\n",
    "    \n",
    "    for i in n_gram:\n",
    "        print(i)"
   ]
  },
  {
   "cell_type": "code",
   "execution_count": 5,
   "metadata": {},
   "outputs": [
    {
     "name": "stdout",
     "output_type": "stream",
     "text": [
      "[('a', 'b', 'c'), ('a', 'b', 'b')]\n"
     ]
    }
   ],
   "source": [
    "a=list(zip(*['aa','bb','cb']))\n",
    "print(a)"
   ]
  },
  {
   "cell_type": "markdown",
   "metadata": {},
   "source": [
    "단어가 줄 단위로 저장된 words.txt 파일이 주어집니다. words.txt 파일에서 회문인 단어를 각 줄에 출력하는 프로그램을 만드세요. 단어를 출력할 때는 등장한 순서대로 출력해야 합니다. 그리고 파일에서 읽은 단어는 \\n이 붙어있으므로 \\n을 제외한 뒤 회문인지 판단해야 하며 단어를 출력할 때도 \\n이 출력되면 안 됩니다(단어 사이에 줄바꿈이 두 번 일어나면 안 됨).\n",
    "\n",
    "judge_palindrome.py\n",
    "________________\n",
    "________________\n",
    "________________\n",
    "________________\n",
    "________________\n",
    "________________\n",
    "\n",
    "\n",
    "words.txt\n",
    "apache\n",
    "decal\n",
    "did\n",
    "neep\n",
    "noon\n",
    "refer\n",
    "river\n",
    "표준 출력\n",
    "did\n",
    "noon\n",
    "refer"
   ]
  },
  {
   "cell_type": "code",
   "execution_count": 26,
   "metadata": {},
   "outputs": [
    {
     "name": "stdout",
     "output_type": "stream",
     "text": [
      "did\n",
      "noon\n",
      "refer\n"
     ]
    }
   ],
   "source": [
    "a=input().split()\n",
    "a='\\n'.join(a)\n",
    "with open ('words.txt','w') as file:\n",
    "    line = file.write(a) \n",
    "with open ('words.txt','r') as file:\n",
    "    for line in file:\n",
    "        b=line.strip('\\n')\n",
    "    \n",
    "        if b ==b[::-1]:\n",
    "            print(b)"
   ]
  }
 ],
 "metadata": {
  "kernelspec": {
   "display_name": "juneon",
   "language": "python",
   "name": "python3"
  },
  "language_info": {
   "codemirror_mode": {
    "name": "ipython",
    "version": 3
   },
   "file_extension": ".py",
   "mimetype": "text/x-python",
   "name": "python",
   "nbconvert_exporter": "python",
   "pygments_lexer": "ipython3",
   "version": "3.8.16"
  },
  "orig_nbformat": 4
 },
 "nbformat": 4,
 "nbformat_minor": 2
}
