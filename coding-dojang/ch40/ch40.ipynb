{
 "cells": [
  {
   "cell_type": "code",
   "execution_count": 3,
   "metadata": {},
   "outputs": [
    {
     "name": "stdout",
     "output_type": "stream",
     "text": [
      "0\n",
      "1\n",
      "2\n"
     ]
    },
    {
     "data": {
      "text/plain": [
       "['__class__',\n",
       " '__del__',\n",
       " '__delattr__',\n",
       " '__dir__',\n",
       " '__doc__',\n",
       " '__eq__',\n",
       " '__format__',\n",
       " '__ge__',\n",
       " '__getattribute__',\n",
       " '__getstate__',\n",
       " '__gt__',\n",
       " '__hash__',\n",
       " '__init__',\n",
       " '__init_subclass__',\n",
       " '__iter__',\n",
       " '__le__',\n",
       " '__lt__',\n",
       " '__name__',\n",
       " '__ne__',\n",
       " '__new__',\n",
       " '__next__',\n",
       " '__qualname__',\n",
       " '__reduce__',\n",
       " '__reduce_ex__',\n",
       " '__repr__',\n",
       " '__setattr__',\n",
       " '__sizeof__',\n",
       " '__str__',\n",
       " '__subclasshook__',\n",
       " 'close',\n",
       " 'gi_code',\n",
       " 'gi_frame',\n",
       " 'gi_running',\n",
       " 'gi_suspended',\n",
       " 'gi_yieldfrom',\n",
       " 'send',\n",
       " 'throw']"
      ]
     },
     "execution_count": 3,
     "metadata": {},
     "output_type": "execute_result"
    }
   ],
   "source": [
    "def number_generator():\n",
    "    yield 0 #함수 안에서 yield를 사용하면 함수는 제너레이터가 되며 yield에는 값(변수)을 지정합니다.\n",
    "    yield 1    #제너레이터를 발생자라고 부르기도 한다\n",
    "    yield 2\n",
    " \n",
    "for i in number_generator():\n",
    "    print(i)\n",
    "\n",
    "g= number_generator()\n",
    "dir(g) #itter, next 메서드가 들어있음\n",
    "\n",
    "\n",
    "# yield를 사용하면 값을 함수 바깥으로 전달하면서 코드 실행을 함수 바깥에 양보합니다. 따라서 yield는 현재 함수를 잠시 중단하고 함수 바깥의 코드가 실행되도록 만듭니다."
   ]
  },
  {
   "cell_type": "code",
   "execution_count": 1,
   "metadata": {},
   "outputs": [
    {
     "name": "stdout",
     "output_type": "stream",
     "text": [
      "0\n",
      "1\n",
      "2\n"
     ]
    }
   ],
   "source": [
    "def number_generator():\n",
    "    yield 0    # 0을 함수 바깥으로 전달하면서 코드 실행을 함수 바깥에 양보\n",
    "    yield 1    # 1을 함수 바깥으로 전달하면서 코드 실행을 함수 바깥에 양보\n",
    "    yield 2    # 2를 함수 바깥으로 전달하면서 코드 실행을 함수 바깥에 양보\n",
    " \n",
    "g = number_generator()\n",
    " \n",
    "a = next(g)    # yield를 사용하여 함수 바깥으로 전달한 값은 next의 반환값으로 나옴\n",
    "print(a)       # 0\n",
    " \n",
    "b = next(g)\n",
    "print(b)       # 1\n",
    " \n",
    "c = next(g)\n",
    "print(c)       # 2\n"
   ]
  },
  {
   "cell_type": "markdown",
   "metadata": {},
   "source": [
    "제너레이터는 함수 끝까지 도달하면 StopIteration 예외가 발생합니다. 마찬가지로 return도 함수를 끝내므로 return을 사용해서 함수 중간에 빠져나오면 StopIteration 예외가 발생합니다.\n",
    "\n",
    "특히 제너레이터 안에서 return에 반환값을 지정하면 StopIteration 예외의 에러 메시지로 들어갑니다."
   ]
  },
  {
   "cell_type": "code",
   "execution_count": 2,
   "metadata": {},
   "outputs": [
    {
     "name": "stdout",
     "output_type": "stream",
     "text": [
      "return에 지정한 값\n"
     ]
    }
   ],
   "source": [
    "def one_generator():\n",
    "    yield 1\n",
    "    return 'return에 지정한 값'\n",
    " \n",
    "try:\n",
    "    g = one_generator()\n",
    "    next(g)\n",
    "    next(g)\n",
    "except StopIteration as e:\n",
    "    print(e)    # return에 지정한 값"
   ]
  },
  {
   "cell_type": "code",
   "execution_count": 3,
   "metadata": {},
   "outputs": [
    {
     "name": "stdout",
     "output_type": "stream",
     "text": [
      "0\n",
      "1\n",
      "2\n"
     ]
    }
   ],
   "source": [
    "def number_generator(stop):\n",
    "    n = 0              # 숫자는 0부터 시작\n",
    "    while n < stop:    # 현재 숫자가 반복을 끝낼 숫자보다 작을 때 반복\n",
    "        yield n        # 현재 숫자를 바깥으로 전달\n",
    "        n += 1         # 현재 숫자를 증가시킴\n",
    " \n",
    "for i in number_generator(3):\n",
    "    print(i)"
   ]
  },
  {
   "cell_type": "code",
   "execution_count": 4,
   "metadata": {},
   "outputs": [
    {
     "name": "stdout",
     "output_type": "stream",
     "text": [
      "APPLE\n",
      "PEAR\n",
      "GRAPE\n",
      "PINEAPPLE\n",
      "ORANGE\n"
     ]
    }
   ],
   "source": [
    "def upper_generator(x):\n",
    "    for i in x:\n",
    "        yield i.upper()    # 함수의 반환값을 바깥으로 전달\n",
    " \n",
    "fruits = ['apple', 'pear', 'grape', 'pineapple', 'orange']\n",
    "for i in upper_generator(fruits):\n",
    "    print(i)"
   ]
  },
  {
   "cell_type": "code",
   "execution_count": 5,
   "metadata": {},
   "outputs": [
    {
     "name": "stdout",
     "output_type": "stream",
     "text": [
      "1\n",
      "2\n",
      "3\n"
     ]
    }
   ],
   "source": [
    "def number_generator():\n",
    "    x = [1, 2, 3]\n",
    "    yield from x    # 리스트에 들어있는 요소를 한 개씩 바깥으로 전달\n",
    " \n",
    "for i in number_generator():\n",
    "    print(i)\n",
    "\n",
    "    # yield from 반복가능한 객체,yield from 이터레이터, yield from 제너레이터 객체를 사용하여 귀찮게 반복문을 일일이 쓰는것을 피한다\n",
    "    "
   ]
  },
  {
   "cell_type": "code",
   "execution_count": 6,
   "metadata": {},
   "outputs": [
    {
     "name": "stdout",
     "output_type": "stream",
     "text": [
      "0\n",
      "1\n",
      "2\n"
     ]
    }
   ],
   "source": [
    "def number_generator(stop):\n",
    "    n = 0\n",
    "    while n < stop:\n",
    "        yield n\n",
    "        n += 1\n",
    " \n",
    "def three_generator():\n",
    "    yield from number_generator(3)    # 숫자를 세 번 바깥으로 전달\n",
    " \n",
    "for i in three_generator():\n",
    "    print(i)"
   ]
  },
  {
   "cell_type": "markdown",
   "metadata": {},
   "source": [
    "리스트 표현식을 사용할 때 [ ](대괄호)를 사용했습니다. 같은 리스트 표현식을 ( )(괄호)로 묶으면 제너레이터 표현식이 됩니다. 리스트 표현식은 처음부터 리스트의 요소를 만들어내지만 제너레이터 표현식은 필요할 때 요소를 만들어내므로 메모리를 절약할 수 있습니다."
   ]
  },
  {
   "cell_type": "code",
   "execution_count": 8,
   "metadata": {},
   "outputs": [
    {
     "name": "stdout",
     "output_type": "stream",
     "text": [
      "[0, 2, 4, 6, 8, 10, 12, 14, 16, 18, 20, 22, 24, 26, 28, 30, 32, 34, 36, 38, 40, 42, 44, 46, 48]"
     ]
    }
   ],
   "source": [
    "x=[i for i in range(50) if i % 2 == 0]\n",
    "print(x, end='')"
   ]
  },
  {
   "cell_type": "code",
   "execution_count": 9,
   "metadata": {},
   "outputs": [
    {
     "data": {
      "text/plain": [
       "<generator object <genexpr> at 0x00000245FE18BD80>"
      ]
     },
     "execution_count": 9,
     "metadata": {},
     "output_type": "execute_result"
    }
   ],
   "source": [
    "(i for i in range(50) if i % 2 == 0)"
   ]
  },
  {
   "cell_type": "markdown",
   "metadata": {},
   "source": [
    "다음 소스 코드에서 words.txt 파일을 한 줄씩 읽은 뒤 내용을 함수 바깥에 전달하는 제너레이터를 작성하세요. 파일의 내용을 출력할 때 파일에서 읽은 \\n은 출력되지 않아야 합니다(단어 사이에 줄바꿈이 두 번 일어나면 안 됨).\n",
    "\n",
    "words.txt\n",
    "\n",
    "compatibility\n",
    "experience\n",
    "photography\n",
    "spotlight\n",
    "practice_generator.py\n",
    "def file_read():\n",
    "    with open('words.txt') as file:\n",
    "                                   \n",
    "        ...\n",
    "                                   \n",
    " \n",
    "for i in file_read():\n",
    "    print(i)\n",
    "    \n",
    "\n",
    "실행 결과\n",
    "\n",
    "compatibility\n",
    "experience\n",
    "photography\n",
    "spotlight"
   ]
  },
  {
   "cell_type": "code",
   "execution_count": 19,
   "metadata": {},
   "outputs": [
    {
     "name": "stdout",
     "output_type": "stream",
     "text": [
      "compatibility\n",
      "experience\n",
      "photography\n",
      "spotlight\n"
     ]
    }
   ],
   "source": [
    "def file_read():\n",
    "    with open('words.txt') as file:\n",
    "        # yield from file\n",
    "        while True:\n",
    "            line = file.readline()\n",
    "            if line == '':\n",
    "                break\n",
    "            yield line.strip('\\n')\n",
    "\n",
    " #, 용량이 매우 큰 파일은 메모리에 한꺼번에 읽어서 처리하기가 힘듭니다. 따라서 대용량 데이터를 부분부분 처리해야 할 때 이렇게 제너레이터를 활용합니다                                  \n",
    " \n",
    "for i in file_read():\n",
    "    print(i)"
   ]
  },
  {
   "cell_type": "markdown",
   "metadata": {},
   "source": [
    "표준 입력으로 정수 두 개가 입력됩니다(첫 번째 입력 값의 범위는 10~1000, 두 번째 입력 값의 범위는 100~1000이며 첫 번째 입력 값은 두 번째 입력 값보다 항상 작습니다). 다음 소스 코드에서 첫 번째 정수부터 두 번째 정수 사이의 소수(prime number)를 생성하는 제너레이터를 만드세요. 소수는 1과 자기자신만으로 나누어 떨어지는 1보다 큰 양의 정수입니다.\n",
    "\n",
    "judge_generator.py\n",
    "\n",
    "________________\n",
    "________________\n",
    "________________\n",
    "________________\n",
    "________________\n",
    "________________\n",
    "________________\n",
    "________________\n",
    "\n",
    "start, stop = map(int, input().split())\n",
    " \n",
    "g = prime_number_generator(start, stop)\n",
    "print(type(g))\n",
    "for i in g:\n",
    "    print(i, end=' ')\n",
    "\n",
    "예\n",
    "\n",
    "입력\n",
    "50 100\n",
    "\n",
    "결과\n",
    "<class 'generator'>\n",
    "53 59 61 67 71 73 79 83 89 97 \n",
    "\n",
    "입력\n",
    "950 1000\n",
    "\n",
    "결과\n",
    "<class 'generator'>\n",
    "953 967 971 977 983 991 997 "
   ]
  },
  {
   "cell_type": "code",
   "execution_count": 49,
   "metadata": {},
   "outputs": [
    {
     "name": "stdout",
     "output_type": "stream",
     "text": [
      "<class 'generator'>\n",
      "53 59 61 67 71 73 79 83 89 97 "
     ]
    }
   ],
   "source": [
    "prime=[]\n",
    "def add_list(num):\n",
    "    n=num.index(min(num))\n",
    "    x=num.pop(n)\n",
    "    prime.append(x)\n",
    "    return x\n",
    "def del_list(start,prime):\n",
    "    i=0\n",
    "    while prime[i] <start:\n",
    "        prime.pop(i)\n",
    "    return prime\n",
    "\n",
    "        \n",
    "\n",
    "def prime_number_generator(start, stop):\n",
    "    num=[]\n",
    "    \n",
    "    for i in range(2,stop+1):\n",
    "        num.append(i)\n",
    "    while True:\n",
    "        j=2\n",
    "        x=add_list(num)\n",
    "        while x*j <=stop:\n",
    "            try:\n",
    "                num.remove(x*j)\n",
    "            except:\n",
    "                pass\n",
    "            finally:\n",
    "                j +=1\n",
    "\n",
    "            \n",
    "        if min(num) ==max(num):\n",
    "            add_list(num)\n",
    "            del_list(start,prime)\n",
    "            break\n",
    "    yield from prime  \n",
    "\n",
    "\n",
    "\n",
    "\n",
    "\n",
    "\n",
    "start, stop = map(int, input().split())\n",
    " \n",
    "g = prime_number_generator(start, stop)\n",
    "print(type(g))\n",
    "for i in g:\n",
    "    print(i, end=' ')\n",
    "\n",
    "\n",
    "#return과 yeild의 차이점이 뭘까?\n"
   ]
  }
 ],
 "metadata": {
  "kernelspec": {
   "display_name": "Python 3",
   "language": "python",
   "name": "python3"
  },
  "language_info": {
   "codemirror_mode": {
    "name": "ipython",
    "version": 3
   },
   "file_extension": ".py",
   "mimetype": "text/x-python",
   "name": "python",
   "nbconvert_exporter": "python",
   "pygments_lexer": "ipython3",
   "version": "3.10.13"
  },
  "orig_nbformat": 4
 },
 "nbformat": 4,
 "nbformat_minor": 2
}
