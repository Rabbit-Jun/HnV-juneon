{
 "cells": [
  {
   "cell_type": "code",
   "execution_count": 2,
   "metadata": {},
   "outputs": [
    {
     "name": "stdout",
     "output_type": "stream",
     "text": [
      "p1: 30 20\n",
      "p2: 60 50\n"
     ]
    }
   ],
   "source": [
    "class Point2D:\n",
    "    def __init__(self, x, y):\n",
    "        self.x = x\n",
    "        self.y = y\n",
    " \n",
    "p1 = Point2D(x=30, y=20)    # 점1\n",
    "p2 = Point2D(x=60, y=50)    # 점2\n",
    " \n",
    "print('p1: {} {}'.format(p1.x, p1.y))    # 30 20\n",
    "print('p2: {} {}'.format(p2.x, p2.y))    # 60 50"
   ]
  },
  {
   "cell_type": "code",
   "execution_count": null,
   "metadata": {},
   "outputs": [],
   "source": [
    "import math\n",
    " \n",
    "class Point2D:\n",
    "    def __init__(self, x, y):\n",
    "        self.x = x\n",
    "        self.y = y\n",
    " \n",
    "p1 = Point2D(x=30, y=20)    # 점1\n",
    "p2 = Point2D(x=60, y=50)    # 점2\n",
    " \n",
    "a = p2.x - p1.x    # 선 a의 길이\n",
    "b = p2.y - p1.y    # 선 b의 길이\n",
    " \n",
    "c = math.sqrt((a * a) + (b * b))    # (a * a) + (b * b)의 제곱근을 구함\n",
    "print(c)    # 42.42640687119285\n",
    "\n",
    "# math.sqrt(값) n  제곱근을 반환, 값이 음수이면 에러 발생"
   ]
  },
  {
   "cell_type": "markdown",
   "metadata": {},
   "source": [
    "다음 소스 코드를 완성하여 사각형의 넓이가 출력되게 만드세요.\n",
    "\n",
    "\n",
    "class Rectangle:\n",
    "    def __init__(self, x1, y1, x2, y2):\n",
    "        self.x1 = x1\n",
    "        self.y1 = y1\n",
    "        self.x2 = x2\n",
    "        self.y2 = y2\n",
    " \n",
    "rect = Rectangle(x1=20, y1=20, x2=40, y2=30)\n",
    " \n",
    "①                              \n",
    "②                              \n",
    "③                              \n",
    "print(area)\n",
    "\n",
    "실행 결과\n",
    "200"
   ]
  },
  {
   "cell_type": "code",
   "execution_count": 3,
   "metadata": {},
   "outputs": [
    {
     "name": "stdout",
     "output_type": "stream",
     "text": [
      "200\n"
     ]
    }
   ],
   "source": [
    "class Rectangle:\n",
    "    def __init__(self, x1, y1, x2, y2):\n",
    "        self.x1 = x1\n",
    "        self.y1 = y1\n",
    "        self.x2 = x2\n",
    "        self.y2 = y2\n",
    " \n",
    "rect = Rectangle(x1=20, y1=20, x2=40, y2=30)\n",
    " \n",
    "x= rect.x2-rect.x1\n",
    "y= rect.y2-rect.y1\n",
    "area=x*y                             \n",
    "print(area)\n",
    "\n",
    "#abs(x) 하면  절대값x 반환"
   ]
  },
  {
   "cell_type": "markdown",
   "metadata": {},
   "source": [
    "표준 입력으로 x, y 좌표 4개가 입력되어 Point2D 클래스의 인스턴스 리스트에 저장됩니다. 여기서 점 4개는 첫 번째 점부터 마지막 점까지 순서대로 이어져 있습니다. 다음 소스 코드를 완성하여 첫 번째 점부터 마지막 점까지 연결된 선의 길이가 출력되게 만드세요.\n",
    "\n",
    "judge_line_length.py\n",
    "\n",
    "\n",
    "import math\n",
    " \n",
    "class Point2D:\n",
    "    def __init__(self, x=0, y=0):\n",
    "        self.x = x\n",
    "        self.y = y\n",
    " \n",
    "length = 0.0\n",
    "p = [Point2D(), Point2D(), Point2D(), Point2D()]\n",
    "p[0].x, p[0].y, p[1].x, p[1].y, p[2].x, p[2].y, p[3].x, p[3].y = map(int, input().split())\n",
    "\n",
    "_____________________\n",
    "_____________________\n",
    "_____________________\n",
    "_____________________\n",
    "\n",
    "print(length)\n",
    "\n",
    "\n",
    "입력\n",
    "10 10 20 20 30 30 40 40\n",
    "\n",
    "결과\n",
    "42.42640687119285"
   ]
  },
  {
   "cell_type": "code",
   "execution_count": 13,
   "metadata": {},
   "outputs": [
    {
     "name": "stdout",
     "output_type": "stream",
     "text": [
      "42.42640687119285\n"
     ]
    }
   ],
   "source": [
    "import math\n",
    " \n",
    "class Point2D:\n",
    "    def __init__(self, x=0, y=0):\n",
    "        self.x = x\n",
    "        self.y = y\n",
    "\n",
    "\n",
    " \n",
    "length = 0.0\n",
    "p = [Point2D(), Point2D(), Point2D(), Point2D()]\n",
    "p[0].x, p[0].y, p[1].x, p[1].y, p[2].x, p[2].y, p[3].x, p[3].y = map(int, input().split())\n",
    "\n",
    "for i in range(len(p)-1):\n",
    "    x1=abs(p[i].x-p[i+1].x)\n",
    "    y1=abs(p[i].y-p[i+1].y)\n",
    "    c1=math.sqrt(x1**2+y1**2)\n",
    "    length +=c1\n",
    "\n",
    "\n",
    "\n",
    "print(length)"
   ]
  }
 ],
 "metadata": {
  "kernelspec": {
   "display_name": "Python 3",
   "language": "python",
   "name": "python3"
  },
  "language_info": {
   "codemirror_mode": {
    "name": "ipython",
    "version": 3
   },
   "file_extension": ".py",
   "mimetype": "text/x-python",
   "name": "python",
   "nbconvert_exporter": "python",
   "pygments_lexer": "ipython3",
   "version": "3.11.1"
  },
  "orig_nbformat": 4
 },
 "nbformat": 4,
 "nbformat_minor": 2
}
