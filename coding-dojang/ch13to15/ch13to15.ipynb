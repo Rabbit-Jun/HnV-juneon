{
 "cells": [
  {
   "attachments": {},
   "cell_type": "markdown",
   "metadata": {},
   "source": [
    "의사 코드는 사람의 언어로 프로그래밍 언어를 표현한 것\n",
    "ex) x에 10을 할당한다 (pseudo code)\n",
    "    x=10 (python)\n"
   ]
  },
  {
   "cell_type": "code",
   "execution_count": null,
   "metadata": {},
   "outputs": [],
   "source": [
    "x=10\n",
    "if x ==10:\n",
    "    print('x is 10')\n",
    "# use indent to if grammar\n",
    "# if conditional expression: code to run (we call it if body)\n"
   ]
  },
  {
   "cell_type": "code",
   "execution_count": null,
   "metadata": {},
   "outputs": [],
   "source": [
    "x= 10\n",
    "if x ==10:\n",
    "    pass \n",
    "#pass to run ,use maintain if grammar, 나중에 할일을 주석으로 남겨놓는 방식으로 사용한다.\n",
    "#보통 주석에TODO: 나중에 넣을 내용 이런 형태\n",
    "\n"
   ]
  },
  {
   "attachments": {},
   "cell_type": "markdown",
   "metadata": {},
   "source": [
    "if 다음 줄에 들여쓰기가 된 코드는 if의 영향을 받아서 조건식에 따라 실행이 결정되지만 들여쓰기가 되지 않은 코드는 항상 실행됩니다\n",
    "ex)\n",
    "if x>10:\n",
    "    print('if문에 속해 있음')\n",
    "print('if문에 속해 있지 않음')\n",
    "같은 if body의 코드는 들여쓰기 칸수가 같아야 함\n",
    "ex)\n",
    "if x>10:\n",
    "    print('if문에 속해 있음')\n",
    "        print('unexpected indent') #error"
   ]
  },
  {
   "cell_type": "code",
   "execution_count": null,
   "metadata": {},
   "outputs": [],
   "source": [
    "x=15\n",
    "if x>=10:\n",
    "    print('x는 10이상') \n",
    "    if x ==15: #if문을 중첩해서 사용할 수 있다 \n",
    "        print('x is 15')\n",
    "    if x ==20:\n",
    "        print( 'x is 20')"
   ]
  },
  {
   "cell_type": "code",
   "execution_count": null,
   "metadata": {},
   "outputs": [],
   "source": [
    "x = int(input())\n",
    "\n",
    "if x ==10:\n",
    "    print('x=10')\n",
    "\n",
    "if x >10:\n",
    "    print('x>10')"
   ]
  },
  {
   "attachments": {},
   "cell_type": "markdown",
   "metadata": {},
   "source": [
    "표준 입력으로 가격(정수)과 쿠폰 이름이 각 줄에 입력됩니다. Cash3000 쿠폰은 3,000원, Cash5000 쿠폰은 5,000원을 할인합니다. 쿠폰에 따라 할인된 가격을 출력하는 프로그램을 만드세요(input에서 안내 문자열은 출력하지 않아야 합니다).\n",
    "\n",
    "입력\n",
    "27000\n",
    "Cash3000\n",
    "결과\n",
    "24000"
   ]
  },
  {
   "cell_type": "code",
   "execution_count": null,
   "metadata": {},
   "outputs": [],
   "source": [
    "value=int(input())\n",
    "cupon=input()\n",
    "if cupon =='Cash5000':\n",
    "    print(value-5000)\n",
    "else:\n",
    "    print(value-3000)"
   ]
  },
  {
   "cell_type": "code",
   "execution_count": 2,
   "metadata": {},
   "outputs": [
    {
     "name": "stdout",
     "output_type": "stream",
     "text": [
      "x != 10\n"
     ]
    }
   ],
   "source": [
    "x=5\n",
    "\n",
    "if x ==10:\n",
    "    print('x is 10')\n",
    "else: #if 조건식이 거짓일 경우에 else 본문이 실행됨\n",
    "    print('x != 10') \n"
   ]
  },
  {
   "cell_type": "code",
   "execution_count": 3,
   "metadata": {},
   "outputs": [
    {
     "name": "stdout",
     "output_type": "stream",
     "text": [
      "0\n"
     ]
    }
   ],
   "source": [
    "x= 5\n",
    "y =x if x==10 else 0 \n",
    "# if,else에서 변수에 값을 할당할 때 축약해서 할당 가능,이런형식을 조건부 표현식이라고 한다\n",
    "print(y)"
   ]
  },
  {
   "cell_type": "code",
   "execution_count": 5,
   "metadata": {},
   "outputs": [
    {
     "name": "stdout",
     "output_type": "stream",
     "text": [
      "참\n",
      "거짓\n",
      "None is False\n"
     ]
    }
   ],
   "source": [
    "if True:\n",
    "    print('참')    # True는 참\n",
    "else:\n",
    "    print('거짓')\n",
    " \n",
    "if False:\n",
    "    print('참')\n",
    "else:\n",
    "    print('거짓')    # False는 거짓\n",
    " \n",
    "if None:\n",
    "    print('참')\n",
    "else:\n",
    "    print('None is False') # None is False"
   ]
  },
  {
   "cell_type": "code",
   "execution_count": null,
   "metadata": {},
   "outputs": [],
   "source": [
    "if 0:\n",
    "    print('참')\n",
    "else:\n",
    "    print('거짓')    # 0은 거짓\n",
    " \n",
    "if 1:\n",
    "    print('참')    # 1은 참\n",
    "else:\n",
    "    print('거짓')\n",
    " \n",
    "if 0x1F:    # 16진수\n",
    "    print('참')    # 0x1F는 참\n",
    "else:\n",
    "    print('거짓')\n",
    " \n",
    "if 0b1000:    # 2진수\n",
    "    print('참')    # 0b1000은 참\n",
    "else:\n",
    "    print('거짓')\n",
    " \n",
    "if 13.5:    # 실수\n",
    "    print('참')    # 13.5는 참\n",
    "else:\n",
    "    print('거짓')\n",
    "\n",
    "#진수에 상관없이 0이면 거짓, 0이 아니면 참\n"
   ]
  },
  {
   "cell_type": "code",
   "execution_count": 6,
   "metadata": {},
   "outputs": [
    {
     "name": "stdout",
     "output_type": "stream",
     "text": [
      "참\n",
      "거짓\n"
     ]
    }
   ],
   "source": [
    "if 'Hello':    \n",
    "    print('참')    # 문자열은 참\n",
    "else:\n",
    "    print('거짓')\n",
    " \n",
    "if '':    \n",
    "    print('참')\n",
    "else:\n",
    "    print('거짓')    # 빈 문자열은 거짓"
   ]
  },
  {
   "cell_type": "code",
   "execution_count": 7,
   "metadata": {},
   "outputs": [
    {
     "name": "stdout",
     "output_type": "stream",
     "text": [
      "빈 시퀀스 객체는 false다\n",
      "빈 시퀀스 객체는 false다\n",
      "빈 시퀀스 객체는 false다\n"
     ]
    }
   ],
   "source": [
    "x=[]\n",
    "y={}\n",
    "z=()\n",
    "if x == True:\n",
    "    print('True')\n",
    "else:\n",
    "    print('빈 시퀀스 객체는 false다')\n",
    "if y == True:\n",
    "    print('True')\n",
    "else:\n",
    "    print('빈 시퀀스 객체는 false다')\n",
    "if z == True:\n",
    "    print('True')\n",
    "else:\n",
    "    print('빈 시퀀스 객체는 false다')"
   ]
  },
  {
   "cell_type": "code",
   "execution_count": 10,
   "metadata": {},
   "outputs": [
    {
     "name": "stdout",
     "output_type": "stream",
     "text": [
      "참\n",
      "0<x<20\n",
      "python에서는 이렇게 조건식을 써도 됨\n"
     ]
    }
   ],
   "source": [
    "x= 10\n",
    "y=20\n",
    "\n",
    "if x ==10 and y ==20: # if조건문에 논리연산자 사용 가\n",
    "    print('참')\n",
    "else:\n",
    "    print('거짓')\n",
    "\n",
    "if x>0:\n",
    "    if x<20:\n",
    "        print('0<x<20')\n",
    "\n",
    "if 0<x<20:\n",
    "    print('python에서는 이렇게 조건식을 써도 됨')"
   ]
  },
  {
   "attachments": {},
   "cell_type": "markdown",
   "metadata": {},
   "source": [
    "표준 입력으로 국어, 영어, 수학, 과학 점수가 입력됩니다. 여기서 네 과목의 평균 점수가 80점 이상일 때 합격이라고 정했습니다. 평균 점수에 따라 '합격', '불합격'을 출력하는 프로그램을 만드세요(input에서 안내 문자열은 출력하지 않아야 합니다). 단, 점수는 0점부터 100점까지만 입력받을 수 있으며 범위를 벗어났다면 '잘못된 점수'를 출력하고 합격, 불합격 여부는 출력하지 않아야 합니다.\n",
    "\n",
    "\n",
    "입력\n",
    "89 72 93 82\n",
    "결과\n",
    "합격"
   ]
  },
  {
   "cell_type": "code",
   "execution_count": 23,
   "metadata": {},
   "outputs": [
    {
     "name": "stdout",
     "output_type": "stream",
     "text": [
      "잘못된 점수\n"
     ]
    }
   ],
   "source": [
    "korea,english,math,since=map(int,input().split())\n",
    "\n",
    "if 0<=korea<=100 and 0<=english<=100 and 0<=math<=100 and 0<=since<=100:\n",
    "    if (korea+english+math+since)/4 >=80:\n",
    "        print('합격')\n",
    "    else:\n",
    "        print('불합격')\n",
    "else:\n",
    "    print('잘못된 점수')\n"
   ]
  },
  {
   "cell_type": "code",
   "execution_count": 24,
   "metadata": {},
   "outputs": [
    {
     "name": "stdout",
     "output_type": "stream",
     "text": [
      "20입니다\n"
     ]
    }
   ],
   "source": [
    "#elif(else if)는 조건식을 여러 개 지정하여 각 조건 마다 다른 코드를 실행할 수 있습니다.\n",
    "x= 20\n",
    "if x ==10:\n",
    "    print('10입니다')\n",
    "elif x==20:\n",
    "    print('20입니다')\n",
    "else: #else의 순서는 항상 맨 마지막 \n",
    "    print('x는 10도 아니고 20도 아니다')"
   ]
  },
  {
   "cell_type": "code",
   "execution_count": 25,
   "metadata": {},
   "outputs": [
    {
     "name": "stdout",
     "output_type": "stream",
     "text": [
      "cider\n"
     ]
    }
   ],
   "source": [
    "button =int(input())\n",
    "\n",
    "if button ==1:\n",
    "    print('cocka')\n",
    "elif button ==2:\n",
    "    print('cider')\n",
    "elif button ==3:\n",
    "    ('fanta')\n",
    "else:\n",
    "    print('unexpeted menu')"
   ]
  },
  {
   "attachments": {},
   "cell_type": "markdown",
   "metadata": {},
   "source": [
    "표준 입력으로 나이(만 나이)가 입력됩니다(입력 값은 7 이상 입력됨). 교통카드 시스템에서 시내버스 요금은 다음과 같으며 각 나이에 맞게 요금을 차감한 뒤 잔액이 출력되게 만드세요(if, elif 사용). 현재 교통카드에는 9,000원이 들어있습니다.\n",
    "\n",
    "어린이(초등학생, 만 7세 이상 12세 이하): 650원\n",
    "청소년(중∙고등학생, 만 13세 이상 18세 이하): 1,050원\n",
    "어른(일반, 만 19세 이상): 1,250원\n",
    "\n",
    "입력\n",
    "17\n",
    "결과\n",
    "7950\n"
   ]
  },
  {
   "cell_type": "code",
   "execution_count": 26,
   "metadata": {},
   "outputs": [
    {
     "name": "stdout",
     "output_type": "stream",
     "text": [
      "7950\n"
     ]
    }
   ],
   "source": [
    "age = int(input())\n",
    "balance = 9000\n",
    "\n",
    "if 7<=age<=12:\n",
    "    balance-=650\n",
    "elif 13<=age<=18:\n",
    "    balance-=1050\n",
    "else:\n",
    "    balance-=1250\n",
    "print(balance)"
   ]
  },
  {
   "attachments": {},
   "cell_type": "markdown",
   "metadata": {},
   "source": [
    "None과 False는 같은가요?\n",
    "\n",
    "None이 False로 취급되긴 하지만 None과 False는 같지 않습니다. None은 아무것도 없다는 뜻이며 False는 거짓을 나타냅니다. "
   ]
  },
  {
   "cell_type": "code",
   "execution_count": 28,
   "metadata": {},
   "outputs": [
    {
     "name": "stdout",
     "output_type": "stream",
     "text": [
      "False\n",
      "False\n"
     ]
    }
   ],
   "source": [
    "print(None == False)\n",
    "print(None is False)"
   ]
  },
  {
   "cell_type": "code",
   "execution_count": 30,
   "metadata": {},
   "outputs": [
    {
     "name": "stdout",
     "output_type": "stream",
     "text": [
      "10\n",
      "20\n",
      "30\n"
     ]
    }
   ],
   "source": [
    "a, b, c = 10, 20, 30\n",
    " \n",
    "if a == 10:        # 조건식이 참\n",
    "    print('10')    # 출력\n",
    "if b == 20:        # 조건식이 참\n",
    "    print('20')    # 출력\n",
    "if c == 30:        # 조건식이 참\n",
    "    print('30')    #출력\n",
    "#각 조건식이 다 돌아감"
   ]
  },
  {
   "cell_type": "code",
   "execution_count": 32,
   "metadata": {},
   "outputs": [
    {
     "name": "stdout",
     "output_type": "stream",
     "text": [
      "10\n",
      "20\n"
     ]
    }
   ],
   "source": [
    "a, b, c = 10, 20, 30\n",
    " \n",
    "if a == 10:        # 조건식이 참\n",
    "    print('10')    # 출력\n",
    "elif b == 20:      # 조건식을 검사하지 않고 건너뜀\n",
    "    print('20')\n",
    "elif c == 30:      # 조건식을 검사하지 않고 건너뜀\n",
    "    print('30')\n",
    "#상위에 있는 조건식이 참이면 하위의 조건문은 건너뜀\n",
    "\n",
    "if a == 5:        #조건식이 거짓\n",
    "    print('10')    \n",
    "elif b == 20:      #조건식이 참\n",
    "    print('20')    # 출력\n",
    "elif c == 30:      # 조건식을 검사하지 않고 건너뜀\n",
    "    print('30')"
   ]
  }
 ],
 "metadata": {
  "kernelspec": {
   "display_name": "juneon",
   "language": "python",
   "name": "python3"
  },
  "language_info": {
   "codemirror_mode": {
    "name": "ipython",
    "version": 3
   },
   "file_extension": ".py",
   "mimetype": "text/x-python",
   "name": "python",
   "nbconvert_exporter": "python",
   "pygments_lexer": "ipython3",
   "version": "3.8.16"
  },
  "orig_nbformat": 4
 },
 "nbformat": 4,
 "nbformat_minor": 2
}
