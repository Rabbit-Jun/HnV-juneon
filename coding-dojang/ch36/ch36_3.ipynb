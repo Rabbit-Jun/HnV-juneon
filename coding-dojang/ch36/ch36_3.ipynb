{
 "cells": [
  {
   "cell_type": "markdown",
   "metadata": {},
   "source": [
    "다음 소스 코드에서 리스트(list)에 replace 메서드를 추가한 AdvancedList 클래스를 작성하세요. AdvancedList는 list를 상속받아서 만들고, replace 메서드는 리스트에서 특정 값으로 된 요소를 찾아서 다른 값으로 바꾸도록 만드세요.\n",
    "\n",
    "practice_class_inheritance.py\n",
    "                         \n",
    "...\n",
    "                         \n",
    " \n",
    "x = AdvancedList([1, 2, 3, 1, 2, 3, 1, 2, 3])\n",
    "x.replace(1, 100)\n",
    "print(x)\n",
    "실행 결과\n",
    "[100, 2, 3, 100, 2, 3, 100, 2, 3]"
   ]
  },
  {
   "cell_type": "code",
   "execution_count": 1,
   "metadata": {},
   "outputs": [
    {
     "name": "stdout",
     "output_type": "stream",
     "text": [
      "[100, 2, 3, 100, 2, 3, 100, 2, 3]\n"
     ]
    }
   ],
   "source": [
    "class AdvancedList(list):\n",
    "    def replace(self, old, new):\n",
    "        while old in self:\n",
    "            self[self.index(old)] = new\n",
    "\n",
    "\n",
    "\n",
    "x = AdvancedList([1, 2, 3, 1, 2, 3, 1, 2, 3])\n",
    "x.replace(1, 100)\n",
    "print(x)\n"
   ]
  }
 ],
 "metadata": {
  "kernelspec": {
   "display_name": "Python 3",
   "language": "python",
   "name": "python3"
  },
  "language_info": {
   "codemirror_mode": {
    "name": "ipython",
    "version": 3
   },
   "file_extension": ".py",
   "mimetype": "text/x-python",
   "name": "python",
   "nbconvert_exporter": "python",
   "pygments_lexer": "ipython3",
   "version": "3.11.1"
  },
  "orig_nbformat": 4
 },
 "nbformat": 4,
 "nbformat_minor": 2
}
