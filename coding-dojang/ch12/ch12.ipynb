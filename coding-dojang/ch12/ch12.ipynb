{
 "cells": [
  {
   "cell_type": "code",
   "execution_count": 3,
   "metadata": {},
   "outputs": [
    {
     "ename": "SyntaxError",
     "evalue": "invalid syntax (1360023221.py, line 4)",
     "output_type": "error",
     "traceback": [
      "\u001b[1;36m  Input \u001b[1;32mIn [3]\u001b[1;36m\u001b[0m\n\u001b[1;33m    joy= {'health':350, 'mana': 400, 'melee':500, 'amor'}\u001b[0m\n\u001b[1;37m                                                        ^\u001b[0m\n\u001b[1;31mSyntaxError\u001b[0m\u001b[1;31m:\u001b[0m invalid syntax\n"
     ]
    }
   ],
   "source": [
    "#연관된 값을 묶어서 저장하는 용도로 딕셔너리라는 자료형을 제공합니다.\n",
    "lux = {'health': 490, 'mana': 334, 'melee': 550, 'armor': 18.72}\n",
    "print(lux)\n",
    "joy= {'health':350, 'mana': 400, 'melee':500, 'amor'} #짝이 맞지 않으면 오류 발생\n",
    "print(joy)\n",
    "#딕셔너리는 키-값 쌍으로 이루어짐\n"
   ]
  },
  {
   "cell_type": "code",
   "execution_count": 6,
   "metadata": {},
   "outputs": [
    {
     "name": "stdout",
     "output_type": "stream",
     "text": [
      "{'health': 520, 'mana': 334, 'melee': 55}\n",
      "520\n"
     ]
    }
   ],
   "source": [
    "lux={'health':490,'health':520,'mana':334,'melee':55}\n",
    "print(lux) #중복되는 값은 저장되지 않는다\n",
    "print(lux['health']) #키가 중복되면 가장 뒤에 있는 값만 사용한다\n"
   ]
  },
  {
   "cell_type": "code",
   "execution_count": 8,
   "metadata": {},
   "outputs": [
    {
     "name": "stdout",
     "output_type": "stream",
     "text": [
      "{0: 0, 3.5: [3.5, 3.5]}\n",
      "{'a': {'ab': 11}}\n"
     ]
    }
   ],
   "source": [
    "x={0:'hundread',False:0, 3.5:[3.5,3.5]} #딕셔너리의 값으로 모든 자료형 사용 가능\n",
    "print(x)\n",
    "y={'a':{'ab':11}} \n",
    "print(y)\n",
    "\n",
    "\n"
   ]
  },
  {
   "cell_type": "code",
   "execution_count": 9,
   "metadata": {},
   "outputs": [
    {
     "ename": "NameError",
     "evalue": "name 'a' is not defined",
     "output_type": "error",
     "traceback": [
      "\u001b[1;31m---------------------------------------------------------------------------\u001b[0m",
      "\u001b[1;31mNameError\u001b[0m                                 Traceback (most recent call last)",
      "\u001b[1;32mc:\\Users\\junun\\OneDrive\\document\\hnv-juneon\\coding-dojang\\ch12\\ch12.ipynb Cell 4\u001b[0m in \u001b[0;36m<cell line: 1>\u001b[1;34m()\u001b[0m\n\u001b[1;32m----> <a href='vscode-notebook-cell:/c%3A/Users/junun/OneDrive/document/hnv-juneon/coding-dojang/ch12/ch12.ipynb#W3sZmlsZQ%3D%3D?line=0'>1</a>\u001b[0m z\u001b[39m=\u001b[39m{[a,b]:\u001b[39m100\u001b[39m}\n\u001b[0;32m      <a href='vscode-notebook-cell:/c%3A/Users/junun/OneDrive/document/hnv-juneon/coding-dojang/ch12/ch12.ipynb#W3sZmlsZQ%3D%3D?line=1'>2</a>\u001b[0m \u001b[39mprint\u001b[39m(z)\n",
      "\u001b[1;31mNameError\u001b[0m: name 'a' is not defined"
     ]
    }
   ],
   "source": [
    "z={[a,b]:100} #키로 리스트 안됨\n",
    "print(z)"
   ]
  },
  {
   "cell_type": "code",
   "execution_count": 10,
   "metadata": {},
   "outputs": [
    {
     "ename": "TypeError",
     "evalue": "unhashable type: 'dict'",
     "output_type": "error",
     "traceback": [
      "\u001b[1;31m---------------------------------------------------------------------------\u001b[0m",
      "\u001b[1;31mTypeError\u001b[0m                                 Traceback (most recent call last)",
      "\u001b[1;32mc:\\Users\\junun\\OneDrive\\document\\hnv-juneon\\coding-dojang\\ch12\\ch12.ipynb Cell 5\u001b[0m in \u001b[0;36m<cell line: 1>\u001b[1;34m()\u001b[0m\n\u001b[1;32m----> <a href='vscode-notebook-cell:/c%3A/Users/junun/OneDrive/document/hnv-juneon/coding-dojang/ch12/ch12.ipynb#W4sZmlsZQ%3D%3D?line=0'>1</a>\u001b[0m r\u001b[39m=\u001b[39m{{\u001b[39m'\u001b[39m\u001b[39ma\u001b[39m\u001b[39m'\u001b[39m:\u001b[39m20\u001b[39m}:\u001b[39m300\u001b[39m}\n\u001b[0;32m      <a href='vscode-notebook-cell:/c%3A/Users/junun/OneDrive/document/hnv-juneon/coding-dojang/ch12/ch12.ipynb#W4sZmlsZQ%3D%3D?line=1'>2</a>\u001b[0m \u001b[39mprint\u001b[39m(r)\n",
      "\u001b[1;31mTypeError\u001b[0m: unhashable type: 'dict'"
     ]
    }
   ],
   "source": [
    "r={{'a':20}:300} #키로 딕셔너리 사용 안됨\n",
    "print(r)"
   ]
  },
  {
   "cell_type": "code",
   "execution_count": 12,
   "metadata": {},
   "outputs": [
    {
     "name": "stdout",
     "output_type": "stream",
     "text": [
      "{}\n",
      "{}\n"
     ]
    }
   ],
   "source": [
    "x={} #빈 딕셔너리\n",
    "print(x)\n",
    "y= dict() # 빈 딕셔너리\n",
    "print(y)"
   ]
  },
  {
   "cell_type": "code",
   "execution_count": 13,
   "metadata": {},
   "outputs": [
    {
     "name": "stdout",
     "output_type": "stream",
     "text": [
      "{'health': 490, 'mana': 334, 'melee': 550}\n"
     ]
    }
   ],
   "source": [
    "lux=dict(health=490, mana=334, melee=550) \n",
    "# dict(키=값) 키에 따옴표 사용(x), 키는 딕셔너리를 만들고 나면 문자열로 바뀐다\n",
    "print(lux)"
   ]
  },
  {
   "cell_type": "code",
   "execution_count": 14,
   "metadata": {},
   "outputs": [
    {
     "name": "stdout",
     "output_type": "stream",
     "text": [
      "{'health': 490, 'mana': 334, 'melee': 550}\n"
     ]
    }
   ],
   "source": [
    "lux2=dict(zip(['health','mana','melee'],[490,334,550])) \n",
    "#zip함수로 리스트와 값 리스트를 묶음\n",
    "print(lux2)"
   ]
  },
  {
   "cell_type": "code",
   "execution_count": 15,
   "metadata": {},
   "outputs": [
    {
     "name": "stdout",
     "output_type": "stream",
     "text": [
      "{'health': 490, 'mana': 334, 'melee': 550}\n"
     ]
    }
   ],
   "source": [
    "lux3=dict([('health',490),('mana',334),('melee',550)])\n",
    "# 리스트 안에 튜플을 키 -값쌍으로 넣고 딕셔너리\n",
    "print(lux3)"
   ]
  },
  {
   "cell_type": "code",
   "execution_count": 16,
   "metadata": {},
   "outputs": [
    {
     "name": "stdout",
     "output_type": "stream",
     "text": [
      "{'health': 490, 'mana': 334, 'melee': 550, 'armor': 18.72}\n"
     ]
    }
   ],
   "source": [
    "lux4 = dict({'health': 490, 'mana': 334, 'melee': 550, 'armor': 18.72}) \n",
    "#딕셔너리를 딕셔너리화 할 수도 있음, 변하는건 없다\n",
    "print(lux4)"
   ]
  },
  {
   "cell_type": "code",
   "execution_count": 7,
   "metadata": {},
   "outputs": [
    {
     "name": "stdout",
     "output_type": "stream",
     "text": [
      "490\n",
      "{'health': 490, 'mana': 334, 'melee': 550, 'armor': 18.72}\n",
      "{'health': 2000, 'mana': 334, 'melee': 550, 'armor': 18.72}\n",
      "{'health': 2000, 'mana': 334, 'melee': 550, 'armor': 18.72, 'mana_range': 3.28}\n",
      "True\n",
      "False\n"
     ]
    }
   ],
   "source": [
    "lux = {'health': 490, 'mana': 334, 'melee': 550, 'armor': 18.72}\n",
    "print(lux['health']) #딕셔너리[키]\n",
    "print(lux)# 키를 지정하지 않으면 딕셔너리 전체를 의미한다\n",
    "lux['health']=2000 # 값 할당하기\n",
    "print(lux)\n",
    "lux['mana_range']=3.28 # 없는 키에 값을 할당하면 키 와 값이 마지막에 추가됨\n",
    "print(lux)\n",
    "print('health' in lux) #딕셔너리에 키가 존재하는지 확인\n",
    "print('health' not in lux) #딕셔너리에 키가 존재하지 않는지 확인"
   ]
  },
  {
   "cell_type": "code",
   "execution_count": 10,
   "metadata": {},
   "outputs": [
    {
     "data": {
      "text/plain": [
       "4"
      ]
     },
     "execution_count": 10,
     "metadata": {},
     "output_type": "execute_result"
    }
   ],
   "source": [
    "lux = {'health': 490, 'mana': 334, 'melee': 550, 'armor': 18.72}\n",
    "len(lux) #키의 개수구하기 (키의 개수=값의 개수)\n"
   ]
  },
  {
   "attachments": {},
   "cell_type": "markdown",
   "metadata": {},
   "source": [
    "표준 입력으로 문자열 여러 개와 숫자(실수) 여러 개가 두 줄로 입력됩니다. 입력된 첫 번째 줄은 키, 두 번째 줄은 값으로 하여 딕셔너리를 생성한 뒤 딕셔너리를 출력하는 프로그램을 만드세요. input().split()의 결과를 변수 한 개에 저장하면 리스트로 저장됩니다.\n",
    "\n",
    "입력\n",
    "health health_regen mana mana_regen\n",
    "575.6 1.7 338.8 1.63\n",
    "결과\n",
    "{'health': 575.6, 'health_regen': 1.7, 'mana': 338.8, 'mana_regen': 1.63}"
   ]
  },
  {
   "cell_type": "code",
   "execution_count": 25,
   "metadata": {},
   "outputs": [
    {
     "name": "stdout",
     "output_type": "stream",
     "text": [
      "{'health': 575.6, 'health_regen': 1.7, 'mana': 338.8, 'mana_regen': 1.63}\n"
     ]
    }
   ],
   "source": [
    "s=input().split()\n",
    "n=list(map(float,input().split()))\n",
    "print(dict(zip(s,n)))\n",
    "# zip함수를 이용하면 동일한 인덱스 넘버를 가진 값끼리 묶어서 튜플로 반환"
   ]
  }
 ],
 "metadata": {
  "kernelspec": {
   "display_name": "juneon",
   "language": "python",
   "name": "python3"
  },
  "language_info": {
   "codemirror_mode": {
    "name": "ipython",
    "version": 3
   },
   "file_extension": ".py",
   "mimetype": "text/x-python",
   "name": "python",
   "nbconvert_exporter": "python",
   "pygments_lexer": "ipython3",
   "version": "3.8.16"
  },
  "orig_nbformat": 4
 },
 "nbformat": 4,
 "nbformat_minor": 2
}
