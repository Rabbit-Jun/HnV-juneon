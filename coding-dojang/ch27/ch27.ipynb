{
 "cells": [
  {
   "cell_type": "code",
   "execution_count": 3,
   "metadata": {},
   "outputs": [],
   "source": [
    "file =open('hello.txt','w') #hello.txt 파일을 쓰기 모드(w)로 열기. 파일 객체 반환\n",
    "#hello.txt라는 파일을 만들어서 객체로 저장하고 열음\n",
    "file.write('hello,world!') #파일에 문자열 저장\n",
    "#hello.txt에 'hello,world!를 적음\n",
    "file.close() #파일 객체 닫기\n",
    "\n",
    "#파일에 문자열을 쓸 때는 open 함수로 파일을 열어서 파일 객체를 얻은 뒤에 write 메서드를 사용합니다.\n"
   ]
  },
  {
   "cell_type": "code",
   "execution_count": 5,
   "metadata": {},
   "outputs": [
    {
     "name": "stdout",
     "output_type": "stream",
     "text": [
      "hello,world!\n"
     ]
    }
   ],
   "source": [
    "file = open('hello.txt', 'r') #hello.txt 파일을 읽기 모드(r)로 열기. 파일 객체 반환\n",
    "s= file.read() #파일에서 문자열 읽기\n",
    "print(s) #hello, world!\n",
    "file.close() #파일 객체 닫기"
   ]
  },
  {
   "cell_type": "code",
   "execution_count": 6,
   "metadata": {},
   "outputs": [
    {
     "name": "stdout",
     "output_type": "stream",
     "text": [
      "hello,world!\n"
     ]
    }
   ],
   "source": [
    "with open('hello.txt', 'r') as file: #hello.txt 파일을 읽기 모드(r)로 열기, with as를 사용하면 파일 객체를 자동으로 닫아준다\n",
    "# with open(파일이름, 파일모드) s 파일객체:\n",
    "    s=file.read() #파일에서 문자열 읽기\n",
    "    print(s) #hello, world!"
   ]
  },
  {
   "cell_type": "markdown",
   "metadata": {},
   "source": [
    "file.close() 를 호출하지 않으면 파일이 여전히 메모리에 열린 채로 남아 있게 됩니다. 이 경우 파일이 차지하는 메모리가 해제되지 않으므로, 이후에 다른 작업을 수행하면 메모리 누수(memory leak)가 발생할 수 있습니다. 메모리 누수는 시스템 성능을 저하시키는 원인이 되며, 장기적으로는 시스템 불안정화 문제를 야기할 수도 있습니다."
   ]
  },
  {
   "cell_type": "code",
   "execution_count": 8,
   "metadata": {},
   "outputs": [
    {
     "name": "stdout",
     "output_type": "stream",
     "text": [
      "hello, world! 0\n",
      "hello, world! 1\n",
      "hello, world! 2\n",
      "\n"
     ]
    }
   ],
   "source": [
    "with open('hello.txt', 'w') as file:\n",
    "    for i in range(3):\n",
    "        file.write('hello, world! {0}\\n'.format(i))\n",
    "\n",
    "with open('hello.txt', 'r') as file:\n",
    "    s=file.read()\n",
    "    print(s)"
   ]
  },
  {
   "cell_type": "code",
   "execution_count": 20,
   "metadata": {},
   "outputs": [
    {
     "name": "stdout",
     "output_type": "stream",
     "text": [
      "Hi\n",
      "my name is\n",
      "Jun!\n"
     ]
    }
   ],
   "source": [
    "a =['Hi\\n','my name is\\n','Jun!']\n",
    "with open('hello.txt','w') as file:\n",
    "    file.writelines(a) #리스트에 들어있는 문자열을 파일에 쓴다.\n",
    "\n",
    "with open('hello.txt', 'r') as file:\n",
    "    s=file.read()\n",
    "    print(s)"
   ]
  },
  {
   "cell_type": "code",
   "execution_count": 14,
   "metadata": {},
   "outputs": [
    {
     "name": "stdout",
     "output_type": "stream",
     "text": [
      "['Hi\\n', 'my name is\\n', 'Jun!']\n"
     ]
    }
   ],
   "source": [
    "with open('hello.txt', 'r') as file:\n",
    "    lines= file.readlines() #파일의 내용을 한 줄씩 리스트 형태로 가져온다.\n",
    "    print(lines) #\\n은 txt에 한줄씩 입력된게 표시된거임"
   ]
  },
  {
   "cell_type": "code",
   "execution_count": 22,
   "metadata": {},
   "outputs": [
    {
     "name": "stdout",
     "output_type": "stream",
     "text": [
      "Hi\n",
      "my name is\n",
      "Jun!\n",
      "\n"
     ]
    }
   ],
   "source": [
    "with open('hello.txt', 'r') as file:\n",
    "    line=None #변수 line을 None으로 초기화\n",
    "    while line !='':\n",
    "        line =file.readline()\n",
    "        print(line.strip('\\n')) #파일에서 읽어온 문자열에서 \\n 삭제하여 출력\n",
    "\n",
    "#파일에 문자열이 몇 줄이나 있는지 모르기 때문에 while을 사용\n",
    "# readline은 더 이상 읽을 줄이 없을 떄는 빈 문자열을 반환\n",
    "# line=''로 초기화 하면 조건문이 시작하자마 거짓이 되어버려서 끝남\n"
   ]
  },
  {
   "cell_type": "code",
   "execution_count": 23,
   "metadata": {},
   "outputs": [
    {
     "name": "stdout",
     "output_type": "stream",
     "text": [
      "Hi\n",
      "my name is\n",
      "Jun!\n"
     ]
    }
   ],
   "source": [
    "with open('hello.txt', 'r') as file: #hello.txt 파일을 읽기 모드(r)로 열기\n",
    "    for line in file: #for에 파일 객체를 지정하면 파일의 내용을 한줄씩 읽어서 변수에 저장함\n",
    "        print(line.strip('\\n')) #파일에서 읽어온 문자열에서 \\n 삭제하여 출력\n",
    "        "
   ]
  },
  {
   "cell_type": "markdown",
   "metadata": {},
   "source": [
    "참고 | 파일 객체는 이터레이터\n",
    "파일 객체는 이터레이터입니다. 따라서 변수 여러 개에 저장하는 언패킹(unpacking)도 가능합니다(이터레이터는 'Unit 39 이터레이터 사용하기' 참조).\n",
    "\n",
    ">>> file = open('hello.txt', 'r')\n",
    ">>> a, b, c = file\n",
    ">>> a, b, c\n",
    "('안녕하세요.\\n', '파이썬\\n', '코딩 도장입니다.\\n')\n",
    "물론 a, b, c = file과 같이 사용하려면 hello.txt에는 문자열 3줄이 들어있어야 합니다. 즉, 할당할 변수의 개수와 파일에 저장된 문자열의 줄 수가 일치해야 합니다."
   ]
  },
  {
   "cell_type": "code",
   "execution_count": 26,
   "metadata": {},
   "outputs": [],
   "source": [
    "import pickle\n",
    "\n",
    "name = 'james'\n",
    "age= 17\n",
    "address = '서울시 서초구 반포동'\n",
    "scores = {'korean':90, 'english': 95, 'mathematics': 85, 'science': 82}\n",
    "\n",
    "with open('james.p', 'wb') as file: #james.p 파일을 바이너리 쓰기 모드(wb)로 열기\n",
    "    pickle.dump(name, file)\n",
    "    pickle.dump(age, file)\n",
    "    pickle.dump(address, file)\n",
    "    pickle.dump(scores, file)\n",
    "\n",
    "#wb의 b는 바이너리를 뜻한다, 바이너리 파일은 컴퓨터가 처리하는 파일 형식 (텍스트 편집기로 열어도 사람이 알아보기 어려움)\n"
   ]
  },
  {
   "cell_type": "code",
   "execution_count": 28,
   "metadata": {},
   "outputs": [
    {
     "name": "stdout",
     "output_type": "stream",
     "text": [
      "17\n",
      "james\n",
      "서울시 서초구 반포동\n",
      "{'korean': 90, 'english': 95, 'mathematics': 85, 'science': 82}\n"
     ]
    }
   ],
   "source": [
    "import pickle\n",
    "\n",
    "with open('james.p', 'rb') as file: #james.p 파일을 바이너리 읽기 모드(rb)로 열기\n",
    "    name =  pickle.load(file)\n",
    "    age = pickle.load(file)\n",
    "    address = pickle.load(file)\n",
    "    scores = pickle.load(file)\n",
    "    print(name)\n",
    "    print(age)\n",
    "    print(address)\n",
    "    print(scores)"
   ]
  },
  {
   "cell_type": "markdown",
   "metadata": {},
   "source": [
    "참고 | 다른 파일 모드는 없나요?\n",
    "사실 파일 모드는 조합에 따라 여러 종류가 있습니다. 읽기 'r', 쓰기 'w' 이외에 추가 'a', 배타적 생성 'x'도 있습니다. 추가 모드는 이미 있는 파일에서 끝에 새로운 내용을 추가할 때 사용하고, 배타적 생성 모드는 파일이 이미 있으면 에러(FileExistsError)를 발생시키고 없으면 파일을 만듭니다. 'x'는 베타적 생성(exclusive creation)의 x입니다\n",
    "\n",
    "또한, 파일의 형식도 함께 지정할 수 있는데, 텍스트 모드 't'와 바이너리 모드 'b'가 있습니다. 이 파일 형식과 읽기, 쓰기 모드를 조합한 텍스트 모드 'rt', 'wt'는 파일을 텍스트 모드로 엽니다. 특히 텍스트 모드는 생략할 수 있어서 그냥 'r', 'w'도 텍스트 모드입니다. 그리고 바이너리 모드 'rb', 'wb' 등은 피클링을 사용하거나 바이너리 데이터를 직접 저장할 때 사용합니다.\n",
    "\n",
    "그다음에 '+'가 있는데 파일을 읽기/쓰기 모드로 엽니다. 이 모드는 'r+t', 'w+t', 'r+', 'w+', 'r+b', 'w+b' 등으로 조합할 수 있으며 읽기/쓰기 모드인 것은 같지만 파일 처리 방법이 조금씩 다릅니다."
   ]
  },
  {
   "cell_type": "markdown",
   "metadata": {},
   "source": [
    "단어가 줄 단위로 저장된 words.txt 파일이 주어집니다. 다음 소스 코드를 완성하여 10자 이하인 단어의 개수가 출력되게 만드세요.\n",
    "\n",
    "words.txt\n",
    "\n",
    "anonymously\n",
    "compatibility\n",
    "dashboard\n",
    "experience\n",
    "photography\n",
    "spotlight\n",
    "warehouse\n",
    "\n",
    "practice_file.py\n",
    "①                                  \n",
    "    count = 0\n",
    "    ②                       \n",
    "    ...\n",
    "                            \n",
    "    print(count)\n",
    "실행 결과\n",
    "4"
   ]
  },
  {
   "cell_type": "code",
   "execution_count": 12,
   "metadata": {},
   "outputs": [
    {
     "name": "stdout",
     "output_type": "stream",
     "text": [
      "4\n"
     ]
    }
   ],
   "source": [
    "aa=input().split()\n",
    "with open('words.txt','w') as file:\n",
    "    for i in aa:\n",
    "        s=file.write(f'{i}\\n')\n",
    "\n",
    "count =0\n",
    "with open('words.txt','r') as file :\n",
    "    line =None\n",
    "    while line !='':\n",
    "        line=file.readline()\n",
    "        if len(line) <=10:\n",
    "            count+=1\n",
    "    print(count)"
   ]
  },
  {
   "cell_type": "markdown",
   "metadata": {},
   "source": [
    "readline() : 할 줄씩 읽어옴 ,각 줄마다 개별 작업을 해야할시 유용\n",
    "readlines(): 전체를 리스트로 반환 ,리스트를 이용하고자 마음먹었을 때 유용 , 줄 바꿈이 있다면 ['ㅁ\\n'] 과 같이 \\n도 같이 리스트에 들어간다 \n"
   ]
  },
  {
   "cell_type": "markdown",
   "metadata": {},
   "source": [
    "문자열이 저장된 words.txt 파일이 주어집니다(문자열은 한 줄로 저장되어 있습니다). words.txt 파일에서 문자 c가 포함된 단어를 각 줄에 출력하는 프로그램을 만드세요. 단어를 출력할 때는 등장한 순서대로 출력해야 하며 ,(콤마)와 .(점)은 출력하지 않아야 합니다.\n",
    "\n",
    "judge_file.py\n",
    "________________\n",
    "________________\n",
    "________________\n",
    "________________\n",
    "________________\n",
    "\n",
    "\n",
    "words.txt\n",
    "Fortunately, however, for the reputation of Asteroid B-612, a Turkish dictator made a law that his subjects, under pain of death, should change to European costume. So in 1920 the astronomer gave his demonstration all over again, dressed with impressive style and elegance. And this time everybody accepted his report.\n",
    "\n",
    "표준 출력\n",
    "dictator\n",
    "subjects\n",
    "change\n",
    "costume\n",
    "elegance\n",
    "accepted"
   ]
  },
  {
   "cell_type": "code",
   "execution_count": 60,
   "metadata": {},
   "outputs": [
    {
     "name": "stdout",
     "output_type": "stream",
     "text": [
      "dictator\n",
      "subjects\n",
      "change\n",
      "costume\n",
      "elegance\n",
      "accepted\n"
     ]
    }
   ],
   "source": [
    "s=input()\n",
    "s=s.split()\n",
    "result=[word.strip(',.') for word in s]\n",
    "words='\\n'.join(result)\n",
    "\n",
    "with open('words.txt','w') as file:\n",
    "    word=file.write(words)\n",
    "\n",
    "with open('words.txt','r') as file:\n",
    "    for line in file:\n",
    "        if 'c' in line:\n",
    "            print(line, end='')\n",
    "\n",
    "\n",
    "       "
   ]
  },
  {
   "cell_type": "markdown",
   "metadata": {},
   "source": [
    "write(): 문자열을 인수로 받아 파일에 문자열을 씁니다. 하나의 문자열만 쓸 수 있다는 단점이 있습니다.\n",
    "writelines(): 리스트 형태의 데이터를 인수로 받아 파일에 씁니다. 리스트 내 각 요소는 문자열로 이루어져 있으며, 각 요소는 줄바꿈 문자 없이 연속적으로 이어져서 써집니다.\n",
    "writeline(): 문자열을 인수로 받아 파일에 문자열을 쓰며, 문자열 끝에 자동으로 줄바꿈 문자(\\n)를 추가해줍니다.\n",
    "\n",
    "strip() 함수는 문자열의 시작과 끝에 있는 문자를 제거\n"
   ]
  }
 ],
 "metadata": {
  "kernelspec": {
   "display_name": "Python 3",
   "language": "python",
   "name": "python3"
  },
  "language_info": {
   "codemirror_mode": {
    "name": "ipython",
    "version": 3
   },
   "file_extension": ".py",
   "mimetype": "text/x-python",
   "name": "python",
   "nbconvert_exporter": "python",
   "pygments_lexer": "ipython3",
   "version": "3.8.16"
  },
  "orig_nbformat": 4
 },
 "nbformat": 4,
 "nbformat_minor": 2
}
