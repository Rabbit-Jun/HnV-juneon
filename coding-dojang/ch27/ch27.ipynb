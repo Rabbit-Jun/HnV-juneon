{
 "cells": [
  {
   "cell_type": "code",
   "execution_count": 3,
   "metadata": {},
   "outputs": [],
   "source": [
    "file =open('hello.txt','w') #hello.txt 파일을 쓰기 모드(w)로 열기. 파일 객체 반환\n",
    "#hello.txt라는 파일을 만들어서 객체로 저장하고 열음\n",
    "file.write('hello,world!') #파일에 문자열 저장\n",
    "#hello.txt에 'hello,world!를 적음\n",
    "file.close() #파일 객체 닫기\n",
    "\n",
    "#파일에 문자열을 쓸 때는 open 함수로 파일을 열어서 파일 객체를 얻은 뒤에 write 메서드를 사용합니다.\n"
   ]
  },
  {
   "cell_type": "code",
   "execution_count": 5,
   "metadata": {},
   "outputs": [
    {
     "name": "stdout",
     "output_type": "stream",
     "text": [
      "hello,world!\n"
     ]
    }
   ],
   "source": [
    "file = open('hello.txt', 'r') #hello.txt 파일을 읽기 모드(r)로 열기. 파일 객체 반환\n",
    "s= file.read() #파일에서 문자열 읽기\n",
    "print(s) #hello, world!\n",
    "file.close() #파일 객체 닫기"
   ]
  },
  {
   "cell_type": "code",
   "execution_count": 6,
   "metadata": {},
   "outputs": [
    {
     "name": "stdout",
     "output_type": "stream",
     "text": [
      "hello,world!\n"
     ]
    }
   ],
   "source": [
    "with open('hello.txt', 'r') as file: #hello.txt 파일을 읽기 모드(r)로 열기, with as를 사용하면 파일 객체를 자동으로 닫아준다\n",
    "# with open(파일이름, 파일모드) s 파일객체:\n",
    "    s=file.read() #파일에서 문자열 읽기\n",
    "    print(s) #hello, world!"
   ]
  },
  {
   "cell_type": "markdown",
   "metadata": {},
   "source": [
    "file.close() 를 호출하지 않으면 파일이 여전히 메모리에 열린 채로 남아 있게 됩니다. 이 경우 파일이 차지하는 메모리가 해제되지 않으므로, 이후에 다른 작업을 수행하면 메모리 누수(memory leak)가 발생할 수 있습니다. 메모리 누수는 시스템 성능을 저하시키는 원인이 되며, 장기적으로는 시스템 불안정화 문제를 야기할 수도 있습니다."
   ]
  },
  {
   "cell_type": "code",
   "execution_count": 8,
   "metadata": {},
   "outputs": [
    {
     "name": "stdout",
     "output_type": "stream",
     "text": [
      "hello, world! 0\n",
      "hello, world! 1\n",
      "hello, world! 2\n",
      "\n"
     ]
    }
   ],
   "source": [
    "with open('hello.txt', 'w') as file:\n",
    "    for i in range(3):\n",
    "        file.write('hello, world! {0}\\n'.format(i))\n",
    "\n",
    "with open('hello.txt', 'r') as file:\n",
    "    s=file.read()\n",
    "    print(s)"
   ]
  },
  {
   "cell_type": "code",
   "execution_count": 20,
   "metadata": {},
   "outputs": [
    {
     "name": "stdout",
     "output_type": "stream",
     "text": [
      "Hi\n",
      "my name is\n",
      "Jun!\n"
     ]
    }
   ],
   "source": [
    "a =['Hi\\n','my name is\\n','Jun!']\n",
    "with open('hello.txt','w') as file:\n",
    "    file.writelines(a) #리스트에 들어있는 문자열을 파일에 쓴다.\n",
    "\n",
    "with open('hello.txt', 'r') as file:\n",
    "    s=file.read()\n",
    "    print(s)"
   ]
  },
  {
   "cell_type": "code",
   "execution_count": 21,
   "metadata": {},
   "outputs": [
    {
     "name": "stdout",
     "output_type": "stream",
     "text": [
      "['Hi\\n', 'my name is\\n', 'Jun!']\n"
     ]
    }
   ],
   "source": [
    "with open('hello.txt', 'r') as file:\n",
    "    lines= file.readlines() #파일의 내용을 한 줄씩 리스트 형태로 가져온다.\n",
    "    print(lines) #\\n은 txt에 한줄씩 입력된게 표시된거임"
   ]
  },
  {
   "cell_type": "code",
   "execution_count": 22,
   "metadata": {},
   "outputs": [
    {
     "name": "stdout",
     "output_type": "stream",
     "text": [
      "Hi\n",
      "my name is\n",
      "Jun!\n",
      "\n"
     ]
    }
   ],
   "source": [
    "with open('hello.txt', 'r') as file:\n",
    "    line=None #변수 line을 None으로 초기화\n",
    "    while line !='':\n",
    "        line =file.readline()\n",
    "        print(line.strip('\\n')) #파일에서 읽어온 문자열에서 \\n 삭제하여 출력\n",
    "\n",
    "#파일에 문자열이 몇 줄이나 있는지 모르기 때문에 while을 사용\n",
    "# readline은 더 이상 읽을 줄이 없을 떄는 빈 문자열을 반환\n",
    "# line=''로 초기화 하면 조건문이 시작하자마 거짓이 되어버려서 끝남\n"
   ]
  },
  {
   "cell_type": "code",
   "execution_count": 23,
   "metadata": {},
   "outputs": [
    {
     "name": "stdout",
     "output_type": "stream",
     "text": [
      "Hi\n",
      "my name is\n",
      "Jun!\n"
     ]
    }
   ],
   "source": [
    "with open('hello.txt', 'r') as file: #hello.txt 파일을 읽기 모드(r)로 열기\n",
    "    for line in file: #for에 파일 객체를 지정하면 파일의 내용을 한줄씩 읽어서 변수에 저장함\n",
    "        print(line.strip('\\n')) #파일에서 읽어온 문자열에서 \\n 삭제하여 출력\n",
    "        "
   ]
  },
  {
   "cell_type": "markdown",
   "metadata": {},
   "source": [
    "참고 | 파일 객체는 이터레이터\n",
    "파일 객체는 이터레이터입니다. 따라서 변수 여러 개에 저장하는 언패킹(unpacking)도 가능합니다(이터레이터는 'Unit 39 이터레이터 사용하기' 참조).\n",
    "\n",
    ">>> file = open('hello.txt', 'r')\n",
    ">>> a, b, c = file\n",
    ">>> a, b, c\n",
    "('안녕하세요.\\n', '파이썬\\n', '코딩 도장입니다.\\n')\n",
    "물론 a, b, c = file과 같이 사용하려면 hello.txt에는 문자열 3줄이 들어있어야 합니다. 즉, 할당할 변수의 개수와 파일에 저장된 문자열의 줄 수가 일치해야 합니다."
   ]
  }
 ],
 "metadata": {
  "kernelspec": {
   "display_name": "Python 3",
   "language": "python",
   "name": "python3"
  },
  "language_info": {
   "codemirror_mode": {
    "name": "ipython",
    "version": 3
   },
   "file_extension": ".py",
   "mimetype": "text/x-python",
   "name": "python",
   "nbconvert_exporter": "python",
   "pygments_lexer": "ipython3",
   "version": "3.8.16"
  },
  "orig_nbformat": 4
 },
 "nbformat": 4,
 "nbformat_minor": 2
}
