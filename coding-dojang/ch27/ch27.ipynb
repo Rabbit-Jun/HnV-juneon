{
 "cells": [
  {
   "cell_type": "code",
   "execution_count": 3,
   "metadata": {},
   "outputs": [],
   "source": [
    "file =open('hello.txt','w') #hello.txt 파일을 쓰기 모드(w)로 열기. 파일 객체 반환\n",
    "#hello.txt라는 파일을 만들어서 객체로 저장하고 열음\n",
    "file.write('hello,world!') #파일에 문자열 저장\n",
    "#hello.txt에 'hello,world!를 적음\n",
    "file.close() #파일 객체 닫기\n",
    "\n",
    "#파일에 문자열을 쓸 때는 open 함수로 파일을 열어서 파일 객체를 얻은 뒤에 write 메서드를 사용합니다.\n"
   ]
  },
  {
   "cell_type": "code",
   "execution_count": 5,
   "metadata": {},
   "outputs": [
    {
     "name": "stdout",
     "output_type": "stream",
     "text": [
      "hello,world!\n"
     ]
    }
   ],
   "source": [
    "file = open('hello.txt', 'r')\n",
    "s= file.read()\n",
    "print(s)\n",
    "file.close()"
   ]
  },
  {
   "cell_type": "markdown",
   "metadata": {},
   "source": [
    "file.close() 를 호출하지 않으면 파일이 여전히 메모리에 열린 채로 남아 있게 됩니다. 이 경우 파일이 차지하는 메모리가 해제되지 않으므로, 이후에 다른 작업을 수행하면 메모리 누수(memory leak)가 발생할 수 있습니다. 메모리 누수는 시스템 성능을 저하시키는 원인이 되며, 장기적으로는 시스템 불안정화 문제를 야기할 수도 있습니다."
   ]
  }
 ],
 "metadata": {
  "kernelspec": {
   "display_name": "Python 3",
   "language": "python",
   "name": "python3"
  },
  "language_info": {
   "codemirror_mode": {
    "name": "ipython",
    "version": 3
   },
   "file_extension": ".py",
   "mimetype": "text/x-python",
   "name": "python",
   "nbconvert_exporter": "python",
   "pygments_lexer": "ipython3",
   "version": "3.8.16"
  },
  "orig_nbformat": 4
 },
 "nbformat": 4,
 "nbformat_minor": 2
}
