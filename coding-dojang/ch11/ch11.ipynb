{
 "cells": [
  {
   "attachments": {},
   "cell_type": "markdown",
   "metadata": {},
   "source": [
    "python에서는 리스트,튜플,range,문자열처럼 값이 연속적으로 이어진 자료형을 시퀀스 자료형(sequence types) 이라고 한다.\n",
    "시퀀스 자료형으로 만든 객체를 시퀀스 객체라고 하며, 시퀀스 객체에 들어있는 각 값을 요소(element)라고 부른다.\n",
    "\n"
   ]
  },
  {
   "cell_type": "code",
   "execution_count": 9,
   "metadata": {},
   "outputs": [
    {
     "name": "stdout",
     "output_type": "stream",
     "text": [
      "True\n",
      "False\n",
      "True\n",
      "리스트 True\n",
      "튜플 True\n",
      "range True\n",
      "str True\n"
     ]
    }
   ],
   "source": [
    "a=[0,10,20,30,40,50,60,70,80,90]\n",
    "print(30 in a) #시퀀스 객체 안에 값이 있는지 확인\n",
    "print( 100 in a)\n",
    "print( 100 not in a)\n",
    "print( '리스트',20 in [11,22,20])\n",
    "print('튜플',20 in (10,20,30))\n",
    "print('range', 1 in range(0,10))\n",
    "print('str','p' in 'Hello, python')"
   ]
  },
  {
   "cell_type": "code",
   "execution_count": 14,
   "metadata": {},
   "outputs": [
    {
     "name": "stdout",
     "output_type": "stream",
     "text": [
      "[0, 10, 20, 30, 9, 8, 6]\n",
      "(1, 2, 3, 4, 5, 6, 0, 1)\n",
      "[0, 1, 2, 3, 4, 5, 6, 7, 8, 9, 10, 11, 12, 13, 14, 15, 16, 17, 18, 19, 20]\n",
      "Hello Python\n"
     ]
    }
   ],
   "source": [
    "a= [0,10,20,30]\n",
    "b= [9,8,6]\n",
    "print(a+b)\n",
    "#시퀀스 객체는 +연산자를 사용하여 서로 연결하여 새 객체 생성 가능\n",
    "c=(1,2,3,4)\n",
    "d=(5,6,0,1)\n",
    "print(c+d)\n",
    "print(list(range(0,10))+list(range(10,21))) \n",
    "# range()는 +연산자로 객체 연결이 안되므로 리스트 또는 튜플로 바꾸고 연결\n",
    "x='Hello '\n",
    "y='Python'\n",
    "print(x+y) # 문자열은 + 연산자로 연결 가능\n",
    " "
   ]
  },
  {
   "attachments": {},
   "cell_type": "markdown",
   "metadata": {},
   "source": [
    "객체의 타입이 다르면 연결할 수 없음\n",
    "ex) 'str'+ 10 > TypeError\n"
   ]
  },
  {
   "cell_type": "code",
   "execution_count": 16,
   "metadata": {},
   "outputs": [
    {
     "data": {
      "text/plain": [
       "'Hello20'"
      ]
     },
     "execution_count": 16,
     "metadata": {},
     "output_type": "execute_result"
    }
   ],
   "source": [
    "'Hello'+str(20) #정수를 문자열로 바꿔서 + 연결\n"
   ]
  },
  {
   "cell_type": "code",
   "execution_count": 21,
   "metadata": {},
   "outputs": [
    {
     "name": "stdout",
     "output_type": "stream",
     "text": [
      "[0, 10, 20, 30, 0, 10, 20, 30, 0, 10, 20, 30]\n",
      "[]\n",
      "[]\n"
     ]
    },
    {
     "ename": "TypeError",
     "evalue": "can't multiply sequence by non-int of type 'float'",
     "output_type": "error",
     "traceback": [
      "\u001b[1;31m---------------------------------------------------------------------------\u001b[0m",
      "\u001b[1;31mTypeError\u001b[0m                                 Traceback (most recent call last)",
      "\u001b[1;32mc:\\Users\\junun\\OneDrive\\document\\hnv-juneon\\coding-dojang\\ch11\\ch11.ipynb Cell 6\u001b[0m in \u001b[0;36m<cell line: 5>\u001b[1;34m()\u001b[0m\n\u001b[0;32m      <a href='vscode-notebook-cell:/c%3A/Users/junun/OneDrive/document/hnv-juneon/coding-dojang/ch11/ch11.ipynb#W6sZmlsZQ%3D%3D?line=2'>3</a>\u001b[0m \u001b[39mprint\u001b[39m([\u001b[39m0\u001b[39m,\u001b[39m10\u001b[39m,\u001b[39m20\u001b[39m,\u001b[39m30\u001b[39m]\u001b[39m*\u001b[39m\u001b[39m0\u001b[39m)\n\u001b[0;32m      <a href='vscode-notebook-cell:/c%3A/Users/junun/OneDrive/document/hnv-juneon/coding-dojang/ch11/ch11.ipynb#W6sZmlsZQ%3D%3D?line=3'>4</a>\u001b[0m \u001b[39mprint\u001b[39m([\u001b[39m0\u001b[39m,\u001b[39m10\u001b[39m,\u001b[39m20\u001b[39m,\u001b[39m30\u001b[39m]\u001b[39m*\u001b[39m\u001b[39m-\u001b[39m\u001b[39m2\u001b[39m)\n\u001b[1;32m----> <a href='vscode-notebook-cell:/c%3A/Users/junun/OneDrive/document/hnv-juneon/coding-dojang/ch11/ch11.ipynb#W6sZmlsZQ%3D%3D?line=4'>5</a>\u001b[0m \u001b[39mprint\u001b[39m([\u001b[39m0\u001b[39;49m,\u001b[39m10\u001b[39;49m,\u001b[39m20\u001b[39;49m,\u001b[39m30\u001b[39;49m]\u001b[39m*\u001b[39;49m\u001b[39m3.2\u001b[39;49m)\n",
      "\u001b[1;31mTypeError\u001b[0m: can't multiply sequence by non-int of type 'float'"
     ]
    }
   ],
   "source": [
    "print([0,10,20,30]*3)\n",
    "#시퀀스 객체를 특정 횟수만큼 반복하여 새 시퀀스 객체를 만든다\n",
    "print([0,10,20,30]*0) # 0 곱하면 빈 객체 나온다\n",
    "print([0,10,20,30]*-2) # 음수 곱하면 빈 객체 나온다\n",
    "print([0,10,20,30]*3.2) #실수 곱 안됨\n"
   ]
  },
  {
   "cell_type": "code",
   "execution_count": 22,
   "metadata": {},
   "outputs": [
    {
     "ename": "TypeError",
     "evalue": "unsupported operand type(s) for *: 'range' and 'int'",
     "output_type": "error",
     "traceback": [
      "\u001b[1;31m---------------------------------------------------------------------------\u001b[0m",
      "\u001b[1;31mTypeError\u001b[0m                                 Traceback (most recent call last)",
      "\u001b[1;32mc:\\Users\\junun\\OneDrive\\document\\hnv-juneon\\coding-dojang\\ch11\\ch11.ipynb Cell 7\u001b[0m in \u001b[0;36m<cell line: 1>\u001b[1;34m()\u001b[0m\n\u001b[1;32m----> <a href='vscode-notebook-cell:/c%3A/Users/junun/OneDrive/document/hnv-juneon/coding-dojang/ch11/ch11.ipynb#X10sZmlsZQ%3D%3D?line=0'>1</a>\u001b[0m \u001b[39mrange\u001b[39;49m(\u001b[39m0\u001b[39;49m,\u001b[39m7\u001b[39;49m,\u001b[39m2\u001b[39;49m)\u001b[39m*\u001b[39;49m\u001b[39m2\u001b[39;49m\n",
      "\u001b[1;31mTypeError\u001b[0m: unsupported operand type(s) for *: 'range' and 'int'"
     ]
    }
   ],
   "source": [
    "range(0,7,2)*2 #range() *연산자를 이용해서 반복하는게 불가능\n"
   ]
  },
  {
   "cell_type": "code",
   "execution_count": 25,
   "metadata": {},
   "outputs": [
    {
     "name": "stdout",
     "output_type": "stream",
     "text": [
      "[0, 2, 4, 6, 0, 2, 4, 6, 0, 2, 4, 6]\n",
      "(0, 2, 4, 6, 0, 2, 4, 6, 0, 2, 4, 6)\n",
      "HelloHelloHello\n"
     ]
    }
   ],
   "source": [
    "print( list(range(0,7,2))*3) #리스트나 튜플로 전환 후 *연산자로 반복 가능\n",
    "print( tuple(range(0,7,2))*3)\n",
    "print('Hello'*3) #문자열도 반복 가능\n"
   ]
  },
  {
   "cell_type": "code",
   "execution_count": 32,
   "metadata": {},
   "outputs": [
    {
     "name": "stdout",
     "output_type": "stream",
     "text": [
      "6\n",
      "6\n",
      "12\n"
     ]
    }
   ],
   "source": [
    "a=list(range(0,11,2))\n",
    "print(len(a)) #len()은 시퀀스 객체에 속한 요소의 개수를 구한다\n",
    "print(len(range(0,11,2)))\n",
    "s='Hello Python'\n",
    "print(len(s)) #공백 포함, 문자를 묶을 때 사용하는 따움표는 제외\n",
    "\n"
   ]
  },
  {
   "cell_type": "code",
   "execution_count": 34,
   "metadata": {},
   "outputs": [
    {
     "name": "stdout",
     "output_type": "stream",
     "text": [
      "5\n",
      "15\n"
     ]
    }
   ],
   "source": [
    "hello='안녕하세요'\n",
    "print(len(hello))\n",
    "print(len(hello.encode('utf-8')))\n",
    "#실제 차지하는 바이트 수 ,한글 글자 하나는 3바이트로 표현\n",
    "# 한글은 UTF-8인코딩으로 저장"
   ]
  },
  {
   "cell_type": "code",
   "execution_count": 47,
   "metadata": {},
   "outputs": [
    {
     "name": "stdout",
     "output_type": "stream",
     "text": [
      "38\n",
      "21\n",
      "8\n",
      "d\n",
      "range(0, 10, 2)\n",
      "[38, 21, 53, 62, 19]\n"
     ]
    }
   ],
   "source": [
    "#시퀀스 객체의 각 요소는 순서가 정해져 있으며, 이 순서를 인덱스(index,색인)라고 한다\n",
    "a= [38,21,53,62,19]\n",
    "print(a[0]) # 리스트의 첫 번째(인덱스 0) 요소 출력\n",
    "b=(38,21,53,62,19)\n",
    "print(b[1]) #튜플의 두 번째(인덱스 1) 요소 출력\n",
    "r=range(0,10,2)\n",
    "print(r[-1]) #range의 뒤에서 첫 번째(인덱스 -1) 요소 출력\n",
    "s='Hello, world!!'\n",
    "print(s[-3]) #문자열의  뒤에서 세 번째(인덱스 -3) 요소 출력\n",
    "print(r) #시퀀스 객체에 인덱스를 지정하지 않으면 해당 객체 전체를 의미한다\n",
    "print(a)\n",
    "\n"
   ]
  },
  {
   "cell_type": "code",
   "execution_count": 49,
   "metadata": {},
   "outputs": [
    {
     "data": {
      "text/plain": [
       "38"
      ]
     },
     "execution_count": 49,
     "metadata": {},
     "output_type": "execute_result"
    }
   ],
   "source": [
    "a= [38,21,53,62,19]\n",
    "a.__getitem__(0) \n",
    "#시퀀스 객체에서 []를 사용하면 실제로는 __getitem__ 메서드를 호출하여 요소를 가져옵니다\n"
   ]
  },
  {
   "cell_type": "code",
   "execution_count": 51,
   "metadata": {},
   "outputs": [
    {
     "name": "stdout",
     "output_type": "stream",
     "text": [
      "4\n"
     ]
    },
    {
     "ename": "IndexError",
     "evalue": "list index out of range",
     "output_type": "error",
     "traceback": [
      "\u001b[1;31m---------------------------------------------------------------------------\u001b[0m",
      "\u001b[1;31mIndexError\u001b[0m                                Traceback (most recent call last)",
      "\u001b[1;32mc:\\Users\\junun\\OneDrive\\document\\hnv-juneon\\coding-dojang\\ch11\\ch11.ipynb Cell 13\u001b[0m in \u001b[0;36m<cell line: 4>\u001b[1;34m()\u001b[0m\n\u001b[0;32m      <a href='vscode-notebook-cell:/c%3A/Users/junun/OneDrive/document/hnv-juneon/coding-dojang/ch11/ch11.ipynb#X21sZmlsZQ%3D%3D?line=1'>2</a>\u001b[0m \u001b[39mprint\u001b[39m(r[\u001b[39m-\u001b[39m\u001b[39m3\u001b[39m]) \u001b[39m#range()의 뒤에서 세 번쨰\u001b[39;00m\n\u001b[0;32m      <a href='vscode-notebook-cell:/c%3A/Users/junun/OneDrive/document/hnv-juneon/coding-dojang/ch11/ch11.ipynb#X21sZmlsZQ%3D%3D?line=2'>3</a>\u001b[0m a\u001b[39m=\u001b[39m[\u001b[39m32\u001b[39m,\u001b[39m12\u001b[39m,\u001b[39m55\u001b[39m,\u001b[39m22\u001b[39m,\u001b[39m51\u001b[39m]\n\u001b[1;32m----> <a href='vscode-notebook-cell:/c%3A/Users/junun/OneDrive/document/hnv-juneon/coding-dojang/ch11/ch11.ipynb#X21sZmlsZQ%3D%3D?line=3'>4</a>\u001b[0m \u001b[39mprint\u001b[39m(a[\u001b[39m5\u001b[39;49m])\n",
      "\u001b[1;31mIndexError\u001b[0m: list index out of range"
     ]
    }
   ],
   "source": [
    "r=range(0,10,2)\n",
    "print(r[-3]) #range()의 뒤에서 세 번쨰\n",
    "a=[32,12,55,22,51]\n",
    "print(a[5]) # 인덱스 범위를 벗어나면 index error발생\n",
    "\n"
   ]
  },
  {
   "cell_type": "code",
   "execution_count": 52,
   "metadata": {},
   "outputs": [
    {
     "data": {
      "text/plain": [
       "44"
      ]
     },
     "execution_count": 52,
     "metadata": {},
     "output_type": "execute_result"
    }
   ],
   "source": [
    "a=[11,22,33,44]\n",
    "a[len(a)-1]"
   ]
  },
  {
   "cell_type": "code",
   "execution_count": 54,
   "metadata": {},
   "outputs": [
    {
     "name": "stdout",
     "output_type": "stream",
     "text": [
      "[0, 0, 0, 0, 0]\n",
      "[1, 2, 3, 0, 0]\n"
     ]
    }
   ],
   "source": [
    "a=[0,0,0,0,0]\n",
    "print(a)\n",
    "a[0]=1 #시퀀스 객체는  []로 요소에 접근한 뒤 =로 값을 할당한다\n",
    "a[1]=2\n",
    "a[2]=3\n",
    "print(a)\n"
   ]
  },
  {
   "cell_type": "code",
   "execution_count": 55,
   "metadata": {},
   "outputs": [
    {
     "ename": "TypeError",
     "evalue": "'tuple' object does not support item assignment",
     "output_type": "error",
     "traceback": [
      "\u001b[1;31m---------------------------------------------------------------------------\u001b[0m",
      "\u001b[1;31mTypeError\u001b[0m                                 Traceback (most recent call last)",
      "\u001b[1;32mc:\\Users\\junun\\OneDrive\\document\\hnv-juneon\\coding-dojang\\ch11\\ch11.ipynb Cell 16\u001b[0m in \u001b[0;36m<cell line: 2>\u001b[1;34m()\u001b[0m\n\u001b[0;32m      <a href='vscode-notebook-cell:/c%3A/Users/junun/OneDrive/document/hnv-juneon/coding-dojang/ch11/ch11.ipynb#X24sZmlsZQ%3D%3D?line=0'>1</a>\u001b[0m b\u001b[39m=\u001b[39m(\u001b[39m0\u001b[39m,\u001b[39m0\u001b[39m,\u001b[39m0\u001b[39m,\u001b[39m0\u001b[39m)\n\u001b[1;32m----> <a href='vscode-notebook-cell:/c%3A/Users/junun/OneDrive/document/hnv-juneon/coding-dojang/ch11/ch11.ipynb#X24sZmlsZQ%3D%3D?line=1'>2</a>\u001b[0m b[\u001b[39m0\u001b[39;49m]\u001b[39m=\u001b[39m\u001b[39m1\u001b[39m\n\u001b[0;32m      <a href='vscode-notebook-cell:/c%3A/Users/junun/OneDrive/document/hnv-juneon/coding-dojang/ch11/ch11.ipynb#X24sZmlsZQ%3D%3D?line=2'>3</a>\u001b[0m \u001b[39mprint\u001b[39m(b)\n",
      "\u001b[1;31mTypeError\u001b[0m: 'tuple' object does not support item assignment"
     ]
    }
   ],
   "source": [
    "b=(0,0,0,0)\n",
    "b[0]=1 #튜플은 객체 안에 저장된 요소를 변경 할 수 없다\n",
    "print(b)"
   ]
  },
  {
   "cell_type": "code",
   "execution_count": 56,
   "metadata": {},
   "outputs": [
    {
     "ename": "TypeError",
     "evalue": "'range' object does not support item assignment",
     "output_type": "error",
     "traceback": [
      "\u001b[1;31m---------------------------------------------------------------------------\u001b[0m",
      "\u001b[1;31mTypeError\u001b[0m                                 Traceback (most recent call last)",
      "\u001b[1;32mc:\\Users\\junun\\OneDrive\\document\\hnv-juneon\\coding-dojang\\ch11\\ch11.ipynb Cell 17\u001b[0m in \u001b[0;36m<cell line: 2>\u001b[1;34m()\u001b[0m\n\u001b[0;32m      <a href='vscode-notebook-cell:/c%3A/Users/junun/OneDrive/document/hnv-juneon/coding-dojang/ch11/ch11.ipynb#X25sZmlsZQ%3D%3D?line=0'>1</a>\u001b[0m r\u001b[39m=\u001b[39m\u001b[39mrange\u001b[39m(\u001b[39m0\u001b[39m,\u001b[39m10\u001b[39m,\u001b[39m2\u001b[39m)\n\u001b[1;32m----> <a href='vscode-notebook-cell:/c%3A/Users/junun/OneDrive/document/hnv-juneon/coding-dojang/ch11/ch11.ipynb#X25sZmlsZQ%3D%3D?line=1'>2</a>\u001b[0m r[\u001b[39m0\u001b[39;49m]\u001b[39m=\u001b[39m\u001b[39m1\u001b[39m\n\u001b[0;32m      <a href='vscode-notebook-cell:/c%3A/Users/junun/OneDrive/document/hnv-juneon/coding-dojang/ch11/ch11.ipynb#X25sZmlsZQ%3D%3D?line=2'>3</a>\u001b[0m \u001b[39mprint\u001b[39m(r)\n",
      "\u001b[1;31mTypeError\u001b[0m: 'range' object does not support item assignment"
     ]
    }
   ],
   "source": [
    "r=range(0,10,2)\n",
    "r[0]=1 #range() 안에 요소도 변경 불가\n",
    "print(r)"
   ]
  },
  {
   "cell_type": "code",
   "execution_count": 58,
   "metadata": {},
   "outputs": [
    {
     "ename": "TypeError",
     "evalue": "'str' object does not support item assignment",
     "output_type": "error",
     "traceback": [
      "\u001b[1;31m---------------------------------------------------------------------------\u001b[0m",
      "\u001b[1;31mTypeError\u001b[0m                                 Traceback (most recent call last)",
      "\u001b[1;32mc:\\Users\\junun\\OneDrive\\document\\hnv-juneon\\coding-dojang\\ch11\\ch11.ipynb Cell 18\u001b[0m in \u001b[0;36m<cell line: 2>\u001b[1;34m()\u001b[0m\n\u001b[0;32m      <a href='vscode-notebook-cell:/c%3A/Users/junun/OneDrive/document/hnv-juneon/coding-dojang/ch11/ch11.ipynb#X26sZmlsZQ%3D%3D?line=0'>1</a>\u001b[0m s\u001b[39m=\u001b[39m\u001b[39m'\u001b[39m\u001b[39mHello, world\u001b[39m\u001b[39m'\u001b[39m\n\u001b[1;32m----> <a href='vscode-notebook-cell:/c%3A/Users/junun/OneDrive/document/hnv-juneon/coding-dojang/ch11/ch11.ipynb#X26sZmlsZQ%3D%3D?line=1'>2</a>\u001b[0m s[\u001b[39m0\u001b[39;49m]\u001b[39m=\u001b[39m\u001b[39m'\u001b[39m\u001b[39mA\u001b[39m\u001b[39m'\u001b[39m\n\u001b[0;32m      <a href='vscode-notebook-cell:/c%3A/Users/junun/OneDrive/document/hnv-juneon/coding-dojang/ch11/ch11.ipynb#X26sZmlsZQ%3D%3D?line=2'>3</a>\u001b[0m \u001b[39mprint\u001b[39m(s)\n",
      "\u001b[1;31mTypeError\u001b[0m: 'str' object does not support item assignment"
     ]
    }
   ],
   "source": [
    "s='Hello, world'\n",
    "s[0]='A' # 문자열도 요소 변경 안됨\n",
    "print(s)"
   ]
  },
  {
   "cell_type": "code",
   "execution_count": 59,
   "metadata": {},
   "outputs": [
    {
     "name": "stdout",
     "output_type": "stream",
     "text": [
      "[38, 21, 11]\n"
     ]
    }
   ],
   "source": [
    "a= [38,21,52,11]\n",
    "del a[2] #시퀀스 객체의 세 번째 요소(인덱스 2) 삭제,튜플 range()는 안됨 \n",
    "print(a)"
   ]
  },
  {
   "cell_type": "code",
   "execution_count": 82,
   "metadata": {},
   "outputs": [
    {
     "name": "stdout",
     "output_type": "stream",
     "text": [
      "[0, 10, 20, 30]\n",
      "[]\n",
      "[40, 50, 60]\n",
      "[40, 50]\n",
      "[10, 30, 50]\n",
      "[0, 10, 20, 30, 40, 50, 60]\n",
      "[30, 40, 50, 60]\n",
      "[0, 10, 20, 30, 40, 50, 60]\n",
      "[0, 20, 40, 60]\n",
      "[50, 40, 30, 20]\n",
      "(7, 6, 5, 4, 3, 2, 1, 0)\n",
      "[0, 10, 20, 30, 40, 50, 60]\n",
      "dlrow,olleH\n"
     ]
    }
   ],
   "source": [
    "a= [0,10,20,30,40,50,60]\n",
    "print(a[0:4]) #인덱스 0부터 3까지 잘라서 새 리스트를 만듦\n",
    "#무언가의 일부를 잘라내는걸 슬라이스라고 함, 시퀀스 객체의 일부를 자르면 시퀀스 슬라이스\n",
    "print(a[1:1]) # 인덱스 1부터 0까지  잘라서 새 리스트를 만듦,끝 인덱스가 시작 인덱스보다 작으면 빈 시퀀스 객체가 나온다\n",
    "print(a[4:7]) # 인덱스 4부터 6까지 슬라이스\n",
    "print(a[4:-1]) # 인덱스 4부터 -2까지 슬라이스\n",
    "print(a[1:7:2]) #시퀀스 객체[시작 인덱스:끝 인덱스: 인덱스 증가폭],2씩 증가하므로 인덱스 1번 3번 5번이 나온다\n",
    "print(a[:7]) # 처음 인덱스 부터 6번 인덱스 까지\n",
    "print(a[3:])#3번 인덱스 부터 끝 인덱스 까지\n",
    "print(a[:])# 처음부터 끝 까지\n",
    "print(a[::2])# 처음부터 끝 까지 증가폭은 2만큼,처음과 끝 정할 수 있음\n",
    "#a[:]==a[::]\n",
    "print(a[5:1:-1]) #인덱스 5부터 2까지 -1만큼씩 증가하면서 슬라이스\n",
    "b=(0,1,2,3,4,5,6,7)\n",
    "print(b[::-1]) #인덱스 전체에서 1씩 감소시키면서 요소를 가져옴\n",
    "print(a[0:len(a)]) #0터 a가 가진 요소의 개수(마지막 ) 까지 슬라이스\n",
    "s='Hello,world'\n",
    "print(s[::-1]) #리스트,튜플,range(),문자열 다 슬라이스 가능\n"
   ]
  }
 ],
 "metadata": {
  "kernelspec": {
   "display_name": "juneon",
   "language": "python",
   "name": "python3"
  },
  "language_info": {
   "codemirror_mode": {
    "name": "ipython",
    "version": 3
   },
   "file_extension": ".py",
   "mimetype": "text/x-python",
   "name": "python",
   "nbconvert_exporter": "python",
   "pygments_lexer": "ipython3",
   "version": "3.8.16"
  },
  "orig_nbformat": 4
 },
 "nbformat": 4,
 "nbformat_minor": 2
}
