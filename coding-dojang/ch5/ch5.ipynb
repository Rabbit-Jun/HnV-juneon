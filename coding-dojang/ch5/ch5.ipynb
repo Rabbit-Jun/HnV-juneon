{
 "cells": [
  {
   "attachments": {},
   "cell_type": "markdown",
   "metadata": {},
   "source": [
    "파이썬에서는 수자를 정수,실수,복소수로 구분한다\n",
    "프로그래밍에서는 보통 정수,실수 사용\n",
    "복소수는 공학의 영역에서 사용\n"
   ]
  },
  {
   "cell_type": "code",
   "execution_count": 15,
   "metadata": {},
   "outputs": [
    {
     "name": "stdout",
     "output_type": "stream",
     "text": [
      "2\n",
      "-1\n",
      "4\n",
      "2.5\n",
      "2.0\n",
      "2\n",
      "1\n",
      "1024\n",
      "3\n",
      "2\n",
      "10\n",
      "<class 'int'>\n",
      "(2, 1)\n",
      "6\n",
      "72\n",
      "272\n"
     ]
    }
   ],
   "source": [
    "print(1+1) #덧셈\n",
    "print(1-2) #뺄셈\n",
    "print(2*2) #곱셈\n",
    "print(5/2) #나눗셈\n",
    "print(4/2)# 파이썬 3에서는 나누기 연산을 하면 실수가 나온다\n",
    "print(5//2) #소수점 이하 버리기\n",
    "print(5%2) # 5mod2\n",
    "print(2**10) #**는 제곱 연산자\n",
    "print(int(3.6)) # 정수로 바꿔버리기, 소수점 이하는 버려진다\n",
    "print(int(5/2)) #정수로 바꿔버리기,소수점 이하는 버려진다\n",
    "print(int('10')) #문자열에도 작용한다, 단 문자열이 숫자로 구성된 경우에 한함\n",
    "print(type(10)) # 객체의 자료형을 알려준다\n",
    "print(divmod(5,2)) #목과 나머지를 함꼐 구해주세요\n",
    "print(0b110) #0b를 맨 앞에 붙이면 이진수 라는 의미\n",
    "print(0o110) # 0o는 8진수\n",
    "print(0x110) #0x는 16진수 , 10부터 15는 A~F 로 표현\n",
    "\n"
   ]
  }
 ],
 "metadata": {
  "kernelspec": {
   "display_name": "juneon",
   "language": "python",
   "name": "python3"
  },
  "language_info": {
   "codemirror_mode": {
    "name": "ipython",
    "version": 3
   },
   "file_extension": ".py",
   "mimetype": "text/x-python",
   "name": "python",
   "nbconvert_exporter": "python",
   "pygments_lexer": "ipython3",
   "version": "3.8.16"
  },
  "orig_nbformat": 4
 },
 "nbformat": 4,
 "nbformat_minor": 2
}
