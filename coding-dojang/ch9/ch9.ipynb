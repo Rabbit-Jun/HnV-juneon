{
 "cells": [
  {
   "cell_type": "code",
   "execution_count": 3,
   "metadata": {},
   "outputs": [
    {
     "name": "stdout",
     "output_type": "stream",
     "text": [
      "안녕하세요\n",
      "안녕\n",
      "하세요\n"
     ]
    }
   ],
   "source": [
    "hello =\"\"\"안녕하세요\"\"\" #큰 따움표 혹은 작은 따움표 세개로 문자열을 묶을수 있음\n",
    "print(hello)\n",
    "hi='''안녕\n",
    "하세요''' # 줄이동을 할당 시킬 수도 있음\n",
    "print(hi)"
   ]
  },
  {
   "cell_type": "code",
   "execution_count": 4,
   "metadata": {},
   "outputs": [
    {
     "name": "stdout",
     "output_type": "stream",
     "text": [
      "this isn't java\n"
     ]
    }
   ],
   "source": [
    "s=\"this isn't java\" #큰 따움표 안에 작은 따움표 넣기 혹은 반대 가능\n",
    "print(s)"
   ]
  },
  {
   "cell_type": "code",
   "execution_count": 6,
   "metadata": {},
   "outputs": [
    {
     "name": "stdout",
     "output_type": "stream",
     "text": [
      "pyhon isn't difficult\n"
     ]
    }
   ],
   "source": [
    "s='pyhon isn\\'t difficult'  #이렇게 특수 문자를 포함하기 위해 \\를 사용하는 걸 이스케이프라고 함\n",
    "\n",
    "print(s)"
   ]
  },
  {
   "attachments": {},
   "cell_type": "markdown",
   "metadata": {},
   "source": [
    "한글을 썼을 때 에러가 난다면 인코딩을 UTF-8\n",
    "보통 메모장을 사용하면 기본 인코딩이 CP949라서 이런 문제가 종종 생깁니다. 메모장에서 UTF-8로 저장하려면 파일(F) > 다른 이름으로 저장(A)… > 인코딩(E)에서 UTF-8을 선택한 뒤 저장하면 됩니다. "
   ]
  },
  {
   "cell_type": "code",
   "execution_count": 9,
   "metadata": {},
   "outputs": [
    {
     "name": "stdout",
     "output_type": "stream",
     "text": [
      "Hello, 'Python'\n",
      "\"Hello\", Python\n"
     ]
    }
   ],
   "source": [
    "print(\"Hello, 'Python'\")\n",
    "s=\"\"\"\"Hello\", Python\"\"\"\n",
    "print(s)"
   ]
  }
 ],
 "metadata": {
  "kernelspec": {
   "display_name": "juneon",
   "language": "python",
   "name": "python3"
  },
  "language_info": {
   "codemirror_mode": {
    "name": "ipython",
    "version": 3
   },
   "file_extension": ".py",
   "mimetype": "text/x-python",
   "name": "python",
   "nbconvert_exporter": "python",
   "pygments_lexer": "ipython3",
   "version": "3.8.16"
  },
  "orig_nbformat": 4
 },
 "nbformat": 4,
 "nbformat_minor": 2
}
