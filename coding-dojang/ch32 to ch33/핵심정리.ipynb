{
 "cells": [
  {
   "cell_type": "markdown",
   "metadata": {},
   "source": [
    "람다 표현식\n",
    "\n",
    "람다 표현식은 간단한 식으로 함수를 만들 때 사용합니다. 특히 람다 표현식으로 만든 함수는 이름이 없어서 익명 함수라고 부르기도 합니다. 람다 표현식 자체를 호출하려면 람다 표현식을 ( )(괄호)로 묶은 뒤 다시 ( )를 붙이고 인수를 넣어서 호출합니다.\n",
    "\n",
    "lambda 매개변수1, 매개변수2: 반환값                    # 람다 표현식으로 함수를 만듦\n",
    "(lambda 매개변수1, 매개변수2: 반환값)(인수1, 인수2)    # 람다 표현식 자체를 호출\n",
    " \n",
    "lambda 매개변수1, 매개변수2: 식1 if 조건식 else 식2    # 람다 표현식에서 조건부 표현식 사용\n",
    "lambda x: str(x) if x % 3 == 0 else x\n",
    " \n",
    "lambda 매개변수1, 매개변수2: 식1 if 조건식1 else 식2 if 조건식2 else 식3  # if를 여러 개 사용\n",
    "lambda x: str(x) if x == 1 else float(x) if x == 2 else x + 10\n",
    "변수의 사용 범위\n",
    "\n",
    "전역 변수는 스크립트 전체에서 접근할 수 있으며 지역 변수는 해당 함수 안에서만 접근할 수 있습니다. 만약 함수 안에서 전역 변수를 사용하려면 global에 변수 이름을 지정해줍니다.\n",
    "\n",
    "x = 10    # 전역 변수\n",
    " \n",
    "def foo():\n",
    "    global x   # 전역 변수 x를 사용하겠다고 설정\n",
    "    y = 10     # foo의 지역 변수\n",
    "만약 전역 변수가 없을 때 함수 안에서 global을 사용하면 해당 변수는 전역 변수가 됩니다.\n",
    "\n",
    "함수 안에서 함수 사용하기\n",
    "\n",
    "파이썬에서는 def로 함수를 만들고 다시 def로 함수를 만들 수 있습니다.\n",
    "\n",
    "def 함수이름1():\n",
    "    코드\n",
    "    def 함수이름2():\n",
    "        코드\n",
    "함수 안에 함수를 만들었을 때 안쪽 함수에서 바깥쪽 함수의 지역 변수를 변경하려면 nonlocal에 변수 이름을 지정해줍니다.\n",
    "\n",
    "def A():\n",
    "    x = 10        # A의 지역 변수 x\n",
    "    def B():\n",
    "        nonlocal x    # 현재 함수에서 바깥쪽에 있는 지역 변수를 사용\n",
    "        x = 20        # A의 지역 변수 x에 20 할당\n",
    "클로저\n",
    "\n",
    "클로저는 함수를 둘러싼 환경(지역 변수, 코드 등)을 계속 유지하다가 함수를 호출할 때 다시 꺼내서 사용하는 함수를 뜻합니다. 따라서 클로저는 지역 변수와 코드를 묶어서 사용하고 싶을 때 활용합니다. 또한, 클로저에 속한 지역 변수는 바깥에서 직접 접근할 수 없으므로 데이터를 숨기고 싶을 때 활용합니다.\n",
    "\n",
    "def calc():    # calc 함수 안에 mul_add 함수를 만듦\n",
    "    a = 3\n",
    "    b = 5\n",
    "    def mul_add(x):\n",
    "        return a * x + b    # 함수 바깥쪽에 있는 지역 변수 a, b를 사용하여 계산\n",
    "    return mul_add          # mul_add 함수를 반환\n",
    " \n",
    "c = calc()    # c에 저장된 함수가 클로저\n",
    "print(c(1), c(2), c(3), c(4), c(5))    # 8 11 14 17 20\n",
    "클로저는 람다 표현식으로도 만들 수 있습니다.\n",
    "\n",
    "def calc():\n",
    "    a = 3\n",
    "    b = 5\n",
    "    return lambda x: a * x + b    # 람다 표현식을 반환\n",
    "람다와 클로저\n",
    "\n",
    "보통 클로저는 람다와 함께 사용하는 경우가 많아 둘을 혼동하기 쉽습니다. 람다는 이름이 없는 익명 함수를 뜻하고, 클로저는 함수를 둘러싼 환경을 유지했다가 나중에 다시 사용하는 함수를 뜻합니다."
   ]
  },
  {
   "cell_type": "markdown",
   "metadata": {},
   "source": [
    "Q & A\n",
    "일급 객체란 무엇인가요?\n",
    "\n",
    "일급 객체(first-class object)란 다음 조건을 만족하는 객체를 뜻합니다.\n",
    "\n",
    "변수나 데이터 구조에 넣을 수 있어야 한다.\n",
    "매개변수에 전달할 수 있어야 한다.\n",
    "반환값으로 사용할 수 있어야 한다.\n",
    "특히 일급 함수(first-class function)는 일급 객체의 조건을 만족하면서 실행 중(run-time)에 함수를 생성할 수 있어야 합니다. 파이썬에서는 def 안에서 def로 함수를 만들거나, lambda를 사용하여 실행 중에 함수를 생성할 수 있으므로 파이썬의 함수는 일급 함수입니다.\n",
    "\n",
    "다른 언어에 있는 switch 문법은 사용할 수 없나요?\n",
    "\n",
    "파이썬은 switch 문법이 없습니다. 하지만 딕셔너리와 람다 표현식을 사용하면 switch처럼 사용할 수는 있습니다.\n",
    "\n",
    "switch = {\n",
    "    '+': lambda x, y: x + y,    # 람다 표현식으로 실행할 코드를 작성\n",
    "    '*': lambda x, y: x * y\n",
    "    }\n",
    " \n",
    "x = '+'\n",
    "try:\n",
    "    print(switch[x](10, 20))    # 딕셔너리에 키를 지정하는 방식\n",
    "except KeyError:\n",
    "    print('default')            # 딕셔너리에 키가 없을 때는 기본값"
   ]
  },
  {
   "cell_type": "code",
   "execution_count": 1,
   "metadata": {},
   "outputs": [
    {
     "name": "stdout",
     "output_type": "stream",
     "text": [
      "30\n"
     ]
    }
   ],
   "source": [
    "switch = {\n",
    "    '+': lambda x, y: x + y,    # 람다 표현식으로 실행할 코드를 작성\n",
    "    '*': lambda x, y: x * y\n",
    "    }\n",
    " \n",
    "x = '+'\n",
    "try:\n",
    "    print(switch[x](10, 20))    # 딕셔너리에 키를 지정하는 방식\n",
    "except KeyError:\n",
    "    print('default')            # 딕셔너리에 키가 없을 때는 기본값"
   ]
  }
 ],
 "metadata": {
  "kernelspec": {
   "display_name": "juneon",
   "language": "python",
   "name": "python3"
  },
  "language_info": {
   "codemirror_mode": {
    "name": "ipython",
    "version": 3
   },
   "file_extension": ".py",
   "mimetype": "text/x-python",
   "name": "python",
   "nbconvert_exporter": "python",
   "pygments_lexer": "ipython3",
   "version": "3.8.16"
  },
  "orig_nbformat": 4
 },
 "nbformat": 4,
 "nbformat_minor": 2
}
