{
 "cells": [
  {
   "cell_type": "markdown",
   "metadata": {},
   "source": [
    "44.5 연습문제: 소수점 이하 올림, 버림 구하기\n",
    "다음 소스 코드를 완성하여 소수점 이하를 올림, 버림한 숫자가 출력되게 만드세요. 올림 함수는 math 모듈의 ceil, 버림 함수는 math 모듈의 floor 함수입니다.\n",
    "\n",
    "practice_import.py\n",
    "                                \n",
    " \n",
    "x = 1.5\n",
    " \n",
    "print(ceil(x), floor(x))\n",
    "\n",
    "실행 결과\n",
    "2 1"
   ]
  },
  {
   "cell_type": "code",
   "execution_count": 1,
   "metadata": {},
   "outputs": [
    {
     "name": "stdout",
     "output_type": "stream",
     "text": [
      "2 1\n"
     ]
    }
   ],
   "source": [
    "from math import ceil,floor\n",
    "\n",
    "x = 1.5\n",
    " \n",
    "print(ceil(x), floor(x))\n"
   ]
  },
  {
   "cell_type": "markdown",
   "metadata": {},
   "source": [
    "표준 입력으로 원의 반지름(실수)이 입력됩니다. 입력된 반지름을 이용하여 원의 넓이를 출력하는 프로그램을 만드세요(input에서 안내 문자열은 출력하지 않아야 합니다). 원의 넓이는 반지름 * 반지름 * 원주율로 구합니다.\n",
    "\n",
    "judge_import.py\n",
    "________________\n",
    "________________\n",
    "________________\n",
    "\n",
    "예\n",
    "입력\n",
    "10.0\n",
    "\n",
    "결과\n",
    "314.1592653589793\n",
    "\n",
    "입력\n",
    "2.5\n",
    "\n",
    "결과\n",
    "19.634954084936208"
   ]
  },
  {
   "cell_type": "code",
   "execution_count": 5,
   "metadata": {},
   "outputs": [
    {
     "name": "stdout",
     "output_type": "stream",
     "text": [
      "19.634954084936208\n"
     ]
    }
   ],
   "source": [
    "from math import pi\n",
    "r=float(input())\n",
    "area =r*r*pi\n",
    "print(area)"
   ]
  }
 ],
 "metadata": {
  "kernelspec": {
   "display_name": "jun",
   "language": "python",
   "name": "python3"
  },
  "language_info": {
   "codemirror_mode": {
    "name": "ipython",
    "version": 3
   },
   "file_extension": ".py",
   "mimetype": "text/x-python",
   "name": "python",
   "nbconvert_exporter": "python",
   "pygments_lexer": "ipython3",
   "version": "3.12.0"
  }
 },
 "nbformat": 4,
 "nbformat_minor": 2
}
