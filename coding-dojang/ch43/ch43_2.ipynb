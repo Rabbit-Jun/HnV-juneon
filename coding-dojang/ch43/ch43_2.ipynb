{
 "cells": [
  {
   "cell_type": "code",
   "execution_count": 2,
   "metadata": {},
   "outputs": [
    {
     "data": {
      "text/plain": [
       "'10 20 Fizz 40 Buzz Fizz 70 80'"
      ]
     },
     "execution_count": 2,
     "metadata": {},
     "output_type": "execute_result"
    }
   ],
   "source": [
    "import re\n",
    "\n",
    "def multiple10(m):  # 매개변수로 매치 객체를 받음\n",
    "    n = int(m.group()) # 매칭된 문자열을 가져와서 정수로 변환\n",
    "    return str(n * 10) # 숫자에 10을 곱한 뒤 문자열로 변환해서 반환\n",
    "\n",
    "re.sub('\\d+', multiple10, '1 2 Fizz 4 Buzz Fizz 7 8')\n",
    "\n"
   ]
  },
  {
   "cell_type": "code",
   "execution_count": 3,
   "metadata": {},
   "outputs": [
    {
     "data": {
      "text/plain": [
       "'10 20 Fizz 40'"
      ]
     },
     "execution_count": 3,
     "metadata": {},
     "output_type": "execute_result"
    }
   ],
   "source": [
    "re.sub('\\d+',lambda m: str(int(m.group()) * 10),'1 2 Fizz 4')"
   ]
  }
 ],
 "metadata": {
  "kernelspec": {
   "display_name": "Python 3",
   "language": "python",
   "name": "python3"
  },
  "language_info": {
   "codemirror_mode": {
    "name": "ipython",
    "version": 3
   },
   "file_extension": ".py",
   "mimetype": "text/x-python",
   "name": "python",
   "nbconvert_exporter": "python",
   "pygments_lexer": "ipython3",
   "version": "3.11.1"
  },
  "orig_nbformat": 4
 },
 "nbformat": 4,
 "nbformat_minor": 2
}
