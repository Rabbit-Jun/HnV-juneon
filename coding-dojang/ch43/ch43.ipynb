{
 "cells": [
  {
   "cell_type": "markdown",
   "metadata": {},
   "source": [
    "정규표현식(regular expression)은 일정한 규칙(패턴)을 가진 문자열을 표현하는 방법입니다. 복잡한 문자열 속에서 특정한 규칙으로 된 문자열을 검색한 뒤 추출하거나 바꿀 때 사용합니다. 또는, 문자열이 정해진 규칙에 맞는지 판단할 때도 사용합니다."
   ]
  },
  {
   "cell_type": "code",
   "execution_count": 25,
   "metadata": {},
   "outputs": [
    {
     "name": "stdout",
     "output_type": "stream",
     "text": [
      "<re.Match object; span=(0, 5), match='Hello'>\n",
      "None\n"
     ]
    },
    {
     "data": {
      "text/plain": [
       "7"
      ]
     },
     "execution_count": 25,
     "metadata": {},
     "output_type": "execute_result"
    }
   ],
   "source": [
    "import re #regular expression\n",
    "print(re.match('Hello', 'Hello, world!'))# 문자열이 있으므로 정규표현식 매치 객체가 반환됨\n",
    "# re.match('패턴', '문자열')\n",
    "print(re.match('Python', 'Hello, world!')) # 문자열이 없으므로 아무것도 반환되지 않음\n",
    "\n",
    "string='Hello, world!'\n",
    "string.find('w') #return index "
   ]
  },
  {
   "cell_type": "code",
   "execution_count": 18,
   "metadata": {},
   "outputs": [
    {
     "data": {
      "text/plain": [
       "<re.Match object; span=(0, 5), match='Hello'>"
      ]
     },
     "execution_count": 18,
     "metadata": {},
     "output_type": "execute_result"
    }
   ],
   "source": [
    "re.search('^Hello', 'Hello, world!')"
   ]
  },
  {
   "cell_type": "code",
   "execution_count": 19,
   "metadata": {},
   "outputs": [
    {
     "data": {
      "text/plain": [
       "<re.Match object; span=(7, 13), match='world!'>"
      ]
     },
     "execution_count": 19,
     "metadata": {},
     "output_type": "execute_result"
    }
   ],
   "source": [
    "re.search('world!$', 'Hello, world!')"
   ]
  },
  {
   "cell_type": "code",
   "execution_count": 54,
   "metadata": {},
   "outputs": [
    {
     "data": {
      "text/plain": [
       "<re.Match object; span=(5, 9), match='1234'>"
      ]
     },
     "execution_count": 54,
     "metadata": {},
     "output_type": "execute_result"
    }
   ],
   "source": [
    "re.search('[0-9]+$', 'Hello1234')    # 숫자로 끝나므로 패턴에 매칭됨"
   ]
  },
  {
   "cell_type": "markdown",
   "metadata": {},
   "source": [
    "문자열 앞에 ^를 붙이면 문자열이 맨 앞에 오는지 판단하고, 문자열 뒤에 $를 붙이면 문자열이 맨 뒤에 오는지 판단합니다(특정 문자열로 끝나는지)."
   ]
  },
  {
   "cell_type": "code",
   "execution_count": null,
   "metadata": {},
   "outputs": [],
   "source": [
    "re.match('hello|world', 'hello')    # hello 또는 world가 있으므로 패턴에 매칭됨\n",
    "#'hello|world'는 문자열에서 'hello' 또는 'world'가 포함되는지 판단\n",
    "#|는 특정 문자열에서 지정된 문자열(문자)이 하나라도 포함되는지 판단합니다. 기본 개념은 OR 연산자와 같습니다."
   ]
  },
  {
   "cell_type": "markdown",
   "metadata": {},
   "source": [
    "문자열이 숫자로 되어있는지 판단해보겠습니다. 다음과 같이 [ ](대괄호) 안에 숫자 범위를 넣으며 * 또는 +를 붙입니다. 숫자 범위는 0-9처럼 표현하며 *는 문자(숫자)가 0개 이상 있는지, +는 1개 이상 있는지 판단합니다."
   ]
  },
  {
   "cell_type": "code",
   "execution_count": 20,
   "metadata": {},
   "outputs": [
    {
     "data": {
      "text/plain": [
       "<re.Match object; span=(0, 4), match='1234'>"
      ]
     },
     "execution_count": 20,
     "metadata": {},
     "output_type": "execute_result"
    }
   ],
   "source": [
    "re.match('[0-9]*', '1234')    # 1234는 0부터 9까지 숫자가 0개 이상 있으므로 패턴에 매칭됨"
   ]
  },
  {
   "cell_type": "code",
   "execution_count": 21,
   "metadata": {},
   "outputs": [
    {
     "data": {
      "text/plain": [
       "<re.Match object; span=(0, 4), match='1234'>"
      ]
     },
     "execution_count": 21,
     "metadata": {},
     "output_type": "execute_result"
    }
   ],
   "source": [
    "re.match('[0-9]+', '1234')    # 1234는 0부터 9까지 숫자가 1개 이상 있으므로 패턴에 매칭됨"
   ]
  },
  {
   "cell_type": "code",
   "execution_count": 28,
   "metadata": {},
   "outputs": [],
   "source": [
    "re.match('[0-9]+', 'abcd')  # abcd는 0부터 9까지 숫자가 1개 이상 없으므로 패턴에 매칭되지 않음"
   ]
  },
  {
   "cell_type": "code",
   "execution_count": 32,
   "metadata": {},
   "outputs": [
    {
     "name": "stdout",
     "output_type": "stream",
     "text": [
      "<re.Match object; span=(0, 1), match='b'>\n",
      "<re.Match object; span=(0, 2), match='ab'>\n",
      "<re.Match object; span=(0, 3), match='aab'>\n",
      "<re.Match object; span=(0, 3), match='aab'>\n"
     ]
    }
   ],
   "source": [
    "print(re.match('a*b', 'b'))  # b에는 a가 0개 이상 있으므로 패턴에 매칭됨\n",
    "print(re.match('a+b', 'b')) # b에는 a가 1개 이상 없으므로 패턴에 매칭되지 않음, a와 b모두 1개 이상씩 있어야 매칭됨\n",
    "print(re.match('a*b', 'aab')) # aab에는 a가 0개 이상 있으므로 패턴에 매칭됨\n",
    "print(re.match('a+b', 'aab')) # aab에는 a가 1개 이상 있으므로 패턴에 매칭됨"
   ]
  },
  {
   "cell_type": "code",
   "execution_count": 33,
   "metadata": {},
   "outputs": [
    {
     "data": {
      "text/plain": [
       "<re.Match object; span=(0, 3), match='abd'>"
      ]
     },
     "execution_count": 33,
     "metadata": {},
     "output_type": "execute_result"
    }
   ],
   "source": [
    "re.match('abc?d', 'abd')         # abd에서 c 위치에 c가 0개 있으므로 패턴에 매칭됨\n",
    "\n",
    "#?는 ? 앞의 문자(범위)가 0개 또는 1개인지 판단"
   ]
  },
  {
   "cell_type": "code",
   "execution_count": 34,
   "metadata": {},
   "outputs": [
    {
     "data": {
      "text/plain": [
       "<re.Match object; span=(0, 4), match='ab3c'>"
      ]
     },
     "execution_count": 34,
     "metadata": {},
     "output_type": "execute_result"
    }
   ],
   "source": [
    "re.match('ab[0-9]?c', 'ab3c')    # [0-9] 위치에 숫자가 1개 있으므로 패턴에 매칭됨"
   ]
  },
  {
   "cell_type": "code",
   "execution_count": 35,
   "metadata": {},
   "outputs": [
    {
     "data": {
      "text/plain": [
       "<re.Match object; span=(0, 4), match='abxd'>"
      ]
     },
     "execution_count": 35,
     "metadata": {},
     "output_type": "execute_result"
    }
   ],
   "source": [
    "re.match('ab.d', 'abxd')         # .이 있는 위치에 문자가 1개 있으므로 패턴에 매칭\n",
    "\n",
    "#.은 .이 있는 위치에 아무 문자(숫자)가 1개 있는지 판단\n"
   ]
  },
  {
   "cell_type": "code",
   "execution_count": 40,
   "metadata": {},
   "outputs": [
    {
     "name": "stdout",
     "output_type": "stream",
     "text": [
      "None\n",
      "<re.Match object; span=(0, 3), match='hhh'>\n",
      "<re.Match object; span=(0, 15), match='hellohellohello'>\n"
     ]
    }
   ],
   "source": [
    "print(re.match('h{3}', 'hhehllo')) # h가 3개 있는지 판단\n",
    "\n",
    "print(re.match('h{3}', 'hhhello')) # 붙어있어야 함\n",
    "\n",
    "print(re.match('(hello){3}', 'hellohellohelloworld')) #hello가 3개 있는지 판단"
   ]
  },
  {
   "cell_type": "code",
   "execution_count": 41,
   "metadata": {},
   "outputs": [
    {
     "data": {
      "text/plain": [
       "<re.Match object; span=(0, 13), match='010-1000-1000'>"
      ]
     },
     "execution_count": 41,
     "metadata": {},
     "output_type": "execute_result"
    }
   ],
   "source": [
    "re.match('[0-9]{3}-[0-9]{4}-[0-9]{4}', '010-1000-1000')    # 숫자 3개-4개-4개 패턴에 매칭됨"
   ]
  },
  {
   "cell_type": "code",
   "execution_count": 44,
   "metadata": {},
   "outputs": [
    {
     "name": "stdout",
     "output_type": "stream",
     "text": [
      "<re.Match object; span=(0, 11), match='02-100-1000'>\n",
      "<re.Match object; span=(0, 12), match='010-100-1000'>\n"
     ]
    }
   ],
   "source": [
    "print(re.match('[0-9]{2,3}-[0-9]{3,4}-[0-9]{4}', '02-100-1000'))    # 2~3개-3~4개-4개 패턴에 매칭됨\n",
    "print(re.match('[0-9]{2,3}-[0-9]{3,4}-[0-9]{4}', '010-100-1000')) \n",
    "# {시작개수,끝개수} 형식으로 시작 개수와 끝 개수를 지정해주면 특정 개수 사이에 들어가는지 판단"
   ]
  },
  {
   "cell_type": "code",
   "execution_count": 51,
   "metadata": {},
   "outputs": [
    {
     "name": "stdout",
     "output_type": "stream",
     "text": [
      "<re.Match object; span=(0, 9), match='Hello1234'>\n",
      "None\n",
      "<re.Match object; span=(0, 4), match='1234'>\n",
      "<re.Match object; span=(0, 3), match='홍길동'>\n"
     ]
    }
   ],
   "source": [
    "print(re.match('[a-zA-Z0-9]+', 'Hello1234'))   # a부터 z, A부터 Z, 0부터 9까지 1개 이상 있으므로\n",
    "print(re.match('[A-Z0-9]+', 'hello')) # 대문자, 숫자는 없고 소문자만 있으므로 패턴에 매칭되지 않음\n",
    "print(re.match('[a-zA-Z0-9]+', '1234')) # []안에 있는 문자가 1개라도 있으면 됨\n",
    "print(re.match('[가-힣]+', '홍길동')) # 가부터 힣까지 1개 이상 있으므로 패턴에 매칭됨"
   ]
  },
  {
   "cell_type": "code",
   "execution_count": 53,
   "metadata": {},
   "outputs": [
    {
     "name": "stdout",
     "output_type": "stream",
     "text": [
      "None\n",
      "<re.Match object; span=(0, 5), match='hello'>\n"
     ]
    }
   ],
   "source": [
    "print(re.match('[^A-Z]+', 'Hello'))  # 대문자를 제외. 대문자가 있으므로 패턴에 매칭되지 않음\n",
    "print(re.match('[^A-Z]+', 'hello'))   # 대문자를 제외. 대문자가 없으므로 패턴에 매칭됨"
   ]
  },
  {
   "cell_type": "code",
   "execution_count": 57,
   "metadata": {},
   "outputs": [
    {
     "name": "stdout",
     "output_type": "stream",
     "text": [
      "None\n",
      "<re.Match object; span=(0, 7), match='$(good)'>\n"
     ]
    }
   ],
   "source": [
    "print(re.match('\\+','1**2')) # *이 들어있는지 판단, \\특수문자\n",
    "print(re.match('[$()a-zA-z0-9]+','$(good)')) # $, (, )와 문자, 숫자가 들어있는지 판단,  [ ] 안에서는 \\를 붙이지 않아도 되지만 에러가 발생하는 경우에는 \\를 붙입니다.\n"
   ]
  },
  {
   "cell_type": "markdown",
   "metadata": {},
   "source": [
    "지금까지 범위를 지정하면서 a-zA-Z0-9처럼 대소문자와 숫자를 모두 나열했습니다. 이런 방식으로 범위를 정하면 정규표현식이 길어지고 복잡해집니다. 단순히 숫자인지 문자인지 판단할 때는 \\d, \\D, \\w, \\W를 사용하면 편리합니다.\n",
    "\n",
    "\\d: [0-9]와 같음. 모든 숫자\n",
    "\\D: [^0-9]와 같음. 숫자를 제외한 모든 문자\n",
    "\\w: [a-zA-Z0-9_]와 같음. 영문 대소문자, 숫자, 밑줄 문자\n",
    "\\W: [^a-zA-Z0-9_]와 같음. 영문 대소문자, 숫자, 밑줄 문자를 제외한 모든 문자"
   ]
  },
  {
   "cell_type": "code",
   "execution_count": 59,
   "metadata": {},
   "outputs": [
    {
     "name": "stdout",
     "output_type": "stream",
     "text": [
      "<re.Match object; span=(0, 1), match='1'>\n",
      "<re.Match object; span=(0, 1), match='a'>\n",
      "<re.Match object; span=(0, 1), match='l'>\n",
      "<re.Match object; span=(0, 1), match='!'>\n"
     ]
    }
   ],
   "source": [
    "print(re.match('\\d','1234'))\n",
    "print(re.match('\\D','abcd'))\n",
    "print(re.match('\\w','like!'))\n",
    "print(re.match('\\W','!@#$aa'))"
   ]
  },
  {
   "cell_type": "markdown",
   "metadata": {},
   "source": [
    "\\s: [ \\t\\n\\r\\f\\v]와 같음. 공백(스페이스), \\t(탭) \\n(새 줄, 라인 피드), \\r(캐리지 리턴), \\f(폼피드), \\v(수직 탭)을 포함\n",
    "\\S: [^ \\t\\n\\r\\f\\v]와 같음. 공백을 제외하고 \\t, \\n, \\r, \\f, \\v만 포함"
   ]
  },
  {
   "cell_type": "code",
   "execution_count": 60,
   "metadata": {},
   "outputs": [
    {
     "name": "stdout",
     "output_type": "stream",
     "text": [
      "<re.Match object; span=(0, 1), match=' '>\n",
      "None\n"
     ]
    }
   ],
   "source": [
    "print(re.match('\\s','   '))\n",
    "print(re.match('\\S','   '))"
   ]
  },
  {
   "cell_type": "markdown",
   "metadata": {},
   "source": [
    "매번 match나 search 함수에 정규표현식 패턴을 지정하는 방법은 비효율적입니다. 같은 패턴을 자주 사용할 때는 compile 함수를 사용하여 정규표현식 패턴을 객체로 만든 뒤 match 또는 search 메서드를 호출하면 됩니다.\n",
    "\n",
    "객체 = re.compile('패턴')\n",
    "\n",
    "객체.match('문자열')\n",
    "\n",
    "객체.search('문자열')"
   ]
  },
  {
   "cell_type": "code",
   "execution_count": 63,
   "metadata": {},
   "outputs": [
    {
     "data": {
      "text/plain": [
       "<re.Match object; span=(0, 0), match=''>"
      ]
     },
     "execution_count": 63,
     "metadata": {},
     "output_type": "execute_result"
    }
   ],
   "source": [
    "p= re.compile('\\d*')  # 정규표현식 패턴을 객체로 만듦\n",
    "\n",
    "p.match('ab') # 정규표현식 패턴 객체에서 match 메서드 사용"
   ]
  },
  {
   "cell_type": "markdown",
   "metadata": {},
   "source": [
    "정규표현식 그룹은 해당 그룹과 일치하는 문자열을 얻어올 때 사용합니다.\n",
    "\n",
    "패턴 안에서 정규표현식을 ( )(괄호)로 묶으면 그룹이 됩니다.\n",
    "\n",
    "(정규표현식) (정규표현식)"
   ]
  },
  {
   "cell_type": "code",
   "execution_count": 7,
   "metadata": {},
   "outputs": [
    {
     "name": "stdout",
     "output_type": "stream",
     "text": [
      "10\n",
      "295\n",
      "10 295\n",
      "10 295\n"
     ]
    },
    {
     "data": {
      "text/plain": [
       "('10', '295')"
      ]
     },
     "execution_count": 7,
     "metadata": {},
     "output_type": "execute_result"
    }
   ],
   "source": [
    "m = re.match('([0-9]+) ([0-9]+)', '10 295') #공백으로 그룹 나눔\n",
    "print(m.group(1)) # 첫 번째 그룹(그룹 1)에 매칭된 문자열을 반환\n",
    "print(m.group(2)) # 두 번째 그룹(그룹 2)에 매칭된 문자열을 반환\n",
    "\n",
    "print(m.group()) # 매칭된 문자열을 한꺼번에 반환\n",
    "print(m.group(0))  # 매칭된 문자열을 한꺼번에 반환\n",
    "m.groups() # 각 그룹에 해당하는 문자열을 튜플 형태로 반환\n"
   ]
  },
  {
   "cell_type": "markdown",
   "metadata": {},
   "source": [
    "그룹에 이름을 지으면 편리합니다. 그룹의 이름은 ( )(괄호) 안에 ?P<이름> 형식으로 지정합니다.\n",
    "\n",
    "(?P<이름>정규표현식)"
   ]
  },
  {
   "cell_type": "code",
   "execution_count": 11,
   "metadata": {},
   "outputs": [
    {
     "name": "stdout",
     "output_type": "stream",
     "text": [
      "print\n",
      "1234\n"
     ]
    }
   ],
   "source": [
    "m=re.match('(?P<func>[a-zA-Z0-9_]+)\\((?P<arg>\\w+)\\)','print(1234)')\n",
    "print(m.group('func'))\n",
    "print(m.group('arg')) "
   ]
  },
  {
   "cell_type": "code",
   "execution_count": 12,
   "metadata": {},
   "outputs": [
    {
     "data": {
      "text/plain": [
       "['1', '2', '4', '7', '8']"
      ]
     },
     "execution_count": 12,
     "metadata": {},
     "output_type": "execute_result"
    }
   ],
   "source": [
    "re.findall('\\d+', '1 2 Fizz 4 Buzz Fizz 7 8')\n",
    "# 문자열에서 패턴에 해당하는 문자를 리스트로 반환\n"
   ]
  },
  {
   "cell_type": "markdown",
   "metadata": {},
   "source": [
    "참고 | *, +와 그룹 활용하기\n",
    "정규표현식에서 +과 *을 조합하여 사용할 때는 그룹으로 묶어서 사용합니다. (.[a-z]+)*는 점과 영문 소문자가 1개 이상 있는지 판단하고, 이것 자체가 0개 이상인지 판단합니다. 즉, 규칙은 반드시 지켜야 하지만 있어도 되고 없어도 되는 상황에 사용합니다."
   ]
  },
  {
   "cell_type": "code",
   "execution_count": 15,
   "metadata": {},
   "outputs": [
    {
     "name": "stdout",
     "output_type": "stream",
     "text": [
      "<re.Match object; span=(0, 11), match='hello.world'>\n",
      "None\n",
      "<re.Match object; span=(0, 5), match='hello'>\n"
     ]
    }
   ],
   "source": [
    "print(re.match('[a-z]+(.[a-z]+)*$','hello.world')) # .world는 문자열이므로 패턴에 매칭됨\n",
    "\n",
    "print(re.match('[a-z]+(.[a-z]+)*$','hello.1234'))\n",
    "\n",
    "print(re.match('[a-z]+(.[a-z]+)*$','hello'))\n"
   ]
  },
  {
   "cell_type": "markdown",
   "metadata": {},
   "source": [
    "문자열을 바꿀 때는 sub 함수를 사용하며 패턴, 바꿀 문자열, 문자열, 바꿀 횟수를 넣어줍니다. 여기서 바꿀 횟수를 넣으면 지정된 횟수만큼 바꾸며 바꿀 횟수를 생략하면 찾은 문자열을 모두 바꿉니다.\n",
    "\n",
    "re.sub('패턴', '바꿀문자열', '문자열', 바꿀횟수)"
   ]
  },
  {
   "cell_type": "code",
   "execution_count": 16,
   "metadata": {},
   "outputs": [
    {
     "data": {
      "text/plain": [
       "'fruit box fruit tree'"
      ]
     },
     "execution_count": 16,
     "metadata": {},
     "output_type": "execute_result"
    }
   ],
   "source": [
    "re.sub('apple|orange','fruit','apple box orange tree') "
   ]
  },
  {
   "cell_type": "code",
   "execution_count": 17,
   "metadata": {},
   "outputs": [
    {
     "data": {
      "text/plain": [
       "'n n Fizz n Buzz Fizz n n'"
      ]
     },
     "execution_count": 17,
     "metadata": {},
     "output_type": "execute_result"
    }
   ],
   "source": [
    "re.sub('\\d+','n','1 2 Fizz 4 Buzz Fizz 7 8')"
   ]
  },
  {
   "cell_type": "markdown",
   "metadata": {},
   "source": [
    "sub 함수는 바꿀 문자열 대신 교체 함수를 지정할 수도 있습니다. 교체 함수는 매개변수로 매치 객체를 받으며 바꿀 결과를 문자열로 반환하면 됩니다. 다음은 문자열에서 숫자를 찾은 뒤 숫자를 10배로 만듭니다.\n",
    "\n",
    "교체함수(매치객체)\n",
    "re.sub('패턴', 교체함수, '문자열', 바꿀횟수)"
   ]
  }
 ],
 "metadata": {
  "kernelspec": {
   "display_name": "jun",
   "language": "python",
   "name": "python3"
  },
  "language_info": {
   "codemirror_mode": {
    "name": "ipython",
    "version": 3
   },
   "file_extension": ".py",
   "mimetype": "text/x-python",
   "name": "python",
   "nbconvert_exporter": "python",
   "pygments_lexer": "ipython3",
   "version": "3.11.1"
  },
  "orig_nbformat": 4
 },
 "nbformat": 4,
 "nbformat_minor": 2
}
