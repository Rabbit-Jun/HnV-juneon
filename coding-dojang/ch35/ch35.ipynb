{
 "cells": [
  {
   "cell_type": "markdown",
   "metadata": {},
   "source": [
    "속성에는 클래스 속성과 인스턴스 속성 두 가지 종류가 있습니다. __init__ 메서드에서 만들었던 속성은 인스턴스 속성입니다.\n",
    "\n",
    "클래스 속성은 다음과 같이 클래스에 바로 속성을 만듭니다.\n",
    "\n",
    "class 클래스이름:\n",
    "    속성 = 값"
   ]
  },
  {
   "cell_type": "code",
   "execution_count": 1,
   "metadata": {},
   "outputs": [
    {
     "name": "stdout",
     "output_type": "stream",
     "text": [
      "['book', 'key']\n",
      "['book', 'key']\n"
     ]
    }
   ],
   "source": [
    "class per:\n",
    "    bag=[]\n",
    "\n",
    "    def put_bag(self,stuff):\n",
    "        self.bag.append(stuff)\n",
    "#put_bag 메서드에서 클래스 속성 bag에 접근할 때 self를 사용했습니다. 사실 self는 현재 인스턴스를 뜻하므로 클래스 속성을 지칭하기에는 조금 모호합니다.\n",
    "\n",
    "\n",
    "jun=per()\n",
    "jun.put_bag('book')\n",
    "mari =per()\n",
    "mari.put_bag('key')\n",
    "\n",
    "print(jun.bag)\n",
    "print(mari.bag)\n",
    "\n",
    "#클래스 속성은 클래스에 속해 있으며 모든 인스턴스에서 공유됨\n"
   ]
  },
  {
   "cell_type": "code",
   "execution_count": 5,
   "metadata": {},
   "outputs": [
    {
     "name": "stdout",
     "output_type": "stream",
     "text": [
      "['book', 'key']\n",
      "['book', 'key']\n"
     ]
    },
    {
     "data": {
      "text/plain": [
       "mappingproxy({'__module__': '__main__',\n",
       "              'bag': ['book', 'key'],\n",
       "              'put_bag': <function __main__.per.put_bag(self, stuff)>,\n",
       "              '__dict__': <attribute '__dict__' of 'per' objects>,\n",
       "              '__weakref__': <attribute '__weakref__' of 'per' objects>,\n",
       "              '__doc__': None})"
      ]
     },
     "execution_count": 5,
     "metadata": {},
     "output_type": "execute_result"
    }
   ],
   "source": [
    "class per:\n",
    "    bag=[]\n",
    "\n",
    "    def put_bag(self, stuff):\n",
    "        per.bag.append(stuff) #클래스 이름으로 클래스 속성에 접근\n",
    "\n",
    "jun=per()\n",
    "jun.put_bag('book')\n",
    "mari =per()\n",
    "mari.put_bag('key')\n",
    "\n",
    "print(jun.bag)\n",
    "print(mari.bag)\n",
    "\n",
    "jun.__dict__ #인스턴스의 속성\n",
    "per.__dict__ #클래스의 속성"
   ]
  },
  {
   "cell_type": "markdown",
   "metadata": {},
   "source": [
    "참고 | 속성, 메서드 이름을 찾는 순서\n",
    "파이썬에서는 속성, 메서드 이름을 찾을 때 인스턴스, 클래스 순으로 찾습니다. 그래서 인스턴스 속성이 없으면 클래스 속성을 찾게 되므로 james.bag, maria.bag도 문제 없이 동작합니다. 겉보기에는 인스턴스 속성을 사용하는 것 같지만 실제로는 클래스 속성입니다."
   ]
  },
  {
   "cell_type": "code",
   "execution_count": 6,
   "metadata": {},
   "outputs": [
    {
     "name": "stdout",
     "output_type": "stream",
     "text": [
      "['book']\n",
      "['key']\n"
     ]
    }
   ],
   "source": [
    "class per:\n",
    "    def __init__(self):\n",
    "        self.bag =[]\n",
    "    \n",
    "    def put_bag(self,stuff):\n",
    "        self.bag.append(stuff)\n",
    "\n",
    "jun=per()\n",
    "jun.put_bag('book')\n",
    "mari=per()\n",
    "mari.put_bag('key')\n",
    "\n",
    "print(jun.bag)\n",
    "print(mari.bag)\n",
    "\n",
    "#인스턴스 속성은 인스턴스별로 독립되어 있으며 서로 영향 x\n"
   ]
  },
  {
   "cell_type": "code",
   "execution_count": 7,
   "metadata": {},
   "outputs": [
    {
     "name": "stdout",
     "output_type": "stream",
     "text": [
      "10\n"
     ]
    },
    {
     "ename": "AttributeError",
     "evalue": "type object 'Knight' has no attribute '__item_limit'",
     "output_type": "error",
     "traceback": [
      "\u001b[1;31m---------------------------------------------------------------------------\u001b[0m",
      "\u001b[1;31mAttributeError\u001b[0m                            Traceback (most recent call last)",
      "\u001b[1;32mc:\\Users\\junun\\OneDrive\\document\\hnv-juneon\\coding-dojang\\ch35\\ch35.ipynb Cell 6\u001b[0m in \u001b[0;36m<cell line: 11>\u001b[1;34m()\u001b[0m\n\u001b[0;32m      <a href='vscode-notebook-cell:/c%3A/Users/junun/OneDrive/document/hnv-juneon/coding-dojang/ch35/ch35.ipynb#W6sZmlsZQ%3D%3D?line=7'>8</a>\u001b[0m x \u001b[39m=\u001b[39m Knight()\n\u001b[0;32m      <a href='vscode-notebook-cell:/c%3A/Users/junun/OneDrive/document/hnv-juneon/coding-dojang/ch35/ch35.ipynb#W6sZmlsZQ%3D%3D?line=8'>9</a>\u001b[0m x\u001b[39m.\u001b[39mprint_item_limit()    \u001b[39m# 10\u001b[39;00m\n\u001b[1;32m---> <a href='vscode-notebook-cell:/c%3A/Users/junun/OneDrive/document/hnv-juneon/coding-dojang/ch35/ch35.ipynb#W6sZmlsZQ%3D%3D?line=10'>11</a>\u001b[0m \u001b[39mprint\u001b[39m(Knight\u001b[39m.\u001b[39;49m__item_limit)    \u001b[39m# 클래스 바깥에서는 접근할 수 없음\u001b[39;00m\n",
      "\u001b[1;31mAttributeError\u001b[0m: type object 'Knight' has no attribute '__item_limit'"
     ]
    }
   ],
   "source": [
    "class Knight:\n",
    "    __item_limit = 10    # 비공개 클래스 속성\n",
    " \n",
    "    def print_item_limit(self):\n",
    "        print(Knight.__item_limit)    # 클래스 안에서만 접근할 수 있음\n",
    " \n",
    " \n",
    "x = Knight()\n",
    "x.print_item_limit()    # 10\n",
    " \n",
    "print(Knight.__item_limit)    # 클래스 바깥에서는 접근할 수 없음\n",
    "\n",
    "'''\n",
    "아이템의 보유 제한이 10개인데, 이 클래스를 사용하는 사람이 마음대로 __item_limit = 1000으로 수정하면 곤란하겠죠?\n",
    "\n",
    "이처럼 비공개 클래스 속성은 클래스 바깥으로 드러내고 싶지 않은 값에 사용합니다. \n",
    "'''"
   ]
  },
  {
   "cell_type": "code",
   "execution_count": 10,
   "metadata": {},
   "outputs": [
    {
     "name": "stdout",
     "output_type": "stream",
     "text": [
      "사람 클래스입니다.\n",
      "인사 메서드입니다.\n",
      "인사 메서드입니다.\n"
     ]
    }
   ],
   "source": [
    "class Person:\n",
    "    '''사람 클래스입니다.''' #독스트링 \n",
    "    \n",
    "    def greeting(self):\n",
    "        '''인사 메서드입니다.'''\n",
    "        print('Hello')\n",
    " \n",
    "print(Person.__doc__)             # 사람 클래스입니다.\n",
    "print(Person.greeting.__doc__)    # 인사 메서드입니다.\n",
    " \n",
    "maria = Person()\n",
    "print(maria.greeting.__doc__)     # 인사 메서드입니다.\n",
    "\n",
    "#클래스의 독스트링은 클래스.__doc__\n",
    "#메서드의 독스트링은 클래스.메서드.__doc__"
   ]
  },
  {
   "cell_type": "markdown",
   "metadata": {},
   "source": [
    "정적 메서드는 다음과 같이 메서드 위에 @staticmethod를 붙입니다. 이때 정적 메서드는 매개변수에 self를 지정하지 않습니다.\n",
    "\n",
    "class 클래스이름:\n",
    "    @staticmethod\n",
    "    def 메서드(매개변수1, 매개변수2):\n",
    "        코드\n",
    "\n",
    "\n",
    "@staticmethod처럼 앞에 @이 붙은 것을 데코레이터라고 하며 메서드(함수)에 추가 기능을 구현할 때 사용합니다. "
   ]
  },
  {
   "cell_type": "code",
   "execution_count": 11,
   "metadata": {},
   "outputs": [
    {
     "name": "stdout",
     "output_type": "stream",
     "text": [
      "30\n",
      "200\n"
     ]
    }
   ],
   "source": [
    "class Calc:\n",
    "    @staticmethod\n",
    "    def add(a, b):\n",
    "        print(a +b)\n",
    "    \n",
    "    @staticmethod\n",
    "    def mul(a, b):\n",
    "        print(a * b)\n",
    "    \n",
    "Calc.add(10, 20) #클래스에서 바로 메서드 호출\n",
    "Calc.mul(10, 20) #클래스에서 바로 메서드 호출\n",
    "\n",
    "#정적 메서드는 self를 받지 않으므로 인스턴스 속성에는 접근할 수 없습니다.\n",
    "#보통 정적 메서드는 인스턴스 속성, 인스턴스 메서드가 필요 없을 때 사용합니다.\n",
    "\n"
   ]
  },
  {
   "cell_type": "markdown",
   "metadata": {},
   "source": [
    "정적 메서드는 메서드의 실행이 외부 상태에 영향을 끼치지 않는 순수 함수(pure function)를 만들 때 사용합니다. 순수 함수는 부수 효과(side effect)가 없고 입력 값이 같으면 언제나 같은 출력 값을 반환합니다. 즉, 정적 메서드는 인스턴스의 상태를 변화시키지 않는 메서드를 만들 때 사용합니다."
   ]
  },
  {
   "cell_type": "markdown",
   "metadata": {},
   "source": [
    "참고 | 파이썬 자료형의 인스턴스 메서드와 정적 메서드\n",
    "파이썬의 자료형도 인스턴스 메서드와 정적, 클래스 메서드로 나뉘어져 있습니다. 예를 들어 세트에 요소를 더할 때는 인스턴스 메서드를 사용하고, 합집합을 구할 때는 정적 메서드를 사용하도록 만들어져 있습니다.\n",
    "\n",
    ">>> a = {1, 2, 3, 4}\n",
    ">>> a.update({5})    # 인스턴스 메서드\n",
    ">>> a\n",
    "{1, 2, 3, 4, 5}\n",
    ">>> set.union({1, 2, 3, 4}, {5})    # 정적(클래스) 메서드\n",
    "{1, 2, 3, 4, 5}\n",
    "이처럼 인스턴스의 내용을 변경해야 할 때는 update와 같이 인스턴스 메서드로 작성하면 되고, 인스턴스 내용과는 상관없이 결과만 구하면 될 때는 set.union과 같이 정적 메서드로 작성하면 됩니다."
   ]
  },
  {
   "cell_type": "markdown",
   "metadata": {},
   "source": [
    "클래스 메서드는 다음과 같이 메서드 위에 @classmethod를 붙입니다. 이때 클래스 메서드는 첫 번째 매개변수에 cls를 지정해야 합니다(cls는 class에서 따왔습니다).\n",
    "\n",
    "class 클래스이름:\n",
    "    @classmethod\n",
    "    def 메서드(cls, 매개변수1, 매개변수2):\n",
    "        코드"
   ]
  },
  {
   "cell_type": "code",
   "execution_count": 8,
   "metadata": {},
   "outputs": [
    {
     "name": "stdout",
     "output_type": "stream",
     "text": [
      "2명 생성되었습니다.\n"
     ]
    }
   ],
   "source": [
    "class per:\n",
    "    count =0 # 클래스 속성\n",
    "\n",
    "    def __init__(self):\n",
    "        per.count +=1\n",
    "\n",
    "    @classmethod\n",
    "    def print_count(cls):\n",
    "        print('{0}명 생성되었습니다.'.format(cls.count)) #cls로 클래스 속성에 접근\n",
    "    \n",
    "    @classmethod\n",
    "    def create(cls):\n",
    "        p =cls() #cls()로 인스턴스 생성 \n",
    "        return p\n",
    "    \n",
    "james =per() #들여쓰기 주의 할 것 \n",
    "maria =per()\n",
    "\n",
    "per.print_count() \n",
    "\n",
    "\n",
    "#cls를 사용하면 메서드 안에서 현재 클래스의 인스턴스를 만들 수도 있습니다. 즉, cls는 클래스이므로 cls()는 Person()과 같습니다.\n",
    "\n",
    "        "
   ]
  },
  {
   "cell_type": "markdown",
   "metadata": {},
   "source": [
    "클래스 메서드, 정적 메서드, 인스턴스 메서드는 Python에서 클래스와 객체에 작용하는 세 가지 유형의 메서드입니다. 이들은 어떻게 호출되고 어떤 데이터에 접근할 수 있는지에 따라 차이가 있습니다.\n",
    "\n",
    "인스턴스 메서드 (Instance Methods):\n",
    "인스턴스 메서드는 클래스의 인스턴스(객체)에서 호출됩니다.\n",
    "첫 번째 매개변수로 self를 사용하여 인스턴스 자신을 참조합니다.\n",
    "self를 통해 인스턴스 변수에 접근할 수 있습니다.\n",
    "\n",
    "\n",
    "클래스 메서드 (Class Methods):\n",
    "클래스 메서드는 클래스 자체에서 호출됩니다.\n",
    "첫 번째 매개변수로 cls를 사용하여 클래스 자체를 참조합니다.\n",
    "cls를 통해 클래스 변수(즉, 모든 인스턴수가 공유하는 변수)에 접근할 수 있습니다.\n",
    "\n",
    "\n",
    "정적 메서드 (Static Methods):\n",
    "정적 메서드는 일반 함수처럼 동작하지만, 코드 구조화와 관련된 목적으로 주로 사용됩니다(즉, 해당 함수가 해당 클래스의 기능과 관련이 있다고 보여주기 위해).\n",
    "정적메소드는 일반함수처럼 동작하며, 인스턴스( self)나 클래스( cls) 모두 암시적으로 첫 번째 인수로 전달되지 않습니다. 인스턴스나 클래스에서 호출할 수 있다는 점을 제외하면 일반 함수처럼 동작합니다."
   ]
  },
  {
   "cell_type": "code",
   "execution_count": 3,
   "metadata": {},
   "outputs": [
    {
     "name": "stdout",
     "output_type": "stream",
     "text": [
      "0\n"
     ]
    }
   ],
   "source": [
    "class MyClass:\n",
    "    class_var = 0\n",
    "\n",
    "    def __init__(self):\n",
    "        self.instance_var = 1\n",
    "\n",
    "    def instance_method(self):\n",
    "        return self.instance_var\n",
    "\n",
    "    @classmethod\n",
    "    def class_method(cls):\n",
    "        return cls.class_var\n",
    "\n",
    "    @staticmethod\n",
    "    def static_method():\n",
    "        return 'static method called'\n",
    "\n",
    "# creating object of MyClass\n",
    "obj = MyClass()\n",
    "\n",
    "print(obj.instance_method())  # prints: 1\n",
    "print(MyClass.class_method())  # prints: 0\n",
    "print(MyClass.static_method())  # prints: 'static method called'\n"
   ]
  },
  {
   "cell_type": "markdown",
   "metadata": {},
   "source": [
    "다음 소스 코드에서 Date 클래스를 완성하세요. is_date_valid는 문자열이 올바른 날짜인지 검사하는 메서드입니다. 날짜에서 월은 12월까지 일은 31일까지 있어야 합니다.\n",
    "\n",
    "practice_class_static_class_method.py\n",
    "\n",
    "class Date:\n",
    "                                                                \n",
    "    ...\n",
    "                                                                \n",
    " \n",
    "if Date.is_date_valid('2000-10-31'):\n",
    "    print('올바른 날짜 형식입니다.')\n",
    "else:\n",
    "    print('잘못된 날짜 형식입니다.')\n",
    "    \n",
    "실행 결과\n",
    "올바른 날짜 형식입니다."
   ]
  },
  {
   "cell_type": "code",
   "execution_count": 12,
   "metadata": {},
   "outputs": [
    {
     "name": "stdout",
     "output_type": "stream",
     "text": [
      "['2000', '10', '31']\n",
      "True\n",
      "True\n",
      "올바른 날짜 형식입니다.\n"
     ]
    }
   ],
   "source": [
    "class Date:\n",
    "    bool=True\n",
    "\n",
    "    @classmethod\n",
    "    def day_length(self,year,month,day): #필요 없는 코드 에초에 범위가 31 이하 이면 무조건 두자리 수인건데 하....\n",
    "        count =0\n",
    "        if len(year) >=4:\n",
    "            count +=1\n",
    "        if len(month) >0 and len(month)<3:\n",
    "            count +=1\n",
    "        if len(day) > 0 and len(day) <3:\n",
    "            count +=1\n",
    "        \n",
    "        if count ==3:\n",
    "            return True\n",
    "        else:\n",
    "            return False\n",
    "        \n",
    "    @classmethod\n",
    "    def range_day(self,month,day):\n",
    "        count =0\n",
    "        month=int(month)\n",
    "        day=int(day)\n",
    "        if month > 0 and month <13:\n",
    "            count +=1\n",
    "        \n",
    "        if day >0 and day <32:\n",
    "            count +=1\n",
    "        \n",
    "        if count ==2:\n",
    "            return True\n",
    "        else:\n",
    "            return False\n",
    "\n",
    "\n",
    "\n",
    "\n",
    "\n",
    "\n",
    "\n",
    "    @classmethod\n",
    "    def is_date_valid(self,date):\n",
    "        date= date.split('-')\n",
    "        year =date[0]\n",
    "        month=date[1]\n",
    "        day =date[2]\n",
    "        print(date)\n",
    "        print(self.day_length(year,month,day))\n",
    "        print(self.range_day(month,day))\n",
    "        if self.day_length(year,month,day) ==True and self.range_day(month,day) ==True:\n",
    "            return True\n",
    "        \n",
    "        \n",
    "\n",
    "    \n",
    "if Date.is_date_valid('2000-10-31'):\n",
    "    print('올바른 날짜 형식입니다.')\n",
    "else:\n",
    "    print('잘못된 날짜 형식입니다.')\n",
    "\n",
    "\n",
    "\n",
    "    # @staticmethod\n",
    "    # def is_date_valid(date_string):\n",
    "    #     year, month, day = map(int, date_string.split('-'))\n",
    "    #     return month <= 12 and day <= 31"
   ]
  },
  {
   "cell_type": "markdown",
   "metadata": {},
   "source": [
    "표준 입력으로 시:분:초 형식의 시간이 입력됩니다. 다음 소스 코드에서 Time 클래스를 완성하여 시, 분, 초가 출력되게 만드세요. from_string은 문자열로 인스턴스를 만드는 메서드이며 is_time_valid는 문자열이 올바른 시간인지 검사하는 메서드입니다. 시간은 24시까지, 분은 59분까지, 초는 60초까지 있어야 합니다. 정답에 코드를 작성할 때는 class Time:에 맞춰서 들여쓰기를 해주세요.\n",
    "\n",
    "judge_class_static_class_method.py\n",
    "\n",
    "class Time:\n",
    "    def __init__(self, hour, minute, second):\n",
    "        self.hour = hour\n",
    "        self.minute = minute\n",
    "        self.second = second\n",
    " \n",
    "    __________________________________________________________\n",
    "    __________________________________________________________\n",
    "    __________________________________________________________\n",
    "    __________________________________________________________\n",
    "    __________________________________________________________\n",
    "    __________________________________________________________\n",
    "    __________________________________________________________\n",
    "    __________________________________________________________\n",
    "    __________________________________________________________\n",
    " \n",
    "time_string = input()\n",
    " \n",
    "if Time.is_time_valid(time_string):\n",
    "    t = Time.from_string(time_string)\n",
    "    print(t.hour, t.minute, t.second)\n",
    "else:\n",
    "    print('잘못된 시간 형식입니다.')\n",
    "\n",
    "ex)\n",
    "입력\n",
    "23:35:59\n",
    "\n",
    "결과\n",
    "23 35 59\n",
    "\n",
    "입력\n",
    "12:62:43\n",
    "\n",
    "결과\n",
    "잘못된 시간 형식입니다.\n"
   ]
  },
  {
   "cell_type": "code",
   "execution_count": 1,
   "metadata": {},
   "outputs": [
    {
     "name": "stdout",
     "output_type": "stream",
     "text": [
      "23 35 59\n"
     ]
    }
   ],
   "source": [
    "\n",
    "class Time:\n",
    "    def __init__(self, hour, minute, second):\n",
    "        self.hour = hour\n",
    "        self.minute = minute\n",
    "        self.second = second\n",
    "\n",
    "    @staticmethod\n",
    "    def is_time_valid(time_data):\n",
    "        hour,minute,secound=map(int,time_data.split(':'))\n",
    "        return hour <=24 and minute<=59 and secound <=60 \n",
    "        \n",
    "\n",
    "    @classmethod\n",
    "    def from_string(cls,time_string):\n",
    "        hour,minute,second=map(int,time_string.split(':'))\n",
    "        return cls(hour,minute,second)\n",
    "        \n",
    "        \n",
    "    \n",
    "\n",
    "time_string = input()\n",
    " \n",
    "if Time.is_time_valid(time_string):\n",
    "    t = Time.from_string(time_string)\n",
    "    print(t.hour, t.minute, t.second)\n",
    "else:\n",
    "    print('잘못된 시간 형식입니다.')"
   ]
  },
  {
   "cell_type": "code",
   "execution_count": 1,
   "metadata": {},
   "outputs": [
    {
     "name": "stdout",
     "output_type": "stream",
     "text": [
      "True\n"
     ]
    }
   ],
   "source": [
    "minute=30\n",
    "secound=20\n",
    "print(minute<=59 and secound <=59 )"
   ]
  }
 ],
 "metadata": {
  "kernelspec": {
   "display_name": "juneon",
   "language": "python",
   "name": "python3"
  },
  "language_info": {
   "codemirror_mode": {
    "name": "ipython",
    "version": 3
   },
   "file_extension": ".py",
   "mimetype": "text/x-python",
   "name": "python",
   "nbconvert_exporter": "python",
   "pygments_lexer": "ipython3",
   "version": "3.8.16"
  },
  "orig_nbformat": 4
 },
 "nbformat": 4,
 "nbformat_minor": 2
}
