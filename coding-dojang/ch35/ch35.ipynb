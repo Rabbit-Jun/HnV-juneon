{
 "cells": [
  {
   "cell_type": "markdown",
   "metadata": {},
   "source": [
    "속성에는 클래스 속성과 인스턴스 속성 두 가지 종류가 있습니다. __init__ 메서드에서 만들었던 속성은 인스턴스 속성입니다.\n",
    "\n",
    "클래스 속성은 다음과 같이 클래스에 바로 속성을 만듭니다.\n",
    "\n",
    "class 클래스이름:\n",
    "    속성 = 값"
   ]
  },
  {
   "cell_type": "code",
   "execution_count": 1,
   "metadata": {},
   "outputs": [
    {
     "name": "stdout",
     "output_type": "stream",
     "text": [
      "['book', 'key']\n",
      "['book', 'key']\n"
     ]
    }
   ],
   "source": [
    "class per:\n",
    "    bag=[]\n",
    "\n",
    "    def put_bag(self,stuff):\n",
    "        self.bag.append(stuff)\n",
    "#put_bag 메서드에서 클래스 속성 bag에 접근할 때 self를 사용했습니다. 사실 self는 현재 인스턴스를 뜻하므로 클래스 속성을 지칭하기에는 조금 모호합니다.\n",
    "\n",
    "\n",
    "jun=per()\n",
    "jun.put_bag('book')\n",
    "mari =per()\n",
    "mari.put_bag('key')\n",
    "\n",
    "print(jun.bag)\n",
    "print(mari.bag)\n",
    "\n",
    "#클래스 속성은 클래스에 속해 있으며 모든 인스턴스에서 공유됨\n"
   ]
  },
  {
   "cell_type": "code",
   "execution_count": 5,
   "metadata": {},
   "outputs": [
    {
     "name": "stdout",
     "output_type": "stream",
     "text": [
      "['book', 'key']\n",
      "['book', 'key']\n"
     ]
    },
    {
     "data": {
      "text/plain": [
       "mappingproxy({'__module__': '__main__',\n",
       "              'bag': ['book', 'key'],\n",
       "              'put_bag': <function __main__.per.put_bag(self, stuff)>,\n",
       "              '__dict__': <attribute '__dict__' of 'per' objects>,\n",
       "              '__weakref__': <attribute '__weakref__' of 'per' objects>,\n",
       "              '__doc__': None})"
      ]
     },
     "execution_count": 5,
     "metadata": {},
     "output_type": "execute_result"
    }
   ],
   "source": [
    "class per:\n",
    "    bag=[]\n",
    "\n",
    "    def put_bag(self, stuff):\n",
    "        per.bag.append(stuff) #클래스 이름으로 클래스 속성에 접근\n",
    "\n",
    "jun=per()\n",
    "jun.put_bag('book')\n",
    "mari =per()\n",
    "mari.put_bag('key')\n",
    "\n",
    "print(jun.bag)\n",
    "print(mari.bag)\n",
    "\n",
    "jun.__dict__ #인스턴스의 속성\n",
    "per.__dict__ #클래스의 속성"
   ]
  },
  {
   "cell_type": "markdown",
   "metadata": {},
   "source": [
    "참고 | 속성, 메서드 이름을 찾는 순서\n",
    "파이썬에서는 속성, 메서드 이름을 찾을 때 인스턴스, 클래스 순으로 찾습니다. 그래서 인스턴스 속성이 없으면 클래스 속성을 찾게 되므로 james.bag, maria.bag도 문제 없이 동작합니다. 겉보기에는 인스턴스 속성을 사용하는 것 같지만 실제로는 클래스 속성입니다."
   ]
  },
  {
   "cell_type": "code",
   "execution_count": 6,
   "metadata": {},
   "outputs": [
    {
     "name": "stdout",
     "output_type": "stream",
     "text": [
      "['book']\n",
      "['key']\n"
     ]
    }
   ],
   "source": [
    "class per:\n",
    "    def __init__(self):\n",
    "        self.bag =[]\n",
    "    \n",
    "    def put_bag(self,stuff):\n",
    "        self.bag.append(stuff)\n",
    "\n",
    "jun=per()\n",
    "jun.put_bag('book')\n",
    "mari=per()\n",
    "mari.put_bag('key')\n",
    "\n",
    "print(jun.bag)\n",
    "print(mari.bag)\n",
    "\n",
    "#인스턴스 속성은 인스턴스별로 독립되어 있으며 서로 영향 x\n"
   ]
  },
  {
   "cell_type": "code",
   "execution_count": 7,
   "metadata": {},
   "outputs": [
    {
     "name": "stdout",
     "output_type": "stream",
     "text": [
      "10\n"
     ]
    },
    {
     "ename": "AttributeError",
     "evalue": "type object 'Knight' has no attribute '__item_limit'",
     "output_type": "error",
     "traceback": [
      "\u001b[1;31m---------------------------------------------------------------------------\u001b[0m",
      "\u001b[1;31mAttributeError\u001b[0m                            Traceback (most recent call last)",
      "\u001b[1;32mc:\\Users\\junun\\OneDrive\\document\\hnv-juneon\\coding-dojang\\ch35\\ch35.ipynb Cell 6\u001b[0m in \u001b[0;36m<cell line: 11>\u001b[1;34m()\u001b[0m\n\u001b[0;32m      <a href='vscode-notebook-cell:/c%3A/Users/junun/OneDrive/document/hnv-juneon/coding-dojang/ch35/ch35.ipynb#W6sZmlsZQ%3D%3D?line=7'>8</a>\u001b[0m x \u001b[39m=\u001b[39m Knight()\n\u001b[0;32m      <a href='vscode-notebook-cell:/c%3A/Users/junun/OneDrive/document/hnv-juneon/coding-dojang/ch35/ch35.ipynb#W6sZmlsZQ%3D%3D?line=8'>9</a>\u001b[0m x\u001b[39m.\u001b[39mprint_item_limit()    \u001b[39m# 10\u001b[39;00m\n\u001b[1;32m---> <a href='vscode-notebook-cell:/c%3A/Users/junun/OneDrive/document/hnv-juneon/coding-dojang/ch35/ch35.ipynb#W6sZmlsZQ%3D%3D?line=10'>11</a>\u001b[0m \u001b[39mprint\u001b[39m(Knight\u001b[39m.\u001b[39;49m__item_limit)    \u001b[39m# 클래스 바깥에서는 접근할 수 없음\u001b[39;00m\n",
      "\u001b[1;31mAttributeError\u001b[0m: type object 'Knight' has no attribute '__item_limit'"
     ]
    }
   ],
   "source": [
    "class Knight:\n",
    "    __item_limit = 10    # 비공개 클래스 속성\n",
    " \n",
    "    def print_item_limit(self):\n",
    "        print(Knight.__item_limit)    # 클래스 안에서만 접근할 수 있음\n",
    " \n",
    " \n",
    "x = Knight()\n",
    "x.print_item_limit()    # 10\n",
    " \n",
    "print(Knight.__item_limit)    # 클래스 바깥에서는 접근할 수 없음\n",
    "\n",
    "'''\n",
    "아이템의 보유 제한이 10개인데, 이 클래스를 사용하는 사람이 마음대로 __item_limit = 1000으로 수정하면 곤란하겠죠?\n",
    "\n",
    "이처럼 비공개 클래스 속성은 클래스 바깥으로 드러내고 싶지 않은 값에 사용합니다. \n",
    "'''"
   ]
  },
  {
   "cell_type": "code",
   "execution_count": 8,
   "metadata": {},
   "outputs": [
    {
     "name": "stdout",
     "output_type": "stream",
     "text": [
      "사람 클래스입니다.\n",
      "인사 메서드입니다.\n",
      "인사 메서드입니다.\n"
     ]
    }
   ],
   "source": [
    "class Person:\n",
    "    '''사람 클래스입니다.''' #독스트링 \n",
    "    \n",
    "    def greeting(self):\n",
    "        '''인사 메서드입니다.'''\n",
    "        print('Hello')\n",
    " \n",
    "print(Person.__doc__)             # 사람 클래스입니다.\n",
    "print(Person.greeting.__doc__)    # 인사 메서드입니다.\n",
    " \n",
    "maria = Person()\n",
    "print(maria.greeting.__doc__)     # 인사 메서드입니다.\n",
    "\n",
    "#클래스의 독스트링은 클래스.__doc__\n",
    "#메서드의 독스트링은 클래스.메서드.__doc__"
   ]
  }
 ],
 "metadata": {
  "kernelspec": {
   "display_name": "juneon",
   "language": "python",
   "name": "python3"
  },
  "language_info": {
   "codemirror_mode": {
    "name": "ipython",
    "version": 3
   },
   "file_extension": ".py",
   "mimetype": "text/x-python",
   "name": "python",
   "nbconvert_exporter": "python",
   "pygments_lexer": "ipython3",
   "version": "3.8.16"
  },
  "orig_nbformat": 4
 },
 "nbformat": 4,
 "nbformat_minor": 2
}
