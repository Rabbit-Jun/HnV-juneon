{
 "cells": [
  {
   "attachments": {},
   "cell_type": "markdown",
   "metadata": {},
   "source": [
    "반복문 안에 반복문이 들어가는 형태를 중첩 루프(다중 루프)라고 합니다. 그리고 반복문의 루프 인덱스 변수는 index의 첫 글자를 따서 i를 사용하는데, 반복문 안에 반복문이 들어갈 때는 변수 이름을 i, j, k처럼 i부터 알파벳 순서대로 짓습니다."
   ]
  },
  {
   "cell_type": "code",
   "execution_count": 3,
   "metadata": {},
   "outputs": [
    {
     "name": "stdout",
     "output_type": "stream",
     "text": [
      "j:0 j:1 j:2 j:3 j:4 i:0\\n\n",
      "j:0 j:1 j:2 j:3 j:4 i:1\\n\n",
      "j:0 j:1 j:2 j:3 j:4 i:2\\n\n",
      "j:0 j:1 j:2 j:3 j:4 i:3\\n\n",
      "j:0 j:1 j:2 j:3 j:4 i:4\\n\n"
     ]
    }
   ],
   "source": [
    "for i in range(5): #5번 반복. 바깥쪽 루프\n",
    "\tfor j in range(5): #5번 반복. 안쪽 루프\n",
    "\t\tprint('j:', j, sep='', end= ' ')  #가로로 출력 된다\n",
    "\n",
    "\tprint('i:', i, '\\\\n', sep='') \n",
    "\n",
    "\n"
   ]
  },
  {
   "cell_type": "code",
   "execution_count": 4,
   "metadata": {},
   "outputs": [
    {
     "name": "stdout",
     "output_type": "stream",
     "text": [
      "*****\n",
      "*****\n",
      "*****\n",
      "*****\n",
      "*****\n"
     ]
    }
   ],
   "source": [
    "for i in range(5):\n",
    "\tfor j in range(5):\n",
    "\t\tprint('*', end ='')  #가로로 출력\n",
    "\tprint() #줄 바뀜"
   ]
  },
  {
   "cell_type": "code",
   "execution_count": 2,
   "metadata": {},
   "outputs": [
    {
     "name": "stdout",
     "output_type": "stream",
     "text": [
      "*******\n",
      "*******\n",
      "*******\n"
     ]
    }
   ],
   "source": [
    "for i in range(3):\n",
    "\tfor j in range(7):\n",
    "\t\tprint('*', end='')\n",
    "\tprint()"
   ]
  }
 ],
 "metadata": {
  "kernelspec": {
   "display_name": "juneon",
   "language": "python",
   "name": "python3"
  },
  "language_info": {
   "codemirror_mode": {
    "name": "ipython",
    "version": 3
   },
   "file_extension": ".py",
   "mimetype": "text/x-python",
   "name": "python",
   "nbconvert_exporter": "python",
   "pygments_lexer": "ipython3",
   "version": "3.8.16"
  },
  "orig_nbformat": 4
 },
 "nbformat": 4,
 "nbformat_minor": 2
}
