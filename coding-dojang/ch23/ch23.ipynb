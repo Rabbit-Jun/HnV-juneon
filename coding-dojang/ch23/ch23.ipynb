{
 "cells": [
  {
   "cell_type": "code",
   "execution_count": 5,
   "metadata": {},
   "outputs": [
    {
     "name": "stdout",
     "output_type": "stream",
     "text": [
      "[[10, 20], [30, 40], [50, 60]]\n",
      "[[10, 20], [30, 40], [50, 60]]\n",
      "10\n",
      "20\n",
      "30\n"
     ]
    }
   ],
   "source": [
    "a=[[10,20],[30,40],[50,60]]\n",
    "print(a)\n",
    "\n",
    "b=[[10,20],\n",
    "   [30,40],\n",
    "   [50,60]]\n",
    "\n",
    "print(b)\n",
    "\n",
    "print(a[0][0]) #세로 인덱스 0, 가로 인덱스 0인 요소 출력\n",
    "print(a[0][1]) #세로 인덱스 0, 가로 인덱스 1인 요소 출력\n",
    "print(a[1][0]) #세로 인덱스 1, 가로 인덱스 0인 요소 출력\n",
    "#그냥 행렬생각하면 될듯 "
   ]
  },
  {
   "cell_type": "code",
   "execution_count": 6,
   "metadata": {},
   "outputs": [
    {
     "name": "stdout",
     "output_type": "stream",
     "text": [
      "500\n"
     ]
    }
   ],
   "source": [
    "a=[[10,20],[500,600,700],[9],[30,40],[8],[800,900,1000]] #가로의 크기와 세로의 크기가 다른 톱니형 리스트도 만들 수 있다 (by pyhton)\n",
    "print(a[1][0])"
   ]
  },
  {
   "cell_type": "code",
   "execution_count": 13,
   "metadata": {},
   "outputs": [
    {
     "name": "stdout",
     "output_type": "stream",
     "text": [
      "[[10, 20], [500, 600, 700]]\n",
      "[[10, 20], [500, 600, 700], []]\n"
     ]
    }
   ],
   "source": [
    "a = []\n",
    "a.append([])\n",
    "a[0].append(10) #0번째 리스트에 10 추가\n",
    "a[0].append(20) #0번째 리스트에 20 추가\n",
    "a.append([])\n",
    "a[1].append(500)# 1번째 리스트에 500추가\n",
    "a[1].append(600)\n",
    "a[1].append(700)\n",
    "print(a)\n",
    "a.append([])\n",
    "print(a)"
   ]
  },
  {
   "cell_type": "code",
   "execution_count": 18,
   "metadata": {},
   "outputs": [
    {
     "name": "stdout",
     "output_type": "stream",
     "text": [
      "((10, 20), (30, 40), (50, 60))\n",
      "([10, 20], [30, 40], [50, 60])\n",
      "[(10, 20), (30, 40), (50, 60)]\n",
      "([110, 20], [30, 40], [50, 60])\n",
      "[[200, 300], (30, 40), (50, 60)]\n",
      "[[200, 300], (30, 40), (42, 24)]\n"
     ]
    }
   ],
   "source": [
    "a=((10,20),(30,40),(50,60)) #2차원 튜플\n",
    "b=([10,20],[30,40],[50,60]) #튜플 안에 리스트를 넣음\n",
    "c= [(10,20),(30,40),(50,60)] #리스트 안에 튜플을 넣음\n",
    "print(a,b,c, sep='\\n')\n",
    "\n",
    "b[0][0]=110 #안쪽에 리스트의 요소로 있는부분만 변경 가능\n",
    "print(b)\n",
    "c[0]=[200,300] #바깥쪽의 리스트의 요소로 있는 부분만 변경 가능\n",
    "print(c)\n",
    "c[2]=(42,24)\n",
    "print(c)\n",
    "\n",
    "#튜플은 변경 불가\n"
   ]
  },
  {
   "cell_type": "code",
   "execution_count": 40,
   "metadata": {},
   "outputs": [
    {
     "name": "stdout",
     "output_type": "stream",
     "text": [
      "(   (10, 20, 30),\n",
      "    (30, 40),\n",
      "    (50, 60, 70))\n",
      "17\n"
     ]
    }
   ],
   "source": [
    "from pprint import pprint\n",
    "a=((10,20,30),(30,40),(50,60,70))\n",
    "pprint(a,indent=4,width=17) # 2차원 사각형 구조를 유지하도록 출력\n",
    "#indent는 들여쓰기 칸수 ,width는 가로 폭\n",
    "#width 매개변수를 사용하면 한 줄에 출력되는 최대 문자 수를 제한하여 출력의 너비를 제어할 수 있습니다\n",
    "print(len('(   (10, 20, 30),'))\n"
   ]
  },
  {
   "cell_type": "code",
   "execution_count": 46,
   "metadata": {},
   "outputs": [
    {
     "name": "stdout",
     "output_type": "stream",
     "text": [
      "10 20\n",
      "30 40\n",
      "50 60\n",
      "[10, 20]\n",
      "[30, 40]\n",
      "[50, 60]\n",
      "10 20 11 \n",
      "30 40 \n",
      "50 60 \n"
     ]
    }
   ],
   "source": [
    "a=[[10,20],[30,40],[50,60]]\n",
    "for x,y in a: #리스트의 가로 한줄 a[0], a[1], a[2]에서 요소 두 개를 꺼냄, 안쪽 리스트의 요소 개수와 변수의 개수가 일치해야 한다 \n",
    "    print(x,y)\n",
    "for i in a: \n",
    "    print(i)\n",
    "\n",
    "a=[[10,20,11],[30,40],[50,60]]\n",
    "for i in a:\n",
    "    for j in i:\n",
    "        print(j,end=' ')\n",
    "    print()"
   ]
  },
  {
   "cell_type": "code",
   "execution_count": 45,
   "metadata": {},
   "outputs": [
    {
     "name": "stdout",
     "output_type": "stream",
     "text": [
      "10 20 22 \n",
      "30 40 \n",
      "50 60 \n"
     ]
    }
   ],
   "source": [
    "a=[[10,20,22],[30,40],[50,60]]\n",
    "\n",
    "for i in range(len(a)): #안쪽 리스트의 개수 3개 ,세로 크기\n",
    "    for j in range(len(a[i])): #가로 크기\n",
    "        print(a[i][j], end=' ')\n",
    "    print()\n"
   ]
  },
  {
   "cell_type": "code",
   "execution_count": null,
   "metadata": {},
   "outputs": [],
   "source": [
    "a = [[10, 20], [30, 40], [50, 60]]\n",
    "i=0\n",
    "while i < len(a):  \n",
    "    x,y =a[i] #i행의 요소를 변소에 할당\n",
    "    print(x,y)\n",
    "    i +=1\n"
   ]
  },
  {
   "cell_type": "code",
   "execution_count": 47,
   "metadata": {},
   "outputs": [
    {
     "name": "stdout",
     "output_type": "stream",
     "text": [
      "10 20 \n",
      "30 40 \n",
      "50 60 \n"
     ]
    }
   ],
   "source": [
    "a = [[10, 20], [30, 40], [50, 60]]\n",
    "\n",
    "i =0\n",
    "while i < len(a):\n",
    "    j =0\n",
    "    while j <len(a[i]):\n",
    "        print(a[i][j], end =' ')\n",
    "        j +=1\n",
    "    print()\n",
    "    i +=1"
   ]
  },
  {
   "cell_type": "code",
   "execution_count": 48,
   "metadata": {},
   "outputs": [
    {
     "name": "stdout",
     "output_type": "stream",
     "text": [
      "[0, 0, 0, 0, 0, 0, 0, 0, 0, 0]\n"
     ]
    }
   ],
   "source": [
    "a=[]\n",
    "\n",
    "for i in range(10):\n",
    "    a.append(0)\n",
    "print(a)"
   ]
  },
  {
   "cell_type": "code",
   "execution_count": 50,
   "metadata": {},
   "outputs": [
    {
     "name": "stdout",
     "output_type": "stream",
     "text": [
      "[[0, 0], [0, 0], [0, 0]]\n"
     ]
    }
   ],
   "source": [
    "a=[]\n",
    "\n",
    "for i in range(3): #빈 리스트가 생긴다\n",
    "    line =[]\n",
    "    for j in range(2): #요소가 2개씩 추가됨\n",
    "        line.append(0)\n",
    "    a.append(line) #빈리스트 a안에 line 추가\n",
    "print(a)"
   ]
  },
  {
   "cell_type": "code",
   "execution_count": 52,
   "metadata": {},
   "outputs": [
    {
     "name": "stdout",
     "output_type": "stream",
     "text": [
      "[[0, 0], [0, 0], [0, 0]]\n"
     ]
    }
   ],
   "source": [
    "a=[[0 for _ in range(2)]for i in range(3)]\n",
    "print(a)\n",
    "#1. [0 for _ in range(2)]를 먼저 실행 [0.0] 생성 \n",
    "#2. 바깥쪽 리스트컴프리헨션 실행  ? for i in range(3) i에 0,1,2 넣고 ?로 리스트 만듬, 이 때 ?==[0 for _ in range(2)], 즉 [0,0]\n"
   ]
  }
 ],
 "metadata": {
  "kernelspec": {
   "display_name": "juneon",
   "language": "python",
   "name": "python3"
  },
  "language_info": {
   "codemirror_mode": {
    "name": "ipython",
    "version": 3
   },
   "file_extension": ".py",
   "mimetype": "text/x-python",
   "name": "python",
   "nbconvert_exporter": "python",
   "pygments_lexer": "ipython3",
   "version": "3.8.16"
  },
  "orig_nbformat": 4
 },
 "nbformat": 4,
 "nbformat_minor": 2
}
