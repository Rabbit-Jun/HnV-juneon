{
 "cells": [
  {
   "cell_type": "code",
   "execution_count": 5,
   "metadata": {},
   "outputs": [
    {
     "name": "stdout",
     "output_type": "stream",
     "text": [
      "[[10, 20], [30, 40], [50, 60]]\n",
      "[[10, 20], [30, 40], [50, 60]]\n",
      "10\n",
      "20\n",
      "30\n"
     ]
    }
   ],
   "source": [
    "a=[[10,20],[30,40],[50,60]]\n",
    "print(a)\n",
    "\n",
    "b=[[10,20],\n",
    "   [30,40],\n",
    "   [50,60]]\n",
    "\n",
    "print(b)\n",
    "\n",
    "print(a[0][0]) #세로 인덱스 0, 가로 인덱스 0인 요소 출력\n",
    "print(a[0][1]) #세로 인덱스 0, 가로 인덱스 1인 요소 출력\n",
    "print(a[1][0]) #세로 인덱스 1, 가로 인덱스 0인 요소 출력\n",
    "#그냥 행렬생각하면 될듯 "
   ]
  },
  {
   "cell_type": "code",
   "execution_count": 6,
   "metadata": {},
   "outputs": [
    {
     "name": "stdout",
     "output_type": "stream",
     "text": [
      "500\n"
     ]
    }
   ],
   "source": [
    "a=[[10,20],[500,600,700],[9],[30,40],[8],[800,900,1000]] #가로의 크기와 세로의 크기가 다른 톱니형 리스트도 만들 수 있다 (by pyhton)\n",
    "print(a[1][0])"
   ]
  },
  {
   "cell_type": "code",
   "execution_count": 13,
   "metadata": {},
   "outputs": [
    {
     "name": "stdout",
     "output_type": "stream",
     "text": [
      "[[10, 20], [500, 600, 700]]\n",
      "[[10, 20], [500, 600, 700], []]\n"
     ]
    }
   ],
   "source": [
    "a = []\n",
    "a.append([])\n",
    "a[0].append(10) #0번째 리스트에 10 추가\n",
    "a[0].append(20) #0번째 리스트에 20 추가\n",
    "a.append([])\n",
    "a[1].append(500)# 1번째 리스트에 500추가\n",
    "a[1].append(600)\n",
    "a[1].append(700)\n",
    "print(a)\n",
    "a.append([])\n",
    "print(a)"
   ]
  },
  {
   "cell_type": "code",
   "execution_count": 18,
   "metadata": {},
   "outputs": [
    {
     "name": "stdout",
     "output_type": "stream",
     "text": [
      "((10, 20), (30, 40), (50, 60))\n",
      "([10, 20], [30, 40], [50, 60])\n",
      "[(10, 20), (30, 40), (50, 60)]\n",
      "([110, 20], [30, 40], [50, 60])\n",
      "[[200, 300], (30, 40), (50, 60)]\n",
      "[[200, 300], (30, 40), (42, 24)]\n"
     ]
    }
   ],
   "source": [
    "a=((10,20),(30,40),(50,60)) #2차원 튜플\n",
    "b=([10,20],[30,40],[50,60]) #튜플 안에 리스트를 넣음\n",
    "c= [(10,20),(30,40),(50,60)] #리스트 안에 튜플을 넣음\n",
    "print(a,b,c, sep='\\n')\n",
    "\n",
    "b[0][0]=110 #안쪽에 리스트의 요소로 있는부분만 변경 가능\n",
    "print(b)\n",
    "c[0]=[200,300] #바깥쪽의 리스트의 요소로 있는 부분만 변경 가능\n",
    "print(c)\n",
    "c[2]=(42,24)\n",
    "print(c)\n",
    "\n",
    "#튜플은 변경 불가\n"
   ]
  },
  {
   "cell_type": "code",
   "execution_count": 40,
   "metadata": {},
   "outputs": [
    {
     "name": "stdout",
     "output_type": "stream",
     "text": [
      "(   (10, 20, 30),\n",
      "    (30, 40),\n",
      "    (50, 60, 70))\n",
      "17\n"
     ]
    }
   ],
   "source": [
    "from pprint import pprint\n",
    "a=((10,20,30),(30,40),(50,60,70))\n",
    "pprint(a,indent=4,width=17) # 2차원 사각형 구조를 유지하도록 출력\n",
    "#indent는 들여쓰기 칸수 ,width는 가로 폭\n",
    "#width 매개변수를 사용하면 한 줄에 출력되는 최대 문자 수를 제한하여 출력의 너비를 제어할 수 있습니다\n",
    "print(len('(   (10, 20, 30),'))\n"
   ]
  },
  {
   "cell_type": "code",
   "execution_count": 46,
   "metadata": {},
   "outputs": [
    {
     "name": "stdout",
     "output_type": "stream",
     "text": [
      "10 20\n",
      "30 40\n",
      "50 60\n",
      "[10, 20]\n",
      "[30, 40]\n",
      "[50, 60]\n",
      "10 20 11 \n",
      "30 40 \n",
      "50 60 \n"
     ]
    }
   ],
   "source": [
    "a=[[10,20],[30,40],[50,60]]\n",
    "for x,y in a: #리스트의 가로 한줄 a[0], a[1], a[2]에서 요소 두 개를 꺼냄, 안쪽 리스트의 요소 개수와 변수의 개수가 일치해야 한다 \n",
    "    print(x,y)\n",
    "for i in a: \n",
    "    print(i)\n",
    "\n",
    "a=[[10,20,11],[30,40],[50,60]]\n",
    "for i in a:\n",
    "    for j in i:\n",
    "        print(j,end=' ')\n",
    "    print()"
   ]
  },
  {
   "cell_type": "code",
   "execution_count": 45,
   "metadata": {},
   "outputs": [
    {
     "name": "stdout",
     "output_type": "stream",
     "text": [
      "10 20 22 \n",
      "30 40 \n",
      "50 60 \n"
     ]
    }
   ],
   "source": [
    "a=[[10,20,22],[30,40],[50,60]]\n",
    "\n",
    "for i in range(len(a)): #안쪽 리스트의 개수 3개 ,세로 크기\n",
    "    for j in range(len(a[i])): #가로 크기\n",
    "        print(a[i][j], end=' ')\n",
    "    print()\n"
   ]
  },
  {
   "cell_type": "code",
   "execution_count": null,
   "metadata": {},
   "outputs": [],
   "source": [
    "a = [[10, 20], [30, 40], [50, 60]]\n",
    "i=0\n",
    "while i < len(a):  \n",
    "    x,y =a[i] #i행의 요소를 변소에 할당\n",
    "    print(x,y)\n",
    "    i +=1\n"
   ]
  },
  {
   "cell_type": "code",
   "execution_count": 47,
   "metadata": {},
   "outputs": [
    {
     "name": "stdout",
     "output_type": "stream",
     "text": [
      "10 20 \n",
      "30 40 \n",
      "50 60 \n"
     ]
    }
   ],
   "source": [
    "a = [[10, 20], [30, 40], [50, 60]]\n",
    "\n",
    "i =0\n",
    "while i < len(a):\n",
    "    j =0\n",
    "    while j <len(a[i]):\n",
    "        print(a[i][j], end =' ')\n",
    "        j +=1\n",
    "    print()\n",
    "    i +=1"
   ]
  },
  {
   "cell_type": "code",
   "execution_count": 48,
   "metadata": {},
   "outputs": [
    {
     "name": "stdout",
     "output_type": "stream",
     "text": [
      "[0, 0, 0, 0, 0, 0, 0, 0, 0, 0]\n"
     ]
    }
   ],
   "source": [
    "a=[]\n",
    "\n",
    "for i in range(10):\n",
    "    a.append(0)\n",
    "print(a)"
   ]
  },
  {
   "cell_type": "code",
   "execution_count": 50,
   "metadata": {},
   "outputs": [
    {
     "name": "stdout",
     "output_type": "stream",
     "text": [
      "[[0, 0], [0, 0], [0, 0]]\n"
     ]
    }
   ],
   "source": [
    "a=[]\n",
    "\n",
    "for i in range(3): #빈 리스트가 생긴다\n",
    "    line =[]\n",
    "    for j in range(2): #요소가 2개씩 추가됨\n",
    "        line.append(0)\n",
    "    a.append(line) #빈리스트 a안에 line 추가\n",
    "print(a)"
   ]
  },
  {
   "cell_type": "code",
   "execution_count": 52,
   "metadata": {},
   "outputs": [
    {
     "name": "stdout",
     "output_type": "stream",
     "text": [
      "[[0, 0], [0, 0], [0, 0]]\n"
     ]
    }
   ],
   "source": [
    "a=[[0 for _ in range(2)]for i in range(3)]\n",
    "print(a)\n",
    "#1. [0 for _ in range(2)]를 먼저 실행 [0.0] 생성 \n",
    "#2. 바깥쪽 리스트컴프리헨션 실행  ? for i in range(3) i에 0,1,2 넣고 ?로 리스트 만듬, 이 때 ?==[0 for _ in range(2)], 즉 [0,0]\n"
   ]
  },
  {
   "cell_type": "code",
   "execution_count": 2,
   "metadata": {},
   "outputs": [
    {
     "name": "stdout",
     "output_type": "stream",
     "text": [
      "3\n",
      "1\n",
      "3\n",
      "2\n",
      "5\n",
      "[[0, 0, 0], [0], [0, 0, 0], [0, 0], [0, 0, 0, 0, 0]]\n"
     ]
    }
   ],
   "source": [
    "a=[3,1,3,2,5] \n",
    "b=[]\n",
    "\n",
    "for i in a:\n",
    "    line =[] #b에 넣을 빈 리스트 생성\n",
    "    for j in range(i): # 가로의 크기를 지정\n",
    "        line.append(0) #line을 0으로 채움\n",
    "    b.append(line) # line을 b에 넣음\n",
    "print(b)\n"
   ]
  },
  {
   "cell_type": "code",
   "execution_count": 6,
   "metadata": {},
   "outputs": [
    {
     "name": "stdout",
     "output_type": "stream",
     "text": [
      "[[0, 0, 0], [0], [0, 0, 0], [0, 0], [0, 0, 0, 0, 0]]\n"
     ]
    }
   ],
   "source": [
    "a= [[0]* i for i in [3,1,3,2,5]] \n",
    "#리스트 컴프리헨션 과 시퀀스 자료형은 곱하면 객체자체가 곱한만큼 늘어난다는 것을 이용\n",
    "print(a)\n"
   ]
  },
  {
   "cell_type": "code",
   "execution_count": 10,
   "metadata": {},
   "outputs": [
    {
     "name": "stdout",
     "output_type": "stream",
     "text": [
      "[['bmaria', 'A', 25], ['andrew', 'B', 7], ['john', 'c', 19]]\n",
      "[['andrew', 'B', 7], ['john', 'c', 19], ['bmaria', 'A', 25]]\n",
      "[['andrew', 'B', 7], ['bmaria', 'A', 25], ['john', 'c', 19]]\n"
     ]
    }
   ],
   "source": [
    "students =[\n",
    "    ['john', 'c', 19],\n",
    "    ['bmaria', 'A', 25],\n",
    "    ['andrew', 'B', 7]\n",
    "]\n",
    "\n",
    "#sorted(반복가능한객체, key=정렬함수, reverse=True 또는 False)\n",
    "print(sorted(students, key=lambda student: student[0]))\n",
    "# student[1]은 안쪽 리스트의 인덱스 0을 뜻하며 오름차순으로 정렬\n",
    "print(sorted(students, key=lambda student: student[1]))\n",
    "# student[1]은 안쪽 리스트의 인덱스 1을 뜻하며 'A','B','C'순으로 정렬\n",
    "print(sorted(students, key=lambda student: student[2]))\n",
    "# student[2]는 안쪽 리스트의 인덱스 2를 뜻하며 7, 19, 25 순으로 정렬합니다\n",
    "\n"
   ]
  },
  {
   "cell_type": "code",
   "execution_count": 12,
   "metadata": {},
   "outputs": [
    {
     "name": "stdout",
     "output_type": "stream",
     "text": [
      "[[500, 20], [30, 40]]\n",
      "True\n"
     ]
    }
   ],
   "source": [
    "a=[[10,20],[30,40]]\n",
    "b =a #b에 a할당\n",
    "b[0][0] =500   \n",
    "print(a) #b를 변경하면 a도 변경 됨\n",
    "print( a is b) #a와 b가 같은 객체"
   ]
  },
  {
   "cell_type": "code",
   "execution_count": 14,
   "metadata": {},
   "outputs": [
    {
     "name": "stdout",
     "output_type": "stream",
     "text": [
      "[[10, 20], [500, 40]]\n",
      "False\n"
     ]
    }
   ],
   "source": [
    "a= [[10,20],[30,40]]\n",
    "b= a.copy() #a의 요소를 b에 복사해서 넣음\n",
    "b[1][0] =500\n",
    "print(a)\n",
    "print( a is b) #a와 b는 다른 객체\n",
    "\n"
   ]
  },
  {
   "attachments": {},
   "cell_type": "markdown",
   "metadata": {},
   "source": [
    "copy() 함수는 얕은 복사(Shallow Copy)를 수행합니다. 이는 복사된 객체의 새로운 인스턴스를 생성하면서 원본 객체의 참조를 공유합니다. 즉, 객체의 최상위 수준 속성들은 복사되지만 내부에 있는 참조 객체들은 원본 객체와 동일한 객체를 참조합니다. 따라서 얕은 복사를 수행한 후에는 원본 객체와 복사된 객체가 일부 데이터를 공유할 수 있습니다. 이는 원본 객체나 복사된 객체 중 하나의 값을 변경하면 다른 객체에도 영향을 줄 수 있다는 의미입니다.\n",
    "\n",
    "반면, copy.deepcopy() 함수는 깊은 복사(Deep Copy)를 수행합니다. 이는 복사된 객체의 새로운 인스턴스를 생성하면서 모든 내부 객체들도 재귀적으로 복사됩니다. 즉, 원본 객체와 복사된 객체는 완전히 독립적인 객체가 됩니다"
   ]
  },
  {
   "attachments": {},
   "cell_type": "markdown",
   "metadata": {},
   "source": [
    "다음 소스 코드를 완성하여 높이 2, 세로 크기 4, 가로 크기 3인 3차원 리스트를 만드세요(리스트 표현식 사용).\n",
    "\n",
    "a = [                                                                 ]\n",
    " \n",
    "print(a)\n",
    "\n",
    "실행 결과\n",
    "[[[0, 0, 0], [0, 0, 0], [0, 0, 0], [0, 0, 0]], [[0, 0, 0], [0, 0, 0], [0, 0, 0], [0, 0, 0]]]"
   ]
  },
  {
   "cell_type": "code",
   "execution_count": 18,
   "metadata": {},
   "outputs": [
    {
     "name": "stdout",
     "output_type": "stream",
     "text": [
      "[[[0, 0, 0], [0, 0, 0], [0, 0, 0], [0, 0, 0]], [[0, 0, 0], [0, 0, 0], [0, 0, 0], [0, 0, 0]]]\n"
     ]
    }
   ],
   "source": [
    "a=[[[0 for j in range(3)]for i in range(4)] for depth in range(2)]\n",
    "print(a)"
   ]
  },
  {
   "attachments": {},
   "cell_type": "markdown",
   "metadata": {},
   "source": [
    "표준 입력으로 2차원 리스트의 가로(col)와 세로(row)가 입력되고 그 다음 줄부터 리스트의 요소로 들어갈 문자가 입력됩니다. 이때 2차원 리스트 안에서 *는 지뢰이고 .은 지뢰가 아닙니다. 지뢰가 아닌 요소에는 인접한 지뢰의 개수를 출력하는 프로그램을 만드세요(input에서 안내 문자열은 출력하지 않아야 합니다).\n",
    "\n",
    "여러 줄을 입력 받으려면 다음과 같이 for 반복문에서 input을 호출한 뒤 append로 각 줄을 추가하면 됩니다(list 안에 문자열을 넣으면 문자열이 문자 리스트로 변환됩니다).\n",
    "\n",
    "matrix = []\n",
    "for i in range(row):\n",
    "    matrix.append(list(input()))\n",
    "이 문제는 지금까지 심사문제 중에서 가장 어렵습니다. 처음 풀어보는 경우 대략 두 시간은 걸립니다. 시간을 두고 천천히 고민해서 풀어보세요. 지금까지 학습한 내용을 모두 동원해야 풀 수 있으며 막힐 때는 지금까지 학습한 내용을 다시 복습하면서 힌트를 찾아보세요.\n",
    "\n",
    "입력\n",
    "3 3\n",
    ".**\n",
    "*..\n",
    ".*.\n",
    "결과\n",
    "2**\n",
    "*43\n",
    "2*1"
   ]
  },
  {
   "cell_type": "code",
   "execution_count": 20,
   "metadata": {},
   "outputs": [
    {
     "name": "stdout",
     "output_type": "stream",
     "text": [
      "[1, 2, 3]\n"
     ]
    }
   ],
   "source": [
    "matrix = []\n",
    "for i in range(row):\n",
    "    matrix.append(list(input()))\n"
   ]
  }
 ],
 "metadata": {
  "kernelspec": {
   "display_name": "juneon",
   "language": "python",
   "name": "python3"
  },
  "language_info": {
   "codemirror_mode": {
    "name": "ipython",
    "version": 3
   },
   "file_extension": ".py",
   "mimetype": "text/x-python",
   "name": "python",
   "nbconvert_exporter": "python",
   "pygments_lexer": "ipython3",
   "version": "3.8.16"
  },
  "orig_nbformat": 4
 },
 "nbformat": 4,
 "nbformat_minor": 2
}
